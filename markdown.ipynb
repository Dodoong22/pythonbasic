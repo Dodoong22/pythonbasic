{
 "cells": [
  {
   "cell_type": "markdown",
   "id": "ca68b8d8-4928-4c0f-9ea6-ccf84eb82879",
   "metadata": {},
   "source": [
    "H1"
   ]
  },
  {
   "cell_type": "markdown",
   "id": "766f190a-a2fc-4c7b-8b57-8d0d4b171644",
   "metadata": {},
   "source": [
    "일반 텍스트  **굵은글씨** ~~취소선~~ *기울이기* "
   ]
  },
  {
   "cell_type": "markdown",
   "id": "ed4a6342-77f6-43e5-aa2f-c3b3e8a31b1f",
   "metadata": {},
   "source": [
    "-목록1\n",
    "-목록2"
   ]
  },
  {
   "cell_type": "markdown",
   "id": "4c0440cd-99e4-4341-91fd-de3e929a24de",
   "metadata": {},
   "source": [
    "- 목록1\n",
    "- 목록2\n",
    "- 목록3"
   ]
  },
  {
   "cell_type": "markdown",
   "id": "1bbc393b-4061-4b3e-ae95-7b4c222fde2d",
   "metadata": {},
   "source": [
    "1. 순서가 있는 목록1\n",
    "2. 순서가 있는 목록2\n",
    "3. 순서가 있는 목록3"
   ]
  },
  {
   "cell_type": "markdown",
   "id": "9b17f953-896a-4ddb-b23a-d6316dee5197",
   "metadata": {},
   "source": [
    "[Google](https://www.google.com)"
   ]
  },
  {
   "cell_type": "code",
   "execution_count": 3,
   "id": "95b7a7e8-8b5d-4320-a08f-6161b37fd6ae",
   "metadata": {},
   "outputs": [
    {
     "name": "stderr",
     "output_type": "stream",
     "text": [
      "'[이미지에'은(는) 내부 또는 외부 명령, 실행할 수 있는 프로그램, 또는\n",
      "배치 파일이 아닙니다.\n"
     ]
    }
   ],
   "source": [
    "![이미지에 대한 설명](이미지 주소)"
   ]
  },
  {
   "cell_type": "markdown",
   "id": "5d99c037-5f9e-44ff-b1e9-77d85f1881f3",
   "metadata": {},
   "source": [
    ">구획이  \n",
    ">잡힌  \n",
    ">글입니다."
   ]
  },
  {
   "cell_type": "markdown",
   "id": "fa8c92f0-0ac7-43f0-a3e0-9a420f7e5304",
   "metadata": {},
   "source": []
  },
  {
   "cell_type": "markdown",
   "id": "c06961ab-dc23-44ab-a030-b75f05d25b4a",
   "metadata": {},
   "source": [
    "|제목 셀|제목 셀|제목 셀|\n",
    "|:--|--:|:--:|\n",
    "|값1|값2|값3|"
   ]
  },
  {
   "cell_type": "markdown",
   "id": "4bfa3b3e-725b-4789-99cd-c53da3edec1d",
   "metadata": {},
   "source": [
    "```python\n",
    "\n",
    "x = int(input(\"인사를 몇 번 할까요?\"))\n",
    "\n",
    "for _ in range(x):\n",
    "    print(\"Hellow world\")\n",
    "    \n",
    "```"
   ]
  },
  {
   "cell_type": "code",
   "execution_count": null,
   "id": "b16dbda0-bb7d-4590-82ea-d37d3fbc04d4",
   "metadata": {},
   "outputs": [],
   "source": []
  }
 ],
 "metadata": {
  "kernelspec": {
   "display_name": "Python 3 (ipykernel)",
   "language": "python",
   "name": "python3"
  },
  "language_info": {
   "codemirror_mode": {
    "name": "ipython",
    "version": 3
   },
   "file_extension": ".py",
   "mimetype": "text/x-python",
   "name": "python",
   "nbconvert_exporter": "python",
   "pygments_lexer": "ipython3",
   "version": "3.9.13"
  }
 },
 "nbformat": 4,
 "nbformat_minor": 5
}
