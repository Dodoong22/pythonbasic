{
 "cells": [
  {
   "cell_type": "code",
   "execution_count": 12,
   "id": "978d786d-309e-42e5-998a-2697e5c6154f",
   "metadata": {},
   "outputs": [
    {
     "name": "stdout",
     "output_type": "stream",
     "text": [
      "*****\n",
      "*****\n",
      "*****\n",
      "*****\n",
      "*****\n"
     ]
    }
   ],
   "source": [
    "for i in range(5):\n",
    "    for j in range(5):\n",
    "        print(\"*\",end=\"\")\n",
    "    print()"
   ]
  },
  {
   "cell_type": "code",
   "execution_count": 13,
   "id": "4787394e-020b-4f6b-b722-c1ad40ec5d36",
   "metadata": {},
   "outputs": [
    {
     "name": "stdout",
     "output_type": "stream",
     "text": [
      "*****\n",
      "*****\n",
      "*****\n",
      "*****\n",
      "*****\n"
     ]
    }
   ],
   "source": [
    "for i in range(5):\n",
    "    print(\"*\"*5)"
   ]
  },
  {
   "cell_type": "markdown",
   "id": "0b59efc8-82f9-440b-b182-0821ff893aec",
   "metadata": {},
   "source": [
    "## while 반복문"
   ]
  },
  {
   "cell_type": "markdown",
   "id": "04f99d66-8fcc-429a-854f-89e0099151a0",
   "metadata": {},
   "source": [
    "while 반복문은 조건식으로만 동작한다."
   ]
  },
  {
   "cell_type": "code",
   "execution_count": 14,
   "id": "cbfdc378-22f0-4960-8422-67ede01e9dfa",
   "metadata": {},
   "outputs": [
    {
     "name": "stdout",
     "output_type": "stream",
     "text": [
      "Hello world\n",
      "Hello world\n",
      "Hello world\n",
      "Hello world\n",
      "Hello world\n",
      "Hello world\n",
      "Hello world\n",
      "Hello world\n",
      "Hello world\n",
      "Hello world\n",
      "Hello world\n",
      "Hello world\n",
      "Hello world\n",
      "Hello world\n",
      "Hello world\n",
      "Hello world\n",
      "Hello world\n",
      "Hello world\n",
      "Hello world\n",
      "Hello world\n",
      "Hello world\n",
      "Hello world\n",
      "Hello world\n",
      "Hello world\n",
      "Hello world\n",
      "Hello world\n",
      "Hello world\n",
      "Hello world\n",
      "Hello world\n",
      "Hello world\n",
      "Hello world\n",
      "Hello world\n",
      "Hello world\n",
      "Hello world\n",
      "Hello world\n",
      "Hello world\n",
      "Hello world\n",
      "Hello world\n",
      "Hello world\n",
      "Hello world\n",
      "Hello world\n",
      "Hello world\n",
      "Hello world\n",
      "Hello world\n",
      "Hello world\n",
      "Hello world\n",
      "Hello world\n",
      "Hello world\n",
      "Hello world\n",
      "Hello world\n",
      "Hello world\n",
      "Hello world\n",
      "Hello world\n",
      "Hello world\n",
      "Hello world\n",
      "Hello world\n",
      "Hello world\n",
      "Hello world\n",
      "Hello world\n",
      "Hello world\n",
      "Hello world\n",
      "Hello world\n",
      "Hello world\n",
      "Hello world\n",
      "Hello world\n",
      "Hello world\n",
      "Hello world\n",
      "Hello world\n",
      "Hello world\n",
      "Hello world\n",
      "Hello world\n",
      "Hello world\n",
      "Hello world\n",
      "Hello world\n",
      "Hello world\n",
      "Hello world\n",
      "Hello world\n",
      "Hello world\n",
      "Hello world\n",
      "Hello world\n",
      "Hello world\n",
      "Hello world\n",
      "Hello world\n",
      "Hello world\n",
      "Hello world\n",
      "Hello world\n",
      "Hello world\n",
      "Hello world\n",
      "Hello world\n",
      "Hello world\n",
      "Hello world\n",
      "Hello world\n",
      "Hello world\n",
      "Hello world\n",
      "Hello world\n",
      "Hello world\n",
      "Hello world\n",
      "Hello world\n",
      "Hello world\n",
      "Hello world\n"
     ]
    }
   ],
   "source": [
    "i = 0\n",
    "while i < 100:\n",
    "    print(\"Hello world\")\n",
    "    i += 1"
   ]
  },
  {
   "cell_type": "code",
   "execution_count": 17,
   "id": "091ee777-35b0-47da-8700-dd0ddc547122",
   "metadata": {},
   "outputs": [
    {
     "name": "stdin",
     "output_type": "stream",
     "text": [
      "반복할 횟수를 입력하세요:  3\n"
     ]
    },
    {
     "name": "stdout",
     "output_type": "stream",
     "text": [
      "Hello world 3\n",
      "Hello world 2\n",
      "Hello world 1\n"
     ]
    }
   ],
   "source": [
    "count = int(input(\"반복할 횟수를 입력하세요: \"))\n",
    "\n",
    "while count>0:\n",
    "    print(\"Hello world\", count)\n",
    "    count -= 1"
   ]
  },
  {
   "cell_type": "markdown",
   "id": "0830e9ef-b753-47a2-93e3-6489758d6034",
   "metadata": {},
   "source": [
    "## 연습문제"
   ]
  },
  {
   "cell_type": "code",
   "execution_count": 20,
   "id": "cba3f8ac-dc6a-485e-afe1-d0280f4a011a",
   "metadata": {},
   "outputs": [
    {
     "name": "stdout",
     "output_type": "stream",
     "text": [
      "2\t4\t6\t8\t10\t12\t14\t16\t18\t20\t22\t24\t26\t28\t30\t32\t34\t36\t38\t40\t42\t44\t46\t48\t50\t52\t54\t56\t58\t60\t62\t64\t66\t68\t70\t72\t74\t76\t78\t80\t82\t84\t86\t88\t90\t92\t94\t96\t98\t100\t"
     ]
    }
   ],
   "source": [
    "num = 1\n",
    "\n",
    "while num<=100:\n",
    "    if num%2 == 0:\n",
    "        print(num, end=\"\\t\")\n",
    "    num = num+1"
   ]
  },
  {
   "cell_type": "code",
   "execution_count": 27,
   "id": "d7f5da00-4f16-4f78-8ade-5193fb5b1dc5",
   "metadata": {},
   "outputs": [
    {
     "name": "stdin",
     "output_type": "stream",
     "text": [
      "구구단을 알려드립니다. 숫자를 입력하세요 1\n"
     ]
    },
    {
     "name": "stdout",
     "output_type": "stream",
     "text": [
      "1 * 1 = 1\n",
      "1 * 2 = 2\n",
      "1 * 3 = 3\n",
      "1 * 4 = 4\n",
      "1 * 5 = 5\n",
      "1 * 6 = 6\n",
      "1 * 7 = 7\n",
      "1 * 8 = 8\n",
      "1 * 9 = 9\n"
     ]
    }
   ],
   "source": [
    "num = int(input(\"구구단을 알려드립니다. 숫자를 입력하세요\"))\n",
    "i = 1\n",
    "while i<=9:\n",
    "    print(num,\"*\", i, \"=\", num*i)\n",
    "    i += 1\n",
    "    "
   ]
  },
  {
   "cell_type": "code",
   "execution_count": 55,
   "id": "5627508c-362e-45e6-b413-52ff54b73a3b",
   "metadata": {},
   "outputs": [
    {
     "name": "stdin",
     "output_type": "stream",
     "text": [
      "학생의 수:  5\n",
      "1번 학생의 점수:  20\n",
      "2번 학생의 점수:  30\n",
      "3번 학생의 점수:  40\n",
      "4번 학생의 점수:  50\n",
      "5번 학생의 점수:  60\n"
     ]
    },
    {
     "name": "stdout",
     "output_type": "stream",
     "text": [
      "평균 :40.0점\n"
     ]
    }
   ],
   "source": [
    "stu = int(input(\"학생의 수: \"))\n",
    "i = 1\n",
    "total = 0\n",
    "score = [0]\n",
    "while i <= stu :\n",
    "    score.append(int((input(str(i)+\"번 학생의 점수: \"))))\n",
    "    total += score[i]\n",
    "    i += 1\n",
    "avg = total / stu\n",
    "print(\"평균 :\", avg, \"점\", sep=\"\")"
   ]
  },
  {
   "cell_type": "markdown",
   "id": "ea05f91f-da49-4e69-8464-2b73e570d8ee",
   "metadata": {},
   "source": [
    "## for & while 문으로 시퀀스 객체의 인덱스루프 테크닉"
   ]
  },
  {
   "cell_type": "code",
   "execution_count": 56,
   "id": "a80c626b-a5b7-484a-9bf9-1c028a05fe63",
   "metadata": {},
   "outputs": [
    {
     "name": "stdout",
     "output_type": "stream",
     "text": [
      "97\n",
      "100\n",
      "77\n"
     ]
    }
   ],
   "source": [
    "scores = (97,100,77)\n",
    "\n",
    "for _ in range(len(scores)):\n",
    "    print(scores[_])\n",
    "    "
   ]
  },
  {
   "cell_type": "code",
   "execution_count": 57,
   "id": "158d244d-d0ad-4a12-98af-92f4b5abb54b",
   "metadata": {},
   "outputs": [
    {
     "name": "stdout",
     "output_type": "stream",
     "text": [
      "97\n",
      "100\n",
      "77\n"
     ]
    }
   ],
   "source": [
    "i = 0\n",
    "while i < len(scores):\n",
    "    print(scores[i])\n",
    "    i += 1"
   ]
  },
  {
   "cell_type": "code",
   "execution_count": 1,
   "id": "57e32ba1-c992-4707-b14c-9124f8da79d7",
   "metadata": {},
   "outputs": [
    {
     "name": "stdout",
     "output_type": "stream",
     "text": [
      "10\n",
      "79.0\n"
     ]
    }
   ],
   "source": [
    "class_a = [70, 60, 55, 75, 95, 90, 80, 80, 85, 100]\n",
    "sum = 0\n",
    "i=0\n",
    "while i < len(class_a):\n",
    "    sum = sum + int(class_a[i])\n",
    "    i += 1\n",
    "avg = sum / len(class_a)\n",
    "\n",
    "print(avg)"
   ]
  },
  {
   "cell_type": "markdown",
   "id": "f9757e69-e619-4af8-84b2-e9e9de87c036",
   "metadata": {},
   "source": [
    "## break 문 \n",
    "for나 while문에서 break는 해당 반복문을 빠져나가기위해 사용. 일반적으로 if문과 함께 쓰이는게 보통"
   ]
  },
  {
   "cell_type": "code",
   "execution_count": 2,
   "id": "2d21690b-33a1-4803-9d11-5f98a31f53cf",
   "metadata": {},
   "outputs": [
    {
     "name": "stdout",
     "output_type": "stream",
     "text": [
      "0\n",
      "1\n",
      "2\n",
      "3\n",
      "4\n",
      "5\n",
      "6\n",
      "7\n",
      "8\n",
      "9\n",
      "10\n",
      "11\n",
      "12\n",
      "13\n",
      "14\n",
      "15\n",
      "16\n",
      "17\n",
      "18\n",
      "19\n",
      "20\n",
      "21\n",
      "22\n",
      "23\n",
      "24\n",
      "25\n",
      "26\n",
      "27\n",
      "28\n",
      "29\n",
      "30\n",
      "31\n",
      "32\n",
      "33\n",
      "34\n",
      "35\n",
      "36\n",
      "37\n",
      "38\n",
      "39\n",
      "40\n",
      "41\n",
      "42\n",
      "43\n",
      "44\n",
      "45\n",
      "46\n",
      "47\n",
      "48\n",
      "49\n",
      "50\n",
      "51\n",
      "52\n",
      "53\n",
      "54\n",
      "55\n",
      "56\n",
      "57\n",
      "58\n",
      "59\n",
      "60\n",
      "61\n",
      "62\n",
      "63\n",
      "64\n",
      "65\n",
      "66\n",
      "67\n",
      "68\n",
      "69\n",
      "70\n",
      "71\n",
      "72\n",
      "73\n",
      "74\n",
      "75\n",
      "76\n",
      "77\n",
      "78\n",
      "79\n",
      "80\n",
      "81\n",
      "82\n",
      "83\n",
      "84\n",
      "85\n",
      "86\n",
      "87\n",
      "88\n",
      "89\n",
      "90\n",
      "91\n",
      "92\n",
      "93\n",
      "94\n",
      "95\n",
      "96\n",
      "97\n",
      "98\n",
      "99\n",
      "100\n"
     ]
    }
   ],
   "source": [
    "for _ in range(10000):\n",
    "    print(_)\n",
    "    if _ == 100:\n",
    "        break"
   ]
  },
  {
   "cell_type": "code",
   "execution_count": 1,
   "id": "b93463c0-7c62-4bce-805c-c82246775483",
   "metadata": {},
   "outputs": [
    {
     "name": "stdout",
     "output_type": "stream",
     "text": [
      "5050\n"
     ]
    }
   ],
   "source": [
    "i = 0\n",
    "total = 0\n",
    "while True:\n",
    "    total = total + i\n",
    "    i += 1\n",
    "    if i>100:\n",
    "        break\n",
    "print(total)        "
   ]
  },
  {
   "cell_type": "markdown",
   "id": "fac01701-02dd-4f3a-9987-5e40a57c5034",
   "metadata": {},
   "source": [
    "## continue\n",
    "제어흐름을 유지. continue 가 실행된 반복 횟수의 코드 실행만 건너띔"
   ]
  },
  {
   "cell_type": "code",
   "execution_count": 8,
   "id": "b3ffc61e-11eb-4d74-a318-edcdc2c6e2d5",
   "metadata": {},
   "outputs": [
    {
     "name": "stdout",
     "output_type": "stream",
     "text": [
      "1\t3\t5\t7\t9\t11\t13\t15\t17\t19\t21\t23\t25\t27\t29\t31\t33\t35\t37\t39\t41\t43\t45\t47\t49\t51\t53\t55\t57\t59\t61\t63\t65\t67\t69\t71\t73\t75\t77\t79\t81\t83\t85\t87\t89\t91\t93\t95\t97\t99\t"
     ]
    }
   ],
   "source": [
    "for i in range(100):\n",
    "    if i%2 ==0:\n",
    "        continue\n",
    "    print(i, end=\"\\t\")"
   ]
  },
  {
   "cell_type": "code",
   "execution_count": 1,
   "id": "66aa93bc-642c-482e-8b66-c03b24216632",
   "metadata": {},
   "outputs": [
    {
     "name": "stdout",
     "output_type": "stream",
     "text": [
      "3 13 23 33 43 53 63 73 83 93 "
     ]
    }
   ],
   "source": [
    "i = 0\n",
    "while True:\n",
    "    if i%10 != 3:\n",
    "        i += 1\n",
    "        continue\n",
    "    if i>100:\n",
    "        break\n",
    "    print(i, end=' ')\n",
    "    i += 1    "
   ]
  },
  {
   "cell_type": "code",
   "execution_count": 16,
   "id": "3673f0f6-4c95-49c6-a42b-534c3b619f45",
   "metadata": {},
   "outputs": [
    {
     "name": "stdout",
     "output_type": "stream",
     "text": [
      "1 2 3 4 5 6 7 8 9 10 "
     ]
    }
   ],
   "source": [
    "for i in range(1,11):\n",
    "    print(i, end=\" \")"
   ]
  },
  {
   "cell_type": "code",
   "execution_count": 9,
   "id": "d4947e30-e9c6-4f0b-a2ad-49e8b90ed8a1",
   "metadata": {},
   "outputs": [
    {
     "name": "stdout",
     "output_type": "stream",
     "text": [
      "1 2 3 4 5 6 7 8 9 10 "
     ]
    }
   ],
   "source": [
    "i = 1\n",
    "while True:\n",
    "    if i>10:\n",
    "        break\n",
    "    print(i, end=' ')\n",
    "    i+=1"
   ]
  },
  {
   "cell_type": "code",
   "execution_count": 18,
   "id": "8a74045c-5ef7-4224-b316-c716a03c9fd2",
   "metadata": {},
   "outputs": [
    {
     "name": "stdout",
     "output_type": "stream",
     "text": [
      "3 13 23 33 43 53 63 73 83 93 "
     ]
    }
   ],
   "source": [
    "i = 0\n",
    "while True:\n",
    "    i += 1\n",
    "    if i%10 ==3:\n",
    "        print(i, end=' ')\n",
    "    if i>100:\n",
    "        break"
   ]
  },
  {
   "cell_type": "code",
   "execution_count": 29,
   "id": "aa56dc1b-98c4-40ac-90db-e7549f70124f",
   "metadata": {},
   "outputs": [
    {
     "name": "stdin",
     "output_type": "stream",
     "text": [
      "시작하는 정수 입력:  1\n",
      "끝나는 정수 입력:  100\n"
     ]
    },
    {
     "name": "stdout",
     "output_type": "stream",
     "text": [
      "1부터 100까지의 합은 5050입니다.\n"
     ]
    }
   ],
   "source": [
    "first = int(input(\"시작하는 정수 입력: \"))\n",
    "last = int(input(\"끝나는 정수 입력: \"))\n",
    "sum = 0\n",
    "\n",
    "for i in range(first,last+1):\n",
    "    sum = sum + i\n",
    "print(f'{first}부터 {last}까지의 합은 {sum}입니다.')"
   ]
  },
  {
   "cell_type": "code",
   "execution_count": 32,
   "id": "35e6e882-86dd-4218-8a96-d1033e0ac59c",
   "metadata": {},
   "outputs": [
    {
     "name": "stdin",
     "output_type": "stream",
     "text": [
      "시작하는 정수 입력:  5\n",
      "끝나는 정수 입력:  50\n"
     ]
    },
    {
     "name": "stdout",
     "output_type": "stream",
     "text": [
      "5부터 50까지의 합은 1265입니다.\n"
     ]
    }
   ],
   "source": [
    "first = int(input(\"시작하는 정수 입력: \"))\n",
    "last = int(input(\"끝나는 정수 입력: \"))\n",
    "sum = 0\n",
    "i=0\n",
    "\n",
    "while True:\n",
    "    i += 1\n",
    "    if i<first:\n",
    "        continue\n",
    "    if i>last:\n",
    "        break\n",
    "    sum = sum + i\n",
    "print(f'{first}부터 {last}까지의 합은 {sum}입니다.')"
   ]
  },
  {
   "cell_type": "code",
   "execution_count": 34,
   "id": "81465c8f-40d5-4729-81b6-387c99b183d4",
   "metadata": {},
   "outputs": [
    {
     "name": "stdin",
     "output_type": "stream",
     "text": [
      "시작하는 정수 입력:  1\n",
      "끝나는 정수 입력:  5\n"
     ]
    },
    {
     "name": "stdout",
     "output_type": "stream",
     "text": [
      "1부터 5까지의 짝수 제곱의 합은 20입니다.\n"
     ]
    }
   ],
   "source": [
    "first = int(input(\"시작하는 정수 입력: \"))\n",
    "last = int(input(\"끝나는 정수 입력: \"))\n",
    "sum = 0\n",
    "\n",
    "for i in range(first,last+1):\n",
    "    if i%2 ==0:\n",
    "        sum = sum + i**2\n",
    "print(f'{first}부터 {last}까지의 짝수 제곱의 합은 {sum}입니다.')\n"
   ]
  },
  {
   "cell_type": "code",
   "execution_count": 37,
   "id": "1abe4265-035d-4a36-a1a9-de1a3354b29f",
   "metadata": {},
   "outputs": [
    {
     "name": "stdin",
     "output_type": "stream",
     "text": [
      "시작하는 정수 입력:  2\n",
      "끝나는 정수 입력:  4\n"
     ]
    },
    {
     "name": "stdout",
     "output_type": "stream",
     "text": [
      "2부터 4까지의 짝수 제곱의 합은 20입니다.\n"
     ]
    }
   ],
   "source": [
    "first = int(input(\"시작하는 정수 입력: \"))\n",
    "last = int(input(\"끝나는 정수 입력: \"))\n",
    "sum = 0\n",
    "i = 0\n",
    "\n",
    "while True:\n",
    "    i += 1\n",
    "    if i<first:\n",
    "        continue\n",
    "    if i>last:\n",
    "        break\n",
    "    if i%2 ==0:\n",
    "        sum = sum + i**2\n",
    "print(f'{first}부터 {last}까지의 짝수 제곱의 합은 {sum}입니다.')"
   ]
  },
  {
   "cell_type": "code",
   "execution_count": null,
   "id": "978346d2-7af1-45a9-bd25-ec905ff0c5da",
   "metadata": {},
   "outputs": [
    {
     "name": "stdin",
     "output_type": "stream",
     "text": [
      "시작하는 정수 입력:  1\n",
      "끝나는 정수 입력:  4\n"
     ]
    },
    {
     "name": "stdout",
     "output_type": "stream",
     "text": [
      "1부터 4까지의 짝수 제곱의 합은 20입니다.\n"
     ]
    }
   ],
   "source": [
    "first = int(input(\"시작하는 정수 입력: \"))\n",
    "last = int(input(\"끝나는 정수 입력: \"))\n",
    "sum = 0\n",
    "i = first\n",
    "\n",
    "while i <= last:\n",
    "    if i%2 ==0:\n",
    "        sum = sum + i**2\n",
    "    i += 1\n",
    "print(f'{first}부터 {last}까지의 짝수 제곱의 합은 {sum}입니다.')"
   ]
  },
  {
   "cell_type": "markdown",
   "id": "88b93629-1187-4d5a-899e-44081c11a6d3",
   "metadata": {},
   "source": [
    "### f'string 사용하기\n",
    "print(f'{m} ~~~ ')"
   ]
  },
  {
   "cell_type": "code",
   "execution_count": 43,
   "id": "9bc92f1c-d361-4c5e-a7ec-e2554d9e365d",
   "metadata": {},
   "outputs": [
    {
     "name": "stdout",
     "output_type": "stream",
     "text": [
      "79.0\n"
     ]
    }
   ],
   "source": [
    "Kor = [70,60,55,75,95,90,80,80,85,100]\n",
    "\n",
    "tot = 0\n",
    "\n",
    "for i in range(len(Kor)):\n",
    "    tot = tot + Kor[i]\n",
    "    i += 1\n",
    "avg = tot / len(Kor)\n",
    "print(avg)"
   ]
  },
  {
   "cell_type": "code",
   "execution_count": 45,
   "id": "bcd2f393-79f0-4bfc-bd3d-c51b2c2b8766",
   "metadata": {},
   "outputs": [
    {
     "name": "stdout",
     "output_type": "stream",
     "text": [
      "79.0\n"
     ]
    }
   ],
   "source": [
    "Kor = [70,60,55,75,95,90,80,80,85,100]\n",
    "i =0\n",
    "tot = 0\n",
    "\n",
    "while i<len(Kor):\n",
    "    tot += Kor[i]\n",
    "    i += 1\n",
    "avg = tot / len(Kor)\n",
    "print(avg)"
   ]
  },
  {
   "cell_type": "code",
   "execution_count": 48,
   "id": "019a6a28-4541-4024-8d2c-ade6d9bb5a18",
   "metadata": {},
   "outputs": [
    {
     "name": "stdout",
     "output_type": "stream",
     "text": [
      "79.0\n"
     ]
    }
   ],
   "source": [
    "Kor = [70,60,55,75,95,90,80,80,85,100]\n",
    "i =0\n",
    "tot = 0\n",
    "\n",
    "while True:\n",
    "    if i >= len(Kor):\n",
    "        break\n",
    "    if i < len(Kor):\n",
    "        tot += Kor[i]\n",
    "        i+=1\n",
    "\n",
    "avg = tot / len(Kor)\n",
    "print(avg)"
   ]
  },
  {
   "cell_type": "code",
   "execution_count": 57,
   "id": "f4e49a4f-2954-4479-97f8-25e445d85aba",
   "metadata": {},
   "outputs": [
    {
     "name": "stdout",
     "output_type": "stream",
     "text": [
      "<class 'int'>\n",
      "60\n",
      "79.0\n"
     ]
    }
   ],
   "source": [
    "Kor = (70,60,55,75,95,90,80,80,85,100)\n",
    "#tuple로 해도 결과값은 같다.. Kor(i)의 형태이게 되면 not callable, 불러올 수 없다고 에러가 나타나지만 \n",
    "#Kor[i]의 형태로 가면 list로 다시 변경..?\n",
    "i =0\n",
    "tot = 0\n",
    "print(type(Kor[1]))\n",
    "print(Kor[1])\n",
    "while i < len(Kor):\n",
    "    tot = tot + Kor[i]\n",
    "    i += 1\n",
    "avg = tot / len(Kor)\n",
    "print(avg)"
   ]
  },
  {
   "cell_type": "code",
   "execution_count": 63,
   "id": "f7dd47c5-96a9-4ce4-9c2b-c00379cb3ac5",
   "metadata": {},
   "outputs": [
    {
     "name": "stdin",
     "output_type": "stream",
     "text": [
      "자연수를 입력하세요:  1000\n"
     ]
    },
    {
     "name": "stdout",
     "output_type": "stream",
     "text": [
      "총합은 233168 입니다\n"
     ]
    }
   ],
   "source": [
    "Num = int(input(\"자연수를 입력하세요: \"))\n",
    "i = 0\n",
    "tot = 0\n",
    "for i in range(Num):\n",
    "    if i%3 == 0:\n",
    "        tot += i\n",
    "        i += 1\n",
    "    elif i%5 == 0:\n",
    "        tot += i\n",
    "        i += 1\n",
    "    else:\n",
    "        i+=1\n",
    "print(f'총합은 {tot} 입니다')"
   ]
  },
  {
   "cell_type": "code",
   "execution_count": 66,
   "id": "20f8f6e7-c76e-4351-8dd8-e784bc212aec",
   "metadata": {},
   "outputs": [
    {
     "name": "stdin",
     "output_type": "stream",
     "text": [
      "자연수를 입력하세요:  1000\n"
     ]
    },
    {
     "name": "stdout",
     "output_type": "stream",
     "text": [
      "총합은 233168 입니다\n"
     ]
    }
   ],
   "source": [
    "Num = int(input(\"자연수를 입력하세요: \"))\n",
    "i = 0\n",
    "tot = 0\n",
    "\n",
    "while i < Num:\n",
    "    if i%3 == 0 or i%5 == 0:\n",
    "        tot += i\n",
    "    i += 1\n",
    "print(f'총합은 {tot} 입니다')"
   ]
  },
  {
   "cell_type": "code",
   "execution_count": null,
   "id": "227268e6-ebed-4959-a6af-81be4f211bb8",
   "metadata": {},
   "outputs": [],
   "source": []
  }
 ],
 "metadata": {
  "kernelspec": {
   "display_name": "Python 3 (ipykernel)",
   "language": "python",
   "name": "python3"
  },
  "language_info": {
   "codemirror_mode": {
    "name": "ipython",
    "version": 3
   },
   "file_extension": ".py",
   "mimetype": "text/x-python",
   "name": "python",
   "nbconvert_exporter": "python",
   "pygments_lexer": "ipython3",
   "version": "3.9.13"
  }
 },
 "nbformat": 4,
 "nbformat_minor": 5
}
