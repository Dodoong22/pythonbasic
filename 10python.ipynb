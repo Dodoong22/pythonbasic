{
 "cells": [
  {
   "cell_type": "code",
   "execution_count": 2,
   "id": "2b15ce32-5451-4f28-af6f-10329073be10",
   "metadata": {},
   "outputs": [
    {
     "name": "stdin",
     "output_type": "stream",
     "text": [
      "체력, 마나, AP를 입력하세요. 1803.68 1184.0 645\n"
     ]
    },
    {
     "name": "stdout",
     "output_type": "stream",
     "text": [
      "티버 : 피해량 819.25\n"
     ]
    }
   ],
   "source": [
    "class Annie:\n",
    "    def __init__(self, health, mana, ability_power):\n",
    "        self.health = health\n",
    "        self.mana = mana\n",
    "        self.ability_power = ability_power\n",
    "    def tibbers(self):\n",
    "        print(f\"티버 : 피해량 {self.ability_power * 0.65 + 400}\")\n",
    "\n",
    "health, mana, ability_power = map(float, input(\"체력, 마나, AP를 입력하세요.\").split())\n",
    "x = Annie(health=health, mana=mana, ability_power=ability_power)\n",
    "x.tibbers()"
   ]
  },
  {
   "cell_type": "code",
   "execution_count": 3,
   "id": "43e24d72-51d5-4313-b3ed-bdc6d1f532c6",
   "metadata": {},
   "outputs": [],
   "source": [
    "class Person3:\n",
    "    \n",
    "    def __init__(self, name, age, address, wallet):\n",
    "        self.hellot = \"안녕하세요\"\n",
    "        self.name = name\n",
    "        self.age = age\n",
    "        self.address = address\n",
    "        self.__wallet = wallet\n",
    "        \n",
    "    def greeting(self):\n",
    "        print(f\"{self.hello} 제이름은 {self.name} 입니다\")\n",
    "    def amount(self):\n",
    "        print(self.__wallet)\n",
    "    "
   ]
  },
  {
   "cell_type": "markdown",
   "id": "18e32967-3ee1-4595-910e-49a70d892734",
   "metadata": {},
   "source": [
    "## @classmethod 사용, @staticmethod 사용 -> 당장은 이런것이 있다정도로만 알아두자."
   ]
  },
  {
   "cell_type": "markdown",
   "id": "4a8f7b5a-c665-4c5c-819b-ba1d58e8e43a",
   "metadata": {},
   "source": [
    "## `넘파이(Numpy)`   \n",
    "Numpy는 파이썬 내장모듈이 아님. 따라서 별도의 설치를 요구하지만, 아나콘다에선 Numpy를 패키지 없이 사용가능"
   ]
  },
  {
   "cell_type": "code",
   "execution_count": 4,
   "id": "66335c7d-d230-4123-9b03-cf06d207edae",
   "metadata": {},
   "outputs": [
    {
     "name": "stdout",
     "output_type": "stream",
     "text": [
      "# packages in environment at C:\\Users\\Playdata\\anaconda3:\n",
      "#\n",
      "# Name                    Version                   Build  Channel\n",
      "_ipyw_jlab_nb_ext_conf    0.1.0            py39haa95532_0  \n",
      "alabaster                 0.7.12             pyhd3eb1b0_0  \n",
      "anaconda                  2022.10                  py39_0  \n",
      "anaconda-client           1.11.0           py39haa95532_0  \n",
      "anaconda-navigator        2.3.1            py39haa95532_0  \n",
      "anaconda-project          0.11.1           py39haa95532_0  \n",
      "anyio                     3.5.0            py39haa95532_0  \n",
      "appdirs                   1.4.4              pyhd3eb1b0_0  \n",
      "argon2-cffi               21.3.0             pyhd3eb1b0_0  \n",
      "argon2-cffi-bindings      21.2.0           py39h2bbff1b_0  \n",
      "arrow                     1.2.2              pyhd3eb1b0_0  \n",
      "astroid                   2.11.7           py39haa95532_0  \n",
      "astropy                   5.1              py39h080aedc_0  \n",
      "atomicwrites              1.4.0                      py_0  \n",
      "attrs                     21.4.0             pyhd3eb1b0_0  \n",
      "automat                   20.2.0                     py_0  \n",
      "autopep8                  1.6.0              pyhd3eb1b0_1  \n",
      "babel                     2.9.1              pyhd3eb1b0_0  \n",
      "backcall                  0.2.0              pyhd3eb1b0_0  \n",
      "backports                 1.1                pyhd3eb1b0_0  \n",
      "backports.functools_lru_cache 1.6.4              pyhd3eb1b0_0  \n",
      "backports.tempfile        1.0                pyhd3eb1b0_1  \n",
      "backports.weakref         1.0.post1                  py_1  \n",
      "bcrypt                    3.2.0            py39h2bbff1b_1  \n",
      "beautifulsoup4            4.11.1           py39haa95532_0  \n",
      "binaryornot               0.4.4              pyhd3eb1b0_1  \n",
      "bitarray                  2.5.1            py39h2bbff1b_0  \n",
      "bkcharts                  0.2              py39haa95532_1  \n",
      "black                     22.6.0           py39haa95532_0  \n",
      "blas                      1.0                         mkl  \n",
      "bleach                    4.1.0              pyhd3eb1b0_0  \n",
      "blosc                     1.21.0               h19a0ad4_1  \n",
      "bokeh                     2.4.3            py39haa95532_0  \n",
      "boto3                     1.24.28          py39haa95532_0  \n",
      "botocore                  1.27.28          py39haa95532_0  \n",
      "bottleneck                1.3.5            py39h080aedc_0  \n",
      "brotli                    1.0.9                h2bbff1b_7  \n",
      "brotli-bin                1.0.9                h2bbff1b_7  \n",
      "brotlipy                  0.7.0           py39h2bbff1b_1003  \n",
      "bzip2                     1.0.8                he774522_0  \n",
      "ca-certificates           2022.07.19           haa95532_0  \n",
      "certifi                   2022.9.14        py39haa95532_0  \n",
      "cffi                      1.15.1           py39h2bbff1b_0  \n",
      "cfitsio                   3.470                h2bbff1b_7  \n",
      "chardet                   4.0.0           py39haa95532_1003  \n",
      "charls                    2.2.0                h6c2663c_0  \n",
      "charset-normalizer        2.0.4              pyhd3eb1b0_0  \n",
      "click                     8.0.4            py39haa95532_0  \n",
      "cloudpickle               2.0.0              pyhd3eb1b0_0  \n",
      "clyent                    1.2.2            py39haa95532_1  \n",
      "colorama                  0.4.5            py39haa95532_0  \n",
      "colorcet                  3.0.0            py39haa95532_0  \n",
      "comtypes                  1.1.10          py39haa95532_1002  \n",
      "conda                     22.9.0           py39haa95532_0  \n",
      "conda-build               3.22.0           py39haa95532_0  \n",
      "conda-content-trust       0.1.3            py39haa95532_0  \n",
      "conda-env                 2.6.0                haa95532_1  \n",
      "conda-pack                0.6.0              pyhd3eb1b0_0  \n",
      "conda-package-handling    1.9.0            py39h8cc25b3_0  \n",
      "conda-repo-cli            1.0.20           py39haa95532_0  \n",
      "conda-token               0.4.0              pyhd3eb1b0_0  \n",
      "conda-verify              3.4.2                      py_1  \n",
      "console_shortcut          0.1.1                         4  \n",
      "constantly                15.1.0             pyh2b92418_0  \n",
      "cookiecutter              1.7.3              pyhd3eb1b0_0  \n",
      "cryptography              37.0.1           py39h21b164f_0  \n",
      "cssselect                 1.1.0              pyhd3eb1b0_0  \n",
      "curl                      7.84.0               h2bbff1b_0  \n",
      "cycler                    0.11.0             pyhd3eb1b0_0  \n",
      "cython                    0.29.32          py39hd77b12b_0  \n",
      "cytoolz                   0.11.0           py39h2bbff1b_0  \n",
      "daal4py                   2021.6.0         py39h757b272_1  \n",
      "dal                       2021.6.0           h59b6b97_874  \n",
      "dask                      2022.7.0         py39haa95532_0  \n",
      "dask-core                 2022.7.0         py39haa95532_0  \n",
      "dataclasses               0.8                pyh6d0b6a4_7  \n",
      "datashader                0.14.1           py39haa95532_0  \n",
      "datashape                 0.5.4            py39haa95532_1  \n",
      "debugpy                   1.5.1            py39hd77b12b_0  \n",
      "decorator                 5.1.1              pyhd3eb1b0_0  \n",
      "defusedxml                0.7.1              pyhd3eb1b0_0  \n",
      "diff-match-patch          20200713           pyhd3eb1b0_0  \n",
      "dill                      0.3.4              pyhd3eb1b0_0  \n",
      "distributed               2022.7.0         py39haa95532_0  \n",
      "docutils                  0.18.1           py39haa95532_3  \n",
      "entrypoints               0.4              py39haa95532_0  \n",
      "et_xmlfile                1.1.0            py39haa95532_0  \n",
      "fftw                      3.3.9                h2bbff1b_1  \n",
      "filelock                  3.6.0              pyhd3eb1b0_0  \n",
      "flake8                    4.0.1              pyhd3eb1b0_1  \n",
      "flask                     1.1.2              pyhd3eb1b0_0  \n",
      "fonttools                 4.25.0             pyhd3eb1b0_0  \n",
      "freetype                  2.10.4               hd328e21_0  \n",
      "fsspec                    2022.7.1         py39haa95532_0  \n",
      "future                    0.18.2           py39haa95532_1  \n",
      "gensim                    4.1.2            py39hd77b12b_0  \n",
      "giflib                    5.2.1                h62dcd97_0  \n",
      "glob2                     0.7                pyhd3eb1b0_0  \n",
      "greenlet                  1.1.1            py39hd77b12b_0  \n",
      "h5py                      3.7.0            py39h3de5c98_0  \n",
      "hdf5                      1.10.6               h1756f20_1  \n",
      "heapdict                  1.0.1              pyhd3eb1b0_0  \n",
      "holoviews                 1.15.0           py39haa95532_0  \n",
      "hvplot                    0.8.0            py39haa95532_0  \n",
      "hyperlink                 21.0.0             pyhd3eb1b0_0  \n",
      "icc_rt                    2022.1.0             h6049295_2  \n",
      "icu                       58.2                 ha925a31_3  \n",
      "idna                      3.3                pyhd3eb1b0_0  \n",
      "imagecodecs               2021.8.26        py39hc0a7faf_1  \n",
      "imageio                   2.19.3           py39haa95532_0  \n",
      "imagesize                 1.4.1            py39haa95532_0  \n",
      "importlib-metadata        4.11.3           py39haa95532_0  \n",
      "importlib_metadata        4.11.3               hd3eb1b0_0  \n",
      "incremental               21.3.0             pyhd3eb1b0_0  \n",
      "inflection                0.5.1            py39haa95532_0  \n",
      "iniconfig                 1.1.1              pyhd3eb1b0_0  \n",
      "intake                    0.6.5              pyhd3eb1b0_0  \n",
      "intel-openmp              2021.4.0          haa95532_3556  \n",
      "intervaltree              3.1.0              pyhd3eb1b0_0  \n",
      "ipykernel                 6.15.2           py39haa95532_0  \n",
      "ipython                   7.31.1           py39haa95532_1  \n",
      "ipython_genutils          0.2.0              pyhd3eb1b0_1  \n",
      "ipywidgets                7.6.5              pyhd3eb1b0_1  \n",
      "isort                     5.9.3              pyhd3eb1b0_0  \n",
      "itemadapter               0.3.0              pyhd3eb1b0_0  \n",
      "itemloaders               1.0.4              pyhd3eb1b0_1  \n",
      "itsdangerous              2.0.1              pyhd3eb1b0_0  \n",
      "jdcal                     1.4.1              pyhd3eb1b0_0  \n",
      "jedi                      0.18.1           py39haa95532_1  \n",
      "jellyfish                 0.9.0            py39h2bbff1b_0  \n",
      "jinja2                    2.11.3             pyhd3eb1b0_0  \n",
      "jinja2-time               0.2.0              pyhd3eb1b0_3  \n",
      "jmespath                  0.10.0             pyhd3eb1b0_0  \n",
      "joblib                    1.1.0              pyhd3eb1b0_0  \n",
      "jpeg                      9e                   h2bbff1b_0  \n",
      "jq                        1.6                  haa95532_1  \n",
      "json5                     0.9.6              pyhd3eb1b0_0  \n",
      "jsonschema                4.16.0           py39haa95532_0  \n",
      "jupyter                   1.0.0            py39haa95532_8  \n",
      "jupyter_client            7.3.4            py39haa95532_0  \n",
      "jupyter_console           6.4.3              pyhd3eb1b0_0  \n",
      "jupyter_core              4.11.1           py39haa95532_0  \n",
      "jupyter_server            1.18.1           py39haa95532_0  \n",
      "jupyterlab                3.4.4            py39haa95532_0  \n",
      "jupyterlab_pygments       0.1.2                      py_0  \n",
      "jupyterlab_server         2.10.3             pyhd3eb1b0_1  \n",
      "jupyterlab_widgets        1.0.0              pyhd3eb1b0_1  \n",
      "keyring                   23.4.0           py39haa95532_0  \n",
      "kiwisolver                1.4.2            py39hd77b12b_0  \n",
      "lazy-object-proxy         1.6.0            py39h2bbff1b_0  \n",
      "lcms2                     2.12                 h83e58a3_0  \n",
      "lerc                      3.0                  hd77b12b_0  \n",
      "libaec                    1.0.4                h33f27b4_1  \n",
      "libarchive                3.6.1                hebabd0d_0  \n",
      "libbrotlicommon           1.0.9                h2bbff1b_7  \n",
      "libbrotlidec              1.0.9                h2bbff1b_7  \n",
      "libbrotlienc              1.0.9                h2bbff1b_7  \n",
      "libcurl                   7.84.0               h86230a5_0  \n",
      "libdeflate                1.8                  h2bbff1b_5  \n",
      "libiconv                  1.16                 h2bbff1b_2  \n",
      "liblief                   0.11.5               hd77b12b_1  \n",
      "libpng                    1.6.37               h2a8f88b_0  \n",
      "libsodium                 1.0.18               h62dcd97_0  \n",
      "libspatialindex           1.9.3                h6c2663c_0  \n",
      "libssh2                   1.10.0               hcd4344a_0  \n",
      "libtiff                   4.4.0                h8a3f274_0  \n",
      "libwebp                   1.2.2                h2bbff1b_0  \n",
      "libxml2                   2.9.14               h0ad7f3c_0  \n",
      "libxslt                   1.1.35               h2bbff1b_0  \n",
      "libzopfli                 1.0.3                ha925a31_0  \n",
      "llvmlite                  0.38.0           py39h23ce68f_0  \n",
      "locket                    1.0.0            py39haa95532_0  \n",
      "lxml                      4.9.1            py39h1985fb9_0  \n",
      "lz4                       3.1.3            py39h2bbff1b_0  \n",
      "lz4-c                     1.9.3                h2bbff1b_1  \n",
      "lzo                       2.10                 he774522_2  \n",
      "m2-msys2-runtime          2.5.0.17080.65c939c               3  \n",
      "m2-patch                  2.7.5                         2  \n",
      "m2w64-libwinpthread-git   5.0.0.4634.697f757               2  \n",
      "markdown                  3.3.4            py39haa95532_0  \n",
      "markupsafe                2.0.1            py39h2bbff1b_0  \n",
      "matplotlib                3.5.2            py39haa95532_0  \n",
      "matplotlib-base           3.5.2            py39hd77b12b_0  \n",
      "matplotlib-inline         0.1.6            py39haa95532_0  \n",
      "mccabe                    0.6.1            py39haa95532_2  \n",
      "menuinst                  1.4.19           py39h59b6b97_0  \n",
      "mistune                   0.8.4           py39h2bbff1b_1000  \n",
      "mkl                       2021.4.0           haa95532_640  \n",
      "mkl-service               2.4.0            py39h2bbff1b_0  \n",
      "mkl_fft                   1.3.1            py39h277e83a_0  \n",
      "mkl_random                1.2.2            py39hf11a4ad_0  \n",
      "mock                      4.0.3              pyhd3eb1b0_0  \n",
      "mpmath                    1.2.1            py39haa95532_0  \n",
      "msgpack-python            1.0.3            py39h59b6b97_0  \n",
      "msys2-conda-epoch         20160418                      1  \n",
      "multipledispatch          0.6.0            py39haa95532_0  \n",
      "munkres                   1.1.4                      py_0  \n",
      "mypy_extensions           0.4.3            py39haa95532_1  \n",
      "navigator-updater         0.3.0            py39haa95532_0  \n",
      "nbclassic                 0.3.5              pyhd3eb1b0_0  \n",
      "nbclient                  0.5.13           py39haa95532_0  \n",
      "nbconvert                 6.4.4            py39haa95532_0  \n",
      "nbformat                  5.5.0            py39haa95532_0  \n",
      "nest-asyncio              1.5.5            py39haa95532_0  \n",
      "networkx                  2.8.4            py39haa95532_0  \n",
      "nltk                      3.7                pyhd3eb1b0_0  \n",
      "nose                      1.3.7           pyhd3eb1b0_1008  \n",
      "notebook                  6.4.12           py39haa95532_0  \n",
      "numba                     0.55.1           py39hf11a4ad_0  \n",
      "numexpr                   2.8.3            py39hb80d3ca_0  \n",
      "numpy                     1.21.5           py39h7a0a035_3  \n",
      "numpy-base                1.21.5           py39hca35cd5_3  \n",
      "numpydoc                  1.4.0            py39haa95532_0  \n",
      "olefile                   0.46               pyhd3eb1b0_0  \n",
      "openjpeg                  2.4.0                h4fc8c34_0  \n",
      "openpyxl                  3.0.10           py39h2bbff1b_0  \n",
      "openssl                   1.1.1q               h2bbff1b_0  \n",
      "packaging                 21.3               pyhd3eb1b0_0  \n",
      "pandas                    1.4.4            py39hd77b12b_0  \n",
      "pandocfilters             1.5.0              pyhd3eb1b0_0  \n",
      "panel                     0.13.1           py39haa95532_0  \n",
      "param                     1.12.0             pyhd3eb1b0_0  \n",
      "paramiko                  2.8.1              pyhd3eb1b0_0  \n",
      "parsel                    1.6.0            py39haa95532_0  \n",
      "parso                     0.8.3              pyhd3eb1b0_0  \n",
      "partd                     1.2.0              pyhd3eb1b0_1  \n",
      "pathlib                   1.0.1              pyhd3eb1b0_1  \n",
      "pathspec                  0.9.0            py39haa95532_0  \n",
      "patsy                     0.5.2            py39haa95532_1  \n",
      "pep8                      1.7.1            py39haa95532_1  \n",
      "pexpect                   4.8.0              pyhd3eb1b0_3  \n",
      "pickleshare               0.7.5           pyhd3eb1b0_1003  \n",
      "pillow                    9.2.0            py39hdc2b20a_1  \n",
      "pip                       22.2.2           py39haa95532_0  \n",
      "pkginfo                   1.8.2              pyhd3eb1b0_0  \n",
      "platformdirs              2.5.2            py39haa95532_0  \n",
      "plotly                    5.9.0            py39haa95532_0  \n",
      "pluggy                    1.0.0            py39haa95532_1  \n",
      "powershell_shortcut       0.0.1                         3  \n",
      "poyo                      0.5.0              pyhd3eb1b0_0  \n",
      "prometheus_client         0.14.1           py39haa95532_0  \n",
      "prompt-toolkit            3.0.20             pyhd3eb1b0_0  \n",
      "prompt_toolkit            3.0.20               hd3eb1b0_0  \n",
      "protego                   0.1.16                     py_0  \n",
      "psutil                    5.9.0            py39h2bbff1b_0  \n",
      "ptyprocess                0.7.0              pyhd3eb1b0_2  \n",
      "py                        1.11.0             pyhd3eb1b0_0  \n",
      "py-lief                   0.11.5           py39hd77b12b_1  \n",
      "pyasn1                    0.4.8              pyhd3eb1b0_0  \n",
      "pyasn1-modules            0.2.8                      py_0  \n",
      "pycodestyle               2.8.0              pyhd3eb1b0_0  \n",
      "pycosat                   0.6.3            py39h2bbff1b_0  \n",
      "pycparser                 2.21               pyhd3eb1b0_0  \n",
      "pyct                      0.4.8            py39haa95532_1  \n",
      "pycurl                    7.45.1           py39hcd4344a_0  \n",
      "pydispatcher              2.0.5            py39haa95532_2  \n",
      "pydocstyle                6.1.1              pyhd3eb1b0_0  \n",
      "pyerfa                    2.0.0            py39h2bbff1b_0  \n",
      "pyflakes                  2.4.0              pyhd3eb1b0_0  \n",
      "pygments                  2.11.2             pyhd3eb1b0_0  \n",
      "pyhamcrest                2.0.2              pyhd3eb1b0_2  \n",
      "pyjwt                     2.4.0            py39haa95532_0  \n",
      "pylint                    2.14.5           py39haa95532_0  \n",
      "pyls-spyder               0.4.0              pyhd3eb1b0_0  \n",
      "pynacl                    1.5.0            py39h8cc25b3_0  \n",
      "pyodbc                    4.0.34           py39hd77b12b_0  \n",
      "pyopenssl                 22.0.0             pyhd3eb1b0_0  \n",
      "pyparsing                 3.0.9            py39haa95532_0  \n",
      "pyqt                      5.9.2            py39hd77b12b_6  \n",
      "pyrsistent                0.18.0           py39h196d8e1_0  \n",
      "pysocks                   1.7.1            py39haa95532_0  \n",
      "pytables                  3.6.1            py39h56d22b6_1  \n",
      "pytest                    7.1.2            py39haa95532_0  \n",
      "python                    3.9.13               h6244533_1  \n",
      "python-dateutil           2.8.2              pyhd3eb1b0_0  \n",
      "python-fastjsonschema     2.16.2           py39haa95532_0  \n",
      "python-libarchive-c       2.9                pyhd3eb1b0_1  \n",
      "python-lsp-black          1.0.0              pyhd3eb1b0_0  \n",
      "python-lsp-jsonrpc        1.0.0              pyhd3eb1b0_0  \n",
      "python-lsp-server         1.3.3              pyhd3eb1b0_0  \n",
      "python-slugify            5.0.2              pyhd3eb1b0_0  \n",
      "python-snappy             0.6.0            py39hd77b12b_3  \n",
      "pytz                      2022.1           py39haa95532_0  \n",
      "pyviz_comms               2.0.2              pyhd3eb1b0_0  \n",
      "pywavelets                1.3.0            py39h2bbff1b_0  \n",
      "pywin32                   302              py39h2bbff1b_2  \n",
      "pywin32-ctypes            0.2.0           py39haa95532_1000  \n",
      "pywinpty                  2.0.2            py39h5da7b33_0  \n",
      "pyyaml                    6.0              py39h2bbff1b_1  \n",
      "pyzmq                     23.2.0           py39hd77b12b_0  \n",
      "qdarkstyle                3.0.2              pyhd3eb1b0_0  \n",
      "qstylizer                 0.1.10             pyhd3eb1b0_0  \n",
      "qt                        5.9.7            vc14h73c81de_0  \n",
      "qtawesome                 1.0.3              pyhd3eb1b0_0  \n",
      "qtconsole                 5.2.2              pyhd3eb1b0_0  \n",
      "qtpy                      2.2.0            py39haa95532_0  \n",
      "queuelib                  1.5.0            py39haa95532_0  \n",
      "regex                     2022.7.9         py39h2bbff1b_0  \n",
      "requests                  2.28.1           py39haa95532_0  \n",
      "requests-file             1.5.1              pyhd3eb1b0_0  \n",
      "rope                      0.22.0             pyhd3eb1b0_0  \n",
      "rtree                     0.9.7            py39h2eaa2aa_1  \n",
      "ruamel_yaml               0.15.100         py39h2bbff1b_0  \n",
      "s3transfer                0.6.0            py39haa95532_0  \n",
      "scikit-image              0.19.2           py39hf11a4ad_0  \n",
      "scikit-learn              1.0.2            py39hf11a4ad_1  \n",
      "scikit-learn-intelex      2021.6.0         py39haa95532_0  \n",
      "scipy                     1.9.1            py39he11b74f_0  \n",
      "scrapy                    2.6.2            py39haa95532_0  \n",
      "seaborn                   0.11.2             pyhd3eb1b0_0  \n",
      "send2trash                1.8.0              pyhd3eb1b0_1  \n",
      "service_identity          18.1.0             pyhd3eb1b0_1  \n",
      "setuptools                63.4.1           py39haa95532_0  \n",
      "sip                       4.19.13          py39hd77b12b_0  \n",
      "six                       1.16.0             pyhd3eb1b0_1  \n",
      "smart_open                5.2.1            py39haa95532_0  \n",
      "snappy                    1.1.9                h6c2663c_0  \n",
      "sniffio                   1.2.0            py39haa95532_1  \n",
      "snowballstemmer           2.2.0              pyhd3eb1b0_0  \n",
      "sortedcollections         2.1.0              pyhd3eb1b0_0  \n",
      "sortedcontainers          2.4.0              pyhd3eb1b0_0  \n",
      "soupsieve                 2.3.1              pyhd3eb1b0_0  \n",
      "sphinx                    5.0.2            py39haa95532_0  \n",
      "sphinxcontrib-applehelp   1.0.2              pyhd3eb1b0_0  \n",
      "sphinxcontrib-devhelp     1.0.2              pyhd3eb1b0_0  \n",
      "sphinxcontrib-htmlhelp    2.0.0              pyhd3eb1b0_0  \n",
      "sphinxcontrib-jsmath      1.0.1              pyhd3eb1b0_0  \n",
      "sphinxcontrib-qthelp      1.0.3              pyhd3eb1b0_0  \n",
      "sphinxcontrib-serializinghtml 1.1.5              pyhd3eb1b0_0  \n",
      "spyder                    5.2.2            py39haa95532_1  \n",
      "spyder-kernels            2.2.1            py39haa95532_0  \n",
      "sqlalchemy                1.4.39           py39h2bbff1b_0  \n",
      "sqlite                    3.39.3               h2bbff1b_0  \n",
      "statsmodels               0.13.2           py39h2bbff1b_0  \n",
      "sympy                     1.10.1           py39haa95532_0  \n",
      "tabulate                  0.8.10           py39haa95532_0  \n",
      "tbb                       2021.6.0             h59b6b97_0  \n",
      "tbb4py                    2021.6.0         py39h59b6b97_0  \n",
      "tblib                     1.7.0              pyhd3eb1b0_0  \n",
      "tenacity                  8.0.1            py39haa95532_1  \n",
      "terminado                 0.13.1           py39haa95532_0  \n",
      "testpath                  0.6.0            py39haa95532_0  \n",
      "text-unidecode            1.3                pyhd3eb1b0_0  \n",
      "textdistance              4.2.1              pyhd3eb1b0_0  \n",
      "threadpoolctl             2.2.0              pyh0d69192_0  \n",
      "three-merge               0.1.1              pyhd3eb1b0_0  \n",
      "tifffile                  2021.7.2           pyhd3eb1b0_2  \n",
      "tinycss                   0.4             pyhd3eb1b0_1002  \n",
      "tk                        8.6.12               h2bbff1b_0  \n",
      "tldextract                3.2.0              pyhd3eb1b0_0  \n",
      "toml                      0.10.2             pyhd3eb1b0_0  \n",
      "tomli                     2.0.1            py39haa95532_0  \n",
      "tomlkit                   0.11.1           py39haa95532_0  \n",
      "toolz                     0.11.2             pyhd3eb1b0_0  \n",
      "tornado                   6.1              py39h2bbff1b_0  \n",
      "tqdm                      4.64.1           py39haa95532_0  \n",
      "traitlets                 5.1.1              pyhd3eb1b0_0  \n",
      "twisted                   22.2.0           py39h2bbff1b_1  \n",
      "twisted-iocpsupport       1.0.2            py39h2bbff1b_0  \n",
      "typing-extensions         4.3.0            py39haa95532_0  \n",
      "typing_extensions         4.3.0            py39haa95532_0  \n",
      "tzdata                    2022c                h04d1e81_0  \n",
      "ujson                     5.4.0            py39hd77b12b_0  \n",
      "unidecode                 1.2.0              pyhd3eb1b0_0  \n",
      "urllib3                   1.26.11          py39haa95532_0  \n",
      "vc                        14.2                 h21ff451_1  \n",
      "vs2015_runtime            14.27.29016          h5e58377_2  \n",
      "w3lib                     1.21.0             pyhd3eb1b0_0  \n",
      "watchdog                  2.1.6            py39haa95532_0  \n",
      "wcwidth                   0.2.5              pyhd3eb1b0_0  \n",
      "webencodings              0.5.1            py39haa95532_1  \n",
      "websocket-client          0.58.0           py39haa95532_4  \n",
      "werkzeug                  2.0.3              pyhd3eb1b0_0  \n",
      "wheel                     0.37.1             pyhd3eb1b0_0  \n",
      "widgetsnbextension        3.5.2            py39haa95532_0  \n",
      "win_inet_pton             1.1.0            py39haa95532_0  \n",
      "win_unicode_console       0.5              py39haa95532_0  \n",
      "wincertstore              0.2              py39haa95532_2  \n",
      "winpty                    0.4.3                         4  \n",
      "wrapt                     1.14.1           py39h2bbff1b_0  \n",
      "xarray                    0.20.1             pyhd3eb1b0_1  \n",
      "xlrd                      2.0.1              pyhd3eb1b0_0  \n",
      "xlsxwriter                3.0.3              pyhd3eb1b0_0  \n",
      "xlwings                   0.27.15          py39haa95532_0  \n",
      "xz                        5.2.6                h8cc25b3_0  \n",
      "yaml                      0.2.5                he774522_0  \n",
      "yapf                      0.31.0             pyhd3eb1b0_0  \n",
      "zeromq                    4.3.4                hd77b12b_0  \n",
      "zfp                       0.5.5                hd77b12b_6  \n",
      "zict                      2.1.0            py39haa95532_0  \n",
      "zipp                      3.8.0            py39haa95532_0  \n",
      "zlib                      1.2.12               h8cc25b3_3  \n",
      "zope                      1.0              py39haa95532_1  \n",
      "zope.interface            5.4.0            py39h2bbff1b_0  \n",
      "zstd                      1.5.2                h19a0ad4_0  \n"
     ]
    }
   ],
   "source": [
    "!conda list"
   ]
  },
  {
   "cell_type": "markdown",
   "id": "ad266ff3-806f-461a-a4a7-8fabca8ea3a4",
   "metadata": {},
   "source": [
    "숫자 데이터를 좀 더 쉽고 편리하게 다룰수 있음.  \n",
    "다차원 배열 자료구조 클래스인 ndarray 클래스를 지원, 벡터와 행렬을 사용하는 선형대수 계산에 주로 사용"
   ]
  },
  {
   "cell_type": "markdown",
   "id": "d1b82800-9cc4-4525-b2f3-58cdfd3d6b7b",
   "metadata": {},
   "source": [
    "배열(Array)란 순서가 있는 같은 종류의 데이터가 저장되는 자료형.  "
   ]
  },
  {
   "cell_type": "markdown",
   "id": "cfcf1215-c688-488f-9c60-a0c2e80800d9",
   "metadata": {},
   "source": [
    "넘파이 배열이 리스트보다 구조적으로 속도가 빠르고 메모리를 더 적게 사용함."
   ]
  },
  {
   "cell_type": "markdown",
   "id": "b8843edf-6a7c-46da-8f40-08eb0adcde6b",
   "metadata": {},
   "source": [
    "수 많은 숫자 데이터를 하나의 리스트 시퀀스로 다루게 되면 넘파이 배열에 비해 상대적으로 속도가 느리고 메모리를 많이 차지하는 단점이 있음.  \n",
    "넘파이 패키지 배열(Array)을 이용하면 리스트에 비해 적은 메모리로 많은 데이터를 빠르게 처리할 수 있음  \n",
    "다만 넘파이 배열은 많은 데이터를 다룰 수 있다는 점에서 리스트와 비슷하지만 차이점이 있음.  \n",
    "1. 모든 요소(items)가 같은 자료형(type)이어야 함.(리스트는 다양한 자료형을 섞어서 요소로 가질 수 있음)\n",
    "2. 요소의 개수를 바꿀 수 없음.(리스트는 요소의 추가 및 삭제가 자유로움)"
   ]
  },
  {
   "cell_type": "markdown",
   "id": "ae8e0b8c-46b1-4b09-bf19-298b24d21c75",
   "metadata": {},
   "source": [
    "넘파이 배열연산은 C로 구현된 내부반복문을 사용함. 파이썬 반복문에 비해 속도가 빠르며 벡터화연산(vectorized operation)을 이용  \n",
    "간단한 코드로도 복잡한 선형대수연산을 수행 가능.  \n",
    "배열 인덱싱(array indexting)을 사용한 질의(Query) 기능을 이용하여 간단한 코드로도 복잡한 수식을 계산할 수 있음"
   ]
  },
  {
   "cell_type": "markdown",
   "id": "a0d6c2e1-acc6-4d73-812f-4762b146e60e",
   "metadata": {},
   "source": [
    "### 넘파이 패키지 임포트하기  \n",
    "배열을 사용하기 위해 NumPy  패키지를 임포트해야함  \n",
    "`np`라는 이름으로 임포트하는 것이 관례  \n",
    "하는 방법은 다음과 같음  \n",
    "  \n",
    "  import numpy as np"
   ]
  },
  {
   "cell_type": "markdown",
   "id": "0249d7a2-7d9e-4cca-924d-86aff1ff9b01",
   "metadata": {},
   "source": [
    "## 1차원 배열 만들기  \n",
    "  \n",
    "  넘파이 배열 객체인 ndarray 는 N-dimensional Array의 약자. 1차원배열,2차원배열, 3차우너 배열등 다차원 배열 자료 구조를 지원  \n",
    "  넘파이(np)의 array 메서드 인수로 시퀀스 자료형을 넣으면 ndarray 클래스 객체, 즉 넘파이 배열로 변환해줌.  \n",
    "  시퀀스 자료형은 튜플보단 주로 리스트를 많이 활용함.  \n",
    "  만들어진 ndarray 객체의 표현식(representation)을 보면 바깥쪽에 array()란 것이 붙어 있을 뿐, 리스트와 동일한 구조처럼 보임.  \n",
    "  그러나 배열객체와 리스트객체는 많은 차이가 있음.  \n",
    "    \n",
    "    ar = np.array([_ for _ in range(10)]  \n",
    "    ar  \n",
    "    array([0,1,2,3,4,5,6,7,8,9])"
   ]
  },
  {
   "cell_type": "markdown",
   "id": "c474f9f2-c970-44e9-b751-643ba16b0a40",
   "metadata": {},
   "source": [
    "넘파이 배열 객체의 속성 중 shape를 사용하면 그 넘파이 배열의 모양을 확인할 수 있음.  \n",
    "아래 예제 코드를 통해 앞서 생성한 배열의 모양과 차원을 확인할 수  있음. 개수가 10개인 1차원 배열이 생성된 것을 확인할 수 있음  \n",
    "  \n",
    "  ar.shape"
   ]
  },
  {
   "cell_type": "code",
   "execution_count": 5,
   "id": "0bccac37-1036-44db-b5fc-75915b91f78d",
   "metadata": {},
   "outputs": [],
   "source": [
    "import numpy as np"
   ]
  },
  {
   "cell_type": "code",
   "execution_count": 6,
   "id": "35a67411-e90e-4513-af12-f49349db9e5f",
   "metadata": {},
   "outputs": [],
   "source": [
    "ar = np.array([_ for _ in range(10)])"
   ]
  },
  {
   "cell_type": "code",
   "execution_count": 7,
   "id": "5d6f446c-0b19-46ce-a5e1-a6fd87721503",
   "metadata": {},
   "outputs": [
    {
     "data": {
      "text/plain": [
       "array([0, 1, 2, 3, 4, 5, 6, 7, 8, 9])"
      ]
     },
     "execution_count": 7,
     "metadata": {},
     "output_type": "execute_result"
    }
   ],
   "source": [
    "ar"
   ]
  },
  {
   "cell_type": "code",
   "execution_count": 8,
   "id": "2811f5e4-c23d-4173-891c-eb9cecc3dfb3",
   "metadata": {},
   "outputs": [
    {
     "name": "stdout",
     "output_type": "stream",
     "text": [
      "2734602173296\n"
     ]
    }
   ],
   "source": [
    "print(id(ar))"
   ]
  },
  {
   "cell_type": "code",
   "execution_count": 9,
   "id": "ec4ee5a0-e7f5-41eb-bb3c-575343b871e6",
   "metadata": {},
   "outputs": [
    {
     "data": {
      "text/plain": [
       "(10,)"
      ]
     },
     "execution_count": 9,
     "metadata": {},
     "output_type": "execute_result"
    }
   ],
   "source": [
    "ar.shape"
   ]
  },
  {
   "cell_type": "code",
   "execution_count": 10,
   "id": "72011e3d-6160-487e-99aa-8415544882e0",
   "metadata": {},
   "outputs": [
    {
     "data": {
      "text/plain": [
       "numpy.ndarray"
      ]
     },
     "execution_count": 10,
     "metadata": {},
     "output_type": "execute_result"
    }
   ],
   "source": [
    "type(ar)"
   ]
  },
  {
   "cell_type": "markdown",
   "id": "37e39c63-086d-46e9-b000-c16b7d89cd15",
   "metadata": {},
   "source": [
    "### 넘파이와 리스트의 차이  \n",
    "1. 리스트  \n",
    "  요소의 종류에 관계없이, 개수에 제한없이 삽입, 삭제 수정이 가능  \n",
    "2. 넘파이  \n",
    "  메모리에서 연속적인 배치를 이룸, 모든 요소가 같은 자료형이어야하고 개수가 명확해야함.  \n",
    "  접근이 간단하고, 요소에 대한 루프(반복문)를 효과적으로 수행할 수 있음."
   ]
  },
  {
   "cell_type": "code",
   "execution_count": 11,
   "id": "1cb183b6-9b39-421c-b105-d1ad88b440c1",
   "metadata": {},
   "outputs": [
    {
     "data": {
      "text/plain": [
       "array([ 0.1,  5. ,  4. , 12. ,  0.5])"
      ]
     },
     "execution_count": 11,
     "metadata": {},
     "output_type": "execute_result"
    }
   ],
   "source": [
    "ar2 = np.array([0.1, 5 ,4, 12, 0.5])\n",
    "ar2"
   ]
  },
  {
   "cell_type": "markdown",
   "id": "0af516e4-6a9e-437e-b040-4f3a040b6106",
   "metadata": {},
   "source": [
    "ar2를 보면 정수와 실수가 섞여있는 경우 표현 범위가 더 큰 자료형으로 변환한 것을 알 수 있음."
   ]
  },
  {
   "cell_type": "code",
   "execution_count": 12,
   "id": "f9237118-8a5e-455b-83ce-b9ba82656abf",
   "metadata": {},
   "outputs": [
    {
     "data": {
      "text/plain": [
       "dtype('int32')"
      ]
     },
     "execution_count": 12,
     "metadata": {},
     "output_type": "execute_result"
    }
   ],
   "source": [
    "x = np.array([1,2,3])\n",
    "x.dtype"
   ]
  },
  {
   "cell_type": "markdown",
   "id": "9e1ca1e1-2853-47bd-a6b7-1cb09e61223a",
   "metadata": {},
   "source": [
    "np.array() 함수로 넘파이 배열을 만들때 자료형을 확인하려면 키워드인자로 dtype을 이용"
   ]
  },
  {
   "cell_type": "code",
   "execution_count": 13,
   "id": "c11ba438-1097-48d2-80fb-1cdf633abb16",
   "metadata": {},
   "outputs": [
    {
     "data": {
      "text/plain": [
       "dtype('int32')"
      ]
     },
     "execution_count": 13,
     "metadata": {},
     "output_type": "execute_result"
    }
   ],
   "source": [
    "ar.dtype"
   ]
  },
  {
   "cell_type": "code",
   "execution_count": 14,
   "id": "0b90bfdb-de59-4bf5-b77b-edeb2551ce59",
   "metadata": {},
   "outputs": [
    {
     "data": {
      "text/plain": [
       "dtype('float64')"
      ]
     },
     "execution_count": 14,
     "metadata": {},
     "output_type": "execute_result"
    }
   ],
   "source": [
    "ar2.dtype"
   ]
  },
  {
   "cell_type": "markdown",
   "id": "91af9544-d9eb-4de2-8aed-108010358008",
   "metadata": {},
   "source": [
    "01010101 -> 8bits == 1byte  \n",
    "int32 에서 32는 bit의 크기"
   ]
  },
  {
   "cell_type": "markdown",
   "id": "67be3b49-ac57-40be-a38c-375f58583b8d",
   "metadata": {},
   "source": [
    "### 넘파이의 자료형  \n",
    "'?' = boolean  | b(True,False)\n",
    "'b' = (signed) byte  | i8(64비트)  \n",
    "'B' = unsigned byte  | u8(64비트)  \n",
    "'i' = (signed) int  | i8(64비트)  \n",
    "'u' = unsigned int  | u8(64비트)  \n",
    "'f' = float  | f8(64비트)  \n",
    "'c' = complex  | c16(128비트)  \n",
    "'O' = Object | 객체에 대한 포인터  \n",
    "'U' = Unicode string"
   ]
  },
  {
   "cell_type": "code",
   "execution_count": 17,
   "id": "cd289935-d3a2-4cef-b33f-e670aa49e6e8",
   "metadata": {},
   "outputs": [],
   "source": [
    "ar3 = np.array([_ for _ in range(3, 10, 3)], 'i8') # int8*8bit"
   ]
  },
  {
   "cell_type": "code",
   "execution_count": 20,
   "id": "c2f510e4-c137-49ff-a96a-a3c464bea82b",
   "metadata": {},
   "outputs": [
    {
     "name": "stdout",
     "output_type": "stream",
     "text": [
      "[3 6 9]\n",
      "int64\n"
     ]
    }
   ],
   "source": [
    "print(ar3)\n",
    "print(ar3.dtype)"
   ]
  },
  {
   "cell_type": "code",
   "execution_count": 21,
   "id": "f762b606-4b7c-4e8e-9211-4a60754ffae1",
   "metadata": {},
   "outputs": [],
   "source": [
    "ar4 = np.array([_ for _ in range(2, 10, 2)], 'f8')\n"
   ]
  },
  {
   "cell_type": "code",
   "execution_count": 22,
   "id": "725b7f9f-6506-42b5-91dd-d754131dd950",
   "metadata": {},
   "outputs": [
    {
     "name": "stdout",
     "output_type": "stream",
     "text": [
      "[2. 4. 6. 8.]\n",
      "float64\n"
     ]
    }
   ],
   "source": [
    "print(ar4)\n",
    "print(ar4.dtype)"
   ]
  },
  {
   "cell_type": "code",
   "execution_count": 23,
   "id": "1714eccb-586f-4dd9-9ad1-8b51511d4117",
   "metadata": {},
   "outputs": [
    {
     "name": "stdout",
     "output_type": "stream",
     "text": [
      "['가나다라마' '가나다라마' '가나다라마' '가나다라마' '가나다라마']\n",
      "<U5\n"
     ]
    }
   ],
   "source": [
    "ar5 = np.array([\"가나다라마\" for _ in range(5)], 'U5')\n",
    "print(ar5)\n",
    "print(ar5.dtype)"
   ]
  },
  {
   "cell_type": "code",
   "execution_count": 25,
   "id": "864d2842-3e33-4641-b650-50d11825fe08",
   "metadata": {},
   "outputs": [
    {
     "name": "stdout",
     "output_type": "stream",
     "text": [
      "['가나' '바' '사아' '차카']\n",
      "<U2\n"
     ]
    }
   ],
   "source": [
    "ar6 = np.array([\"가나다라마\", \"바\", \"사아자\", \"차카\"], 'U2')\n",
    "print(ar6)\n",
    "print(ar6.dtype)"
   ]
  },
  {
   "cell_type": "code",
   "execution_count": 26,
   "id": "caad35a7-e65e-4f0e-a3a4-b9cf9fa6c20e",
   "metadata": {},
   "outputs": [],
   "source": [
    "# U8 은 최대 8글자의 유니코드 자료형을 의미 // U2 로 했을 시 2글자만 출력이됨을 확인할 수 있음"
   ]
  },
  {
   "cell_type": "markdown",
   "id": "17faeab9-b8ff-4e77-a594-0720af975dfb",
   "metadata": {},
   "source": [
    "### 넘파이의 자료형  "
   ]
  },
  {
   "cell_type": "code",
   "execution_count": 27,
   "id": "30666146-e9d9-4eaa-85a7-ac393ba3399d",
   "metadata": {},
   "outputs": [
    {
     "data": {
      "text/plain": [
       "dtype('float32')"
      ]
     },
     "execution_count": 27,
     "metadata": {},
     "output_type": "execute_result"
    }
   ],
   "source": [
    "x = np.array([1,2,3], dtype = 'f')\n",
    "x.dtype"
   ]
  },
  {
   "cell_type": "code",
   "execution_count": 28,
   "id": "765f5277-9d1b-4cec-a4c5-ddb0817bf79d",
   "metadata": {},
   "outputs": [
    {
     "data": {
      "text/plain": [
       "3.0"
      ]
     },
     "execution_count": 28,
     "metadata": {},
     "output_type": "execute_result"
    }
   ],
   "source": [
    "x[0] + x[1]"
   ]
  },
  {
   "cell_type": "code",
   "execution_count": 29,
   "id": "f726180a-a6ee-463f-bdaf-83d704e69c12",
   "metadata": {},
   "outputs": [
    {
     "data": {
      "text/plain": [
       "dtype('<U1')"
      ]
     },
     "execution_count": 29,
     "metadata": {},
     "output_type": "execute_result"
    }
   ],
   "source": [
    "y = np.array([1,2,3], dtype='U')\n",
    "y.dtype"
   ]
  },
  {
   "cell_type": "code",
   "execution_count": 30,
   "id": "8c4bfd9d-34d9-4571-b792-19bcb0e8ce19",
   "metadata": {},
   "outputs": [
    {
     "data": {
      "text/plain": [
       "'12'"
      ]
     },
     "execution_count": 30,
     "metadata": {},
     "output_type": "execute_result"
    }
   ],
   "source": [
    "y[0] + y[1]"
   ]
  },
  {
   "cell_type": "markdown",
   "id": "8ce7f9d5-dc01-416b-adf7-16dd3653bd16",
   "metadata": {},
   "source": [
    "숫자형태의 자료는 수연산으로 처리됨을 확인할 수 있음  \n",
    "문자열자료는 concatenate가 됨을 알 수 있음"
   ]
  },
  {
   "cell_type": "markdown",
   "id": "af2bdb16-0eb8-4414-aa29-4e7062a0855f",
   "metadata": {},
   "source": [
    "### 무한대를 표현하기 위해 np.inf(infinity)와 정의할 수 없는 숫자 np.nan(not a number)로 사용할 수 있음\n",
    "  \n",
    "  1을 0 으로 나누거나 0에대한 로그값은 무한대인 np.inf가 나타남.  \n",
    "  0을 0으로 나누려하면 np.nan이 나타남."
   ]
  },
  {
   "cell_type": "code",
   "execution_count": 32,
   "id": "9861c23e-16d4-40af-b5c3-d8b650fbb5e0",
   "metadata": {},
   "outputs": [
    {
     "name": "stderr",
     "output_type": "stream",
     "text": [
      "C:\\Users\\Playdata\\AppData\\Local\\Temp\\ipykernel_4540\\1032392073.py:1: RuntimeWarning: divide by zero encountered in true_divide\n",
      "  np.array([0,1,-1,0]) / np.array([1,0,0,0])\n",
      "C:\\Users\\Playdata\\AppData\\Local\\Temp\\ipykernel_4540\\1032392073.py:1: RuntimeWarning: invalid value encountered in true_divide\n",
      "  np.array([0,1,-1,0]) / np.array([1,0,0,0])\n"
     ]
    },
    {
     "data": {
      "text/plain": [
       "array([  0.,  inf, -inf,  nan])"
      ]
     },
     "execution_count": 32,
     "metadata": {},
     "output_type": "execute_result"
    }
   ],
   "source": [
    "np.array([0,1,-1,0]) / np.array([1,0,0,0])"
   ]
  },
  {
   "cell_type": "code",
   "execution_count": 33,
   "id": "bc41a24a-8304-47d1-b8b0-07909f77f6f6",
   "metadata": {},
   "outputs": [
    {
     "name": "stderr",
     "output_type": "stream",
     "text": [
      "C:\\Users\\Playdata\\AppData\\Local\\Temp\\ipykernel_4540\\2933082444.py:1: RuntimeWarning: divide by zero encountered in log\n",
      "  np.log(0)\n"
     ]
    },
    {
     "data": {
      "text/plain": [
       "-inf"
      ]
     },
     "execution_count": 33,
     "metadata": {},
     "output_type": "execute_result"
    }
   ],
   "source": [
    "np.log(0)"
   ]
  },
  {
   "cell_type": "markdown",
   "id": "4c5eee76-6efb-43d6-a3cd-d732c0c38e3f",
   "metadata": {},
   "source": [
    "np.exp(-np.inf)"
   ]
  },
  {
   "cell_type": "markdown",
   "id": "8ac28522-82e2-4c19-9440-a10f863ae54a",
   "metadata": {},
   "source": [
    "## 벡터화 연산(Vectorized Operation)    \n",
    "넘파이 배열 객체는 배열의 각 요소에 대한 반복 연산을 하나의 명령어로 처리하는 벡터화 연산을 지원."
   ]
  },
  {
   "cell_type": "code",
   "execution_count": 35,
   "id": "dc3e26e9-58b9-4f8e-868d-602cf512d0de",
   "metadata": {},
   "outputs": [
    {
     "data": {
      "text/plain": [
       "[0, 2, 4, 6, 8, 10, 12, 14, 16, 18]"
      ]
     },
     "execution_count": 35,
     "metadata": {},
     "output_type": "execute_result"
    }
   ],
   "source": [
    "data = [0,1,2,3,4,5,6,7,8,9]\n",
    "answer = [2 * d for d in data]\n",
    "answer"
   ]
  },
  {
   "cell_type": "markdown",
   "id": "3a2af4e2-b0f3-4b50-aba1-093363ed6d2b",
   "metadata": {},
   "source": [
    "위는 리스트의 예시."
   ]
  },
  {
   "cell_type": "markdown",
   "id": "190f76e0-f7ae-4e63-939f-2f1f0cde4b03",
   "metadata": {},
   "source": [
    "넘파이 배열 객체는 벡터화 연산을 사용하여 for 반복문이 없이 간단하게 단 한번의 연산식으로 표현할 수 있음.  \n",
    "계산 속도 또한 리스트 객체에 반복문을 사용해서 처리하는 것보다 훨씬 빠름."
   ]
  },
  {
   "cell_type": "code",
   "execution_count": 36,
   "id": "3f850f0f-0e88-435d-8df5-495d18b38eec",
   "metadata": {},
   "outputs": [
    {
     "data": {
      "text/plain": [
       "array([0, 1, 2, 3, 4, 5, 6, 7, 8, 9])"
      ]
     },
     "execution_count": 36,
     "metadata": {},
     "output_type": "execute_result"
    }
   ],
   "source": [
    "x = np.array(data)\n",
    "x"
   ]
  },
  {
   "cell_type": "code",
   "execution_count": 37,
   "id": "de2171d8-d7f3-415e-95aa-ed60366afc26",
   "metadata": {},
   "outputs": [
    {
     "data": {
      "text/plain": [
       "array([ 0,  2,  4,  6,  8, 10, 12, 14, 16, 18])"
      ]
     },
     "execution_count": 37,
     "metadata": {},
     "output_type": "execute_result"
    }
   ],
   "source": [
    "2 * x"
   ]
  },
  {
   "cell_type": "code",
   "execution_count": 38,
   "id": "49439265-2be7-4507-b9f7-bd2f6d72b4ed",
   "metadata": {},
   "outputs": [
    {
     "name": "stdout",
     "output_type": "stream",
     "text": [
      "[0, 1, 2, 0, 1, 2, 0, 1, 2, 0, 1, 2, 0, 1, 2]\n"
     ]
    }
   ],
   "source": [
    "list_samp = [_ for _ in range(3)]\n",
    "print(list_samp *5)"
   ]
  },
  {
   "cell_type": "markdown",
   "id": "8f550d1f-53c5-4ed7-98eb-6a9e1bc94165",
   "metadata": {},
   "source": [
    "리스트에선 정수를 곱하면 객체의 크기가 곱한 수만큼 반복 증가함.  \n",
    "넘파이 객체는 벡터화 연산이 이루어짐을 기억해야함"
   ]
  },
  {
   "cell_type": "code",
   "execution_count": 39,
   "id": "c4c10306-1a3f-466a-aa3a-fa5c96ad4f77",
   "metadata": {},
   "outputs": [
    {
     "data": {
      "text/plain": [
       "array([12, 24, 36])"
      ]
     },
     "execution_count": 39,
     "metadata": {},
     "output_type": "execute_result"
    }
   ],
   "source": [
    "a = np.array([1,2,3])\n",
    "b = np.array([10,20,30])\n",
    "2 * a + b"
   ]
  },
  {
   "cell_type": "code",
   "execution_count": 40,
   "id": "8ae6afe7-9aef-43e1-abab-8504e805c680",
   "metadata": {},
   "outputs": [
    {
     "data": {
      "text/plain": [
       "array([False,  True, False])"
      ]
     },
     "execution_count": 40,
     "metadata": {},
     "output_type": "execute_result"
    }
   ],
   "source": [
    "a == 2"
   ]
  },
  {
   "cell_type": "code",
   "execution_count": 41,
   "id": "87b18218-a1a8-4ab6-9631-6b9db91d7290",
   "metadata": {},
   "outputs": [
    {
     "data": {
      "text/plain": [
       "array([False,  True,  True])"
      ]
     },
     "execution_count": 41,
     "metadata": {},
     "output_type": "execute_result"
    }
   ],
   "source": [
    "b > 10"
   ]
  },
  {
   "cell_type": "code",
   "execution_count": 42,
   "id": "3bf4a4e9-dc26-41d6-b3e6-c6583a5cb5cd",
   "metadata": {},
   "outputs": [
    {
     "data": {
      "text/plain": [
       "array([False,  True, False])"
      ]
     },
     "execution_count": 42,
     "metadata": {},
     "output_type": "execute_result"
    }
   ],
   "source": [
    "(a ==2) & (b>10)"
   ]
  },
  {
   "cell_type": "markdown",
   "id": "95409369-bb1e-41c3-994a-7d8f14cc8728",
   "metadata": {},
   "source": [
    "## 2차원 배열 만들기  \n",
    "2차원 배열은 행렬(matrix)라함.  \n",
    "행렬에서는 가로줄을 행(row)이라하고 세로줄을 열(column)이라함"
   ]
  },
  {
   "cell_type": "markdown",
   "id": "6f2ae378-dba7-4062-ae30-dac3c0704d8f",
   "metadata": {},
   "source": [
    "### 2차원 배열 만들기  \n",
    "리스트를 중첩하여 리스트의 리스트를 이용하여 2차원 배열처럼 생성가능.  \n",
    "안쪽 리스트의 길이는 행렬의 열의 수 즉 가로크기가 되고  \n",
    "바깥 리스트의 길이는 행렬의 행의 수 즉 세로크기가 됨."
   ]
  },
  {
   "cell_type": "code",
   "execution_count": 43,
   "id": "85d3c393-82bb-41db-9601-93414d0fd3f2",
   "metadata": {},
   "outputs": [
    {
     "name": "stdout",
     "output_type": "stream",
     "text": [
      "[[0 1 2]\n",
      " [3 4 5]]\n"
     ]
    }
   ],
   "source": [
    "c = np.array([[0,1,2],[3,4,5]])\n",
    "print(c)"
   ]
  },
  {
   "cell_type": "code",
   "execution_count": 44,
   "id": "37eb6820-6861-4270-bc88-6eb8c4cbf043",
   "metadata": {},
   "outputs": [
    {
     "data": {
      "text/plain": [
       "(2, 3)"
      ]
     },
     "execution_count": 44,
     "metadata": {},
     "output_type": "execute_result"
    }
   ],
   "source": [
    "c.shape"
   ]
  },
  {
   "cell_type": "code",
   "execution_count": 45,
   "id": "dfde8ef5-497a-4a36-96a7-a32bfafe5985",
   "metadata": {},
   "outputs": [
    {
     "name": "stdout",
     "output_type": "stream",
     "text": [
      "[[2 4 6 8]\n",
      " [2 4 6 8]]\n"
     ]
    },
    {
     "data": {
      "text/plain": [
       "(2, 4)"
      ]
     },
     "execution_count": 45,
     "metadata": {},
     "output_type": "execute_result"
    }
   ],
   "source": [
    "d= np.array([[_ for _ in range(2, 10, 2)], [_ *2 for _ in range(1,5)]])\n",
    "print(d)\n",
    "d.shape"
   ]
  },
  {
   "cell_type": "code",
   "execution_count": 46,
   "id": "9b1e9191-9fd8-418e-8a9a-9c1fae006cf0",
   "metadata": {},
   "outputs": [
    {
     "name": "stdout",
     "output_type": "stream",
     "text": [
      "[[10 20 30 40]\n",
      " [50 60 70 80]]\n"
     ]
    }
   ],
   "source": [
    "example = np.array([[_*10 for _ in range(1,5)],[_*10 for _ in range(5,9)]])\n",
    "print(example)"
   ]
  },
  {
   "cell_type": "markdown",
   "id": "62f0b690-9ce5-4149-bcce-2bacc675203f",
   "metadata": {},
   "source": [
    "## 3차원 배열 만들기  \n",
    "3차원 배열의 구조는 '깊이 X 행 X 열' 모양임  \n",
    "axis0 = 깊이  \n",
    "axis1 = 행  \n",
    "axis2 = 열"
   ]
  },
  {
   "cell_type": "markdown",
   "id": "d5df7d6b-c68d-4452-859c-54a321c229d7",
   "metadata": {},
   "source": [
    "리스트의 중첩으로 만들면됨.  \n",
    "크기를 나타낼때 가장 바깥쪽 리스트의 길이부터 가장 안쪽 리스트의 길이의 순서로 표시"
   ]
  },
  {
   "cell_type": "code",
   "execution_count": 49,
   "id": "5651b813-55e2-4b02-8972-c5fcf5a6b419",
   "metadata": {},
   "outputs": [
    {
     "name": "stdout",
     "output_type": "stream",
     "text": [
      "[[[ 1  2  3  4]\n",
      "  [ 5  6  7  8]\n",
      "  [ 9 10 11 12]]\n",
      "\n",
      " [[11 12 13 14]\n",
      "  [15 16 17 18]\n",
      "  [19 20 21 22]]]\n",
      "(2, 3, 4)\n"
     ]
    }
   ],
   "source": [
    "# 2 X 3 X 4\n",
    "e = np.array([[[1,2,3,4],[5,6,7,8],[9,10,11,12]],\n",
    "              [[11,12,13,14],[15,16,17,18],[19,20,21,22]]])\n",
    "print(e)\n",
    "print(e.shape)"
   ]
  },
  {
   "cell_type": "markdown",
   "id": "ee13dc66-48c4-4a26-8841-6177b180db3c",
   "metadata": {},
   "source": [
    "### 배열의 차원과 크기 알아내기  \n",
    "ndim 과 shape 이용  \n",
    "ndim 은 배열의 차원, shape 는 배열의 크기를 반환"
   ]
  },
  {
   "cell_type": "code",
   "execution_count": 50,
   "id": "180023d9-0a8f-410e-8eae-8f643ed91fa5",
   "metadata": {},
   "outputs": [
    {
     "name": "stdout",
     "output_type": "stream",
     "text": [
      "1\n",
      "(3,)\n"
     ]
    }
   ],
   "source": [
    "print(a.ndim)\n",
    "print(a.shape)"
   ]
  },
  {
   "cell_type": "code",
   "execution_count": 51,
   "id": "dfe25d65-fd55-4174-8d8a-773fd360efeb",
   "metadata": {},
   "outputs": [
    {
     "name": "stdout",
     "output_type": "stream",
     "text": [
      "2\n",
      "(2, 3)\n"
     ]
    }
   ],
   "source": [
    "print(c.ndim)\n",
    "print(c.shape)"
   ]
  },
  {
   "cell_type": "code",
   "execution_count": 52,
   "id": "e33c18a7-caa4-4c5c-94ee-9241e94f5e2e",
   "metadata": {},
   "outputs": [
    {
     "name": "stdout",
     "output_type": "stream",
     "text": [
      "3\n",
      "(2, 3, 4)\n"
     ]
    }
   ],
   "source": [
    "print(e.ndim)\n",
    "print(e.shape)"
   ]
  },
  {
   "cell_type": "code",
   "execution_count": 53,
   "id": "7cd86c79-eb46-4f9c-935f-e7e2245b6508",
   "metadata": {},
   "outputs": [
    {
     "data": {
      "text/plain": [
       "array([0, 1, 2, 3, 4])"
      ]
     },
     "execution_count": 53,
     "metadata": {},
     "output_type": "execute_result"
    }
   ],
   "source": [
    "a = np.array([_ for _ in range(0,5)])\n",
    "a"
   ]
  },
  {
   "cell_type": "code",
   "execution_count": 54,
   "id": "cdbd1cfe-bb57-49b2-a95e-23d0b7433bc9",
   "metadata": {},
   "outputs": [
    {
     "data": {
      "text/plain": [
       "2"
      ]
     },
     "execution_count": 54,
     "metadata": {},
     "output_type": "execute_result"
    }
   ],
   "source": [
    "a[2]"
   ]
  },
  {
   "cell_type": "code",
   "execution_count": 55,
   "id": "c3845154-a2a1-416b-ab5c-381d72dfe785",
   "metadata": {},
   "outputs": [
    {
     "data": {
      "text/plain": [
       "4"
      ]
     },
     "execution_count": 55,
     "metadata": {},
     "output_type": "execute_result"
    }
   ],
   "source": [
    "a[-1]"
   ]
  },
  {
   "cell_type": "code",
   "execution_count": 56,
   "id": "ef470e19-80c0-4294-a182-37a3011297ff",
   "metadata": {},
   "outputs": [
    {
     "data": {
      "text/plain": [
       "[1, 2]"
      ]
     },
     "execution_count": 56,
     "metadata": {},
     "output_type": "execute_result"
    }
   ],
   "source": [
    "list_sample = [[1,2],[3,4]]\n",
    "list_sample[0]"
   ]
  },
  {
   "cell_type": "code",
   "execution_count": 57,
   "id": "2a09810e-0fcf-428b-bb4f-61888ea864b5",
   "metadata": {},
   "outputs": [
    {
     "ename": "TypeError",
     "evalue": "list indices must be integers or slices, not tuple",
     "output_type": "error",
     "traceback": [
      "\u001b[1;31m---------------------------------------------------------------------------\u001b[0m",
      "\u001b[1;31mTypeError\u001b[0m                                 Traceback (most recent call last)",
      "\u001b[1;32m~\\AppData\\Local\\Temp\\ipykernel_4540\\2499611017.py\u001b[0m in \u001b[0;36m<module>\u001b[1;34m\u001b[0m\n\u001b[1;32m----> 1\u001b[1;33m \u001b[0mlist_sample\u001b[0m\u001b[1;33m[\u001b[0m\u001b[1;36m0\u001b[0m\u001b[1;33m,\u001b[0m\u001b[1;36m0\u001b[0m\u001b[1;33m]\u001b[0m\u001b[1;33m\u001b[0m\u001b[1;33m\u001b[0m\u001b[0m\n\u001b[0m",
      "\u001b[1;31mTypeError\u001b[0m: list indices must be integers or slices, not tuple"
     ]
    }
   ],
   "source": [
    "list_sample[0,0]"
   ]
  },
  {
   "cell_type": "code",
   "execution_count": 58,
   "id": "5b442156-8677-4f3e-9021-1e572d2fb4fd",
   "metadata": {},
   "outputs": [
    {
     "data": {
      "text/plain": [
       "1"
      ]
     },
     "execution_count": 58,
     "metadata": {},
     "output_type": "execute_result"
    }
   ],
   "source": [
    "list_sample[0][0]"
   ]
  },
  {
   "cell_type": "code",
   "execution_count": 59,
   "id": "fbd8e5f5-f948-4d0d-b1c1-07a8cbc798ea",
   "metadata": {},
   "outputs": [
    {
     "data": {
      "text/plain": [
       "array([[0, 1, 2],\n",
       "       [3, 4, 5]])"
      ]
     },
     "execution_count": 59,
     "metadata": {},
     "output_type": "execute_result"
    }
   ],
   "source": [
    "a = np.array([[0,1,2],[3,4,5]])\n",
    "a"
   ]
  },
  {
   "cell_type": "code",
   "execution_count": 60,
   "id": "6cda0255-4b0a-4abb-ae0e-4617f04c0446",
   "metadata": {},
   "outputs": [
    {
     "data": {
      "text/plain": [
       "array([0, 1, 2])"
      ]
     },
     "execution_count": 60,
     "metadata": {},
     "output_type": "execute_result"
    }
   ],
   "source": [
    "a[0]"
   ]
  },
  {
   "cell_type": "code",
   "execution_count": 61,
   "id": "6a1b04c4-6e5c-46ee-813f-47ff4dd657a6",
   "metadata": {},
   "outputs": [
    {
     "data": {
      "text/plain": [
       "0"
      ]
     },
     "execution_count": 61,
     "metadata": {},
     "output_type": "execute_result"
    }
   ],
   "source": [
    "a[0,0]"
   ]
  },
  {
   "cell_type": "code",
   "execution_count": 62,
   "id": "3f1745a1-3af3-4d63-9e30-1c9d3d46107d",
   "metadata": {},
   "outputs": [
    {
     "data": {
      "text/plain": [
       "1"
      ]
     },
     "execution_count": 62,
     "metadata": {},
     "output_type": "execute_result"
    }
   ],
   "source": [
    "a[0,1]"
   ]
  },
  {
   "cell_type": "code",
   "execution_count": 63,
   "id": "80133000-58e0-4abf-9454-07560ae1adfa",
   "metadata": {},
   "outputs": [
    {
     "data": {
      "text/plain": [
       "5"
      ]
     },
     "execution_count": 63,
     "metadata": {},
     "output_type": "execute_result"
    }
   ],
   "source": [
    "a[-1,-1]"
   ]
  },
  {
   "cell_type": "code",
   "execution_count": 64,
   "id": "f7846b64-f25d-48af-9382-b68a98ea2180",
   "metadata": {},
   "outputs": [
    {
     "data": {
      "text/plain": [
       "array([[0, 1, 2, 3],\n",
       "       [4, 5, 6, 7]])"
      ]
     },
     "execution_count": 64,
     "metadata": {},
     "output_type": "execute_result"
    }
   ],
   "source": [
    "a = np.array([[0,1,2,3],[4,5,6,7]])\n",
    "a"
   ]
  },
  {
   "cell_type": "code",
   "execution_count": 65,
   "id": "2ac24310-0c5e-4c56-abd2-cdcf90d2ac8f",
   "metadata": {},
   "outputs": [
    {
     "data": {
      "text/plain": [
       "array([[0, 1],\n",
       "       [4, 5]])"
      ]
     },
     "execution_count": 65,
     "metadata": {},
     "output_type": "execute_result"
    }
   ],
   "source": [
    "a[:2,:2]"
   ]
  },
  {
   "cell_type": "code",
   "execution_count": 68,
   "id": "467e637d-62ef-4cf2-b964-8680539a908d",
   "metadata": {},
   "outputs": [
    {
     "data": {
      "text/plain": [
       "array([0, 1, 2, 3])"
      ]
     },
     "execution_count": 68,
     "metadata": {},
     "output_type": "execute_result"
    }
   ],
   "source": [
    "a[0, :] # 첫번째 행 전체"
   ]
  },
  {
   "cell_type": "code",
   "execution_count": 69,
   "id": "e3408f45-ae7b-465e-ada5-5109ebb62795",
   "metadata": {},
   "outputs": [
    {
     "data": {
      "text/plain": [
       "array([1, 5])"
      ]
     },
     "execution_count": 69,
     "metadata": {},
     "output_type": "execute_result"
    }
   ],
   "source": [
    "a[:,1] #두번째 열 전체"
   ]
  },
  {
   "cell_type": "markdown",
   "id": "dde327de-c18e-44cf-9aad-30701c69658c",
   "metadata": {},
   "source": [
    "### reshape 사용하기"
   ]
  },
  {
   "cell_type": "code",
   "execution_count": 70,
   "id": "055e2a52-53ac-4e86-9620-0caec06670cf",
   "metadata": {},
   "outputs": [
    {
     "data": {
      "text/plain": [
       "array([[0, 1, 2, 3],\n",
       "       [4, 5, 6, 7]])"
      ]
     },
     "execution_count": 70,
     "metadata": {},
     "output_type": "execute_result"
    }
   ],
   "source": [
    "np.array([_ for _ in range(8)]).reshape(2,4)"
   ]
  },
  {
   "cell_type": "code",
   "execution_count": 72,
   "id": "08de116e-7d81-497f-a711-243c21332a29",
   "metadata": {},
   "outputs": [],
   "source": [
    "m = np.array([_ for _ in range(15)]).reshape(3,5)"
   ]
  },
  {
   "cell_type": "code",
   "execution_count": 73,
   "id": "eed7fb58-7738-4bf1-8194-5a14aa977f66",
   "metadata": {},
   "outputs": [
    {
     "data": {
      "text/plain": [
       "array([[ 0,  1,  2,  3,  4],\n",
       "       [ 5,  6,  7,  8,  9],\n",
       "       [10, 11, 12, 13, 14]])"
      ]
     },
     "execution_count": 73,
     "metadata": {},
     "output_type": "execute_result"
    }
   ],
   "source": [
    "m"
   ]
  },
  {
   "cell_type": "code",
   "execution_count": 88,
   "id": "b2e4d2d0-563f-4606-8419-2bdfab87c278",
   "metadata": {},
   "outputs": [
    {
     "name": "stdout",
     "output_type": "stream",
     "text": [
      "7\n",
      "14\n",
      "[6 7]\n",
      "[ 7 12]\n",
      "[[3 4]\n",
      " [8 9]]\n"
     ]
    }
   ],
   "source": [
    "print(m[1,2])\n",
    "print(m[-1,-1])\n",
    "print(m[1, 1:3])\n",
    "print(m[1:3,2])\n",
    "print(m[:2,3:])"
   ]
  },
  {
   "cell_type": "markdown",
   "id": "7a46dcf8-826f-49e8-a813-3ef0bd509216",
   "metadata": {},
   "source": [
    "## 배열 생성  \n",
    "NumPy는 몇가지 단순한 배열을 생성하는 메서드를 제공  \n",
    "1. zeros, ones\n",
    "2. zeros_like, ones_like\n",
    "3. empty\n",
    "4. arange\n",
    "5. linspace, logspace"
   ]
  },
  {
   "cell_type": "markdown",
   "id": "c8b07a95-1e84-4402-93b6-ee493b765514",
   "metadata": {},
   "source": [
    "### zeros"
   ]
  },
  {
   "cell_type": "code",
   "execution_count": 89,
   "id": "3746806e-e2fe-408a-bbfd-9dd89602a59d",
   "metadata": {},
   "outputs": [
    {
     "data": {
      "text/plain": [
       "array([0., 0., 0., 0., 0.])"
      ]
     },
     "execution_count": 89,
     "metadata": {},
     "output_type": "execute_result"
    }
   ],
   "source": [
    "a = np.zeros(5)\n",
    "a"
   ]
  },
  {
   "cell_type": "code",
   "execution_count": 90,
   "id": "0e74c284-fd13-4edf-82da-90ee4b145ab2",
   "metadata": {},
   "outputs": [
    {
     "data": {
      "text/plain": [
       "array([[0, 0],\n",
       "       [0, 0],\n",
       "       [0, 0],\n",
       "       [0, 0],\n",
       "       [0, 0]], dtype=int32)"
      ]
     },
     "execution_count": 90,
     "metadata": {},
     "output_type": "execute_result"
    }
   ],
   "source": [
    "c = np.zeros((5,2), dtype= \"i\")\n",
    "c"
   ]
  },
  {
   "cell_type": "code",
   "execution_count": 91,
   "id": "1ffe0ac0-9d55-484b-ac2e-777327715b59",
   "metadata": {},
   "outputs": [],
   "source": [
    "d = np.zeros(5, dtype='U4')"
   ]
  },
  {
   "cell_type": "code",
   "execution_count": 92,
   "id": "d7a71821-731a-4189-b924-5ecdcea1d943",
   "metadata": {},
   "outputs": [
    {
     "data": {
      "text/plain": [
       "array(['', '', '', '', ''], dtype='<U4')"
      ]
     },
     "execution_count": 92,
     "metadata": {},
     "output_type": "execute_result"
    }
   ],
   "source": [
    "d"
   ]
  },
  {
   "cell_type": "code",
   "execution_count": 93,
   "id": "4c7e2f8e-324d-4e00-9170-592deef51205",
   "metadata": {},
   "outputs": [
    {
     "data": {
      "text/plain": [
       "array(['abc', 'abcd', 'ABCD', '', ''], dtype='<U4')"
      ]
     },
     "execution_count": 93,
     "metadata": {},
     "output_type": "execute_result"
    }
   ],
   "source": [
    "d[0] = \"abc\"\n",
    "d[1] = \"abcd\"\n",
    "d[2] = \"ABCDE\"\n",
    "d"
   ]
  },
  {
   "cell_type": "markdown",
   "id": "14b50cc2-1cf5-4a96-af96-c585e64ce308",
   "metadata": {},
   "source": [
    "### ones"
   ]
  },
  {
   "cell_type": "code",
   "execution_count": 95,
   "id": "2e9df2f2-76cd-4061-b4ee-dbb8451c6cb9",
   "metadata": {},
   "outputs": [
    {
     "data": {
      "text/plain": [
       "array([[[1, 1, 1, 1],\n",
       "        [1, 1, 1, 1],\n",
       "        [1, 1, 1, 1]],\n",
       "\n",
       "       [[1, 1, 1, 1],\n",
       "        [1, 1, 1, 1],\n",
       "        [1, 1, 1, 1]]], dtype=int64)"
      ]
     },
     "execution_count": 95,
     "metadata": {},
     "output_type": "execute_result"
    }
   ],
   "source": [
    "e = np.ones((2,3,4), dtype = \"i8\")\n",
    "e"
   ]
  },
  {
   "cell_type": "markdown",
   "id": "d773dbbf-2e6b-466a-8fbb-eb7d8f225872",
   "metadata": {},
   "source": [
    "### ones_like, zeros_like "
   ]
  },
  {
   "cell_type": "code",
   "execution_count": 97,
   "id": "c772f51b-b6cc-4744-8c7f-8cc72c1a0abf",
   "metadata": {},
   "outputs": [
    {
     "data": {
      "text/plain": [
       "array([[[1., 1., 1., 1.],\n",
       "        [1., 1., 1., 1.],\n",
       "        [1., 1., 1., 1.]],\n",
       "\n",
       "       [[1., 1., 1., 1.],\n",
       "        [1., 1., 1., 1.],\n",
       "        [1., 1., 1., 1.]]], dtype=float32)"
      ]
     },
     "execution_count": 97,
     "metadata": {},
     "output_type": "execute_result"
    }
   ],
   "source": [
    "f = np.ones_like (e, dtype=\"f\")\n",
    "f"
   ]
  },
  {
   "cell_type": "code",
   "execution_count": 98,
   "id": "ab14e0e1-6570-4a1a-827a-8d797038264f",
   "metadata": {},
   "outputs": [
    {
     "data": {
      "text/plain": [
       "array([[0.0078125, 0.0078125, 0.0078125],\n",
       "       [0.0078125, 0.0078125, 0.0078125],\n",
       "       [0.0078125, 0.0078125, 0.0078125],\n",
       "       [0.0078125, 0.0078125, 0.0078125]])"
      ]
     },
     "execution_count": 98,
     "metadata": {},
     "output_type": "execute_result"
    }
   ],
   "source": [
    "g = np.empty((4,3))\n",
    "g"
   ]
  },
  {
   "cell_type": "markdown",
   "id": "1287a60f-5bdc-4cbc-9eb0-ef29dd95a642",
   "metadata": {},
   "source": [
    "### 배열생성시 empty 사용하면 빠르게 만들수있음."
   ]
  },
  {
   "cell_type": "markdown",
   "id": "e0792236-20f3-4224-9542-666d3240e96d",
   "metadata": {},
   "source": [
    "### arange 사용  \n",
    "arange는 NumPy 버전의 range 명령이라 볼수있음."
   ]
  },
  {
   "cell_type": "code",
   "execution_count": 99,
   "id": "0ad6e5df-78b7-4f22-b024-4bacbf9fa5b7",
   "metadata": {},
   "outputs": [
    {
     "data": {
      "text/plain": [
       "array([0, 1, 2, 3, 4, 5, 6, 7, 8, 9])"
      ]
     },
     "execution_count": 99,
     "metadata": {},
     "output_type": "execute_result"
    }
   ],
   "source": [
    "np.arange(10)"
   ]
  },
  {
   "cell_type": "code",
   "execution_count": 100,
   "id": "cecf4299-dd71-4428-87fe-944a28e5277d",
   "metadata": {},
   "outputs": [
    {
     "data": {
      "text/plain": [
       "array([ 3,  5,  7,  9, 11, 13, 15, 17, 19])"
      ]
     },
     "execution_count": 100,
     "metadata": {},
     "output_type": "execute_result"
    }
   ],
   "source": [
    "np.arange(3,21,2)"
   ]
  },
  {
   "cell_type": "markdown",
   "id": "3858dda7-0e3c-4abf-b151-efdb883db3a4",
   "metadata": {},
   "source": [
    "### linspace & logspace  \n",
    "선형구간 또는 로그구간을 지정한 구간의 수만큼 분할"
   ]
  },
  {
   "cell_type": "code",
   "execution_count": 101,
   "id": "d10b480e-d3cd-44cd-8986-a16307deefb0",
   "metadata": {},
   "outputs": [
    {
     "data": {
      "text/plain": [
       "array([  0.,  25.,  50.,  75., 100.])"
      ]
     },
     "execution_count": 101,
     "metadata": {},
     "output_type": "execute_result"
    }
   ],
   "source": [
    "np.linspace(0,100,5)"
   ]
  },
  {
   "cell_type": "code",
   "execution_count": 102,
   "id": "e005288b-7b2e-49fb-9f85-f9ab93967769",
   "metadata": {},
   "outputs": [
    {
     "data": {
      "text/plain": [
       "array([1.e+000, 1.e+025, 1.e+050, 1.e+075, 1.e+100])"
      ]
     },
     "execution_count": 102,
     "metadata": {},
     "output_type": "execute_result"
    }
   ],
   "source": [
    "np.logspace(0,100,5)"
   ]
  },
  {
   "cell_type": "code",
   "execution_count": 103,
   "id": "b6040574-a9ea-447e-8a56-890f7b05cddb",
   "metadata": {},
   "outputs": [
    {
     "ename": "ValueError",
     "evalue": "cannot reshape array of size 13 into shape (3,4)",
     "output_type": "error",
     "traceback": [
      "\u001b[1;31m---------------------------------------------------------------------------\u001b[0m",
      "\u001b[1;31mValueError\u001b[0m                                Traceback (most recent call last)",
      "\u001b[1;32m~\\AppData\\Local\\Temp\\ipykernel_4540\\3026569987.py\u001b[0m in \u001b[0;36m<module>\u001b[1;34m\u001b[0m\n\u001b[0;32m      1\u001b[0m \u001b[0mex3\u001b[0m \u001b[1;33m=\u001b[0m \u001b[0mnp\u001b[0m\u001b[1;33m.\u001b[0m\u001b[0marange\u001b[0m\u001b[1;33m(\u001b[0m\u001b[1;36m13\u001b[0m\u001b[1;33m)\u001b[0m\u001b[1;33m\u001b[0m\u001b[1;33m\u001b[0m\u001b[0m\n\u001b[1;32m----> 2\u001b[1;33m \u001b[0mex3\u001b[0m\u001b[1;33m.\u001b[0m\u001b[0mreshape\u001b[0m\u001b[1;33m(\u001b[0m\u001b[1;36m3\u001b[0m\u001b[1;33m,\u001b[0m\u001b[1;36m4\u001b[0m\u001b[1;33m)\u001b[0m\u001b[1;33m\u001b[0m\u001b[1;33m\u001b[0m\u001b[0m\n\u001b[0m",
      "\u001b[1;31mValueError\u001b[0m: cannot reshape array of size 13 into shape (3,4)"
     ]
    }
   ],
   "source": [
    "ex3 = np.arange(13)\n",
    "ex3.reshape(3,4)"
   ]
  },
  {
   "cell_type": "code",
   "execution_count": 105,
   "id": "a87a6032-b5da-4638-8a6d-4daf6bb55ef1",
   "metadata": {},
   "outputs": [
    {
     "data": {
      "text/plain": [
       "array([[ 0,  1,  2,  3],\n",
       "       [ 4,  5,  6,  7],\n",
       "       [ 8,  9, 10, 11]])"
      ]
     },
     "execution_count": 105,
     "metadata": {},
     "output_type": "execute_result"
    }
   ],
   "source": [
    "ex4 = np.arange(12)\n",
    "ex4.reshape(3,4)"
   ]
  },
  {
   "cell_type": "code",
   "execution_count": 106,
   "id": "fda9c82e-06e8-4a66-a962-3f09e4ee6efc",
   "metadata": {},
   "outputs": [
    {
     "data": {
      "text/plain": [
       "array([[[ 0,  1,  2],\n",
       "        [ 3,  4,  5]],\n",
       "\n",
       "       [[ 6,  7,  8],\n",
       "        [ 9, 10, 11]]])"
      ]
     },
     "execution_count": 106,
     "metadata": {},
     "output_type": "execute_result"
    }
   ],
   "source": [
    "ex4.reshape(2,2,3)"
   ]
  },
  {
   "cell_type": "code",
   "execution_count": 107,
   "id": "c4c126c0-c189-4ed9-b5e0-7fe58c3d1035",
   "metadata": {},
   "outputs": [
    {
     "data": {
      "text/plain": [
       "array([[ 0,  1,  2,  3],\n",
       "       [ 4,  5,  6,  7],\n",
       "       [ 8,  9, 10, 11]])"
      ]
     },
     "execution_count": 107,
     "metadata": {},
     "output_type": "execute_result"
    }
   ],
   "source": [
    "ex4.reshape(3,-1)"
   ]
  },
  {
   "cell_type": "code",
   "execution_count": 108,
   "id": "19b94397-0f75-47e0-a011-687d736f9cde",
   "metadata": {},
   "outputs": [
    {
     "data": {
      "text/plain": [
       "array([[ 0,  1],\n",
       "       [ 2,  3],\n",
       "       [ 4,  5],\n",
       "       [ 6,  7],\n",
       "       [ 8,  9],\n",
       "       [10, 11]])"
      ]
     },
     "execution_count": 108,
     "metadata": {},
     "output_type": "execute_result"
    }
   ],
   "source": [
    "ex4.reshape(6,-1)"
   ]
  },
  {
   "cell_type": "markdown",
   "id": "5a6f4f13-1ced-4811-b0da-2034351f8d58",
   "metadata": {},
   "source": [
    "### 다차원배열"
   ]
  },
  {
   "cell_type": "code",
   "execution_count": 109,
   "id": "a83da3fe-6a8e-4d60-a9be-164e09d221be",
   "metadata": {},
   "outputs": [
    {
     "data": {
      "text/plain": [
       "array([0, 1, 2, 3, 4])"
      ]
     },
     "execution_count": 109,
     "metadata": {},
     "output_type": "execute_result"
    }
   ],
   "source": [
    "x = np.arange(5)\n",
    "x"
   ]
  },
  {
   "cell_type": "code",
   "execution_count": 110,
   "id": "37ffd957-f214-459e-afa1-265a67bf0b39",
   "metadata": {},
   "outputs": [
    {
     "data": {
      "text/plain": [
       "array([[0, 1, 2, 3, 4]])"
      ]
     },
     "execution_count": 110,
     "metadata": {},
     "output_type": "execute_result"
    }
   ],
   "source": [
    "x.reshape(1,5)"
   ]
  },
  {
   "cell_type": "code",
   "execution_count": 111,
   "id": "1d87c452-3b63-4467-bc5a-2459ac58a4f1",
   "metadata": {},
   "outputs": [
    {
     "data": {
      "text/plain": [
       "array([[0],\n",
       "       [1],\n",
       "       [2],\n",
       "       [3],\n",
       "       [4]])"
      ]
     },
     "execution_count": 111,
     "metadata": {},
     "output_type": "execute_result"
    }
   ],
   "source": [
    "x.reshape(5,-1)"
   ]
  },
  {
   "cell_type": "markdown",
   "id": "f87b01c9-9248-41da-9303-45e31241047f",
   "metadata": {},
   "source": [
    "엄연히 다른 객체임을 알 수있음"
   ]
  },
  {
   "cell_type": "markdown",
   "id": "68037f28-0410-4719-a33b-57ab82c3586e",
   "metadata": {},
   "source": [
    "## 1차원만 증가시키는 경우 newaxis 사용"
   ]
  },
  {
   "cell_type": "code",
   "execution_count": 112,
   "id": "4a879503-6ab1-441a-9d2b-68a2a42ca66f",
   "metadata": {},
   "outputs": [
    {
     "data": {
      "text/plain": [
       "array([[0],\n",
       "       [1],\n",
       "       [2],\n",
       "       [3],\n",
       "       [4]])"
      ]
     },
     "execution_count": 112,
     "metadata": {},
     "output_type": "execute_result"
    }
   ],
   "source": [
    "x[:, np.newaxis]"
   ]
  },
  {
   "cell_type": "markdown",
   "id": "2a72912b-9628-4c7a-8bb6-14350e181491",
   "metadata": {},
   "source": [
    "### 배열 연결  \n",
    "행의 수 & 열의 수가 같은 두개 이상의 배열을 연결(concatenate)하여 더 큰 배열을 만드는 것  \n",
    "1. hstack\n",
    "2. vstack\n",
    "3. dstack\n",
    "4. stack\n",
    "5. r_\n",
    "6. c_\n",
    "7. tile"
   ]
  },
  {
   "cell_type": "markdown",
   "id": "742112c1-e2a5-48e6-a091-2ee3dfd9e08b",
   "metadata": {},
   "source": [
    "### 1.hstack  \n",
    "hstack 명령은 행의 수가 같은 두 개 이상의 배열을 앞으로 연결하여 열의 수가 더 많은 배열을 만듬."
   ]
  },
  {
   "cell_type": "code",
   "execution_count": 113,
   "id": "6813659a-1961-4c32-92a7-169924c26968",
   "metadata": {},
   "outputs": [
    {
     "data": {
      "text/plain": [
       "array([[1., 1., 1.],\n",
       "       [1., 1., 1.]])"
      ]
     },
     "execution_count": 113,
     "metadata": {},
     "output_type": "execute_result"
    }
   ],
   "source": [
    "a1 = np.ones((2,3))\n",
    "a1"
   ]
  },
  {
   "cell_type": "code",
   "execution_count": 114,
   "id": "a81be2db-f475-49af-9c4e-2c46765c4f8a",
   "metadata": {},
   "outputs": [
    {
     "data": {
      "text/plain": [
       "array([[0., 0.],\n",
       "       [0., 0.]])"
      ]
     },
     "execution_count": 114,
     "metadata": {},
     "output_type": "execute_result"
    }
   ],
   "source": [
    "a2 = np.zeros((2,2))\n",
    "a2"
   ]
  },
  {
   "cell_type": "code",
   "execution_count": 116,
   "id": "5b3b7c45-af64-4568-953a-15a85ccbe8cc",
   "metadata": {},
   "outputs": [
    {
     "data": {
      "text/plain": [
       "array([[1., 1., 1., 0., 0.],\n",
       "       [1., 1., 1., 0., 0.]])"
      ]
     },
     "execution_count": 116,
     "metadata": {},
     "output_type": "execute_result"
    }
   ],
   "source": [
    "np.hstack([a1,a2])"
   ]
  },
  {
   "cell_type": "markdown",
   "id": "a9421379-c99f-4817-998b-1686839f1fa7",
   "metadata": {},
   "source": [
    "### 2. vstack  \n",
    "vstack은 열의 수가 같은 두 개 이상의 배열을 아래로 연결하여 행의 수가 더 많은 배열을 만듬"
   ]
  },
  {
   "cell_type": "code",
   "execution_count": 122,
   "id": "d56b3af7-b9f1-4a4c-b25f-d36d7b3b6afb",
   "metadata": {},
   "outputs": [
    {
     "data": {
      "text/plain": [
       "array([[1., 1., 1.],\n",
       "       [1., 1., 1.]])"
      ]
     },
     "execution_count": 122,
     "metadata": {},
     "output_type": "execute_result"
    }
   ],
   "source": [
    "b1 = np.ones((2,3))\n",
    "b1"
   ]
  },
  {
   "cell_type": "code",
   "execution_count": 123,
   "id": "bd5f8fff-a228-4cb7-bfc9-7616683fcb3c",
   "metadata": {},
   "outputs": [
    {
     "data": {
      "text/plain": [
       "array([[0., 0., 0.],\n",
       "       [0., 0., 0.],\n",
       "       [0., 0., 0.]])"
      ]
     },
     "execution_count": 123,
     "metadata": {},
     "output_type": "execute_result"
    }
   ],
   "source": [
    "b2 = np.zeros((3,3))\n",
    "b2"
   ]
  },
  {
   "cell_type": "code",
   "execution_count": 124,
   "id": "e1afb09b-5e15-441e-86fb-9f33cd0a4869",
   "metadata": {},
   "outputs": [
    {
     "data": {
      "text/plain": [
       "array([[1., 1., 1.],\n",
       "       [1., 1., 1.],\n",
       "       [0., 0., 0.],\n",
       "       [0., 0., 0.],\n",
       "       [0., 0., 0.]])"
      ]
     },
     "execution_count": 124,
     "metadata": {},
     "output_type": "execute_result"
    }
   ],
   "source": [
    "np.vstack([b1,b2])"
   ]
  },
  {
   "cell_type": "markdown",
   "id": "f70a3e6c-2a16-420d-a130-08952ec9766d",
   "metadata": {},
   "source": [
    "### 3. dstack  \n",
    "dstack 은 제 3의 축, 즉 깊이 방향으로 배열을 합침.  \n",
    "가장 내부의 숫자 원소가 배열이 됨."
   ]
  },
  {
   "cell_type": "code",
   "execution_count": 125,
   "id": "ca8fd46b-746f-417c-8bf1-c3d81e820142",
   "metadata": {},
   "outputs": [
    {
     "data": {
      "text/plain": [
       "array([[1., 1., 1., 1.],\n",
       "       [1., 1., 1., 1.],\n",
       "       [1., 1., 1., 1.]])"
      ]
     },
     "execution_count": 125,
     "metadata": {},
     "output_type": "execute_result"
    }
   ],
   "source": [
    "c1 = np.ones((3,4))\n",
    "c1"
   ]
  },
  {
   "cell_type": "code",
   "execution_count": 126,
   "id": "1171a387-0af6-43bd-949b-f56251a3d0f4",
   "metadata": {},
   "outputs": [],
   "source": [
    "c2 = np.zeros((3,4))"
   ]
  },
  {
   "cell_type": "code",
   "execution_count": 127,
   "id": "a392a271-7839-4e00-b993-154f8afc1d0a",
   "metadata": {},
   "outputs": [
    {
     "data": {
      "text/plain": [
       "array([[0., 0., 0., 0.],\n",
       "       [0., 0., 0., 0.],\n",
       "       [0., 0., 0., 0.]])"
      ]
     },
     "execution_count": 127,
     "metadata": {},
     "output_type": "execute_result"
    }
   ],
   "source": [
    "c2"
   ]
  },
  {
   "cell_type": "code",
   "execution_count": 128,
   "id": "94328c68-5ba0-4753-acc8-81da774e9d91",
   "metadata": {},
   "outputs": [
    {
     "data": {
      "text/plain": [
       "array([[[1., 0.],\n",
       "        [1., 0.],\n",
       "        [1., 0.],\n",
       "        [1., 0.]],\n",
       "\n",
       "       [[1., 0.],\n",
       "        [1., 0.],\n",
       "        [1., 0.],\n",
       "        [1., 0.]],\n",
       "\n",
       "       [[1., 0.],\n",
       "        [1., 0.],\n",
       "        [1., 0.],\n",
       "        [1., 0.]]])"
      ]
     },
     "execution_count": 128,
     "metadata": {},
     "output_type": "execute_result"
    }
   ],
   "source": [
    "np.dstack([c1,c2])"
   ]
  },
  {
   "cell_type": "code",
   "execution_count": 129,
   "id": "5f71dbe2-515d-4f76-b06b-13d27e6b1b08",
   "metadata": {},
   "outputs": [
    {
     "data": {
      "text/plain": [
       "array([[[0., 1.],\n",
       "        [0., 1.],\n",
       "        [0., 1.],\n",
       "        [0., 1.]],\n",
       "\n",
       "       [[0., 1.],\n",
       "        [0., 1.],\n",
       "        [0., 1.],\n",
       "        [0., 1.]],\n",
       "\n",
       "       [[0., 1.],\n",
       "        [0., 1.],\n",
       "        [0., 1.],\n",
       "        [0., 1.]]])"
      ]
     },
     "execution_count": 129,
     "metadata": {},
     "output_type": "execute_result"
    }
   ],
   "source": [
    "np.dstack([c2,c1])"
   ]
  },
  {
   "cell_type": "code",
   "execution_count": 130,
   "id": "d9419d55-cf69-4d36-af48-6a5aeeae1ded",
   "metadata": {},
   "outputs": [],
   "source": [
    " c = np.stack([c1,c2])"
   ]
  },
  {
   "cell_type": "code",
   "execution_count": 131,
   "id": "5b45884b-194a-445c-b561-130f50e2cbd5",
   "metadata": {},
   "outputs": [
    {
     "data": {
      "text/plain": [
       "array([[[1., 1., 1., 1.],\n",
       "        [1., 1., 1., 1.],\n",
       "        [1., 1., 1., 1.]],\n",
       "\n",
       "       [[0., 0., 0., 0.],\n",
       "        [0., 0., 0., 0.],\n",
       "        [0., 0., 0., 0.]]])"
      ]
     },
     "execution_count": 131,
     "metadata": {},
     "output_type": "execute_result"
    }
   ],
   "source": [
    "c"
   ]
  },
  {
   "cell_type": "code",
   "execution_count": 132,
   "id": "dede7687-e99f-4a26-9726-72d5a3f1c991",
   "metadata": {},
   "outputs": [
    {
     "data": {
      "text/plain": [
       "(2, 3, 4)"
      ]
     },
     "execution_count": 132,
     "metadata": {},
     "output_type": "execute_result"
    }
   ],
   "source": [
    "c.shape"
   ]
  },
  {
   "cell_type": "code",
   "execution_count": 135,
   "id": "fc17cf0a-56ca-4ffb-97e2-a48874709178",
   "metadata": {},
   "outputs": [],
   "source": [
    "c_axis1 = np.stack([c1,c2], axis=1)"
   ]
  },
  {
   "cell_type": "code",
   "execution_count": 143,
   "id": "7bff5b68-6af9-4728-8d40-33be744f95b2",
   "metadata": {},
   "outputs": [
    {
     "name": "stdout",
     "output_type": "stream",
     "text": [
      "[[[1. 1. 1. 1.]\n",
      "  [0. 0. 0. 0.]]\n",
      "\n",
      " [[1. 1. 1. 1.]\n",
      "  [0. 0. 0. 0.]]\n",
      "\n",
      " [[1. 1. 1. 1.]\n",
      "  [0. 0. 0. 0.]]]\n"
     ]
    },
    {
     "data": {
      "text/plain": [
       "(3, 2, 4)"
      ]
     },
     "execution_count": 143,
     "metadata": {},
     "output_type": "execute_result"
    }
   ],
   "source": [
    "print(c_axis1)\n",
    "c_axis1.shape"
   ]
  },
  {
   "cell_type": "markdown",
   "id": "a692c527-c71c-4e16-9889-d736ceb6080a",
   "metadata": {},
   "source": [
    "c_axis0 = np.stack([c1,c2], axis=0)"
   ]
  },
  {
   "cell_type": "code",
   "execution_count": 141,
   "id": "cd596d75-9256-422a-b2b4-554071e01cc7",
   "metadata": {},
   "outputs": [
    {
     "name": "stdout",
     "output_type": "stream",
     "text": [
      "[[[1. 1. 1. 1.]\n",
      "  [1. 1. 1. 1.]\n",
      "  [1. 1. 1. 1.]]\n",
      "\n",
      " [[0. 0. 0. 0.]\n",
      "  [0. 0. 0. 0.]\n",
      "  [0. 0. 0. 0.]]]\n"
     ]
    },
    {
     "data": {
      "text/plain": [
       "(2, 3, 4)"
      ]
     },
     "execution_count": 141,
     "metadata": {},
     "output_type": "execute_result"
    }
   ],
   "source": [
    "print(c_axis0)\n",
    "c_axis0.shape"
   ]
  },
  {
   "cell_type": "code",
   "execution_count": 142,
   "id": "eb9ad10d-c4d4-4466-a716-13d550beb27a",
   "metadata": {},
   "outputs": [
    {
     "name": "stdout",
     "output_type": "stream",
     "text": [
      "[[[1. 0.]\n",
      "  [1. 0.]\n",
      "  [1. 0.]\n",
      "  [1. 0.]]\n",
      "\n",
      " [[1. 0.]\n",
      "  [1. 0.]\n",
      "  [1. 0.]\n",
      "  [1. 0.]]\n",
      "\n",
      " [[1. 0.]\n",
      "  [1. 0.]\n",
      "  [1. 0.]\n",
      "  [1. 0.]]]\n"
     ]
    },
    {
     "data": {
      "text/plain": [
       "(3, 4, 2)"
      ]
     },
     "execution_count": 142,
     "metadata": {},
     "output_type": "execute_result"
    }
   ],
   "source": [
    "c_axis2 = np.stack([c1,c2], axis=2)\n",
    "print(c_axis2)\n",
    "c_axis2.shape"
   ]
  },
  {
   "cell_type": "markdown",
   "id": "86be110e-1e47-4016-a019-869e3d48d6e4",
   "metadata": {},
   "source": [
    "### r_ 메서드  \n",
    "hstack 명령과 비슷하게 배열을 좌우로 연결. 그러나 메서드임에도 소괄호를 사용하지 않고, 인덱싱과 같이 대괄호를 사용함.  \n",
    "인덱서(indexer)라고 함"
   ]
  },
  {
   "cell_type": "code",
   "execution_count": 146,
   "id": "afab0f22-8a4f-4597-b68c-1673a95509ae",
   "metadata": {},
   "outputs": [
    {
     "data": {
      "text/plain": [
       "array([1, 2, 3, 4, 5, 6])"
      ]
     },
     "execution_count": 146,
     "metadata": {},
     "output_type": "execute_result"
    }
   ],
   "source": [
    "np.r_[(np.array([1,2,3]), np.array([4,5,6]))]"
   ]
  },
  {
   "cell_type": "markdown",
   "id": "885662ec-a6a2-4e54-96a5-5f938b985f8d",
   "metadata": {},
   "source": [
    "### c_ 메서드  \n",
    "배열의 차원을 증가시킨 후 좌우로 연결."
   ]
  },
  {
   "cell_type": "code",
   "execution_count": 147,
   "id": "e5e0a06d-6817-4084-b8fb-be76ee7ffa5b",
   "metadata": {},
   "outputs": [
    {
     "data": {
      "text/plain": [
       "array([[1, 4],\n",
       "       [2, 5],\n",
       "       [3, 6]])"
      ]
     },
     "execution_count": 147,
     "metadata": {},
     "output_type": "execute_result"
    }
   ],
   "source": [
    "np.c_[np.array([1,2,3]), np.array([4,5,6])]"
   ]
  },
  {
   "cell_type": "markdown",
   "id": "c0ff7290-3ca1-403a-bc26-32ee59333bd3",
   "metadata": {},
   "source": [
    "### tile 메서드  \n",
    "동일한 배열을 반복하여 연결"
   ]
  },
  {
   "cell_type": "code",
   "execution_count": 150,
   "id": "51be4a14-1328-4d30-b4ee-74583503b9aa",
   "metadata": {},
   "outputs": [
    {
     "name": "stdout",
     "output_type": "stream",
     "text": [
      "[[0 1 2 0 1 2]\n",
      " [3 4 5 3 4 5]]\n"
     ]
    },
    {
     "data": {
      "text/plain": [
       "(2, 6)"
      ]
     },
     "execution_count": 150,
     "metadata": {},
     "output_type": "execute_result"
    }
   ],
   "source": [
    "a = np.array([[0,1,2],[3,4,5]])\n",
    "print(np.tile(a, 2))\n",
    "np.tile(a,2).shape"
   ]
  },
  {
   "cell_type": "code",
   "execution_count": 151,
   "id": "3cbf3c14-ad1d-46d6-a4ed-c02254765c32",
   "metadata": {},
   "outputs": [
    {
     "name": "stdout",
     "output_type": "stream",
     "text": [
      "[[0 1 2 0 1 2]\n",
      " [3 4 5 3 4 5]\n",
      " [0 1 2 0 1 2]\n",
      " [3 4 5 3 4 5]\n",
      " [0 1 2 0 1 2]\n",
      " [3 4 5 3 4 5]]\n"
     ]
    },
    {
     "data": {
      "text/plain": [
       "(6, 6)"
      ]
     },
     "execution_count": 151,
     "metadata": {},
     "output_type": "execute_result"
    }
   ],
   "source": [
    "print(np.tile(a, (3,2)))\n",
    "np.tile(a, (3,2)).shape"
   ]
  },
  {
   "cell_type": "markdown",
   "id": "d7cc07a0-b84f-4e84-8107-41e1db149412",
   "metadata": {},
   "source": [
    "### 연습문제"
   ]
  },
  {
   "cell_type": "code",
   "execution_count": 152,
   "id": "0960f8fb-154d-4c7a-9151-8604b5bd7647",
   "metadata": {},
   "outputs": [
    {
     "name": "stdout",
     "output_type": "stream",
     "text": [
      "[[0. 0. 0.]\n",
      " [0. 0. 0.]\n",
      " [0. 0. 0.]]\n"
     ]
    }
   ],
   "source": [
    "a1 = np.zeros((3,3))\n",
    "print(a1)"
   ]
  },
  {
   "cell_type": "code",
   "execution_count": 154,
   "id": "0b092a5a-aaf4-4a83-b135-c75a80f0e5bf",
   "metadata": {},
   "outputs": [
    {
     "name": "stdout",
     "output_type": "stream",
     "text": [
      "[[1. 1.]\n",
      " [1. 1.]\n",
      " [1. 1.]]\n"
     ]
    }
   ],
   "source": [
    "a2 = np.ones((3,2))\n",
    "print(a2)"
   ]
  },
  {
   "cell_type": "code",
   "execution_count": 157,
   "id": "cbcbacbd-47dc-4904-b856-ed15f6a3eff6",
   "metadata": {},
   "outputs": [
    {
     "name": "stdout",
     "output_type": "stream",
     "text": [
      "[[ 10  20  30  40  50]\n",
      " [ 60  70  80  90 100]\n",
      " [110 120 130 140 150]]\n"
     ]
    }
   ],
   "source": [
    "a3 = np.arange(10,160,10).reshape(3,5)\n",
    "print(a3)"
   ]
  },
  {
   "cell_type": "code",
   "execution_count": 158,
   "id": "114b8288-6a20-4fe7-8f74-3dc213da0dea",
   "metadata": {},
   "outputs": [
    {
     "name": "stdout",
     "output_type": "stream",
     "text": [
      "[[0. 0. 0. 1. 1.]\n",
      " [0. 0. 0. 1. 1.]\n",
      " [0. 0. 0. 1. 1.]]\n"
     ]
    }
   ],
   "source": [
    "sum1 = np.hstack([a1,a2])\n",
    "print(sum1)"
   ]
  },
  {
   "cell_type": "code",
   "execution_count": 159,
   "id": "0743ca7e-dcab-40c2-9c5c-263fa19ad1c3",
   "metadata": {},
   "outputs": [
    {
     "name": "stdout",
     "output_type": "stream",
     "text": [
      "[[  0.   0.   0.   1.   1.]\n",
      " [  0.   0.   0.   1.   1.]\n",
      " [  0.   0.   0.   1.   1.]\n",
      " [ 10.  20.  30.  40.  50.]\n",
      " [ 60.  70.  80.  90. 100.]\n",
      " [110. 120. 130. 140. 150.]]\n"
     ]
    }
   ],
   "source": [
    "sum2 = np.vstack([sum1, a3])\n",
    "print(sum2)"
   ]
  },
  {
   "cell_type": "code",
   "execution_count": 166,
   "id": "f65c740b-08b1-454f-adb7-14ce3ee84acd",
   "metadata": {},
   "outputs": [
    {
     "name": "stdout",
     "output_type": "stream",
     "text": [
      "[[  0.   0.   0.   1.   1.]\n",
      " [  0.   0.   0.   1.   1.]\n",
      " [  0.   0.   0.   1.   1.]\n",
      " [ 10.  20.  30.  40.  50.]\n",
      " [ 60.  70.  80.  90. 100.]\n",
      " [110. 120. 130. 140. 150.]\n",
      " [  0.   0.   0.   1.   1.]\n",
      " [  0.   0.   0.   1.   1.]\n",
      " [  0.   0.   0.   1.   1.]\n",
      " [ 10.  20.  30.  40.  50.]\n",
      " [ 60.  70.  80.  90. 100.]\n",
      " [110. 120. 130. 140. 150.]]\n"
     ]
    }
   ],
   "source": [
    "a1 = np.zeros((3,3))\n",
    "a2 = np.ones((3,2))\n",
    "a3 = np.arange(10,160,10).reshape(3,5)\n",
    "sum1 = np.hstack([a1,a2])\n",
    "sum2 = np.vstack([sum1, a3])\n",
    "tot = np.tile(sum2, (2,1))\n",
    "print(tot)"
   ]
  },
  {
   "cell_type": "code",
   "execution_count": 169,
   "id": "fd4b86ca-2b3e-4cca-b1ac-5528e53cf83c",
   "metadata": {},
   "outputs": [
    {
     "name": "stdout",
     "output_type": "stream",
     "text": [
      "[[  0.   0.   0.   1.   1.]\n",
      " [  0.   0.   0.   1.   1.]\n",
      " [  0.   0.   0.   1.   1.]\n",
      " [ 10.  20.  30.  40.  50.]\n",
      " [ 60.  70.  80.  90. 100.]\n",
      " [110. 120. 130. 140. 150.]\n",
      " [  0.   0.   0.   1.   1.]\n",
      " [  0.   0.   0.   1.   1.]\n",
      " [  0.   0.   0.   1.   1.]\n",
      " [ 10.  20.  30.  40.  50.]\n",
      " [ 60.  70.  80.  90. 100.]\n",
      " [110. 120. 130. 140. 150.]]\n"
     ]
    }
   ],
   "source": [
    "a1 = np.zeros((3,3))\n",
    "a2 = np.ones((3,2))\n",
    "a3 = np.arange(10,160,10).reshape(3,5)\n",
    "sum3 = np.tile(np.vstack([np.hstack([a1,a2]),a3]), (2,1))\n",
    "print(sum3)"
   ]
  },
  {
   "cell_type": "code",
   "execution_count": null,
   "id": "416a8277-e8d3-4d23-bf08-21d9d6d82714",
   "metadata": {},
   "outputs": [],
   "source": []
  }
 ],
 "metadata": {
  "kernelspec": {
   "display_name": "Python 3 (ipykernel)",
   "language": "python",
   "name": "python3"
  },
  "language_info": {
   "codemirror_mode": {
    "name": "ipython",
    "version": 3
   },
   "file_extension": ".py",
   "mimetype": "text/x-python",
   "name": "python",
   "nbconvert_exporter": "python",
   "pygments_lexer": "ipython3",
   "version": "3.9.13"
  }
 },
 "nbformat": 4,
 "nbformat_minor": 5
}
