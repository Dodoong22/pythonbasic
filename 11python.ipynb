{
 "cells": [
  {
   "cell_type": "code",
   "execution_count": 1,
   "id": "9f36d138-6f51-4ef8-91c0-6ccc04346db4",
   "metadata": {},
   "outputs": [],
   "source": [
    "class ClassName:\n",
    "    def __init__(self, param1, param2):\n",
    "        self.attr1 = param1\n",
    "        self.attr2 = param2"
   ]
  },
  {
   "cell_type": "markdown",
   "id": "69eff8e3-1dd4-4aa1-be75-2638a1d19c1e",
   "metadata": {},
   "source": [
    "던더 __ 를 사용하면 비공개 속성이 됨."
   ]
  },
  {
   "cell_type": "markdown",
   "id": "1d1f7009-8d6e-4f07-abd9-44c01c50a14b",
   "metadata": {},
   "source": [
    "비공개의 의미는 private, 즉 접근을 제한하는, 변경을 못하도록 막음"
   ]
  },
  {
   "cell_type": "markdown",
   "id": "708d8358-a678-461b-86a9-5eeedec1cc7a",
   "metadata": {},
   "source": [
    "## Class + NumPy 연습문제"
   ]
  },
  {
   "cell_type": "code",
   "execution_count": 116,
   "id": "57cb9e2e-89cf-415f-94fa-8f4922df687d",
   "metadata": {},
   "outputs": [],
   "source": [
    "import numpy as np\n",
    "class Calculator:\n",
    "    \n",
    "    def __init__(self):\n",
    "        self.value = 0\n",
    "        \n",
    "    def add(self, *args): #가변인자는 None을 가질 수 없음. 가변인자 기본 자료형은 tuple\n",
    "        if len(args) == 0 :\n",
    "            print(f\"숫자를 입력해주세요\")\n",
    "            return\n",
    "        self.value = self.value + np.sum(args) # numpy 구조로 더하기\n",
    "        \n",
    "    def minus(self, *args):\n",
    "        if len(args) == 0:\n",
    "            print(f\"숫자를 입력해주세요\")\n",
    "            return\n",
    "        self.value = self.value - np.sum(args) #numpy 구조로 빼기\n",
    "        \n",
    "    def show_value(self):\n",
    "        print(f\"현재 값은 {self.value}입니다.\")"
   ]
  },
  {
   "cell_type": "code",
   "execution_count": 117,
   "id": "3908d579-9935-4858-ae0a-63f3cb0d95d0",
   "metadata": {},
   "outputs": [
    {
     "name": "stdout",
     "output_type": "stream",
     "text": [
      "현재 값은 80입니다.\n"
     ]
    }
   ],
   "source": [
    "c = Calculator()\n",
    "c.add(100)\n",
    "c.minus(20)\n",
    "c.show_value()"
   ]
  },
  {
   "cell_type": "code",
   "execution_count": 118,
   "id": "90619a91-8021-42dd-a249-e30f05551e37",
   "metadata": {},
   "outputs": [
    {
     "name": "stdout",
     "output_type": "stream",
     "text": [
      "숫자를 입력해주세요\n"
     ]
    }
   ],
   "source": [
    "c.add()"
   ]
  },
  {
   "cell_type": "code",
   "execution_count": 119,
   "id": "b118ee7b-912a-461c-a5d9-d31b46c604f0",
   "metadata": {},
   "outputs": [],
   "source": [
    "c.minus([10,20])"
   ]
  },
  {
   "cell_type": "code",
   "execution_count": 120,
   "id": "4e9a5345-38fe-4f36-b8dd-0d20fb2728cb",
   "metadata": {},
   "outputs": [
    {
     "name": "stdout",
     "output_type": "stream",
     "text": [
      "현재 값은 50입니다.\n"
     ]
    }
   ],
   "source": [
    "c.show_value()"
   ]
  },
  {
   "cell_type": "code",
   "execution_count": 121,
   "id": "d9dcb773-b743-4744-943f-e07c49405b76",
   "metadata": {},
   "outputs": [],
   "source": [
    "c.add(range(1,6))"
   ]
  },
  {
   "cell_type": "code",
   "execution_count": 122,
   "id": "92ce8944-062f-4c3f-af1a-d1193a02b45c",
   "metadata": {},
   "outputs": [
    {
     "name": "stdout",
     "output_type": "stream",
     "text": [
      "현재 값은 65입니다.\n"
     ]
    }
   ],
   "source": [
    "c.show_value()"
   ]
  },
  {
   "cell_type": "code",
   "execution_count": 154,
   "id": "cbbeff6f-6c0a-483b-a52b-2b1772727857",
   "metadata": {},
   "outputs": [],
   "source": [
    "import numpy as np\n",
    "class Calculator:\n",
    "    \n",
    "    def __init__(self):\n",
    "        self.value = 0\n",
    "        \n",
    "    def add(self, *args): #가변인자는 None을 가질 수 없음. 가변인자 기본 자료형은 tuple\n",
    "        print(type(args))\n",
    "        if len(args) == 0:\n",
    "            print(f\"숫자를 입력해주세요\")\n",
    "            return\n",
    "        for i in args: # str 입력을 반환\n",
    "            if type(i) == str:\n",
    "                print(f\"숫자를 입력해주세요\")\n",
    "                return\n",
    "        self.value = self.value + np.sum(args) # numpy 구조로 더하기\n",
    "        \n",
    "    def minus(self, *args):\n",
    "        if len(args) == 0:\n",
    "            print(f\"숫자를 입력해주세요\")\n",
    "            return\n",
    "        self.value = self.value - np.sum(args) #numpy 구조로 빼기\n",
    "        \n",
    "    def show_value(self):\n",
    "        print(f\"현재 값은 {self.value}입니다.\")"
   ]
  },
  {
   "cell_type": "code",
   "execution_count": 155,
   "id": "b4dbe720-0aa2-490c-9fdf-a1b7cc0d055f",
   "metadata": {},
   "outputs": [
    {
     "name": "stdout",
     "output_type": "stream",
     "text": [
      "<class 'tuple'>\n",
      "현재 값은 80입니다.\n"
     ]
    }
   ],
   "source": [
    "c = Calculator()\n",
    "c.add(100)\n",
    "c.minus(20)\n",
    "c.show_value()"
   ]
  },
  {
   "cell_type": "code",
   "execution_count": 156,
   "id": "3c58a9ad-31c0-4708-9ffd-14eae7edcd1c",
   "metadata": {},
   "outputs": [
    {
     "name": "stdout",
     "output_type": "stream",
     "text": [
      "<class 'tuple'>\n",
      "숫자를 입력해주세요\n"
     ]
    }
   ],
   "source": [
    "c.add()"
   ]
  },
  {
   "cell_type": "code",
   "execution_count": 157,
   "id": "599c92ee-8ace-4502-9139-5fba587e17cc",
   "metadata": {},
   "outputs": [
    {
     "name": "stdout",
     "output_type": "stream",
     "text": [
      "<class 'tuple'>\n",
      "숫자를 입력해주세요\n"
     ]
    }
   ],
   "source": [
    "c.add('k')"
   ]
  },
  {
   "cell_type": "markdown",
   "id": "182284e6-5835-4265-8f0c-ccfcd66d7940",
   "metadata": {},
   "source": [
    "## 벡터화 연산  \n",
    "반복문을 사용하지 않고 배열의 모든 원소에 대해 반복 연산을 할 수 있음.  \n"
   ]
  },
  {
   "cell_type": "code",
   "execution_count": 163,
   "id": "7b6f1162-d62d-40cf-95ab-a8a847935031",
   "metadata": {},
   "outputs": [],
   "source": [
    "# import time\n",
    "x = np.arange(1,10001)\n",
    "y = np.arange(10001,20001)\n",
    "\n",
    "# %%time\n",
    "z = np.zeros_like(x)\n",
    "for i in range(10000):\n",
    "    z[i] = x[i] + y[i]"
   ]
  },
  {
   "cell_type": "code",
   "execution_count": 164,
   "id": "c883f56d-da16-42ff-9cde-55724a8341db",
   "metadata": {},
   "outputs": [
    {
     "data": {
      "text/plain": [
       "array([False,  True, False,  True])"
      ]
     },
     "execution_count": 164,
     "metadata": {},
     "output_type": "execute_result"
    }
   ],
   "source": [
    "a = np.array([1,2,3,4])\n",
    "b = np.array([4,2,2,4])\n",
    "a == b"
   ]
  },
  {
   "cell_type": "code",
   "execution_count": 165,
   "id": "5e6bbc0f-079b-4e04-8477-a9c725cf052b",
   "metadata": {},
   "outputs": [
    {
     "data": {
      "text/plain": [
       "array([False,  True,  True,  True])"
      ]
     },
     "execution_count": 165,
     "metadata": {},
     "output_type": "execute_result"
    }
   ],
   "source": [
    "a >= b"
   ]
  },
  {
   "cell_type": "code",
   "execution_count": 166,
   "id": "70f89247-b5d2-401b-9fc8-3a19cc6af583",
   "metadata": {},
   "outputs": [],
   "source": [
    "c = np.array([1,2,3,4])"
   ]
  },
  {
   "cell_type": "code",
   "execution_count": 167,
   "id": "a6212ac3-5690-4770-a0b0-253be45d0ce0",
   "metadata": {},
   "outputs": [
    {
     "data": {
      "text/plain": [
       "False"
      ]
     },
     "execution_count": 167,
     "metadata": {},
     "output_type": "execute_result"
    }
   ],
   "source": [
    "np.all(a ==b)"
   ]
  },
  {
   "cell_type": "code",
   "execution_count": 168,
   "id": "3ea69921-54e3-4e56-ac02-a073c4274264",
   "metadata": {},
   "outputs": [
    {
     "data": {
      "text/plain": [
       "True"
      ]
     },
     "execution_count": 168,
     "metadata": {},
     "output_type": "execute_result"
    }
   ],
   "source": [
    "np.all(a==c)"
   ]
  },
  {
   "cell_type": "code",
   "execution_count": 169,
   "id": "3d892ba8-78ba-4d82-81d1-6177dcfb9a53",
   "metadata": {},
   "outputs": [
    {
     "data": {
      "text/plain": [
       "array([0, 1, 2, 3, 4, 5, 6, 7, 8, 9])"
      ]
     },
     "execution_count": 169,
     "metadata": {},
     "output_type": "execute_result"
    }
   ],
   "source": [
    "x = np.arange(10)\n",
    "x"
   ]
  },
  {
   "cell_type": "code",
   "execution_count": 170,
   "id": "69287bbb-2e93-480f-985f-4f3e25648ff2",
   "metadata": {},
   "outputs": [
    {
     "data": {
      "text/plain": [
       "array([  0, 100, 200, 300, 400, 500, 600, 700, 800, 900])"
      ]
     },
     "execution_count": 170,
     "metadata": {},
     "output_type": "execute_result"
    }
   ],
   "source": [
    "100 * x"
   ]
  },
  {
   "cell_type": "code",
   "execution_count": 171,
   "id": "58321380-325c-4bee-9daa-b3ea2c7650be",
   "metadata": {},
   "outputs": [
    {
     "data": {
      "text/plain": [
       "array([[ 0,  1,  2,  3],\n",
       "       [ 4,  5,  6,  7],\n",
       "       [ 8,  9, 10, 11]])"
      ]
     },
     "execution_count": 171,
     "metadata": {},
     "output_type": "execute_result"
    }
   ],
   "source": [
    "x = np.arange(12).reshape(3,4)\n",
    "x"
   ]
  },
  {
   "cell_type": "code",
   "execution_count": 172,
   "id": "d4b42fe7-e387-4275-a1a4-98444ed8aa1c",
   "metadata": {},
   "outputs": [
    {
     "data": {
      "text/plain": [
       "array([[   0,  100,  200,  300],\n",
       "       [ 400,  500,  600,  700],\n",
       "       [ 800,  900, 1000, 1100]])"
      ]
     },
     "execution_count": 172,
     "metadata": {},
     "output_type": "execute_result"
    }
   ],
   "source": [
    "100 * x"
   ]
  },
  {
   "cell_type": "markdown",
   "id": "5b7373da-7df9-44e7-9b72-7aa0563de657",
   "metadata": {},
   "source": [
    "### 브로드캐스팅  \n",
    "넘파이 배열은 모양이 다른 배열 간의 연산이 가능하도록 배열의 크기를 변환시켜주는 브로드캐스팅을 지원  \n",
    "넘파이가 처리하는 브로드캐스팅의 방법은 더 작은 배열이 더 큰 배열에 호환되는 모양으로 확장하는 식으로 진행"
   ]
  },
  {
   "cell_type": "code",
   "execution_count": 173,
   "id": "cd7303dc-592c-418e-8739-6c54caeba92c",
   "metadata": {},
   "outputs": [
    {
     "data": {
      "text/plain": [
       "array([2., 4., 6.])"
      ]
     },
     "execution_count": 173,
     "metadata": {},
     "output_type": "execute_result"
    }
   ],
   "source": [
    "a = np.array([1.0,2.0,3.0])\n",
    "b = 2.0\n",
    "a*b"
   ]
  },
  {
   "cell_type": "markdown",
   "id": "78da90b4-84a1-4002-8109-66e9b63bb15d",
   "metadata": {},
   "source": [
    "## 브로드캐스팅  \n",
    "모든 경우에 가능한가?  \n",
    "-> 모든경우가 가능한 것은 아님"
   ]
  },
  {
   "cell_type": "markdown",
   "id": "6866bfc4-4f36-48bf-9583-fde31ca3b4ee",
   "metadata": {},
   "source": [
    "확장 가능한 경우의 규칙은 다음과 같음.  \n",
    "  \n",
    "  넘파이 배열의 shape을 우측 정렬하고 각 차원별로 숫자를 비교함.  \n",
    "  비교하는 모든 차원이 두 조건 중 하나에 충족되어야 브로드캐스팅이 가능  \n",
    "  1. 해당 차원간의 숫자가 동일한 경우\n",
    "  2. 해당 차원 중 하나가 1인 경우"
   ]
  },
  {
   "cell_type": "markdown",
   "id": "4e3f7150-d879-48bb-89e6-631f979b6a8a",
   "metadata": {},
   "source": [
    "## 차원축소연산  \n",
    "행렬의 하나의 행에 있는 원소들을 하나의 데이터 집합으로 보고 그 집합의 평균을 구하면 각 행에 대해 하나의 숫자가 나오게 됨.  \n",
    "예를 들어 10 X 5 크기의 2차원 배열에 대해 행-평균을 구하면 10개의 숫자를 가진 1차원 벡터가 나오게됨.  \n",
    "이런 연산을 차원축소(dimension reduction)연산이라함.  \n",
    "넘파이는 다음과 같은 차원 축소연산명령 혹은 메서드를 지원  \n",
    "최대/최소 : min, max, argmin, argmax  \n",
    "통계 : sum, mean, median, std, var  \n",
    "불리언 : all, any"
   ]
  },
  {
   "cell_type": "markdown",
   "id": "094bedde-9545-4038-9f65-c90ae034216a",
   "metadata": {},
   "source": [
    "### 차원 축소 연산 - sum()  \n",
    "sum() 메서드는 해당 배열의 합산 결과를 반환함. 연산 대상이 2차원 이상일 때에는 axis 키워드 인수를 사용할 수 있음."
   ]
  },
  {
   "cell_type": "code",
   "execution_count": 174,
   "id": "9cc26c39-9041-41c2-a64e-6e303f68889a",
   "metadata": {},
   "outputs": [
    {
     "data": {
      "text/plain": [
       "array([1, 2, 3, 4])"
      ]
     },
     "execution_count": 174,
     "metadata": {},
     "output_type": "execute_result"
    }
   ],
   "source": [
    "x = np.array([1,2,3,4])\n",
    "x"
   ]
  },
  {
   "cell_type": "code",
   "execution_count": 175,
   "id": "fbeaa94d-2ac0-49f4-887b-c3d7471fa401",
   "metadata": {},
   "outputs": [
    {
     "data": {
      "text/plain": [
       "10"
      ]
     },
     "execution_count": 175,
     "metadata": {},
     "output_type": "execute_result"
    }
   ],
   "source": [
    "np.sum(x)"
   ]
  },
  {
   "cell_type": "code",
   "execution_count": 176,
   "id": "4f09a045-8c02-4f66-9042-c59a51a73bdb",
   "metadata": {},
   "outputs": [
    {
     "data": {
      "text/plain": [
       "10"
      ]
     },
     "execution_count": 176,
     "metadata": {},
     "output_type": "execute_result"
    }
   ],
   "source": [
    "x.sum()"
   ]
  },
  {
   "cell_type": "code",
   "execution_count": 217,
   "id": "8a09ce4e-062f-41cb-bfda-62e44989b371",
   "metadata": {},
   "outputs": [
    {
     "data": {
      "text/plain": [
       "array([[ 0,  1,  2,  3],\n",
       "       [ 4,  5,  6,  7],\n",
       "       [ 8,  9, 10, 11]])"
      ]
     },
     "execution_count": 217,
     "metadata": {},
     "output_type": "execute_result"
    }
   ],
   "source": [
    "x = np.arange(12).reshape(3,-1)\n",
    "x"
   ]
  },
  {
   "cell_type": "code",
   "execution_count": 218,
   "id": "039c5e3a-ff44-4e4a-9ae8-3aca0518a5ac",
   "metadata": {},
   "outputs": [
    {
     "data": {
      "text/plain": [
       "array([12, 15, 18, 21])"
      ]
     },
     "execution_count": 218,
     "metadata": {},
     "output_type": "execute_result"
    }
   ],
   "source": [
    "x.sum(axis=0) #axis = 0은 행 간의 연산 결과를 구한다."
   ]
  },
  {
   "cell_type": "code",
   "execution_count": 219,
   "id": "3f4ae0d2-2b24-4f21-a590-103fe0d8d813",
   "metadata": {},
   "outputs": [
    {
     "data": {
      "text/plain": [
       "array([ 6, 22, 38])"
      ]
     },
     "execution_count": 219,
     "metadata": {},
     "output_type": "execute_result"
    }
   ],
   "source": [
    "x.sum(axis=1) # axis = 1은 열 간의 연산 결과를 구한다."
   ]
  },
  {
   "cell_type": "markdown",
   "id": "f9510a46-f49b-4c32-a395-f56a63093f2f",
   "metadata": {},
   "source": [
    "### np.sum() 과 ndarray.sum() 은 동등한 메서드임."
   ]
  },
  {
   "cell_type": "markdown",
   "id": "4ca8897f-868b-4ea2-8681-944aa3248b75",
   "metadata": {},
   "source": [
    "### 차원 축소 연산 - min()  \n",
    "min() 메서드는 해당 배열의 제일 작은 값의 결과를 반환. 연산 대상이 2차원이상일 때에는 axis 키워드 인수를 사용가능"
   ]
  },
  {
   "cell_type": "code",
   "execution_count": 183,
   "id": "18b3a380-d0fe-47da-bfa7-f7ded1db8760",
   "metadata": {},
   "outputs": [
    {
     "data": {
      "text/plain": [
       "array([[[ 0,  1],\n",
       "        [ 2,  3],\n",
       "        [ 4,  5],\n",
       "        [ 6,  7],\n",
       "        [ 8,  9]],\n",
       "\n",
       "       [[10, 11],\n",
       "        [12, 13],\n",
       "        [14, 15],\n",
       "        [16, 17],\n",
       "        [18, 19]]])"
      ]
     },
     "execution_count": 183,
     "metadata": {},
     "output_type": "execute_result"
    }
   ],
   "source": [
    "x = np.arange(20).reshape(2,5,-1)\n",
    "x"
   ]
  },
  {
   "cell_type": "code",
   "execution_count": 184,
   "id": "02e95f7b-6d08-4b5c-b757-3afa1124b28e",
   "metadata": {},
   "outputs": [
    {
     "data": {
      "text/plain": [
       "0"
      ]
     },
     "execution_count": 184,
     "metadata": {},
     "output_type": "execute_result"
    }
   ],
   "source": [
    "x.min()"
   ]
  },
  {
   "cell_type": "code",
   "execution_count": 185,
   "id": "2744d053-e0bc-460a-981f-38d038c4b22d",
   "metadata": {},
   "outputs": [
    {
     "data": {
      "text/plain": [
       "0"
      ]
     },
     "execution_count": 185,
     "metadata": {},
     "output_type": "execute_result"
    }
   ],
   "source": [
    "np.min(x)"
   ]
  },
  {
   "cell_type": "code",
   "execution_count": 186,
   "id": "2cdd9529-7420-4842-9b1e-71bec9ada68e",
   "metadata": {},
   "outputs": [
    {
     "data": {
      "text/plain": [
       "array([[0, 1],\n",
       "       [2, 3],\n",
       "       [4, 5],\n",
       "       [6, 7],\n",
       "       [8, 9]])"
      ]
     },
     "execution_count": 186,
     "metadata": {},
     "output_type": "execute_result"
    }
   ],
   "source": [
    "x.min(axis=0)"
   ]
  },
  {
   "cell_type": "code",
   "execution_count": 187,
   "id": "1a8d1c78-dc40-4721-afd7-4d79de96be16",
   "metadata": {},
   "outputs": [
    {
     "data": {
      "text/plain": [
       "array([[ 0,  1],\n",
       "       [10, 11]])"
      ]
     },
     "execution_count": 187,
     "metadata": {},
     "output_type": "execute_result"
    }
   ],
   "source": [
    "np.min(x, axis=1)"
   ]
  },
  {
   "cell_type": "code",
   "execution_count": 188,
   "id": "189f9604-7ab5-4cb2-bd99-2eb78acd1ccd",
   "metadata": {},
   "outputs": [
    {
     "data": {
      "text/plain": [
       "array([[ 0,  2,  4,  6,  8],\n",
       "       [10, 12, 14, 16, 18]])"
      ]
     },
     "execution_count": 188,
     "metadata": {},
     "output_type": "execute_result"
    }
   ],
   "source": [
    "x.min(axis=2)"
   ]
  },
  {
   "cell_type": "markdown",
   "id": "e85674a2-0419-44c7-bd7c-1c9069c0b9a9",
   "metadata": {},
   "source": [
    "### iterable(반복가능한가?) 확인하기"
   ]
  },
  {
   "cell_type": "code",
   "execution_count": 189,
   "id": "903bf8e1-31a2-43da-a960-0a58b3cfb927",
   "metadata": {},
   "outputs": [
    {
     "data": {
      "text/plain": [
       "True"
      ]
     },
     "execution_count": 189,
     "metadata": {},
     "output_type": "execute_result"
    }
   ],
   "source": [
    "hasattr(range, \"__iter__\") # True이면 iterable 하다는 것"
   ]
  },
  {
   "cell_type": "markdown",
   "id": "27532a30-ec64-4aaf-a055-1c788a418593",
   "metadata": {},
   "source": [
    "### 차원축소 연산 - argmin()  \n",
    "argmin() 메서드는 해당 배열의 제일 작은 값의 인덱스를 반환. 연산 대상이 2차원 이상일 때에는 axis 키워드 인수를 사용할 수 있음."
   ]
  },
  {
   "cell_type": "code",
   "execution_count": 190,
   "id": "68f8a846-1608-4576-9c96-c29e84a354f1",
   "metadata": {},
   "outputs": [
    {
     "data": {
      "text/plain": [
       "array([[[ 0,  1],\n",
       "        [ 2,  3],\n",
       "        [ 4,  5],\n",
       "        [ 6,  7],\n",
       "        [ 8,  9]],\n",
       "\n",
       "       [[10, 11],\n",
       "        [12, 13],\n",
       "        [14, 15],\n",
       "        [16, 17],\n",
       "        [18, 19]]])"
      ]
     },
     "execution_count": 190,
     "metadata": {},
     "output_type": "execute_result"
    }
   ],
   "source": [
    "x"
   ]
  },
  {
   "cell_type": "code",
   "execution_count": 191,
   "id": "f332da50-aa98-41db-981e-1d611ea63d40",
   "metadata": {},
   "outputs": [
    {
     "data": {
      "text/plain": [
       "0"
      ]
     },
     "execution_count": 191,
     "metadata": {},
     "output_type": "execute_result"
    }
   ],
   "source": [
    "x.argmin()"
   ]
  },
  {
   "cell_type": "code",
   "execution_count": 192,
   "id": "128e43d8-c8d3-4024-a6f7-231a886da573",
   "metadata": {},
   "outputs": [
    {
     "data": {
      "text/plain": [
       "0"
      ]
     },
     "execution_count": 192,
     "metadata": {},
     "output_type": "execute_result"
    }
   ],
   "source": [
    "np.argmin(x)"
   ]
  },
  {
   "cell_type": "code",
   "execution_count": 193,
   "id": "fe78190f-bc53-426b-905b-f5f06bf314fb",
   "metadata": {},
   "outputs": [
    {
     "data": {
      "text/plain": [
       "array([[0, 0],\n",
       "       [0, 0],\n",
       "       [0, 0],\n",
       "       [0, 0],\n",
       "       [0, 0]], dtype=int64)"
      ]
     },
     "execution_count": 193,
     "metadata": {},
     "output_type": "execute_result"
    }
   ],
   "source": [
    "x.argmin(axis=0)"
   ]
  },
  {
   "cell_type": "code",
   "execution_count": 194,
   "id": "4f359ece-543f-444b-9e29-7e5ffa2bb514",
   "metadata": {},
   "outputs": [
    {
     "data": {
      "text/plain": [
       "array([[0, 0],\n",
       "       [0, 0]], dtype=int64)"
      ]
     },
     "execution_count": 194,
     "metadata": {},
     "output_type": "execute_result"
    }
   ],
   "source": [
    "np.argmin(x, axis = 1)"
   ]
  },
  {
   "cell_type": "code",
   "execution_count": 195,
   "id": "87516e61-6a61-492f-80ae-6d216ac2aa0d",
   "metadata": {},
   "outputs": [
    {
     "data": {
      "text/plain": [
       "array([[0, 0, 0, 0, 0],\n",
       "       [0, 0, 0, 0, 0]], dtype=int64)"
      ]
     },
     "execution_count": 195,
     "metadata": {},
     "output_type": "execute_result"
    }
   ],
   "source": [
    "x.argmin(axis=2)"
   ]
  },
  {
   "cell_type": "markdown",
   "id": "c77f1fe3-4ff6-412c-b5a7-32ab43061357",
   "metadata": {},
   "source": [
    "### 차원축소연산 - max()  \n",
    "max()메서드는 해당 배열의 제일 큰 값의 결과를 반환. 마찬가지로 axis 키워드 인수 사용가능"
   ]
  },
  {
   "cell_type": "code",
   "execution_count": 196,
   "id": "a6908ce1-b275-48c5-8c1b-0292d4d60a2e",
   "metadata": {},
   "outputs": [
    {
     "data": {
      "text/plain": [
       "array([[[ 0,  1],\n",
       "        [ 2,  3],\n",
       "        [ 4,  5],\n",
       "        [ 6,  7],\n",
       "        [ 8,  9]],\n",
       "\n",
       "       [[10, 11],\n",
       "        [12, 13],\n",
       "        [14, 15],\n",
       "        [16, 17],\n",
       "        [18, 19]]])"
      ]
     },
     "execution_count": 196,
     "metadata": {},
     "output_type": "execute_result"
    }
   ],
   "source": [
    "x"
   ]
  },
  {
   "cell_type": "code",
   "execution_count": 197,
   "id": "fc01ad76-4390-4107-bf57-b29406d57276",
   "metadata": {},
   "outputs": [
    {
     "data": {
      "text/plain": [
       "19"
      ]
     },
     "execution_count": 197,
     "metadata": {},
     "output_type": "execute_result"
    }
   ],
   "source": [
    "x.max()"
   ]
  },
  {
   "cell_type": "code",
   "execution_count": 199,
   "id": "bbf5435e-2a53-4eec-8d5a-1c50119dc4ea",
   "metadata": {},
   "outputs": [
    {
     "data": {
      "text/plain": [
       "19"
      ]
     },
     "execution_count": 199,
     "metadata": {},
     "output_type": "execute_result"
    }
   ],
   "source": [
    "np.max(x)"
   ]
  },
  {
   "cell_type": "code",
   "execution_count": 200,
   "id": "d2a2a464-2341-470d-85ac-5b3034d0a104",
   "metadata": {},
   "outputs": [
    {
     "data": {
      "text/plain": [
       "array([[10, 11],\n",
       "       [12, 13],\n",
       "       [14, 15],\n",
       "       [16, 17],\n",
       "       [18, 19]])"
      ]
     },
     "execution_count": 200,
     "metadata": {},
     "output_type": "execute_result"
    }
   ],
   "source": [
    "x.max(axis=0)"
   ]
  },
  {
   "cell_type": "code",
   "execution_count": 201,
   "id": "e3c29f84-992e-4e2e-936d-8ed772097413",
   "metadata": {},
   "outputs": [
    {
     "data": {
      "text/plain": [
       "array([[ 8,  9],\n",
       "       [18, 19]])"
      ]
     },
     "execution_count": 201,
     "metadata": {},
     "output_type": "execute_result"
    }
   ],
   "source": [
    "np.max(x,axis=1)"
   ]
  },
  {
   "cell_type": "code",
   "execution_count": 202,
   "id": "c7d0e69f-f1c2-4924-9141-f16d2f5e07df",
   "metadata": {},
   "outputs": [
    {
     "data": {
      "text/plain": [
       "array([[ 1,  3,  5,  7,  9],\n",
       "       [11, 13, 15, 17, 19]])"
      ]
     },
     "execution_count": 202,
     "metadata": {},
     "output_type": "execute_result"
    }
   ],
   "source": [
    "x.max(axis=2)"
   ]
  },
  {
   "cell_type": "markdown",
   "id": "01244d20-4234-44da-a006-1f715cc7a614",
   "metadata": {},
   "source": [
    "### 차원축소연산 - argmax() \n",
    "argmax() 메서드는 해당 배열의 제일 큰 값의 인덱스를 반환. 2차원이상일 때 마찬가지로 axis 키워드 인수 이용가능"
   ]
  },
  {
   "cell_type": "code",
   "execution_count": 203,
   "id": "87d2c7f0-efb8-462a-bc59-9b5222046d63",
   "metadata": {},
   "outputs": [
    {
     "data": {
      "text/plain": [
       "array([[[ 0,  1],\n",
       "        [ 2,  3],\n",
       "        [ 4,  5],\n",
       "        [ 6,  7],\n",
       "        [ 8,  9]],\n",
       "\n",
       "       [[10, 11],\n",
       "        [12, 13],\n",
       "        [14, 15],\n",
       "        [16, 17],\n",
       "        [18, 19]]])"
      ]
     },
     "execution_count": 203,
     "metadata": {},
     "output_type": "execute_result"
    }
   ],
   "source": [
    "x"
   ]
  },
  {
   "cell_type": "code",
   "execution_count": 204,
   "id": "736cda94-1631-4e13-8495-ac76c7f53d1e",
   "metadata": {},
   "outputs": [
    {
     "data": {
      "text/plain": [
       "19"
      ]
     },
     "execution_count": 204,
     "metadata": {},
     "output_type": "execute_result"
    }
   ],
   "source": [
    "x.argmax()"
   ]
  },
  {
   "cell_type": "code",
   "execution_count": 205,
   "id": "8cff254b-1274-4a7f-ad76-9a2c0a0f09af",
   "metadata": {},
   "outputs": [
    {
     "data": {
      "text/plain": [
       "19"
      ]
     },
     "execution_count": 205,
     "metadata": {},
     "output_type": "execute_result"
    }
   ],
   "source": [
    "np.argmax(x)"
   ]
  },
  {
   "cell_type": "code",
   "execution_count": 206,
   "id": "69ca0176-7964-4ca8-b520-e143803c08ba",
   "metadata": {},
   "outputs": [
    {
     "data": {
      "text/plain": [
       "array([[1, 1],\n",
       "       [1, 1],\n",
       "       [1, 1],\n",
       "       [1, 1],\n",
       "       [1, 1]], dtype=int64)"
      ]
     },
     "execution_count": 206,
     "metadata": {},
     "output_type": "execute_result"
    }
   ],
   "source": [
    "x.argmax(axis=0)"
   ]
  },
  {
   "cell_type": "code",
   "execution_count": 207,
   "id": "23054d4e-e039-4ba3-8679-d3652e1461aa",
   "metadata": {},
   "outputs": [
    {
     "data": {
      "text/plain": [
       "array([[4, 4],\n",
       "       [4, 4]], dtype=int64)"
      ]
     },
     "execution_count": 207,
     "metadata": {},
     "output_type": "execute_result"
    }
   ],
   "source": [
    "np.argmax(x, axis=1)"
   ]
  },
  {
   "cell_type": "code",
   "execution_count": 208,
   "id": "4cbe11d5-9276-4a46-9e52-10252b827902",
   "metadata": {},
   "outputs": [
    {
     "data": {
      "text/plain": [
       "array([[1, 1, 1, 1, 1],\n",
       "       [1, 1, 1, 1, 1]], dtype=int64)"
      ]
     },
     "execution_count": 208,
     "metadata": {},
     "output_type": "execute_result"
    }
   ],
   "source": [
    "np.argmax(x, axis=2)"
   ]
  },
  {
   "cell_type": "markdown",
   "id": "4daf9528-9dca-4882-83d0-b87668de0517",
   "metadata": {},
   "source": [
    "### 차원축소연산 -mean(), median(), np.all(), np.any()  \n",
    "1. mean() : 평균\n",
    "2. median() : 중앙값\n",
    "3. np.all() : 배열 요소가 모두 True일 때 True를 반환.(하나라도 False이면 False)\n",
    "4. np.any() : 배열 요소가 하나라도 True 이면 True반환 (전부 False 이면 False)"
   ]
  },
  {
   "cell_type": "markdown",
   "id": "d6d663db-349c-493d-b21a-4a9b99462b83",
   "metadata": {},
   "source": [
    "### 연습문제"
   ]
  },
  {
   "cell_type": "code",
   "execution_count": 220,
   "id": "27793eb0-83ff-4804-b899-401581134432",
   "metadata": {},
   "outputs": [],
   "source": [
    "practice = np.array([[1.1, 7.1, 8.0, 2.1, 6.5, 7.2],\n",
    "                     [2.7, 5.2, 3.3, 9.0, 7.7, 2.8],\n",
    "                     [0.7, 8.8, 4.2, 8.9, 4.3, 7.4],\n",
    "                     [8.2, 1.1, 5.4, 2.9, 6.9, 0.2],\n",
    "                     [7.4, 4.8, 2.7, 3.1, 2.8, 8.9]])"
   ]
  },
  {
   "cell_type": "code",
   "execution_count": 221,
   "id": "9c01aa0a-4d83-4db8-b8c3-c0d8c36e4849",
   "metadata": {},
   "outputs": [
    {
     "name": "stdout",
     "output_type": "stream",
     "text": [
      "9.0\n",
      "[20.1 27.  23.6 26.  28.2 26.5]\n",
      "[8.2 8.8 8.  9.  7.7 8.9]\n",
      "[5.33333333 5.11666667 5.71666667 4.11666667 4.95      ]\n",
      "[1.1 2.7 0.7 0.2 2.7]\n"
     ]
    }
   ],
   "source": [
    "print(np.max(practice))\n",
    "print(np.sum(practice,axis=0))\n",
    "print(np.max(practice,axis=0))\n",
    "print(np.mean(practice,axis=1))\n",
    "print(np.min(practice, axis=1))"
   ]
  },
  {
   "cell_type": "code",
   "execution_count": 222,
   "id": "e840735c-dacb-4a2c-b2e7-4d7734470832",
   "metadata": {},
   "outputs": [
    {
     "name": "stdout",
     "output_type": "stream",
     "text": [
      "9.0\n",
      "[32.  30.7 34.3 24.7 29.7]\n",
      "[8.  9.  8.9 8.2 8.9]\n",
      "[4.02 5.4  4.72 5.2  5.64 5.3 ]\n",
      "[0.7 1.1 2.7 2.1 2.8 0.2]\n"
     ]
    }
   ],
   "source": [
    "print(np.max(practice))\n",
    "print(np.sum(practice,axis=1))\n",
    "print(np.max(practice,axis=1))\n",
    "print(np.mean(practice,axis=0))\n",
    "print(np.min(practice, axis=0))"
   ]
  },
  {
   "cell_type": "markdown",
   "id": "24a441f4-1fa6-4710-96e0-b8d13d677a9d",
   "metadata": {},
   "source": [
    "## 정렬  \n",
    "numpy.sort() 를 사용하여 배열 안의 원소를 크기에 따라 정렬하여 새로운 배열을 만들 수도 있음.  \n",
    "2차원 이상의 경우에는 행이나 열을 각각 따로따로 정렬하는데 axis인수를 사용하여 행을 정렬할 것인지 열을 정렬할 것인지 결정.  \n",
    "axis = 0이면 각각의 행을 따로따로 정렬하고, axis = 1 이면 각각의 열을 따로따로 정렬함.  \n",
    "디폴트 값은 -1 즉, 가장 안쪽(나중)의 차원임."
   ]
  },
  {
   "cell_type": "code",
   "execution_count": 223,
   "id": "e213e5a3-9191-42b6-aaed-30c1df030e94",
   "metadata": {},
   "outputs": [
    {
     "data": {
      "text/plain": [
       "array([[ 4,  3,  5,  7],\n",
       "       [ 1, 12, 11,  9],\n",
       "       [ 2, 15,  1, 14]])"
      ]
     },
     "execution_count": 223,
     "metadata": {},
     "output_type": "execute_result"
    }
   ],
   "source": [
    "a = np.array([[4,3,5,7],\n",
    "              [1,12,11,9],\n",
    "              [2,15,1,14]])\n",
    "a"
   ]
  },
  {
   "cell_type": "code",
   "execution_count": 225,
   "id": "514ae26e-0cf7-446f-89a6-f50ac1e86687",
   "metadata": {},
   "outputs": [
    {
     "data": {
      "text/plain": [
       "array([[ 3,  4,  5,  7],\n",
       "       [ 1,  9, 11, 12],\n",
       "       [ 1,  2, 14, 15]])"
      ]
     },
     "execution_count": 225,
     "metadata": {},
     "output_type": "execute_result"
    }
   ],
   "source": [
    "np.sort(a) # axis = -1 or axis = 1 과 동일"
   ]
  },
  {
   "cell_type": "code",
   "execution_count": 226,
   "id": "03e5a66a-9e0c-4a06-982e-a520db192f96",
   "metadata": {},
   "outputs": [
    {
     "data": {
      "text/plain": [
       "array([[ 1,  3,  1,  7],\n",
       "       [ 2, 12,  5,  9],\n",
       "       [ 4, 15, 11, 14]])"
      ]
     },
     "execution_count": 226,
     "metadata": {},
     "output_type": "execute_result"
    }
   ],
   "source": [
    "np.sort(a, axis = 0)"
   ]
  },
  {
   "cell_type": "code",
   "execution_count": 227,
   "id": "3b705197-3ee4-4258-a7a7-80dbb9e907f7",
   "metadata": {},
   "outputs": [
    {
     "data": {
      "text/plain": [
       "array([[ 5,  4,  6,  8],\n",
       "       [ 2, 13, 12, 10],\n",
       "       [ 3, 16,  2, 15]])"
      ]
     },
     "execution_count": 227,
     "metadata": {},
     "output_type": "execute_result"
    }
   ],
   "source": [
    "b = a +1\n",
    "b"
   ]
  },
  {
   "cell_type": "code",
   "execution_count": 231,
   "id": "d4db9ae5-0258-46a0-9217-e750835f2b3b",
   "metadata": {},
   "outputs": [
    {
     "data": {
      "text/plain": [
       "array([[[ 4,  3,  5,  7],\n",
       "        [ 1, 12, 11,  9],\n",
       "        [ 2, 15,  1, 14]],\n",
       "\n",
       "       [[ 5,  4,  6,  8],\n",
       "        [ 2, 13, 12, 10],\n",
       "        [ 3, 16,  2, 15]]])"
      ]
     },
     "execution_count": 231,
     "metadata": {},
     "output_type": "execute_result"
    }
   ],
   "source": [
    "c = np.stack([a,b])\n",
    "c"
   ]
  },
  {
   "cell_type": "code",
   "execution_count": 232,
   "id": "b29b98c2-8bf1-4d08-b453-15be2588633e",
   "metadata": {},
   "outputs": [
    {
     "data": {
      "text/plain": [
       "array([[[ 3,  4,  5,  7],\n",
       "        [ 1,  9, 11, 12],\n",
       "        [ 1,  2, 14, 15]],\n",
       "\n",
       "       [[ 4,  5,  6,  8],\n",
       "        [ 2, 10, 12, 13],\n",
       "        [ 2,  3, 15, 16]]])"
      ]
     },
     "execution_count": 232,
     "metadata": {},
     "output_type": "execute_result"
    }
   ],
   "source": [
    "np.sort(c)"
   ]
  },
  {
   "cell_type": "code",
   "execution_count": 233,
   "id": "8df3796a-b6ad-4494-bc82-313988e3292a",
   "metadata": {},
   "outputs": [
    {
     "data": {
      "text/plain": [
       "array([[[ 4,  3,  5,  7],\n",
       "        [ 1, 12, 11,  9],\n",
       "        [ 2, 15,  1, 14]],\n",
       "\n",
       "       [[ 5,  4,  6,  8],\n",
       "        [ 2, 13, 12, 10],\n",
       "        [ 3, 16,  2, 15]]])"
      ]
     },
     "execution_count": 233,
     "metadata": {},
     "output_type": "execute_result"
    }
   ],
   "source": [
    "np.sort(c, axis = 0)"
   ]
  },
  {
   "cell_type": "code",
   "execution_count": 234,
   "id": "cd71aa79-e8f9-46bf-85b8-f2c93b73f7b3",
   "metadata": {},
   "outputs": [
    {
     "data": {
      "text/plain": [
       "array([[[ 3,  4,  5,  7],\n",
       "        [ 1,  9, 11, 12],\n",
       "        [ 1,  2, 14, 15]],\n",
       "\n",
       "       [[ 4,  5,  6,  8],\n",
       "        [ 2, 10, 12, 13],\n",
       "        [ 2,  3, 15, 16]]])"
      ]
     },
     "execution_count": 234,
     "metadata": {},
     "output_type": "execute_result"
    }
   ],
   "source": [
    "np.sort(c,axis=2)"
   ]
  },
  {
   "cell_type": "markdown",
   "id": "05167c45-ea29-4c38-9fa4-abcc62b66e2a",
   "metadata": {},
   "source": [
    "### 순서만 알고 싶다면 argsort() 사용"
   ]
  },
  {
   "cell_type": "code",
   "execution_count": 235,
   "id": "4cdc8f03-5f59-47ea-b059-9a7b3a1cba6d",
   "metadata": {},
   "outputs": [
    {
     "data": {
      "text/plain": [
       "array([2, 3, 1, 0], dtype=int64)"
      ]
     },
     "execution_count": 235,
     "metadata": {},
     "output_type": "execute_result"
    }
   ],
   "source": [
    "a = np.array([42, 38, 12, 25])\n",
    "j = np.argsort(a)\n",
    "j"
   ]
  },
  {
   "cell_type": "code",
   "execution_count": 236,
   "id": "7f830928-10cf-4519-8011-2c9332772d0c",
   "metadata": {},
   "outputs": [
    {
     "data": {
      "text/plain": [
       "array([12, 25, 38, 42])"
      ]
     },
     "execution_count": 236,
     "metadata": {},
     "output_type": "execute_result"
    }
   ],
   "source": [
    "a[j]"
   ]
  },
  {
   "cell_type": "code",
   "execution_count": 237,
   "id": "c9e3e50d-e762-4118-81ec-136856e4da82",
   "metadata": {},
   "outputs": [
    {
     "data": {
      "text/plain": [
       "array([12, 25, 38, 42])"
      ]
     },
     "execution_count": 237,
     "metadata": {},
     "output_type": "execute_result"
    }
   ],
   "source": [
    "np.sort(a)"
   ]
  },
  {
   "cell_type": "markdown",
   "id": "98e25e5f-6618-47d3-aca6-3d39d41bd528",
   "metadata": {},
   "source": [
    "### 고급 인덱싱 - 인덱스 배열을 사용한 인덱싱  \n",
    "인덱싱을 할 때 인덱스 위치를 나타내는 배열을 활용하여 인덱싱이 가능하다.  "
   ]
  },
  {
   "cell_type": "code",
   "execution_count": 238,
   "id": "e9d6ae8a-b5d1-43fa-a53d-ca94e4d853a9",
   "metadata": {},
   "outputs": [
    {
     "data": {
      "text/plain": [
       "array([[1, 2],\n",
       "       [3, 4],\n",
       "       [5, 6]])"
      ]
     },
     "execution_count": 238,
     "metadata": {},
     "output_type": "execute_result"
    }
   ],
   "source": [
    "a = np.array([[1,2],[3,4],[5,6]])\n",
    "a"
   ]
  },
  {
   "cell_type": "code",
   "execution_count": 240,
   "id": "f3ad48f9-b1f3-4265-abb8-004d50e71229",
   "metadata": {},
   "outputs": [
    {
     "name": "stdout",
     "output_type": "stream",
     "text": [
      "[1 4 5]\n"
     ]
    }
   ],
   "source": [
    "print(a[[0,1,2], [0,1,0]]) # a[0,0] ,a[1,1], a[2,0]을 인덷ㄱ스로 하는 1차원 배열을 출력."
   ]
  },
  {
   "cell_type": "markdown",
   "id": "a276d969-c1a5-4b90-8e48-492e13a0647a",
   "metadata": {},
   "source": [
    "슬라이싱 범위도 결국 인덱스 배열이라고 생각하면 된다."
   ]
  },
  {
   "cell_type": "code",
   "execution_count": 241,
   "id": "1cd610df-634a-4594-93f8-5394f2fa0db5",
   "metadata": {},
   "outputs": [
    {
     "data": {
      "text/plain": [
       "array([[1, 2],\n",
       "       [3, 4],\n",
       "       [5, 6]])"
      ]
     },
     "execution_count": 241,
     "metadata": {},
     "output_type": "execute_result"
    }
   ],
   "source": [
    "a"
   ]
  },
  {
   "cell_type": "code",
   "execution_count": 242,
   "id": "fe5a7418-5012-4a53-94df-a6652662003d",
   "metadata": {},
   "outputs": [
    {
     "name": "stdout",
     "output_type": "stream",
     "text": [
      "[[1 2 1]\n",
      " [3 4 3]\n",
      " [5 6 5]]\n"
     ]
    }
   ],
   "source": [
    "print(a[:, [0,1,0]])"
   ]
  },
  {
   "cell_type": "markdown",
   "id": "758fa9f6-ae07-43c0-93fe-e6131910642a",
   "metadata": {},
   "source": [
    "### 연습문제"
   ]
  },
  {
   "cell_type": "code",
   "execution_count": 249,
   "id": "13a674f5-a4d2-49c7-97ae-52c2544f7026",
   "metadata": {},
   "outputs": [
    {
     "data": {
      "text/plain": [
       "array([[  1,   2,   3,   4],\n",
       "       [ 46,  99, 100,  71],\n",
       "       [ 81,  59,  90, 100]])"
      ]
     },
     "execution_count": 249,
     "metadata": {},
     "output_type": "execute_result"
    }
   ],
   "source": [
    "scores = np.array([[1, 2, 3, 4],\n",
    "                  [46, 99, 100, 71],\n",
    "                  [81, 59, 90, 100]])\n",
    "scores"
   ]
  },
  {
   "cell_type": "code",
   "execution_count": 250,
   "id": "aec04a3c-79b2-418d-886a-3f533a12df6c",
   "metadata": {},
   "outputs": [],
   "source": [
    "lin = np.argsort(scores[1, :])"
   ]
  },
  {
   "cell_type": "code",
   "execution_count": 251,
   "id": "38dcd799-3a13-4fb0-a9b2-a5bd8d7c21f7",
   "metadata": {},
   "outputs": [
    {
     "data": {
      "text/plain": [
       "array([0, 3, 1, 2], dtype=int64)"
      ]
     },
     "execution_count": 251,
     "metadata": {},
     "output_type": "execute_result"
    }
   ],
   "source": [
    "lin"
   ]
  },
  {
   "cell_type": "code",
   "execution_count": 252,
   "id": "36de6e7b-7fb5-47a6-977c-9cb9dcb29668",
   "metadata": {},
   "outputs": [
    {
     "data": {
      "text/plain": [
       "array([[  1,   4,   2,   3],\n",
       "       [ 46,  71,  99, 100],\n",
       "       [ 81, 100,  59,  90]])"
      ]
     },
     "execution_count": 252,
     "metadata": {},
     "output_type": "execute_result"
    }
   ],
   "source": [
    "scores[: , lin]"
   ]
  },
  {
   "cell_type": "markdown",
   "id": "475e064c-1126-481b-841e-3e6aaf866cf7",
   "metadata": {},
   "source": [
    "## 기술통계  "
   ]
  },
  {
   "cell_type": "code",
   "execution_count": 253,
   "id": "a3ba07a0-6ac3-4846-a38f-2e4d14743d4c",
   "metadata": {},
   "outputs": [
    {
     "data": {
      "text/plain": [
       "array([ 18,   5,  10,  23,  19,  -8,  10,   0,   0,   5,   2,  15,   8,\n",
       "         2,   5,   4,  15,  -1,   4,  -7, -24,   7,   9,  -6,  23, -13])"
      ]
     },
     "execution_count": 253,
     "metadata": {},
     "output_type": "execute_result"
    }
   ],
   "source": [
    "x = np.array([18, 5, 10, 23, 19, -8, 10, 0, 0, 5, 2, 15, 8, 2, 5, 4, 15, -1,4, -7,-24, 7, 9, -6, 23, -13])\n",
    "x"
   ]
  },
  {
   "cell_type": "markdown",
   "id": "29672047-676f-41df-8dab-ef4e9fb95bd5",
   "metadata": {},
   "source": [
    "### 표본평균 (sample average, sample mean)  \n",
    "np.mean() 로 사용"
   ]
  },
  {
   "cell_type": "code",
   "execution_count": 254,
   "id": "a935bfd7-be48-4cc3-9d19-d5b98dfa0f45",
   "metadata": {},
   "outputs": [
    {
     "data": {
      "text/plain": [
       "4.8076923076923075"
      ]
     },
     "execution_count": 254,
     "metadata": {},
     "output_type": "execute_result"
    }
   ],
   "source": [
    "np.mean(x)"
   ]
  },
  {
   "cell_type": "markdown",
   "id": "34b9c651-5c3c-4242-93ba-120f4d86d023",
   "metadata": {},
   "source": [
    "### 표본 분산(sample variance)  \n",
    "데이터와 표본 평균간의 거리의 제곱의 평균  \n",
    "np.var()"
   ]
  },
  {
   "cell_type": "code",
   "execution_count": 255,
   "id": "df0d64fe-0973-48b8-b853-3b5bbe2bb1ca",
   "metadata": {},
   "outputs": [
    {
     "data": {
      "text/plain": [
       "115.23224852071006"
      ]
     },
     "execution_count": 255,
     "metadata": {},
     "output_type": "execute_result"
    }
   ],
   "source": [
    "np.var(x)"
   ]
  },
  {
   "cell_type": "markdown",
   "id": "748c0bb1-4b74-4467-bddc-82a08ec8677d",
   "metadata": {},
   "source": [
    "### 표본 표준편차 / 최댓값 최소값/ 중앙값  \n",
    "np.std() / np.max() & np.min() / np.median()"
   ]
  },
  {
   "cell_type": "code",
   "execution_count": 257,
   "id": "4df16fce-9380-402a-9e1c-7475d0272195",
   "metadata": {},
   "outputs": [
    {
     "data": {
      "text/plain": [
       "10.734628476137871"
      ]
     },
     "execution_count": 257,
     "metadata": {},
     "output_type": "execute_result"
    }
   ],
   "source": [
    "np.std(x)"
   ]
  },
  {
   "cell_type": "code",
   "execution_count": 259,
   "id": "bbcb3d34-472d-4d45-b170-89a96e5dc510",
   "metadata": {},
   "outputs": [
    {
     "data": {
      "text/plain": [
       "5.0"
      ]
     },
     "execution_count": 259,
     "metadata": {},
     "output_type": "execute_result"
    }
   ],
   "source": [
    "np.median(x)"
   ]
  },
  {
   "cell_type": "markdown",
   "id": "a0e58372-dd97-42ed-9444-5f8d3301554e",
   "metadata": {},
   "source": [
    "### 사분위수 (quartile)  \n",
    "가장 작은 수부터 큰 수까지 크기가 커지는 순서대로 정렬했을 때 4등분 위치에 있는 수를 의미."
   ]
  },
  {
   "cell_type": "code",
   "execution_count": 268,
   "id": "8a1c87df-b630-41e0-ba39-913492ca7e4a",
   "metadata": {},
   "outputs": [
    {
     "data": {
      "text/plain": [
       "-24.0"
      ]
     },
     "execution_count": 268,
     "metadata": {},
     "output_type": "execute_result"
    }
   ],
   "source": [
    "np.percentile(x,0) # 최소값"
   ]
  },
  {
   "cell_type": "code",
   "execution_count": 269,
   "id": "84d69744-bdf5-4171-b67a-1c05d6720e5f",
   "metadata": {},
   "outputs": [
    {
     "data": {
      "text/plain": [
       "0.0"
      ]
     },
     "execution_count": 269,
     "metadata": {},
     "output_type": "execute_result"
    }
   ],
   "source": [
    "np.percentile(x,25) #1사분위"
   ]
  },
  {
   "cell_type": "code",
   "execution_count": 270,
   "id": "85927b8d-885b-421e-923c-1565162ee56b",
   "metadata": {},
   "outputs": [
    {
     "data": {
      "text/plain": [
       "5.0"
      ]
     },
     "execution_count": 270,
     "metadata": {},
     "output_type": "execute_result"
    }
   ],
   "source": [
    "np.percentile(x,50) #2사분위"
   ]
  },
  {
   "cell_type": "code",
   "execution_count": 271,
   "id": "cf84473e-0b40-43d3-a34a-cb356f7897c7",
   "metadata": {},
   "outputs": [
    {
     "data": {
      "text/plain": [
       "10.0"
      ]
     },
     "execution_count": 271,
     "metadata": {},
     "output_type": "execute_result"
    }
   ],
   "source": [
    "np.percentile(x,75) #3사분위"
   ]
  },
  {
   "cell_type": "code",
   "execution_count": 272,
   "id": "b21439e0-01a7-4d6b-9e40-9dac43f7c540",
   "metadata": {},
   "outputs": [
    {
     "data": {
      "text/plain": [
       "23.0"
      ]
     },
     "execution_count": 272,
     "metadata": {},
     "output_type": "execute_result"
    }
   ],
   "source": [
    "np.percentile(x,100) # 최댓값"
   ]
  },
  {
   "cell_type": "markdown",
   "id": "21b7fe6c-932b-4143-b2be-fa557cdbf9f9",
   "metadata": {},
   "source": [
    "## 난수발생과 카운팅  \n",
    "Numpy에서 random서브패키지가 있음.  \n",
    "numpy.random을 이용 <=> 표준라이브러리인 random과는 다름"
   ]
  },
  {
   "cell_type": "markdown",
   "id": "c87fa1e3-ee96-4666-8a0f-89e160003e05",
   "metadata": {},
   "source": [
    "### 시드 설정하기  \n",
    "컴퓨터 프로그램에서 발생하는 무작위 수는 엄격한 의미의 무작위 수가 아님.  \n",
    "어떤 특정한 시작 숫자를 정해주면 컴퓨터가 정해진 알고리즘에 의해 마치 난수처럼 보이는 수열을 생성.  \n",
    "이런 기준이 되는 시작 숫자를 시드(seed) 라고 함.  \n",
    "일단 생성이 된 난수는 다음 번 난수 생성을 위한 시드값이 됨.  \n",
    "따라서 시드값은 한 번만 정해주면 됨.  \n",
    "시드는 보통 현재 시각을 이용하여 자동으로 정해지지만 사람이 수동으로 설정할 수도 있음."
   ]
  },
  {
   "cell_type": "markdown",
   "id": "8dd16481-07d1-4513-b5b3-44feb58371cf",
   "metadata": {},
   "source": [
    "### 파이썬에서 시드를 설정하는 함수는 seed임. 인수로는 0과 같거나 큰 정수를 넣어줌  \n",
    "  \n",
    "  np.random.seed(0)\n",
    "  \n",
    "이렇게 시드를 설정한 후 넘파이 random 서브퍀키지에 있는 rand함수로 5개의 난수를 생성"
   ]
  },
  {
   "cell_type": "code",
   "execution_count": 273,
   "id": "a8637d8a-66be-4634-8c5f-d2a1440d6344",
   "metadata": {},
   "outputs": [
    {
     "data": {
      "text/plain": [
       "array([0.5488135 , 0.71518937, 0.60276338, 0.54488318, 0.4236548 ])"
      ]
     },
     "execution_count": 273,
     "metadata": {},
     "output_type": "execute_result"
    }
   ],
   "source": [
    "np.random.seed(0)\n",
    "np.random.rand(5)"
   ]
  },
  {
   "cell_type": "code",
   "execution_count": 274,
   "id": "4215b221-133e-46b8-87f7-5706b6b8da03",
   "metadata": {},
   "outputs": [
    {
     "data": {
      "text/plain": [
       "array([0.64589411, 0.43758721, 0.891773  , 0.96366276, 0.38344152,\n",
       "       0.79172504, 0.52889492, 0.56804456, 0.92559664, 0.07103606])"
      ]
     },
     "execution_count": 274,
     "metadata": {},
     "output_type": "execute_result"
    }
   ],
   "source": [
    "np.random.rand(10)"
   ]
  },
  {
   "cell_type": "code",
   "execution_count": 275,
   "id": "38baf8de-5152-4419-9a4f-089867313789",
   "metadata": {},
   "outputs": [
    {
     "data": {
      "text/plain": [
       "array([0.0871293 , 0.0202184 , 0.83261985, 0.77815675, 0.87001215,\n",
       "       0.97861834, 0.79915856, 0.46147936, 0.78052918, 0.11827443])"
      ]
     },
     "execution_count": 275,
     "metadata": {},
     "output_type": "execute_result"
    }
   ],
   "source": [
    "np.random.rand(10)"
   ]
  },
  {
   "cell_type": "code",
   "execution_count": 276,
   "id": "05244367-d489-4727-b935-e437856555e9",
   "metadata": {},
   "outputs": [
    {
     "data": {
      "text/plain": [
       "array([0.5488135 , 0.71518937, 0.60276338, 0.54488318, 0.4236548 ])"
      ]
     },
     "execution_count": 276,
     "metadata": {},
     "output_type": "execute_result"
    }
   ],
   "source": [
    "np.random.seed(0)\n",
    "np.random.rand(5)"
   ]
  },
  {
   "cell_type": "code",
   "execution_count": 277,
   "id": "b2107667-b441-4e7a-b98f-5375e7b1d4dc",
   "metadata": {},
   "outputs": [
    {
     "data": {
      "text/plain": [
       "array([0.64589411, 0.43758721, 0.891773  , 0.96366276, 0.38344152,\n",
       "       0.79172504, 0.52889492, 0.56804456, 0.92559664, 0.07103606])"
      ]
     },
     "execution_count": 277,
     "metadata": {},
     "output_type": "execute_result"
    }
   ],
   "source": [
    "np.random.rand(10)"
   ]
  },
  {
   "cell_type": "code",
   "execution_count": 278,
   "id": "1b56459f-205c-421d-bc15-b8d68b5be23b",
   "metadata": {},
   "outputs": [
    {
     "data": {
      "text/plain": [
       "array([0.0871293 , 0.0202184 , 0.83261985, 0.77815675, 0.87001215,\n",
       "       0.97861834, 0.79915856, 0.46147936, 0.78052918, 0.11827443])"
      ]
     },
     "execution_count": 278,
     "metadata": {},
     "output_type": "execute_result"
    }
   ],
   "source": [
    "np.random.rand(10)"
   ]
  },
  {
   "cell_type": "markdown",
   "id": "82b821b4-50e7-4242-b37c-aa5bbd6f0d33",
   "metadata": {},
   "source": [
    "### 데이터의 순서 바꾸기  \n",
    "shuffle 함수 이용 -> shuffle 함수도 자체 변환 함수이므로 한번 사용하면 변수의 값이 변경됨.  "
   ]
  },
  {
   "cell_type": "code",
   "execution_count": 279,
   "id": "547e7b14-a42a-4935-9457-a1797a49641b",
   "metadata": {},
   "outputs": [
    {
     "data": {
      "text/plain": [
       "array([0, 1, 2, 3, 4, 5, 6, 7, 8, 9])"
      ]
     },
     "execution_count": 279,
     "metadata": {},
     "output_type": "execute_result"
    }
   ],
   "source": [
    "x = np.arange(10)\n",
    "x"
   ]
  },
  {
   "cell_type": "code",
   "execution_count": 280,
   "id": "560fd33f-72be-4b5c-b324-dd0a2420952d",
   "metadata": {},
   "outputs": [
    {
     "data": {
      "text/plain": [
       "array([3, 6, 4, 5, 2, 9, 7, 8, 1, 0])"
      ]
     },
     "execution_count": 280,
     "metadata": {},
     "output_type": "execute_result"
    }
   ],
   "source": [
    "np.random.shuffle(x)\n",
    "x"
   ]
  },
  {
   "cell_type": "markdown",
   "id": "6e32eb9c-3657-4703-83a2-0ae107b5bc11",
   "metadata": {},
   "source": [
    "### 데이터 샘플링  \n",
    "데이터 집합에서 일부를 무작위로 선택하는 것을 표본선택 혹은 샘플링(sampling)이라함.  \n",
    "choice 함수를 이용.  \n",
    "  \n",
    "  numpy.random.choice(a, size= None, replace = True, p=None)  \n",
    "  \n",
    "a : 배열이면 원래의 데이터, 정수이면 arange(a) 명령으로 데이터 생성  \n",
    "size : 정수, 샘플 숫자.  \n",
    "replace : 불리언. True 이면 한번 선택한 데이터를 다시 선택 가능  \n",
    "p : 배열, 각 데이터가 선택될 수 있는 확률."
   ]
  },
  {
   "cell_type": "code",
   "execution_count": 292,
   "id": "40b2ded4-e5b7-4bdb-a501-fa3d7a76b31b",
   "metadata": {},
   "outputs": [
    {
     "data": {
      "text/plain": [
       "array([3, 1, 2, 0, 4])"
      ]
     },
     "execution_count": 292,
     "metadata": {},
     "output_type": "execute_result"
    }
   ],
   "source": [
    "np.random.choice(5, 5, replace=False) #shuffle 명령과 같음"
   ]
  },
  {
   "cell_type": "code",
   "execution_count": 293,
   "id": "cc99137e-93e1-400d-9a6d-617e28c01da8",
   "metadata": {},
   "outputs": [
    {
     "data": {
      "text/plain": [
       "array([0, 1, 2, 3, 4])"
      ]
     },
     "execution_count": 293,
     "metadata": {},
     "output_type": "execute_result"
    }
   ],
   "source": [
    "np.random.choice(5, 5, replace=False) #shuffle 명령과 같음"
   ]
  },
  {
   "cell_type": "code",
   "execution_count": 294,
   "id": "2ec72f43-b935-435a-9513-17e175a6a2b5",
   "metadata": {},
   "outputs": [
    {
     "data": {
      "text/plain": [
       "array([4, 2, 3, 1, 0])"
      ]
     },
     "execution_count": 294,
     "metadata": {},
     "output_type": "execute_result"
    }
   ],
   "source": [
    "np.random.choice(5, 5, replace=False) #shuffle 명령과 같음"
   ]
  },
  {
   "cell_type": "code",
   "execution_count": 296,
   "id": "8b082556-f2bc-4b75-8413-bf01080e1b32",
   "metadata": {},
   "outputs": [
    {
     "data": {
      "text/plain": [
       "array([3, 4, 2])"
      ]
     },
     "execution_count": 296,
     "metadata": {},
     "output_type": "execute_result"
    }
   ],
   "source": [
    "np.random.choice(5, 3, replace=False) #3개만 선택"
   ]
  },
  {
   "cell_type": "code",
   "execution_count": 297,
   "id": "76cb1812-f08f-4f48-babf-90e42d7e9e65",
   "metadata": {},
   "outputs": [
    {
     "data": {
      "text/plain": [
       "array([2, 0, 3, 2, 2, 0, 1, 0, 2, 2])"
      ]
     },
     "execution_count": 297,
     "metadata": {},
     "output_type": "execute_result"
    }
   ],
   "source": [
    "np.random.choice(5, 10) #반복해서 10개 선택"
   ]
  },
  {
   "cell_type": "code",
   "execution_count": 298,
   "id": "d3fa4b5d-5104-4375-8266-a208e41a2014",
   "metadata": {},
   "outputs": [
    {
     "data": {
      "text/plain": [
       "array([3, 2, 3, 3, 3, 3, 2, 3, 3, 3])"
      ]
     },
     "execution_count": 298,
     "metadata": {},
     "output_type": "execute_result"
    }
   ],
   "source": [
    "np.random.choice(5, 10, p=[0.1, 0, 0.3, 0.6, 0]) #선택확률을 다르게해서 10개 선택"
   ]
  },
  {
   "cell_type": "markdown",
   "id": "ece6fd70-771a-4e22-9f0d-629169c7a047",
   "metadata": {},
   "source": [
    "p의 합은 1"
   ]
  },
  {
   "cell_type": "markdown",
   "id": "e5ec7afc-0f2d-4354-9b41-1c45dcef9f56",
   "metadata": {},
   "source": [
    "### 난수 생성  \n",
    "1. rand: 0부터 1사이의 균일 분포\n",
    "2. randn : 표준 정규 분포\n",
    "3. randint : 균일 분포의 정수 난수"
   ]
  },
  {
   "cell_type": "code",
   "execution_count": 299,
   "id": "4a689038-aa71-44de-954d-85e46cf0732f",
   "metadata": {},
   "outputs": [
    {
     "data": {
      "text/plain": [
       "array([0.91672295, 0.92115761, 0.08311249, 0.27771856, 0.0093567 ,\n",
       "       0.84234208, 0.64717414, 0.84138612, 0.26473016, 0.39782075])"
      ]
     },
     "execution_count": 299,
     "metadata": {},
     "output_type": "execute_result"
    }
   ],
   "source": [
    "np.random.rand(10)"
   ]
  },
  {
   "cell_type": "code",
   "execution_count": 300,
   "id": "c2cfc847-ddae-4b50-a5d9-6cb5fb3b923d",
   "metadata": {},
   "outputs": [
    {
     "data": {
      "text/plain": [
       "array([[0.55282148, 0.16494046, 0.36980809, 0.14644176, 0.56961841],\n",
       "       [0.70373728, 0.28847644, 0.43328806, 0.75610669, 0.39609828],\n",
       "       [0.89603839, 0.63892108, 0.89155444, 0.68005557, 0.44919774]])"
      ]
     },
     "execution_count": 300,
     "metadata": {},
     "output_type": "execute_result"
    }
   ],
   "source": [
    "np.random.rand(3,5)"
   ]
  },
  {
   "cell_type": "markdown",
   "id": "f69b863f-01ea-463d-919f-0fe2a33f1b23",
   "metadata": {},
   "source": [
    "np.random.rand(3,5) -> 3,5 array 생성"
   ]
  },
  {
   "cell_type": "markdown",
   "id": "78a48f1a-e1c8-496f-b6b6-b636cd623d99",
   "metadata": {},
   "source": [
    "randn 함수의 기댓값은 0 이고 표준편차가 1인 표준 정규분포를 따르는 난수를 생성. "
   ]
  },
  {
   "cell_type": "code",
   "execution_count": 301,
   "id": "0f2f1ce7-579d-4bd0-879c-7d64afc1f117",
   "metadata": {},
   "outputs": [
    {
     "data": {
      "text/plain": [
       "array([-0.475776  ,  1.44073112, -1.14907568,  0.80571455,  1.75610703,\n",
       "        0.97297991, -1.55111911,  0.19114348,  1.60477607, -1.42002593])"
      ]
     },
     "execution_count": 301,
     "metadata": {},
     "output_type": "execute_result"
    }
   ],
   "source": [
    "np.random.randn(10)"
   ]
  },
  {
   "cell_type": "code",
   "execution_count": 302,
   "id": "60b9d8d3-9e15-49a9-ad69-ace55a9e56e8",
   "metadata": {},
   "outputs": [
    {
     "data": {
      "text/plain": [
       "array([[-2.44378268, -2.05633855, -0.99225755,  1.01128532,  1.40044008],\n",
       "       [-0.65499168, -0.25579069, -0.71438561, -0.50083877,  0.05564534],\n",
       "       [-0.48896178, -0.37992245,  0.25973465, -1.68134864, -0.91679481]])"
      ]
     },
     "execution_count": 302,
     "metadata": {},
     "output_type": "execute_result"
    }
   ],
   "source": [
    "np.random.randn(3,5)"
   ]
  },
  {
   "cell_type": "markdown",
   "id": "0228f678-1aae-419e-b975-c1f1810f6e99",
   "metadata": {},
   "source": [
    "randint함수는 다음과 같은 인수를 가짐  \n",
    "numpy.random.randint(low, high=None, size = None)  \n",
    "만약 high를 입력하지 않으면, 0과 low사이의숫자를, high를 입력하면 low 와 high사이의 숫자를 출력  \n",
    "size 는 난수의 개수"
   ]
  },
  {
   "cell_type": "code",
   "execution_count": 303,
   "id": "a863a272-ed3c-44de-820f-1120b96153bb",
   "metadata": {},
   "outputs": [
    {
     "data": {
      "text/plain": [
       "array([1, 1, 1, 1, 1, 1, 1, 1, 1, 1, 1, 1, 1, 1, 1, 1, 1, 1, 1, 1, 1, 1,\n",
       "       1, 1, 1, 1, 1, 1, 1, 1, 1, 1, 1, 1, 1, 1, 1, 1, 1, 1, 1, 1, 1, 1,\n",
       "       1, 1, 1, 1, 1, 1, 1, 1, 1, 1, 1, 1, 1, 1, 1, 1, 1, 1, 1, 1, 1, 1,\n",
       "       1, 1, 1, 1, 1, 1, 1, 1, 1, 1, 1, 1, 1, 1, 1, 1, 1, 1, 1, 1, 1, 1,\n",
       "       1, 1, 1, 1, 1, 1, 1, 1, 1, 1, 1, 1])"
      ]
     },
     "execution_count": 303,
     "metadata": {},
     "output_type": "execute_result"
    }
   ],
   "source": [
    "np.random.randint(1,2,100)"
   ]
  },
  {
   "cell_type": "code",
   "execution_count": 304,
   "id": "745a129b-e133-4cac-bb51-bf1ac9a3be5d",
   "metadata": {},
   "outputs": [],
   "source": [
    "import random"
   ]
  },
  {
   "cell_type": "code",
   "execution_count": 308,
   "id": "04b2b683-2139-4380-807c-9bc840d052f6",
   "metadata": {},
   "outputs": [
    {
     "data": {
      "text/plain": [
       "[2,\n",
       " 1,\n",
       " 2,\n",
       " 2,\n",
       " 2,\n",
       " 1,\n",
       " 1,\n",
       " 2,\n",
       " 2,\n",
       " 1,\n",
       " 1,\n",
       " 1,\n",
       " 2,\n",
       " 2,\n",
       " 1,\n",
       " 1,\n",
       " 2,\n",
       " 2,\n",
       " 1,\n",
       " 1,\n",
       " 2,\n",
       " 2,\n",
       " 2,\n",
       " 2,\n",
       " 1,\n",
       " 1,\n",
       " 2,\n",
       " 2,\n",
       " 2,\n",
       " 2,\n",
       " 2,\n",
       " 1,\n",
       " 1,\n",
       " 1,\n",
       " 1,\n",
       " 2,\n",
       " 1,\n",
       " 2,\n",
       " 2,\n",
       " 1,\n",
       " 1,\n",
       " 2,\n",
       " 1,\n",
       " 1,\n",
       " 1,\n",
       " 2,\n",
       " 1,\n",
       " 1,\n",
       " 2,\n",
       " 2,\n",
       " 2,\n",
       " 2,\n",
       " 2,\n",
       " 1,\n",
       " 1,\n",
       " 2,\n",
       " 2,\n",
       " 1,\n",
       " 2,\n",
       " 2,\n",
       " 2,\n",
       " 1,\n",
       " 2,\n",
       " 1,\n",
       " 1,\n",
       " 1,\n",
       " 2,\n",
       " 2,\n",
       " 1,\n",
       " 1,\n",
       " 1,\n",
       " 2,\n",
       " 2,\n",
       " 1,\n",
       " 1,\n",
       " 2,\n",
       " 1,\n",
       " 2,\n",
       " 2,\n",
       " 1,\n",
       " 2,\n",
       " 2,\n",
       " 1,\n",
       " 1,\n",
       " 1,\n",
       " 1,\n",
       " 2,\n",
       " 1,\n",
       " 2,\n",
       " 2,\n",
       " 2,\n",
       " 2,\n",
       " 1,\n",
       " 1,\n",
       " 2,\n",
       " 1,\n",
       " 2,\n",
       " 2,\n",
       " 2,\n",
       " 1]"
      ]
     },
     "execution_count": 308,
     "metadata": {},
     "output_type": "execute_result"
    }
   ],
   "source": [
    "[random.randint(1,2) for _ in range(100)]"
   ]
  },
  {
   "cell_type": "code",
   "execution_count": 317,
   "id": "368a4102-ba21-401b-b4db-7f4d71d8711a",
   "metadata": {},
   "outputs": [
    {
     "name": "stdout",
     "output_type": "stream",
     "text": [
      "0.45\n"
     ]
    }
   ],
   "source": [
    "np.random.seed(0)\n",
    "x = [random.randint(0,1) for _ in range(100)]\n",
    "# count = x.count(1)\n",
    "percent = x.count(1) / len(x)\n",
    "print(percent)"
   ]
  },
  {
   "cell_type": "code",
   "execution_count": 323,
   "id": "add8124d-54b8-4f87-b736-2e4d453ee0a5",
   "metadata": {},
   "outputs": [
    {
     "name": "stdout",
     "output_type": "stream",
     "text": [
      "[array([5, 6, 1, 4, 4, 4, 2, 4, 6, 3, 5, 1, 1, 5, 3, 2, 1, 2, 6, 2, 6, 1,\n",
      "       2, 5, 4, 1, 4, 6, 1, 3, 4, 1, 2, 4, 6, 4, 4, 1, 2, 2, 2, 1, 3, 5,\n",
      "       4, 4, 3, 5, 3, 1, 1, 5, 6, 6, 1, 5, 2, 5, 2, 3, 3, 1, 2, 2, 2, 2,\n",
      "       4, 4, 3, 4, 1, 4, 6, 5, 2, 3, 5, 4, 5, 5, 5, 4, 5, 5, 5, 1, 5, 4,\n",
      "       3, 6, 6, 6, 1, 2, 6, 2, 4, 1, 6, 1])]\n"
     ]
    },
    {
     "data": {
      "text/plain": [
       "3.42"
      ]
     },
     "execution_count": 323,
     "metadata": {},
     "output_type": "execute_result"
    }
   ],
   "source": [
    "np.random.seed(0)\n",
    "a = [np.random.randint(1,7,100)]\n",
    "print(a)\n",
    "np.mean(a)"
   ]
  },
  {
   "cell_type": "markdown",
   "id": "1ad91fc1-a783-42f5-ac66-950199b989cb",
   "metadata": {},
   "source": [
    "### 정수 데이터 카운팅  \n",
    "난수가 정수값이면 unique 명령이나 bincount 명령으로 데이터 값을 분석할 수 있읔.  \n",
    "unique() 함수는 데이터에서 중복된 값을 제거하고 중복되지 않는 값의 리스트를 출력.  \n",
    "return_counts 인수를 True로 설정하면 각 값의 데이터 개수도  출력."
   ]
  },
  {
   "cell_type": "code",
   "execution_count": 324,
   "id": "6f4752d1-fce7-4433-82aa-506fca6f84d3",
   "metadata": {},
   "outputs": [
    {
     "data": {
      "text/plain": [
       "array([ 2, 11, 34])"
      ]
     },
     "execution_count": 324,
     "metadata": {},
     "output_type": "execute_result"
    }
   ],
   "source": [
    "np.unique([11,11,2,2,34,34])"
   ]
  },
  {
   "cell_type": "code",
   "execution_count": 325,
   "id": "500aa8d4-fd7b-4197-94ac-1572f596f9fd",
   "metadata": {},
   "outputs": [],
   "source": [
    "a = np.array(['a','b','b','c','a'])\n",
    "index, count = np.unique(a, return_counts=True)"
   ]
  },
  {
   "cell_type": "code",
   "execution_count": 326,
   "id": "3a3f74fc-5345-4270-872c-d390bf15e12f",
   "metadata": {},
   "outputs": [
    {
     "data": {
      "text/plain": [
       "array(['a', 'b', 'c'], dtype='<U1')"
      ]
     },
     "execution_count": 326,
     "metadata": {},
     "output_type": "execute_result"
    }
   ],
   "source": [
    "index"
   ]
  },
  {
   "cell_type": "code",
   "execution_count": 327,
   "id": "86921026-b059-4092-91d3-7950af7f4fed",
   "metadata": {},
   "outputs": [
    {
     "data": {
      "text/plain": [
       "array([2, 2, 1], dtype=int64)"
      ]
     },
     "execution_count": 327,
     "metadata": {},
     "output_type": "execute_result"
    }
   ],
   "source": [
    "count"
   ]
  },
  {
   "cell_type": "markdown",
   "id": "d388bab6-2800-40c4-882e-9cdd1fd1dbef",
   "metadata": {},
   "source": [
    "unique() 는 데이터에 존재하는 값에 대해서만 개수를 셈.  \n",
    "데이터 값이 없는 경우에는 정보를 주지 않음.  \n",
    "예를 들어 주사위를 10번 던졌는데 6이 한번도 나오지 않으면 이 값을 0으로 세어주지 않음.  \n",
    "따라서 데이터가 주사위를 던졌을 때 나오는 수처럼 특정 범위안의 수인 경우에는 bincount() 함수에 minlength 인수를 설정하여 쓰는 것이 더 편리함.  \n",
    "bincount 함수는 0부터 minlength -1 까지의 숫자에 대해 각각 카운트를 함. 데이터가 없는 경우 카운트 값이 0"
   ]
  },
  {
   "cell_type": "code",
   "execution_count": 328,
   "id": "eddcc52c-3864-434a-ae77-1e44eec43274",
   "metadata": {},
   "outputs": [
    {
     "data": {
      "text/plain": [
       "array([0, 2, 3, 1, 0, 0], dtype=int64)"
      ]
     },
     "execution_count": 328,
     "metadata": {},
     "output_type": "execute_result"
    }
   ],
   "source": [
    "np.bincount([1,1,2,2,2,3], minlength = 6)"
   ]
  },
  {
   "cell_type": "code",
   "execution_count": null,
   "id": "893d953c-9d1b-4653-842b-c3cac1832214",
   "metadata": {},
   "outputs": [],
   "source": []
  }
 ],
 "metadata": {
  "kernelspec": {
   "display_name": "Python 3 (ipykernel)",
   "language": "python",
   "name": "python3"
  },
  "language_info": {
   "codemirror_mode": {
    "name": "ipython",
    "version": 3
   },
   "file_extension": ".py",
   "mimetype": "text/x-python",
   "name": "python",
   "nbconvert_exporter": "python",
   "pygments_lexer": "ipython3",
   "version": "3.9.13"
  }
 },
 "nbformat": 4,
 "nbformat_minor": 5
}
