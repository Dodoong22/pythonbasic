{
 "cells": [
  {
   "cell_type": "markdown",
   "id": "245dbe07-5cd6-4864-9707-8ef66ca3539d",
   "metadata": {},
   "source": [
    "## quiz2"
   ]
  },
  {
   "cell_type": "markdown",
   "id": "838e2564-122f-409d-965c-97ea350cd5e8",
   "metadata": {},
   "source": [
    "(문제1)"
   ]
  },
  {
   "cell_type": "markdown",
   "id": "98557e19-04bd-4c7f-b179-0769d66d3e87",
   "metadata": {},
   "source": [
    "답 : list 메서드 중 reverse()는 list의 순서를 거꾸로 뒤집는 것이고 reversed() 함수는 (...?)의 결과값을 반환.."
   ]
  },
  {
   "cell_type": "markdown",
   "id": "35f04e32-c2a4-4328-a989-4aeb26e7c565",
   "metadata": {},
   "source": [
    "(문제2)"
   ]
  },
  {
   "cell_type": "code",
   "execution_count": null,
   "id": "9f1221a3-c870-4e7e-a18c-65bd2c7430cc",
   "metadata": {},
   "outputs": [
    {
     "name": "stdin",
     "output_type": "stream",
     "text": [
      "현재시간을 입력하세요. 02:00\n"
     ]
    },
    {
     "name": "stdout",
     "output_type": "stream",
     "text": [
      "정각입니다.\n"
     ]
    }
   ],
   "source": [
    "h, s = (input(\"현재시간을 입력하세요.\").split(\":\"))\n",
    "if s == \"00\":\n",
    "    print(\"정각입니다.\")\n",
    "else:\n",
    "    print(\"정각이 아닙니다.\")"
   ]
  },
  {
   "cell_type": "markdown",
   "id": "0ef98f36-64be-4ca6-bde4-7c2f741b1c35",
   "metadata": {},
   "source": [
    "(문제3)"
   ]
  },
  {
   "cell_type": "markdown",
   "id": "a848b84c-e766-47ee-bd8b-863166ead70f",
   "metadata": {},
   "source": [
    "답: Pt"
   ]
  },
  {
   "cell_type": "markdown",
   "id": "32810525-86bc-411b-9e00-62663d526093",
   "metadata": {},
   "source": [
    "(문제4)\n",
    "답: 3"
   ]
  },
  {
   "cell_type": "markdown",
   "id": "cc4777ef-05d1-41b3-b9e7-b1504915157e",
   "metadata": {},
   "source": [
    "(문제5)"
   ]
  },
  {
   "cell_type": "code",
   "execution_count": 29,
   "id": "6c72a674-3791-4062-b884-8a6d1338cc46",
   "metadata": {},
   "outputs": [
    {
     "name": "stdout",
     "output_type": "stream",
     "text": [
      "[1, 2, '짝', 4, 5, '짝', 7, 8, '짝', 10]\n"
     ]
    }
   ],
   "source": [
    "list_a = [1,2,3,4,5,6,7,8,9,10] #= list(range(1,11))로 해도 상관없음\n",
    "list_a[2:9:3] = ['짝'] * len(list_a[2:9:3])\n",
    "print(list_a)"
   ]
  },
  {
   "cell_type": "markdown",
   "id": "61fa0931-94d8-48f1-b80a-d05de44efdd9",
   "metadata": {},
   "source": [
    "(문제5)    답 : 5"
   ]
  },
  {
   "cell_type": "markdown",
   "id": "7bd1ba35-d470-4bb2-a0c7-988b4cbfb82a",
   "metadata": {},
   "source": [
    "(문제6)\n",
    "\n",
    "답 : 3, 5 // 정답 3 = `Hello world` 이기에 문자열이 아님.\n",
    "실 정답은 4. \n",
    "5번또한 리스트임."
   ]
  },
  {
   "cell_type": "markdown",
   "id": "378e57c8-197e-4957-93a6-d60cdda30d80",
   "metadata": {},
   "source": [
    "(문제7)\n",
    "답 : 1,2,3, `5`"
   ]
  },
  {
   "cell_type": "markdown",
   "id": "7cdf0414-8021-4205-92e9-e1ec85bf4713",
   "metadata": {},
   "source": [
    "(문제8)"
   ]
  },
  {
   "cell_type": "code",
   "execution_count": null,
   "id": "9652fe89-7702-4ab3-8291-7f0e5e2902f1",
   "metadata": {},
   "outputs": [
    {
     "name": "stdout",
     "output_type": "stream",
     "text": [
      "1부터 10까지 홀수의 합은 25입니다\n"
     ]
    }
   ],
   "source": [
    "sum = 0\n",
    "for n in range(1, 10, 2):\n",
    "    sum = sum + n\n",
    "\n",
    "print(\"1부터 10까지 홀수의 합은 \", sum,\"입니다\", sep=\"\")"
   ]
  },
  {
   "cell_type": "markdown",
   "id": "3568e7cc-5393-4986-af12-44907ba01524",
   "metadata": {},
   "source": [
    "(문제9)\n",
    "\n",
    "답 : 4"
   ]
  },
  {
   "cell_type": "markdown",
   "id": "73ae02ea-be01-4381-91fd-3fadf222c05f",
   "metadata": {},
   "source": [
    "(문제10)\n",
    "답 : 4, 5"
   ]
  },
  {
   "cell_type": "code",
   "execution_count": null,
   "id": "8548a172-aa92-4738-8013-9bd7040da224",
   "metadata": {},
   "outputs": [],
   "source": []
  }
 ],
 "metadata": {
  "kernelspec": {
   "display_name": "Python 3 (ipykernel)",
   "language": "python",
   "name": "python3"
  },
  "language_info": {
   "codemirror_mode": {
    "name": "ipython",
    "version": 3
   },
   "file_extension": ".py",
   "mimetype": "text/x-python",
   "name": "python",
   "nbconvert_exporter": "python",
   "pygments_lexer": "ipython3",
   "version": "3.9.13"
  }
 },
 "nbformat": 4,
 "nbformat_minor": 5
}
