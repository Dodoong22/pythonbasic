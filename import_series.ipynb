{
 "cells": [
  {
   "cell_type": "code",
   "execution_count": 3,
   "id": "b887136f-83c2-4ae0-aafd-2f5cb9076d8e",
   "metadata": {},
   "outputs": [],
   "source": [
    "import numpy as np\n",
    "import pandas as pd\n",
    "import random\n",
    "import seaborn as sns\n",
    "import matplotlib as mpl\n",
    "import matplotlib.pyplot as plt"
   ]
  },
  {
   "cell_type": "code",
   "execution_count": 8,
   "id": "a1af1bf2-2019-4ca0-a8a3-f3b9722455c0",
   "metadata": {},
   "outputs": [
    {
     "name": "stdout",
     "output_type": "stream",
     "text": [
      "NanumMyeongjo\n",
      "NanumMyeongjo\n",
      "NanumMyeongjo\n",
      "NanumMyeongjo\n",
      "['NanumMyeongjo']\n"
     ]
    }
   ],
   "source": [
    "import matplotlib.font_manager as font_manager\n",
    "import matplotlib as mpl\n",
    "import matplotlib.pyplot as plt\n",
    "# Add every font at the specified location\n",
    "font_dir = ['C:/python/fonts']\n",
    "for font in font_manager.findSystemFonts(fontpaths=font_dir):\n",
    "    print(mpl.font_manager.FontProperties(fname=font).get_name())\n",
    "    font_manager.fontManager.addfont(font)\n",
    "# Set font family globally\n",
    "mpl.rcParams['font.family'] = 'NanumMyeongjo'\n",
    "print(mpl.rcParams['font.family'])\n",
    "mpl.rcParams['axes.unicode_minus'] = False"
   ]
  },
  {
   "cell_type": "code",
   "execution_count": null,
   "id": "4b2c82aa-da3d-4713-8658-cc7a3eee5bcb",
   "metadata": {},
   "outputs": [],
   "source": []
  }
 ],
 "metadata": {
  "kernelspec": {
   "display_name": "Python 3 (ipykernel)",
   "language": "python",
   "name": "python3"
  },
  "language_info": {
   "codemirror_mode": {
    "name": "ipython",
    "version": 3
   },
   "file_extension": ".py",
   "mimetype": "text/x-python",
   "name": "python",
   "nbconvert_exporter": "python",
   "pygments_lexer": "ipython3",
   "version": "3.9.13"
  }
 },
 "nbformat": 4,
 "nbformat_minor": 5
}
