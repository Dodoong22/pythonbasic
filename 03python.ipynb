{
 "cells": [
  {
   "cell_type": "code",
   "execution_count": 1,
   "id": "2b58917d-7416-4ab5-a529-b6a221306e8b",
   "metadata": {},
   "outputs": [
    {
     "data": {
      "text/plain": [
       "88774955854727217152"
      ]
     },
     "execution_count": 1,
     "metadata": {},
     "output_type": "execute_result"
    }
   ],
   "source": [
    "scores = [88, 73, 89, 59, 77]\n",
    "scores[4] << 60"
   ]
  },
  {
   "cell_type": "code",
   "execution_count": 2,
   "id": "559c4f6b-6f45-4884-b25a-64946c3f1e7e",
   "metadata": {},
   "outputs": [
    {
     "data": {
      "text/plain": [
       "False"
      ]
     },
     "execution_count": 2,
     "metadata": {},
     "output_type": "execute_result"
    }
   ],
   "source": [
    "scores[4] < 60"
   ]
  },
  {
   "cell_type": "code",
   "execution_count": 3,
   "id": "1acd9690-6aa4-4d8b-8e3f-ee2c4e22276c",
   "metadata": {},
   "outputs": [
    {
     "name": "stdout",
     "output_type": "stream",
     "text": [
      "False\n"
     ]
    }
   ],
   "source": [
    "print(scores[0] >= 60 and scores[1] >= 60 and scores[2] >= 60 and scores[3] >= 60 and scores[4] >= 60)"
   ]
  },
  {
   "cell_type": "markdown",
   "id": "7115abbe-b5a8-4e9b-aad1-ee10683d43ae",
   "metadata": {},
   "source": [
    "# 리스트 메소드"
   ]
  },
  {
   "cell_type": "code",
   "execution_count": 4,
   "id": "711e1173-e056-4981-ad72-29e96f31dda3",
   "metadata": {},
   "outputs": [
    {
     "name": "stdout",
     "output_type": "stream",
     "text": [
      "[1, 2, 3, 4, 5, 6, 7, 8]\n"
     ]
    }
   ],
   "source": [
    "numbers = [1,2,3,4,5,6,7]\n",
    "numbers.append(8)\n",
    "print(numbers)"
   ]
  },
  {
   "cell_type": "code",
   "execution_count": 5,
   "id": "4a595780-0881-4c2c-9666-da348594eb48",
   "metadata": {},
   "outputs": [],
   "source": [
    "numbers.insert(0,0)"
   ]
  },
  {
   "cell_type": "code",
   "execution_count": 6,
   "id": "aa1b89c0-c88f-4548-92ff-cce844c035dd",
   "metadata": {},
   "outputs": [],
   "source": [
    "numbers.insert(4,0)\n",
    "numbers.insert(6,0)\n",
    "numbers.insert(len(numbers),0)"
   ]
  },
  {
   "cell_type": "code",
   "execution_count": 7,
   "id": "a514ad67-83b7-400d-b89c-97f5c9302f29",
   "metadata": {},
   "outputs": [
    {
     "name": "stdout",
     "output_type": "stream",
     "text": [
      "[0, 1, 2, 3, 0, 4, 0, 5, 6, 7, 8, 0]\n"
     ]
    }
   ],
   "source": [
    "print(numbers)"
   ]
  },
  {
   "cell_type": "markdown",
   "id": "8fd7636d-207d-4f6d-91f4-fc54cf578f06",
   "metadata": {},
   "source": [
    "### 리스트1.extend(리스트2)"
   ]
  },
  {
   "cell_type": "code",
   "execution_count": 8,
   "id": "e1a9703b-af7a-482b-94b5-5a3b4298b5ac",
   "metadata": {},
   "outputs": [
    {
     "name": "stdout",
     "output_type": "stream",
     "text": [
      "[0, 1, 2, 3, 0, 4, 0, 5, 6, 7, 8, 0, 9, 10, 11]\n"
     ]
    }
   ],
   "source": [
    "numbers.extend([9,10,11])\n",
    "print(numbers)"
   ]
  },
  {
   "cell_type": "markdown",
   "id": "a6a23762-6c61-4312-aae1-fc73e5b9e824",
   "metadata": {},
   "source": [
    "### remove(요소)는 인덱스 위치의 요소를 제거한다."
   ]
  },
  {
   "cell_type": "code",
   "execution_count": 65,
   "id": "a73995a0-6415-43d0-9cd4-8a1d3d16c428",
   "metadata": {},
   "outputs": [
    {
     "name": "stdout",
     "output_type": "stream",
     "text": [
      "[10, 9, 8, 7, 6, 5, 4, 3, 2, 0, 0, 0]\n",
      "[10, 9, 8, 7, 6, 5, 4, 3, 2, 0, 0]\n"
     ]
    }
   ],
   "source": [
    "print(numbers)\n",
    "numbers.remove(0)\n",
    "print(numbers)"
   ]
  },
  {
   "cell_type": "code",
   "execution_count": 10,
   "id": "3069e924-2d19-47d2-8753-d4220e69f631",
   "metadata": {},
   "outputs": [
    {
     "name": "stdout",
     "output_type": "stream",
     "text": [
      "[2, 3, 0, 4, 0, 5, 6, 7, 8, 0, 9, 10, 11]\n"
     ]
    }
   ],
   "source": [
    "del numbers[0]\n",
    "print(numbers)"
   ]
  },
  {
   "cell_type": "markdown",
   "id": "e123289e-8f55-4f58-ba9d-56a567fa575c",
   "metadata": {},
   "source": [
    "### pop은 리스트 제일 마지막 요소를 리스트에서 반환 후 제거"
   ]
  },
  {
   "cell_type": "code",
   "execution_count": 11,
   "id": "e353f1b5-9605-410f-9be4-2a738521dea4",
   "metadata": {},
   "outputs": [
    {
     "name": "stdout",
     "output_type": "stream",
     "text": [
      "11\n"
     ]
    }
   ],
   "source": [
    "print(numbers.pop())"
   ]
  },
  {
   "cell_type": "code",
   "execution_count": 12,
   "id": "63669b88-ceea-4063-9644-112285b946c3",
   "metadata": {},
   "outputs": [
    {
     "name": "stdout",
     "output_type": "stream",
     "text": [
      "[2, 3, 0, 4, 0, 5, 6, 7, 8, 0, 9, 10]\n"
     ]
    }
   ],
   "source": [
    "print(numbers)"
   ]
  },
  {
   "cell_type": "markdown",
   "id": "307bde28-cefc-4775-80dd-ef826461f7b5",
   "metadata": {},
   "source": [
    "###  index(요소) 리스트 안에 인자와 같은 요소를 앞에서 부터 찾는다. 제일 처음 발견된요소의 인덱스를 반환"
   ]
  },
  {
   "cell_type": "code",
   "execution_count": 13,
   "id": "137a65bc-5a98-46ce-a599-ddf608eb5632",
   "metadata": {},
   "outputs": [
    {
     "name": "stdout",
     "output_type": "stream",
     "text": [
      "3\n"
     ]
    }
   ],
   "source": [
    "print(numbers.index(4))"
   ]
  },
  {
   "cell_type": "markdown",
   "id": "5e25c775-9da5-4868-b03e-52b75bc35904",
   "metadata": {},
   "source": [
    "### count(인자) 리스트 안에 인자와 같은 요소가 몇개가 있는지 반환한다."
   ]
  },
  {
   "cell_type": "code",
   "execution_count": 14,
   "id": "20695f14-cfdd-4f1d-8e0c-05c8dd0b439d",
   "metadata": {},
   "outputs": [
    {
     "name": "stdout",
     "output_type": "stream",
     "text": [
      "[2, 3, 0, 4, 0, 5, 6, 7, 8, 0, 9, 10]\n"
     ]
    }
   ],
   "source": [
    "print(numbers)"
   ]
  },
  {
   "cell_type": "code",
   "execution_count": 15,
   "id": "91e56148-1741-4e61-ac15-8d969496ab01",
   "metadata": {},
   "outputs": [
    {
     "name": "stdout",
     "output_type": "stream",
     "text": [
      "3\n"
     ]
    }
   ],
   "source": [
    "print(numbers.count(0))"
   ]
  },
  {
   "cell_type": "markdown",
   "id": "4e317144-2489-4570-939c-bc714737aef1",
   "metadata": {},
   "source": [
    "### 리스트 정렬하기\n",
    "- sort()는 오름차순\n",
    "- reverse()는 내림차순  \n",
    "반환값은 둘 다 None"
   ]
  },
  {
   "cell_type": "code",
   "execution_count": 16,
   "id": "92b73dd1-5c31-46bd-8bb2-81ae07fcf39f",
   "metadata": {},
   "outputs": [
    {
     "name": "stdout",
     "output_type": "stream",
     "text": [
      "None\n"
     ]
    }
   ],
   "source": [
    "print(numbers.sort())"
   ]
  },
  {
   "cell_type": "code",
   "execution_count": 17,
   "id": "51b45929-613b-4593-9cda-e1118690c66e",
   "metadata": {},
   "outputs": [
    {
     "name": "stdout",
     "output_type": "stream",
     "text": [
      "[0, 0, 0, 2, 3, 4, 5, 6, 7, 8, 9, 10]\n"
     ]
    }
   ],
   "source": [
    "print(numbers)"
   ]
  },
  {
   "cell_type": "code",
   "execution_count": 18,
   "id": "ec4a6800-1d5d-4cf5-b157-f7739035066c",
   "metadata": {},
   "outputs": [],
   "source": [
    "numbers.reverse()"
   ]
  },
  {
   "cell_type": "code",
   "execution_count": 19,
   "id": "73e9717b-21bc-46b9-a32d-f3f710f29396",
   "metadata": {},
   "outputs": [
    {
     "name": "stdout",
     "output_type": "stream",
     "text": [
      "[10, 9, 8, 7, 6, 5, 4, 3, 2, 0, 0, 0]\n"
     ]
    }
   ],
   "source": [
    "print(numbers)"
   ]
  },
  {
   "cell_type": "markdown",
   "id": "99f3c484-38fc-40f6-942c-2610516f3075",
   "metadata": {},
   "source": [
    "### 리스트를 Stack처럼 활용하기"
   ]
  },
  {
   "cell_type": "code",
   "execution_count": 22,
   "id": "a1e91c23-fefc-46da-a1e1-9603df5c38bd",
   "metadata": {},
   "outputs": [],
   "source": [
    "stack = [3,4,5]\n"
   ]
  },
  {
   "cell_type": "code",
   "execution_count": 23,
   "id": "57395f83-32c8-4eb0-a9a0-6a49473d1129",
   "metadata": {},
   "outputs": [
    {
     "name": "stdout",
     "output_type": "stream",
     "text": [
      "[3, 4, 5, 6, 7]\n"
     ]
    }
   ],
   "source": [
    "stack.append(6)\n",
    "stack.append(7)\n",
    "print(stack)"
   ]
  },
  {
   "cell_type": "code",
   "execution_count": 24,
   "id": "b1440e0f-053d-4455-bd98-51d6c1ed9bd7",
   "metadata": {},
   "outputs": [
    {
     "name": "stdout",
     "output_type": "stream",
     "text": [
      "7\n",
      "[3, 4, 5, 6]\n",
      "6\n"
     ]
    }
   ],
   "source": [
    "print(stack.pop())\n",
    "print(stack)\n",
    "print(stack.pop())"
   ]
  },
  {
   "cell_type": "code",
   "execution_count": 25,
   "id": "5043f703-e654-450c-b5e5-23881d0b978d",
   "metadata": {},
   "outputs": [
    {
     "name": "stdout",
     "output_type": "stream",
     "text": [
      "5\n",
      "[3, 4]\n"
     ]
    }
   ],
   "source": [
    "print(stack.pop())\n",
    "print(stack)"
   ]
  },
  {
   "cell_type": "markdown",
   "id": "53808091-4955-472a-a5dd-18c39dc2f15e",
   "metadata": {},
   "source": [
    "### 튜플은 수정이 어렵다"
   ]
  },
  {
   "cell_type": "code",
   "execution_count": 28,
   "id": "c2c2c0b6-7b4f-4f05-acfd-5d93b705be94",
   "metadata": {},
   "outputs": [
    {
     "name": "stdout",
     "output_type": "stream",
     "text": [
      "<class 'tuple'>\n",
      "('음', '아', '오', '예')\n"
     ]
    }
   ],
   "source": [
    "t_v2 = \"음\", \"아\", \"오\", \"예\"\n",
    "print(type(t_v2))\n",
    "print(t_v2)"
   ]
  },
  {
   "cell_type": "code",
   "execution_count": 29,
   "id": "43561ee3-55a9-4a64-b428-5552cb9a34fa",
   "metadata": {},
   "outputs": [
    {
     "name": "stdout",
     "output_type": "stream",
     "text": [
      "2.798551118264905e+18\n"
     ]
    }
   ],
   "source": [
    "import time\n",
    "\n",
    "curr = time.time()\n",
    "total = []\n",
    "\n",
    "for i in range(1000):\n",
    "    for j in range(1000):\n",
    "        total.append([i,j])       \n",
    "        last = time.time()\n",
    "print(last * curr)\n"
   ]
  },
  {
   "cell_type": "markdown",
   "id": "2b5e549d-894a-4083-baa2-32a3501f1307",
   "metadata": {},
   "source": [
    "1. 처음 20번째까지의 소수 -> 튜플. 변동되지 않는 수이기 때문\n",
    "2. 프로그래밍 언어의 종류 -> 변동되지 않을것이라고 생각하기에 튜플..?\n",
    "3. 사람의 나이, 몸무게, 키 -> 유동적이기 때문에 리스트\n",
    "4. 사람의 생일과 출생지 -> 변동되지 않가에 튜플\n",
    "5. 롤 게임의 결과 -> 변동되지 않기에 튜플\n",
    "6. 잇단 롤 게임의 결과 -> 리스트"
   ]
  },
  {
   "cell_type": "markdown",
   "id": "a0aedcd0-f7ce-4016-8340-4e996568c75a",
   "metadata": {},
   "source": [
    "## 변수 여럿에 동시 할당(Unpacking)"
   ]
  },
  {
   "cell_type": "code",
   "execution_count": 30,
   "id": "3bd55266-6494-4e24-a7c4-75fb5cdf76e6",
   "metadata": {},
   "outputs": [
    {
     "name": "stdout",
     "output_type": "stream",
     "text": [
      "text1\n",
      "text2\n"
     ]
    }
   ],
   "source": [
    "s1, s2 = \"text1\", \"text2\"\n",
    "print(s1)\n",
    "print(s2)"
   ]
  },
  {
   "cell_type": "code",
   "execution_count": 31,
   "id": "6b91553f-56d8-4a87-982a-34b941ce2f88",
   "metadata": {},
   "outputs": [
    {
     "name": "stdout",
     "output_type": "stream",
     "text": [
      "이렇게 리스트도 가능합니다\n"
     ]
    }
   ],
   "source": [
    "s3, s4, s5 = [\"이렇게\", \"리스트도\", \"가능합니다\"]\n",
    "print(s3,s4,s5)"
   ]
  },
  {
   "cell_type": "code",
   "execution_count": 32,
   "id": "72e32f3f-52d1-4814-9329-bbbc203332c1",
   "metadata": {},
   "outputs": [
    {
     "name": "stdout",
     "output_type": "stream",
     "text": [
      "문 자 열 도\n"
     ]
    }
   ],
   "source": [
    "s6, s7, s8, s9 = \"문자열도\"\n",
    "print(s6, s7, s8, s9)"
   ]
  },
  {
   "cell_type": "markdown",
   "id": "b7b2f2cf-bf8f-4f13-a730-27917f8c9fde",
   "metadata": {},
   "source": [
    "## 파이썬 입력 사용해보기\n"
   ]
  },
  {
   "cell_type": "code",
   "execution_count": 33,
   "id": "bb3e1349-ad86-46df-9f27-c67af650d6df",
   "metadata": {},
   "outputs": [
    {
     "name": "stdin",
     "output_type": "stream",
     "text": [
      "Message 1111\n"
     ]
    }
   ],
   "source": [
    "input_value = input(\"Message\")"
   ]
  },
  {
   "cell_type": "code",
   "execution_count": 34,
   "id": "330a08ba-8c12-474d-92a1-c3696b97b36a",
   "metadata": {},
   "outputs": [
    {
     "name": "stdout",
     "output_type": "stream",
     "text": [
      "input_value: 1111 \n",
      "type: <class 'str'>\n"
     ]
    }
   ],
   "source": [
    "print(\"input_value:\", input_value, \"\\ntype:\", type(input_value))"
   ]
  },
  {
   "cell_type": "code",
   "execution_count": 35,
   "id": "52e05559-962e-47f1-a37b-cf47fc9d439e",
   "metadata": {},
   "outputs": [
    {
     "name": "stdout",
     "output_type": "stream",
     "text": [
      "inpput_value: 1111 \n",
      "type: <class 'int'>\n"
     ]
    }
   ],
   "source": [
    "input_value = int(input_value)\n",
    "print(\"inpput_value:\", input_value, \"\\ntype:\", type(input_value))"
   ]
  },
  {
   "cell_type": "code",
   "execution_count": 36,
   "id": "14f78d24-e14a-4cf0-85b6-01ff58b91319",
   "metadata": {},
   "outputs": [
    {
     "name": "stdin",
     "output_type": "stream",
     "text": [
      "정수 외에 다른 값을 입력해보세요. 1.1\n"
     ]
    }
   ],
   "source": [
    "input_value2 = input(\"정수 외에 다른 값을 입력해보세요.\")"
   ]
  },
  {
   "cell_type": "code",
   "execution_count": 37,
   "id": "6b1ba298-08ff-43db-b3d6-ccfd1a755672",
   "metadata": {},
   "outputs": [
    {
     "ename": "ValueError",
     "evalue": "invalid literal for int() with base 10: '1.1'",
     "output_type": "error",
     "traceback": [
      "\u001b[1;31m---------------------------------------------------------------------------\u001b[0m",
      "\u001b[1;31mValueError\u001b[0m                                Traceback (most recent call last)",
      "\u001b[1;32m~\\AppData\\Local\\Temp\\ipykernel_2284\\1061107786.py\u001b[0m in \u001b[0;36m<module>\u001b[1;34m\u001b[0m\n\u001b[1;32m----> 1\u001b[1;33m \u001b[0minput_value2\u001b[0m \u001b[1;33m=\u001b[0m \u001b[0mint\u001b[0m\u001b[1;33m(\u001b[0m\u001b[0minput_value2\u001b[0m\u001b[1;33m)\u001b[0m\u001b[1;33m\u001b[0m\u001b[1;33m\u001b[0m\u001b[0m\n\u001b[0m",
      "\u001b[1;31mValueError\u001b[0m: invalid literal for int() with base 10: '1.1'"
     ]
    }
   ],
   "source": [
    "input_value2 = float(input_value2)"
   ]
  },
  {
   "cell_type": "code",
   "execution_count": 38,
   "id": "eec0acb7-c43d-4597-a659-5eea2faa8718",
   "metadata": {},
   "outputs": [
    {
     "name": "stdout",
     "output_type": "stream",
     "text": [
      "1.1\n"
     ]
    }
   ],
   "source": [
    "print(input_value2)"
   ]
  },
  {
   "cell_type": "code",
   "execution_count": 39,
   "id": "b7f80e25-b379-498e-93ad-4715ce84d688",
   "metadata": {},
   "outputs": [
    {
     "ename": "ValueError",
     "evalue": "invalid literal for int() with base 10: '1.1'",
     "output_type": "error",
     "traceback": [
      "\u001b[1;31m---------------------------------------------------------------------------\u001b[0m",
      "\u001b[1;31mValueError\u001b[0m                                Traceback (most recent call last)",
      "\u001b[1;32m~\\AppData\\Local\\Temp\\ipykernel_2284\\1016632430.py\u001b[0m in \u001b[0;36m<module>\u001b[1;34m\u001b[0m\n\u001b[1;32m----> 1\u001b[1;33m \u001b[0minput_value2\u001b[0m \u001b[1;33m=\u001b[0m \u001b[0mint\u001b[0m\u001b[1;33m(\u001b[0m\u001b[0minput_value2\u001b[0m\u001b[1;33m)\u001b[0m\u001b[1;33m\u001b[0m\u001b[1;33m\u001b[0m\u001b[0m\n\u001b[0m\u001b[0;32m      2\u001b[0m \u001b[0mprint\u001b[0m\u001b[1;33m(\u001b[0m\u001b[0minput_value2\u001b[0m\u001b[1;33m)\u001b[0m\u001b[1;33m\u001b[0m\u001b[1;33m\u001b[0m\u001b[0m\n",
      "\u001b[1;31mValueError\u001b[0m: invalid literal for int() with base 10: '1.1'"
     ]
    }
   ],
   "source": [
    "input_value2 = int(input_value2)\n",
    "print(input_value2)"
   ]
  },
  {
   "cell_type": "code",
   "execution_count": 40,
   "id": "f65414b2-f01c-4650-9657-60dd8a328b77",
   "metadata": {},
   "outputs": [
    {
     "name": "stdin",
     "output_type": "stream",
     "text": [
      "정수를 입력해주세요: 1\n"
     ]
    },
    {
     "name": "stdout",
     "output_type": "stream",
     "text": [
      "1\n"
     ]
    }
   ],
   "source": [
    "input_value4 = int(input(\"정수를 입력해주세요:\"))\n",
    "print(input_value4)"
   ]
  },
  {
   "cell_type": "code",
   "execution_count": 45,
   "id": "833dba68-90fa-4985-a56c-50c3da706cfc",
   "metadata": {},
   "outputs": [
    {
     "name": "stdin",
     "output_type": "stream",
     "text": [
      "이름을 입력하시오: 엔코아\n"
     ]
    },
    {
     "name": "stdout",
     "output_type": "stream",
     "text": [
      "엔코아 씨, 안녕하세요?\n",
      "파이썬에 오신 것을 환영합니다.\n"
     ]
    },
    {
     "name": "stdin",
     "output_type": "stream",
     "text": [
      "첫 번째 정수를 입력하세요: 300\n",
      "두 번째 정수를 입력하세요: 400\n"
     ]
    },
    {
     "name": "stdout",
     "output_type": "stream",
     "text": [
      "300 과 400 의 합은 700 입니다\n"
     ]
    }
   ],
   "source": [
    "input_name = input(\"이름을 입력하시오:\")\n",
    "print(input_name, \"씨, 안녕하세요?\")\n",
    "print(\"파이썬에 오신 것을 환영합니다.\")\n",
    "input_a = int(input(\"첫 번째 정수를 입력하세요:\"))\n",
    "input_b = int(input(\"두 번째 정수를 입력하세요:\"))\n",
    "print(input_a, \"과\", input_b, \"의 합은\", input_a + input_b, \"입니다\")"
   ]
  },
  {
   "cell_type": "code",
   "execution_count": 63,
   "id": "c01a4576-03a7-4c29-8df8-148315731f29",
   "metadata": {},
   "outputs": [
    {
     "name": "stdin",
     "output_type": "stream",
     "text": [
      "경기장은 어디입니까 고척\n",
      "이긴 팀은 어디입니까? KT\n",
      "진 팀은 어디입니까 LG\n",
      "우수 선수는 누구입니까 강백호\n",
      "스코어는 몇대몇입니까? 10:9\n"
     ]
    },
    {
     "name": "stdout",
     "output_type": "stream",
     "text": [
      "[속보] KT 가 10:9 로 승리...\n",
      "오늘 고척 경기장에서 야구 경기가 있었습니다.\n",
      "KT 와 LG 는 치열한 공방전을 펼쳤습니다.\n",
      "이 경기에서 강백호 가 맹활약을 했습니다.\n",
      "그 끝내 KT 가 LG 를 10:9 로 승리하였습니다.\n",
      "기사 끝\n"
     ]
    }
   ],
   "source": [
    "input_place= input(\"경기장은 어디입니까\")\n",
    "input_win = input(\"이긴 팀은 어디입니까?\")\n",
    "input_loses = input(\"진 팀은 어디입니까\")\n",
    "input_best = input(\"우수 선수는 누구입니까\")\n",
    "input_score = input(\"스코어는 몇대몇입니까?\")\n",
    "\n",
    "print(\"[속보]\", input_win, \"가\" , input_score, \"로 승리...\")\n",
    "print(\"오늘\", input_place, \"경기장에서 야구 경기가 있었습니다.\")\n",
    "print(input_win, \"와\" ,input_loses, \"는 치열한 공방전을 펼쳤습니다.\")\n",
    "print(\"이 경기에서\", input_best, \"가 맹활약을 했습니다.\")\n",
    "print(\"그 끝내\", input_win, \"가\" , input_loses, \"를\", input_score, \"로 승리하였습니다.\")\n",
    "print(\"기사 끝\")"
   ]
  },
  {
   "cell_type": "markdown",
   "id": "26dfa041-2256-49a5-ad97-664aa312b644",
   "metadata": {},
   "source": [
    "## Split() 함수 이용"
   ]
  },
  {
   "cell_type": "code",
   "execution_count": 66,
   "id": "caf7b579-2c6d-42c7-8b97-44b7b4ff5802",
   "metadata": {},
   "outputs": [
    {
     "name": "stdout",
     "output_type": "stream",
     "text": [
      "<class 'list'>\n",
      "['1', '2', '3']\n"
     ]
    }
   ],
   "source": [
    "result = '1,2,3'.split(',')\n",
    "print(type(result))\n",
    "print(result)"
   ]
  },
  {
   "cell_type": "code",
   "execution_count": 90,
   "id": "077676ca-1467-4dd0-a9c4-99c23ab10a56",
   "metadata": {},
   "outputs": [
    {
     "name": "stdin",
     "output_type": "stream",
     "text": [
      "hh:mm:ss의 형태로 시간을 입력해주세요: 12:33:23\n"
     ]
    },
    {
     "name": "stdout",
     "output_type": "stream",
     "text": [
      "12:33:23\n",
      "실행결과: \n",
      "시: 12 \n",
      "분: 33 \n",
      "초: 23\n"
     ]
    }
   ],
   "source": [
    "time = input('hh:mm:ss의 형태로 시간을 입력해주세요:')\n",
    "print(time)\n",
    "# = 'time'.split(':')\n",
    "result_a = time.split(':')\n",
    "print(\"실행결과:\", \"\\n시:\", result_a[0], \"\\n분:\", result_a[1], \"\\n초:\", result_a[2])"
   ]
  },
  {
   "cell_type": "markdown",
   "id": "8f81cdaa-07a2-4e5e-ba11-14a53d062190",
   "metadata": {},
   "source": [
    "## map() 내장 함수 이용하기\n",
    "map(function, iterable)"
   ]
  },
  {
   "cell_type": "code",
   "execution_count": 101,
   "id": "7d468e20-d473-4975-8d28-986a0f80e1ed",
   "metadata": {},
   "outputs": [
    {
     "name": "stdout",
     "output_type": "stream",
     "text": [
      "[1.2, 2.5, 3.7, 4.6]\n"
     ]
    }
   ],
   "source": [
    "a = [1.2, 2.5, 3.7, 4.6]\n",
    "a = list(map(float, a))\n",
    "print(a)"
   ]
  },
  {
   "cell_type": "code",
   "execution_count": 100,
   "id": "8d4f3ad0-5c6f-414f-b778-92685cc76b2a",
   "metadata": {},
   "outputs": [
    {
     "name": "stdin",
     "output_type": "stream",
     "text": [
      "국어,영어,수학,과학 점수를 입력해주세요: 98,100,96,100\n"
     ]
    },
    {
     "name": "stdout",
     "output_type": "stream",
     "text": [
      "['98', '100', '96', '100']\n",
      "평균점수는  98.5\n"
     ]
    }
   ],
   "source": [
    "result = input(\"국어,영어,수학,과학 점수를 입력해주세요:\").split(',')\n",
    "print(result)\n",
    "kor = int(result[0])\n",
    "eng = int(result[1])\n",
    "mat = int(result[2])\n",
    "sci = int(result[3])\n",
    "print(\"평균점수는 \", (kor+eng+mat+sci)/4)"
   ]
  },
  {
   "cell_type": "markdown",
   "id": "e977659b-8713-45e2-bfe1-7aceb22a592c",
   "metadata": {},
   "source": [
    "Answer. map함수까지 이용하기. "
   ]
  },
  {
   "cell_type": "code",
   "execution_count": 102,
   "id": "9e5c8ffb-3c36-4f67-8b08-1808bd75dcf0",
   "metadata": {},
   "outputs": [
    {
     "name": "stdin",
     "output_type": "stream",
     "text": [
      "국어, 영어, 수학, 과학, 점수를 입력해주세요 98,100,96,100\n"
     ]
    },
    {
     "name": "stdout",
     "output_type": "stream",
     "text": [
      "평균 점수는 98.5 점입니다.\n"
     ]
    }
   ],
   "source": [
    "kor, eng, mat, sci = map(int, input(\"국어, 영어, 수학, 과학, 점수를 입력해주세요\").split(\",\"))\n",
    "avg = (kor + eng + mat + sci) / 4\n",
    "print(\"평균 점수는\", avg, \"점입니다.\")"
   ]
  },
  {
   "cell_type": "markdown",
   "id": "3d2642b7-a601-4f21-9b25-4556b09aebf0",
   "metadata": {},
   "source": [
    "## 'sep = 구분기호' 이용하여 값과 값을 구분하는 단위 변경하기"
   ]
  },
  {
   "cell_type": "code",
   "execution_count": 104,
   "id": "38b59034-e5b6-4ba7-96b4-6e1c80abfdd4",
   "metadata": {},
   "outputs": [
    {
     "name": "stdout",
     "output_type": "stream",
     "text": [
      "줄이 바뀌지 않습니다.그 이유는 end=\"\\n\"과 같이 기본 설정된 값으 빈 스트링으로 변경했기 때문입니다.\n",
      "sep, end는 맨뒤에 써야하며, 둘 간 순서는 상관없습니다.어떻게 사용하는지\n",
      "이해가 되시나요?"
     ]
    }
   ],
   "source": [
    "print(\"줄이 바뀌지 않습니다.\", end=\"\")\n",
    "print(\"그 이유는 end=\\\"\\\\n\\\"과 같이 기본 설정된 값으 빈 스트링으로 변경했기 때문입니다.\")\n",
    "print(\"sep\", \"end는 맨뒤에 써야하며, 둘 간 순서는 상관없습니다.\", sep=\", \", end=\"\")\n",
    "print(\"어떻게 사용하는지\", \"이해가 되시나요\", sep=\"\\n\", end=\"?\")"
   ]
  },
  {
   "cell_type": "code",
   "execution_count": 109,
   "id": "141a485f-d57d-42a0-8942-d79bde9c4737",
   "metadata": {},
   "outputs": [
    {
     "name": "stdout",
     "output_type": "stream",
     "text": [
      "2021/02/03 18:33:23\n"
     ]
    }
   ],
   "source": [
    "year = '2021'\n",
    "month = '02'\n",
    "day = '03'\n",
    "hour = '18'\n",
    "minute = '33'\n",
    "second = '23'\n",
    "\n",
    "print(year, month, day,sep=\"/\", end=\" \")\n",
    "print(hour, minute, second, sep=\":\")"
   ]
  },
  {
   "cell_type": "code",
   "execution_count": 112,
   "id": "4b8f7ed2-0c41-4b47-98c7-004ccd06430e",
   "metadata": {},
   "outputs": [
    {
     "name": "stdin",
     "output_type": "stream",
     "text": [
      "사과와 귤을 몇개 드릴까요? 10,20\n"
     ]
    },
    {
     "name": "stdout",
     "output_type": "stream",
     "text": [
      "총 가격은 14000원입니다.\n"
     ]
    }
   ],
   "source": [
    "apple, man = map(int, input(\"사과와 귤을 몇개 드릴까요?\").split(\",\"))\n",
    "res = apple * 1000 + man * 200\n",
    "print(\"총 가격은 \", res,\"원입니다.\" ,sep=\"\")"
   ]
  },
  {
   "cell_type": "markdown",
   "id": "c3d95aea-756c-46e9-b0ce-6e69dbc20f8e",
   "metadata": {},
   "source": [
    "# IF문"
   ]
  },
  {
   "cell_type": "code",
   "execution_count": 113,
   "id": "c5965146-6dba-4e19-8407-87eafa56a0bc",
   "metadata": {},
   "outputs": [
    {
     "data": {
      "text/plain": [
       "True"
      ]
     },
     "execution_count": 113,
     "metadata": {},
     "output_type": "execute_result"
    }
   ],
   "source": [
    "type(input_value4) is int"
   ]
  },
  {
   "cell_type": "code",
   "execution_count": 114,
   "id": "8e9949fc-babc-410d-81a4-9bf44221efac",
   "metadata": {},
   "outputs": [
    {
     "name": "stdout",
     "output_type": "stream",
     "text": [
      "input_value4는 정수입니다.\n"
     ]
    }
   ],
   "source": [
    "if type(input_value4) is int:\n",
    "    print(\"input_value4는 정수입니다.\")"
   ]
  },
  {
   "cell_type": "markdown",
   "id": "d41bc762-9eea-4980-abcb-c69f4d4ea58b",
   "metadata": {},
   "source": [
    "## and -> 모두 true 일때 true 반환, 하나라도 false면 false\n",
    "## or -> 하나라도 true 라면 true 반환, 모두 false 일때 false 반환\n",
    "## not -> true를 false로 false를 true로"
   ]
  },
  {
   "cell_type": "code",
   "execution_count": 117,
   "id": "b2fe2cb3-c9d8-48ec-a797-5f2fa6af8b7c",
   "metadata": {},
   "outputs": [
    {
     "name": "stdout",
     "output_type": "stream",
     "text": [
      "30대 입니다.\n",
      "감사합니다.\n"
     ]
    }
   ],
   "source": [
    "age = 39\n",
    "\n",
    "if 20 <= age <= 30:\n",
    "    print(\"20대 입니다.\")\n",
    "elif 30 <= age <= 40:\n",
    "    print(\"30대 입니다.\")\n",
    "\n",
    "print(\"감사합니다.\")"
   ]
  },
  {
   "cell_type": "code",
   "execution_count": 130,
   "id": "717eeda3-2950-4004-a341-9e0d495b1d12",
   "metadata": {},
   "outputs": [
    {
     "name": "stdin",
     "output_type": "stream",
     "text": [
      "아이디를 입력하세요 biana\n",
      "회원등급을 입력해주세요 4\n"
     ]
    },
    {
     "name": "stdout",
     "output_type": "stream",
     "text": [
      "권한이 없습니다\n"
     ]
    }
   ],
   "source": [
    "id = input(\"아이디를 입력하세요\")\n",
    "if id == \"admin\" :\n",
    "    print(\"최고 관리자, 모든 권한을 갖습니다.\")\n",
    "else :\n",
    "    level = int(input(\"회원등급을 입력해주세요\"))\n",
    "    if 1 <= level <= 3 :\n",
    "        print(\"제한적인 권한을 갖습니다.\")\n",
    "    else :\n",
    "        print(\"권한이 없습니다\")\n"
   ]
  },
  {
   "cell_type": "code",
   "execution_count": null,
   "id": "0c8d91dd-c869-4301-8138-236433f07499",
   "metadata": {},
   "outputs": [],
   "source": []
  }
 ],
 "metadata": {
  "kernelspec": {
   "display_name": "Python 3 (ipykernel)",
   "language": "python",
   "name": "python3"
  },
  "language_info": {
   "codemirror_mode": {
    "name": "ipython",
    "version": 3
   },
   "file_extension": ".py",
   "mimetype": "text/x-python",
   "name": "python",
   "nbconvert_exporter": "python",
   "pygments_lexer": "ipython3",
   "version": "3.9.13"
  }
 },
 "nbformat": 4,
 "nbformat_minor": 5
}
