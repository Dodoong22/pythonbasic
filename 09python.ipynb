{
 "cells": [
  {
   "cell_type": "markdown",
   "id": "9725a80c-4de3-4f8e-92a3-e4579691ef56",
   "metadata": {},
   "source": [
    "### random 라이브러리  \n",
    "-> import random 으로 사용.   "
   ]
  },
  {
   "cell_type": "markdown",
   "id": "4a6365bc-83ef-4994-af2e-25a1cb1000ed",
   "metadata": {},
   "source": [
    "### 문자열 메서드 join()  \n",
    "str클래스의 join() 메서드는 문자열로 이뤄진 리스트를 하나의 문자열로 만듬.  \n",
    "사용방법 : 문자열과 문자열 사이에 채울 문자 값.join(문자로 만들 리스트)  \n",
    "예시"
   ]
  },
  {
   "cell_type": "code",
   "execution_count": 1,
   "id": "0fba75f2-821d-44bf-882b-cc6060483bb4",
   "metadata": {},
   "outputs": [
    {
     "name": "stdout",
     "output_type": "stream",
     "text": [
      "list_strs = ['a', 'b', 'c', 'd', 'e', 'f', 'g', 'h', 'i', 'j', 'k', 'l', 'm', 'n', 'o', 'p', 'q', 'r', 's', 't', 'u', 'v', 'w', 'x', 'y', 'z']\n"
     ]
    }
   ],
   "source": [
    "list_strs = [_ for _ in \"abcdefghijklmnopqrstuvwxyz\"]\n",
    "print(f\"list_strs = {list_strs}\")"
   ]
  },
  {
   "cell_type": "code",
   "execution_count": 3,
   "id": "6dabadb3-35ae-47c0-ba6c-e0010fdddfe2",
   "metadata": {},
   "outputs": [
    {
     "name": "stdout",
     "output_type": "stream",
     "text": [
      "whole_str = a*b*c*d*e*f*g*h*i*j*k*l*m*n*o*p*q*r*s*t*u*v*w*x*y*z\n"
     ]
    }
   ],
   "source": [
    "#str.join(list)\n",
    "#str 요소들로 이뤄진 list를 합쳐 하나의 문자열로 만듬.\n",
    "whole_str = \"*\".join(list_strs)\n",
    "print(f\"whole_str = {whole_str}\")"
   ]
  },
  {
   "cell_type": "code",
   "execution_count": 4,
   "id": "4baf8689-4346-406e-98d3-4dec688f5088",
   "metadata": {},
   "outputs": [
    {
     "name": "stdout",
     "output_type": "stream",
     "text": [
      "<class 'str'>\n"
     ]
    }
   ],
   "source": [
    "print(type(whole_str))"
   ]
  },
  {
   "cell_type": "code",
   "execution_count": 5,
   "id": "b28d8786-b479-4376-bdf6-d5e319886538",
   "metadata": {},
   "outputs": [
    {
     "name": "stdout",
     "output_type": "stream",
     "text": [
      "['a', '*', 'b', '*', 'c', '*', 'd', '*', 'e', '*', 'f', '*', 'g', '*', 'h', '*', 'i', '*', 'j', '*', 'k', '*', 'l', '*', 'm', '*', 'n', '*', 'o', '*', 'p', '*', 'q', '*', 'r', '*', 's', '*', 't', '*', 'u', '*', 'v', '*', 'w', '*', 'x', '*', 'y', '*', 'z']\n"
     ]
    }
   ],
   "source": [
    "print(list(whole_str))"
   ]
  },
  {
   "cell_type": "code",
   "execution_count": 6,
   "id": "f356ef1e-7087-40dc-88fa-f87225f2e7a7",
   "metadata": {},
   "outputs": [
    {
     "name": "stdout",
     "output_type": "stream",
     "text": [
      "<class 'list'>\n",
      "<class 'str'>\n"
     ]
    }
   ],
   "source": [
    "print(type(list(whole_str)))\n",
    "print(type(whole_str))"
   ]
  },
  {
   "cell_type": "code",
   "execution_count": 17,
   "id": "7b07e973-ff66-4e05-af34-2591f5ef9cbe",
   "metadata": {},
   "outputs": [
    {
     "name": "stdout",
     "output_type": "stream",
     "text": [
      "[1, 2, 3, 4, 5, 6, 7, 8, 9, 10, 11]\n",
      "[1, 2, 3, 4, 5, 6, 7, 8, 9, 10, 11]\n"
     ]
    },
    {
     "ename": "TypeError",
     "evalue": "sequence item 0: expected str instance, int found",
     "output_type": "error",
     "traceback": [
      "\u001b[1;31m---------------------------------------------------------------------------\u001b[0m",
      "\u001b[1;31mTypeError\u001b[0m                                 Traceback (most recent call last)",
      "\u001b[1;32m~\\AppData\\Local\\Temp\\ipykernel_1180\\2886942646.py\u001b[0m in \u001b[0;36m<module>\u001b[1;34m\u001b[0m\n\u001b[0;32m      3\u001b[0m \u001b[0mlist_b\u001b[0m \u001b[1;33m=\u001b[0m \u001b[0mstr\u001b[0m\u001b[1;33m(\u001b[0m\u001b[0mlist_a\u001b[0m\u001b[1;33m)\u001b[0m\u001b[1;33m\u001b[0m\u001b[1;33m\u001b[0m\u001b[0m\n\u001b[0;32m      4\u001b[0m \u001b[0mprint\u001b[0m\u001b[1;33m(\u001b[0m\u001b[0mlist_b\u001b[0m\u001b[1;33m)\u001b[0m\u001b[1;33m\u001b[0m\u001b[1;33m\u001b[0m\u001b[0m\n\u001b[1;32m----> 5\u001b[1;33m \u001b[0mside_str\u001b[0m \u001b[1;33m=\u001b[0m \u001b[1;34m\",\"\u001b[0m\u001b[1;33m.\u001b[0m\u001b[0mjoin\u001b[0m\u001b[1;33m(\u001b[0m\u001b[0mlist_a\u001b[0m\u001b[1;33m)\u001b[0m\u001b[1;33m\u001b[0m\u001b[1;33m\u001b[0m\u001b[0m\n\u001b[0m\u001b[0;32m      6\u001b[0m \u001b[0mprint\u001b[0m\u001b[1;33m(\u001b[0m\u001b[0mside_str\u001b[0m\u001b[1;33m)\u001b[0m\u001b[1;33m\u001b[0m\u001b[1;33m\u001b[0m\u001b[0m\n",
      "\u001b[1;31mTypeError\u001b[0m: sequence item 0: expected str instance, int found"
     ]
    }
   ],
   "source": [
    "list_a = [_ for _ in range(1,12)]\n",
    "print(list_a)\n",
    "list_b = str(list_a)\n",
    "print(list_b)\n",
    "side_str = \",\".join(list_a)\n",
    "print(side_str)"
   ]
  },
  {
   "cell_type": "markdown",
   "id": "637e695a-44f3-4aed-8fa7-2657d9e2a596",
   "metadata": {},
   "source": [
    "### 연습문제 1~100 까지 범위의 업다운 게임"
   ]
  },
  {
   "cell_type": "code",
   "execution_count": 23,
   "id": "e0cb4ad2-28bd-46ce-9f7c-4ccc200daac2",
   "metadata": {},
   "outputs": [
    {
     "name": "stdout",
     "output_type": "stream",
     "text": [
      "60\n"
     ]
    },
    {
     "name": "stdin",
     "output_type": "stream",
     "text": [
      "1부터 100까지의 수를 입력하세요:  -1\n"
     ]
    },
    {
     "name": "stdout",
     "output_type": "stream",
     "text": [
      "1 ~ 100사이의 숫자를 입력하세요.\n"
     ]
    },
    {
     "name": "stdin",
     "output_type": "stream",
     "text": [
      "1부터 100까지의 수를 입력하세요:  101\n"
     ]
    },
    {
     "name": "stdout",
     "output_type": "stream",
     "text": [
      "1 ~ 100사이의 숫자를 입력하세요.\n"
     ]
    },
    {
     "name": "stdin",
     "output_type": "stream",
     "text": [
      "1부터 100까지의 수를 입력하세요:  50\n"
     ]
    },
    {
     "name": "stdout",
     "output_type": "stream",
     "text": [
      "그보다 큽니다.\n"
     ]
    },
    {
     "name": "stdin",
     "output_type": "stream",
     "text": [
      "1부터 100까지의 수를 입력하세요:  75\n"
     ]
    },
    {
     "name": "stdout",
     "output_type": "stream",
     "text": [
      "그보다 작습니다.\n"
     ]
    },
    {
     "name": "stdin",
     "output_type": "stream",
     "text": [
      "1부터 100까지의 수를 입력하세요:  60\n"
     ]
    },
    {
     "name": "stdout",
     "output_type": "stream",
     "text": [
      "5번만에 맞추셨습니다\n",
      "입력한 숫자는 다음과 같습니다. -1,101,50,75,60\n"
     ]
    }
   ],
   "source": [
    "import random\n",
    "ran_num = random.randint(1,100)\n",
    "list_num=[]\n",
    "count = 0\n",
    "print(ran_num)\n",
    "while True:\n",
    "    input_num = int(input(\"1부터 100까지의 수를 입력하세요: \"))\n",
    "    if input_num < 1 or input_num > 100:\n",
    "        print(f'1 ~ 100사이의 숫자를 입력하세요.')\n",
    "        count += 1\n",
    "        list_num.append(str(input_num))\n",
    "        continue\n",
    "    elif input_num>ran_num:\n",
    "        print(f'그보다 작습니다.')\n",
    "        count += 1\n",
    "        list_num.append(str(input_num))\n",
    "        continue\n",
    "    elif input_num < ran_num :\n",
    "        print(f'그보다 큽니다.')\n",
    "        count += 1\n",
    "        list_num.append(str(input_num))\n",
    "        continue\n",
    "    else:\n",
    "        count += 1\n",
    "        list_num.append(str(input_num))\n",
    "        print(f'{count}번만에 맞추셨습니다')\n",
    "        show_list = \",\".join(list_num)\n",
    "        print(f'입력한 숫자는 다음과 같습니다. {show_list}')\n",
    "        break"
   ]
  },
  {
   "cell_type": "markdown",
   "id": "388e801f-17e4-4773-9c3b-ee53b8578e6e",
   "metadata": {},
   "source": [
    "## 함수 호출  \n",
    "함수 호출의 반환은 return으로 표시\n",
    "객체.메서드명((인수1), (인수2), ...)  \n",
    "### 함수의 정의 : def  \n",
    "방식  \n",
    "def 함수_이름 (위치_인자, 위치_인자2, * 가변_위치, 키워드_인자, 키워드_인자2, ** 가변_키워드):  \n",
    "\"\"\"  \n",
    "-> Doc String을 적음  \n",
    "\"\"\"  \n",
    "...  \n",
    "...  \n",
    "...  \n",
    "...  \n",
    "return 반환값"
   ]
  },
  {
   "cell_type": "code",
   "execution_count": 24,
   "id": "7401fee3-1a1d-470f-8ef0-5cca1f855962",
   "metadata": {},
   "outputs": [],
   "source": [
    "# 함수 정의절\n",
    "# 인자(매개변수, parameter)\n",
    "# non-default parameter -> \"값\", \"값2\", \"값3\", ...\n",
    "# default parameter -> key = \"value\" , key2 = \"value2\", ...\n",
    "def function_name(param1, param2, /, poskey1, poskey2 , *, keyonly1, keyonly2):\n",
    "    \"\"\"Docs\"\"\"\n",
    "    pass"
   ]
  },
  {
   "cell_type": "code",
   "execution_count": 25,
   "id": "4ecf5f93-96f4-458d-b88e-7b461e35b9d7",
   "metadata": {},
   "outputs": [
    {
     "name": "stdout",
     "output_type": "stream",
     "text": [
      "파이썬씨 안녕하세요. 약 11688.0일 되었습니다.\n"
     ]
    }
   ],
   "source": [
    "# 인수(argument)\n",
    "# positional-only -> \"값\", \"값2\", \"값3\", ...\n",
    "# keyword-only -> key = \"value\", key2 = \"value2\", ...\n",
    "\n",
    "# function_name(\"posonly\", \"po\", \"vaalue\", poskey2 = \"value\", keyonly1 = \"value\") \n",
    "\n",
    "def greeting(name,age):\n",
    "    print(f'{name}씨 안녕하세요. 약 {age * 365.25}일 되었습니다.')\n",
    "    \n",
    "greeting(\"파이썬\", 32)"
   ]
  },
  {
   "cell_type": "code",
   "execution_count": 26,
   "id": "90096097-f5f5-465b-9156-fa5b47c8b08c",
   "metadata": {},
   "outputs": [
    {
     "ename": "TypeError",
     "evalue": "can't multiply sequence by non-int of type 'float'",
     "output_type": "error",
     "traceback": [
      "\u001b[1;31m---------------------------------------------------------------------------\u001b[0m",
      "\u001b[1;31mTypeError\u001b[0m                                 Traceback (most recent call last)",
      "\u001b[1;32m~\\AppData\\Local\\Temp\\ipykernel_1180\\3709304520.py\u001b[0m in \u001b[0;36m<module>\u001b[1;34m\u001b[0m\n\u001b[1;32m----> 1\u001b[1;33m \u001b[0mgreeting\u001b[0m\u001b[1;33m(\u001b[0m\u001b[1;36m32\u001b[0m\u001b[1;33m,\u001b[0m \u001b[1;34m\"파이썬\"\u001b[0m\u001b[1;33m)\u001b[0m\u001b[1;33m\u001b[0m\u001b[1;33m\u001b[0m\u001b[0m\n\u001b[0m",
      "\u001b[1;32m~\\AppData\\Local\\Temp\\ipykernel_1180\\2367043613.py\u001b[0m in \u001b[0;36mgreeting\u001b[1;34m(name, age)\u001b[0m\n\u001b[0;32m      6\u001b[0m \u001b[1;33m\u001b[0m\u001b[0m\n\u001b[0;32m      7\u001b[0m \u001b[1;32mdef\u001b[0m \u001b[0mgreeting\u001b[0m\u001b[1;33m(\u001b[0m\u001b[0mname\u001b[0m\u001b[1;33m,\u001b[0m\u001b[0mage\u001b[0m\u001b[1;33m)\u001b[0m\u001b[1;33m:\u001b[0m\u001b[1;33m\u001b[0m\u001b[1;33m\u001b[0m\u001b[0m\n\u001b[1;32m----> 8\u001b[1;33m     \u001b[0mprint\u001b[0m\u001b[1;33m(\u001b[0m\u001b[1;34mf'{name}씨 안녕하세요. 약 {age * 365.25}일 되었습니다.'\u001b[0m\u001b[1;33m)\u001b[0m\u001b[1;33m\u001b[0m\u001b[1;33m\u001b[0m\u001b[0m\n\u001b[0m\u001b[0;32m      9\u001b[0m \u001b[1;33m\u001b[0m\u001b[0m\n\u001b[0;32m     10\u001b[0m \u001b[0mgreeting\u001b[0m\u001b[1;33m(\u001b[0m\u001b[1;34m\"파이썬\"\u001b[0m\u001b[1;33m,\u001b[0m \u001b[1;36m32\u001b[0m\u001b[1;33m)\u001b[0m\u001b[1;33m\u001b[0m\u001b[1;33m\u001b[0m\u001b[0m\n",
      "\u001b[1;31mTypeError\u001b[0m: can't multiply sequence by non-int of type 'float'"
     ]
    }
   ],
   "source": [
    "greeting(32, \"파이썬\")"
   ]
  },
  {
   "cell_type": "markdown",
   "id": "9895e869-d508-4e8a-a973-7972519e35e9",
   "metadata": {},
   "source": [
    "### 위치-키워드 인자(positional-or-keyword paramenters)"
   ]
  },
  {
   "cell_type": "code",
   "execution_count": 27,
   "id": "b8f96349-7106-4690-bcf6-42df437f36ec",
   "metadata": {},
   "outputs": [
    {
     "name": "stdout",
     "output_type": "stream",
     "text": [
      "파이썬씨 안녕하세요. 약 11688.0일 되었습니다.\n"
     ]
    }
   ],
   "source": [
    "greeting(age=32, name=\"파이썬\")"
   ]
  },
  {
   "cell_type": "markdown",
   "id": "b7fb66f7-ed0e-4673-ada2-5e0fb025acdc",
   "metadata": {},
   "source": [
    "순서와 상관이 없음을 알 수 있음."
   ]
  },
  {
   "cell_type": "markdown",
   "id": "887071a2-fc56-4e90-bc19-025cc13e1726",
   "metadata": {},
   "source": [
    "위치인수는 순서가 중요함. 키워드 인수보다 먼저 위치해야함."
   ]
  },
  {
   "cell_type": "code",
   "execution_count": 28,
   "id": "e13cadd0-e6c3-4b45-83ac-857e1b4d5780",
   "metadata": {},
   "outputs": [
    {
     "ename": "SyntaxError",
     "evalue": "positional argument follows keyword argument (2699805413.py, line 1)",
     "output_type": "error",
     "traceback": [
      "\u001b[1;36m  File \u001b[1;32m\"C:\\Users\\Playdata\\AppData\\Local\\Temp\\ipykernel_1180\\2699805413.py\"\u001b[1;36m, line \u001b[1;32m1\u001b[0m\n\u001b[1;33m    greeting(name= \"파이썬\", 32)\u001b[0m\n\u001b[1;37m                            ^\u001b[0m\n\u001b[1;31mSyntaxError\u001b[0m\u001b[1;31m:\u001b[0m positional argument follows keyword argument\n"
     ]
    }
   ],
   "source": [
    "greeting(name= \"파이썬\", 32)"
   ]
  },
  {
   "cell_type": "markdown",
   "id": "686f6b4b-09b2-416f-99d6-cc2234bfaa5a",
   "metadata": {},
   "source": [
    "### 위치 전용 인자 (positional-only parameters)  \n",
    "/ 를 인자로 사용"
   ]
  },
  {
   "cell_type": "code",
   "execution_count": 30,
   "id": "6ad107a2-c847-42c8-9dc6-d8f7b416bd58",
   "metadata": {},
   "outputs": [
    {
     "ename": "TypeError",
     "evalue": "posonly() got some positional-only arguments passed as keyword arguments: 'posonly'",
     "output_type": "error",
     "traceback": [
      "\u001b[1;31m---------------------------------------------------------------------------\u001b[0m",
      "\u001b[1;31mTypeError\u001b[0m                                 Traceback (most recent call last)",
      "\u001b[1;32m~\\AppData\\Local\\Temp\\ipykernel_1180\\1126653018.py\u001b[0m in \u001b[0;36m<module>\u001b[1;34m\u001b[0m\n\u001b[0;32m      2\u001b[0m     \u001b[0mprint\u001b[0m\u001b[1;33m(\u001b[0m\u001b[0mposonly\u001b[0m\u001b[1;33m)\u001b[0m\u001b[1;33m\u001b[0m\u001b[1;33m\u001b[0m\u001b[0m\n\u001b[0;32m      3\u001b[0m \u001b[1;33m\u001b[0m\u001b[0m\n\u001b[1;32m----> 4\u001b[1;33m \u001b[0mposonly\u001b[0m\u001b[1;33m(\u001b[0m\u001b[0mposonly\u001b[0m \u001b[1;33m=\u001b[0m \u001b[1;34m\"키워드 인수로 전달하면 오류 발생!\"\u001b[0m\u001b[1;33m)\u001b[0m\u001b[1;33m\u001b[0m\u001b[1;33m\u001b[0m\u001b[0m\n\u001b[0m",
      "\u001b[1;31mTypeError\u001b[0m: posonly() got some positional-only arguments passed as keyword arguments: 'posonly'"
     ]
    }
   ],
   "source": [
    "def posonly(posonly, /):\n",
    "    print(posonly)\n",
    "    \n",
    "posonly(posonly = \"키워드 인수로 전달하면 오류 발생!\")"
   ]
  },
  {
   "cell_type": "markdown",
   "id": "1bb79521-e1ad-4ce5-95d7-2c78082f931c",
   "metadata": {},
   "source": [
    "### 키워드 전용 인자(keyword-only parameters)  "
   ]
  },
  {
   "cell_type": "code",
   "execution_count": 33,
   "id": "729cd8e7-bf8a-4238-b861-10cf4c80fc8f",
   "metadata": {},
   "outputs": [
    {
     "name": "stdout",
     "output_type": "stream",
     "text": [
      "default\n"
     ]
    }
   ],
   "source": [
    "def keyonly(*, keyonly = \"default\"):\n",
    "    print(keyonly)\n",
    "keyonly ()"
   ]
  },
  {
   "cell_type": "code",
   "execution_count": 34,
   "id": "9349103d-c0d2-4c1f-bed5-2a746c5a6e95",
   "metadata": {},
   "outputs": [
    {
     "ename": "TypeError",
     "evalue": "keyonly() takes 0 positional arguments but 1 was given",
     "output_type": "error",
     "traceback": [
      "\u001b[1;31m---------------------------------------------------------------------------\u001b[0m",
      "\u001b[1;31mTypeError\u001b[0m                                 Traceback (most recent call last)",
      "\u001b[1;32m~\\AppData\\Local\\Temp\\ipykernel_1180\\302453368.py\u001b[0m in \u001b[0;36m<module>\u001b[1;34m\u001b[0m\n\u001b[0;32m      1\u001b[0m \u001b[1;32mdef\u001b[0m \u001b[0mkeyonly\u001b[0m\u001b[1;33m(\u001b[0m\u001b[1;33m*\u001b[0m\u001b[1;33m,\u001b[0m \u001b[0mkeyonly\u001b[0m\u001b[1;33m)\u001b[0m\u001b[1;33m:\u001b[0m\u001b[1;33m\u001b[0m\u001b[1;33m\u001b[0m\u001b[0m\n\u001b[0;32m      2\u001b[0m     \u001b[0mprint\u001b[0m\u001b[1;33m(\u001b[0m\u001b[0mkeyonly\u001b[0m\u001b[1;33m)\u001b[0m\u001b[1;33m\u001b[0m\u001b[1;33m\u001b[0m\u001b[0m\n\u001b[1;32m----> 3\u001b[1;33m \u001b[0mkeyonly\u001b[0m\u001b[1;33m(\u001b[0m\u001b[1;34m\"키워드로만 입력해야 합니다.\"\u001b[0m\u001b[1;33m)\u001b[0m\u001b[1;33m\u001b[0m\u001b[1;33m\u001b[0m\u001b[0m\n\u001b[0m",
      "\u001b[1;31mTypeError\u001b[0m: keyonly() takes 0 positional arguments but 1 was given"
     ]
    }
   ],
   "source": [
    "def keyonly(*, keyonly):\n",
    "    print(keyonly)\n",
    "keyonly(\"키워드로만 입력해야 합니다.\")"
   ]
  },
  {
   "cell_type": "markdown",
   "id": "326b101a-2785-46f7-89c5-b011a3a02522",
   "metadata": {},
   "source": [
    "### 가변-위치 인자(var-positional parameters)  \n",
    "명시된 인자 외에 추가적으로 위치 인수를  개수에 상관없이 유연하게 전달 받을 수 있음.  \n",
    "가변변수 사용할 변수명 앞에 * 를 붙여 표기  "
   ]
  },
  {
   "cell_type": "code",
   "execution_count": 36,
   "id": "7d680120-0e48-459a-8feb-98a7605a7a7d",
   "metadata": {},
   "outputs": [
    {
     "name": "stdout",
     "output_type": "stream",
     "text": [
      "<class 'tuple'>\n",
      "15\n",
      "<class 'tuple'>\n",
      "0\n"
     ]
    }
   ],
   "source": [
    "def var_positional (*args):\n",
    "    print(type(args))\n",
    "    return sum([_ for _ in args])\n",
    "\n",
    "print(var_positional(1,2,3,4,5))\n",
    "print(var_positional())"
   ]
  },
  {
   "cell_type": "markdown",
   "id": "360adf5b-8d7b-4471-aa56-fd35ca3a2a74",
   "metadata": {},
   "source": [
    "### 가변키워드 인자 (var-keyword parameters)  \n",
    "** 을 2개 붙여서 사용"
   ]
  },
  {
   "cell_type": "markdown",
   "id": "782a7e98-ea64-4d15-991c-8f0db0f2df68",
   "metadata": {},
   "source": [
    "### 연습문제"
   ]
  },
  {
   "cell_type": "code",
   "execution_count": 38,
   "id": "f640dbb6-1443-41c0-a0a6-8166d6b7edb0",
   "metadata": {},
   "outputs": [
    {
     "name": "stdout",
     "output_type": "stream",
     "text": [
      "21.11111111111111\n"
     ]
    }
   ],
   "source": [
    "def to_celsius(fahrenheit):\n",
    "    Celsius = (fahrenheit - 32) * 5 / 9\n",
    "    return Celsius\n",
    "\n",
    "print(to_celsius(70))"
   ]
  },
  {
   "cell_type": "code",
   "execution_count": 25,
   "id": "4559cb40-5878-4e20-ae9d-381cc7314e44",
   "metadata": {},
   "outputs": [
    {
     "name": "stdout",
     "output_type": "stream",
     "text": [
      "\n",
      "    number가 짝수면 \"짝수\", 홀수면 \"홀수\" 반환\n",
      "    \n",
      "<class 'int'>\n",
      "짝수\n",
      "<class 'int'>\n",
      "홀수\n",
      "<class 'str'>\n",
      "None\n"
     ]
    }
   ],
   "source": [
    "def odd_even(n):\n",
    "    \"\"\"\n",
    "    number가 짝수면 \"짝수\", 홀수면 \"홀수\" 반환\n",
    "    \"\"\"\n",
    "    print(type(n))\n",
    "    if type(n) == str :\n",
    "        return\n",
    "    elif type(n) == int:\n",
    "        if n % 2 == 0:\n",
    "            return \"짝수\"\n",
    "        elif n % 2 != 0:\n",
    "            return \"홀수\"\n",
    "    \n",
    "print(odd_even.__doc__)\n",
    "print(odd_even(10))\n",
    "print(odd_even(9))\n",
    "print(odd_even(\"가\"))"
   ]
  },
  {
   "cell_type": "code",
   "execution_count": 40,
   "id": "2193c32f-def6-4441-8751-84c04eb5bca2",
   "metadata": {},
   "outputs": [],
   "source": [
    "def check_leap_year(n):\n",
    "    if n % 4 == 0:\n",
    "        if n % 400 != 0 and n % 100 == 0:\n",
    "            return \"평년\"\n",
    "        else:\n",
    "            return \"윤년\"\n",
    "        \n",
    "        \n",
    "# print(check_leap_year(2004))\n",
    "# print(check_leap_year(2000))\n",
    "# print(check_leap_year(1900))\n"
   ]
  },
  {
   "cell_type": "code",
   "execution_count": 41,
   "id": "9eb2e65d-066f-4c50-8aee-b8ce9937e6ca",
   "metadata": {},
   "outputs": [
    {
     "name": "stdout",
     "output_type": "stream",
     "text": [
      "30\n",
      "28\n",
      "31\n"
     ]
    }
   ],
   "source": [
    "def days(n):\n",
    "    if n ==1 or n ==3 or n ==5 or n ==7 or n==8 or n==10 or n==12:\n",
    "        return 31\n",
    "    elif n==4 or n ==6 or n == 9 or n ==11:\n",
    "        return 30\n",
    "    elif n ==2:\n",
    "        return 28\n",
    "\n",
    "print(days(11))\n",
    "print(days(2))\n",
    "print(days(1))"
   ]
  },
  {
   "cell_type": "code",
   "execution_count": 45,
   "id": "cfd51b5c-205a-471e-b6b7-1903c23c05a2",
   "metadata": {},
   "outputs": [
    {
     "name": "stdin",
     "output_type": "stream",
     "text": [
      "연도:  2000\n"
     ]
    },
    {
     "name": "stdout",
     "output_type": "stream",
     "text": [
      "윤년입니다\n"
     ]
    }
   ],
   "source": [
    "n = int(input(\"연도: \"))\n",
    "check_year = check_leap_year(n)\n",
    "if check_year == \"평년\":\n",
    "    m = int(input(\"확인하고 싶은 월: \"))\n",
    "    print(days(m))\n",
    "elif check_year == \"윤년\":\n",
    "    print(f'윤년입니다')"
   ]
  },
  {
   "cell_type": "code",
   "execution_count": 56,
   "id": "9444fbce-c334-47a9-a780-58e0f29fed65",
   "metadata": {},
   "outputs": [
    {
     "name": "stdout",
     "output_type": "stream",
     "text": [
      "30\n",
      "31\n",
      "28\n",
      "29\n"
     ]
    }
   ],
   "source": [
    "def days(n ,m):\n",
    "    \n",
    "    if n % 4 == 0:\n",
    "        if n % 400 != 0 and n % 100 == 0:\n",
    "            if m ==1 or m ==3 or m ==5 or m ==7 or m==8 or m==10 or m==12:\n",
    "                return 31\n",
    "            elif m==4 or m ==6 or m == 9 or m ==11:\n",
    "                return 30\n",
    "            elif m ==2:\n",
    "                return 28\n",
    "        else:\n",
    "            \n",
    "            if m ==1 or m ==3 or m ==5 or m ==7 or m==8 or m==10 or m==12:\n",
    "                return 31\n",
    "            elif m==4 or m ==6 or m == 9 or m ==11:\n",
    "                return 30\n",
    "            elif m ==2:\n",
    "                return 29   \n",
    "    \n",
    "print(days(1900 , 11))\n",
    "print(days(2004,10))\n",
    "print(days(1900,2))\n",
    "print(days(2000,2))"
   ]
  },
  {
   "cell_type": "code",
   "execution_count": 59,
   "id": "04cfc154-a82f-411f-8134-4a6b7275c654",
   "metadata": {},
   "outputs": [
    {
     "name": "stdout",
     "output_type": "stream",
     "text": [
      "30\n",
      "31\n",
      "28\n",
      "29\n"
     ]
    }
   ],
   "source": [
    "def days(n ,m):\n",
    "    if m ==1 or m ==3 or m ==5 or m ==7 or m==8 or m==10 or m==12:\n",
    "        return 31\n",
    "    elif m==4 or m ==6 or m == 9 or m ==11:\n",
    "        return 30\n",
    "    elif m ==2:\n",
    "        if n % 4 == 0:\n",
    "            if n % 400 != 0 and n % 100 == 0:\n",
    "                return 28\n",
    "            else:\n",
    "                return 29\n",
    "    \n",
    "print(days(1900 , 11))\n",
    "print(days(2004,10))\n",
    "print(days(1900,2))\n",
    "print(days(2000,2))"
   ]
  },
  {
   "cell_type": "code",
   "execution_count": 64,
   "id": "20d6abd1-7fe5-417d-988b-e6facf116d7c",
   "metadata": {},
   "outputs": [
    {
     "name": "stdout",
     "output_type": "stream",
     "text": [
      "몫: 3, 나머지 : 1\n"
     ]
    }
   ],
   "source": [
    "x = 10\n",
    "y = 3\n",
    "\n",
    "def get_quotient_remainder(n,m):\n",
    "    return n//m, n%m\n",
    "\n",
    "quitient, remainder = get_quotient_remainder(x,y)\n",
    "\n",
    "print(f'몫: {quitient}, 나머지 : {remainder}')"
   ]
  },
  {
   "cell_type": "markdown",
   "id": "07f8dfb0-1698-4ac2-981f-98914e41ce73",
   "metadata": {},
   "source": [
    "### divmod(나눠질수, 나눌수) -> (몫, 나머지)"
   ]
  },
  {
   "cell_type": "code",
   "execution_count": 65,
   "id": "13ddab9b-1dad-486f-9177-10f8226726d7",
   "metadata": {},
   "outputs": [
    {
     "name": "stdout",
     "output_type": "stream",
     "text": [
      "(3, 1)\n"
     ]
    }
   ],
   "source": [
    "print(divmod(10,3))"
   ]
  },
  {
   "cell_type": "markdown",
   "id": "9532eebd-e5b4-4499-952f-d93427f211c1",
   "metadata": {},
   "source": [
    "## 변수의 범위(variable scope) - 전역 변수(global variable)  \n",
    "함수를 배우기 전까진 바깥영역(들여쓰기 없이 쓴 영역)인 전역 범위(global scope)에서 변수 선언후 활용  \n",
    "전역 범위에서 선언했기에 그 변수를 스크립트전체에서 접근 가능.  \n",
    "그 변수를 전역 변수라고 함(global variable)"
   ]
  },
  {
   "cell_type": "markdown",
   "id": "e798d5ef-75c7-487d-8010-293970445251",
   "metadata": {},
   "source": [
    "ex)"
   ]
  },
  {
   "cell_type": "code",
   "execution_count": 66,
   "id": "f0e47d80-70ea-4852-8fba-34b1cd864af9",
   "metadata": {},
   "outputs": [
    {
     "name": "stdout",
     "output_type": "stream",
     "text": [
      "global_variable in global scope=> This is global world.\n",
      "0x27e5be50170\n",
      "global_variable in local_world=> This is global world.\n",
      "0x27e5be50170\n"
     ]
    }
   ],
   "source": [
    "global_variable = \"This is global world.\"\n",
    "\n",
    "print(f\"global_variable in global scope=> {global_variable}\")\n",
    "print(hex(id(global_variable)))\n",
    "\n",
    "def local_world():\n",
    "    print(f\"global_variable in local_world=> {global_variable}\")\n",
    "    print(hex(id(global_variable)))\n",
    "\n",
    "local_world()"
   ]
  },
  {
   "cell_type": "code",
   "execution_count": 67,
   "id": "f57307d8-ec59-433d-b25e-218bd65a662b",
   "metadata": {},
   "outputs": [
    {
     "ename": "NameError",
     "evalue": "name 'my_variable' is not defined",
     "output_type": "error",
     "traceback": [
      "\u001b[1;31m---------------------------------------------------------------------------\u001b[0m",
      "\u001b[1;31mNameError\u001b[0m                                 Traceback (most recent call last)",
      "\u001b[1;32m~\\AppData\\Local\\Temp\\ipykernel_10208\\3526018838.py\u001b[0m in \u001b[0;36m<module>\u001b[1;34m\u001b[0m\n\u001b[0;32m      2\u001b[0m     \u001b[0mmy_variable\u001b[0m \u001b[1;33m=\u001b[0m \u001b[1;34m\"This is my little world.\"\u001b[0m\u001b[1;33m\u001b[0m\u001b[1;33m\u001b[0m\u001b[0m\n\u001b[0;32m      3\u001b[0m \u001b[1;33m\u001b[0m\u001b[0m\n\u001b[1;32m----> 4\u001b[1;33m \u001b[0mprint\u001b[0m\u001b[1;33m(\u001b[0m\u001b[0mmy_variable\u001b[0m\u001b[1;33m)\u001b[0m\u001b[1;33m\u001b[0m\u001b[1;33m\u001b[0m\u001b[0m\n\u001b[0m",
      "\u001b[1;31mNameError\u001b[0m: name 'my_variable' is not defined"
     ]
    }
   ],
   "source": [
    "def my_little_world(): # 지역범위(local scope)\n",
    "    my_variable = \"This is my little world.\" # 지역변수 선언\n",
    "\n",
    "print(my_variable) # 전역범위에서 지역변수호출이라 에러가 나타나게됨"
   ]
  },
  {
   "cell_type": "code",
   "execution_count": 68,
   "id": "7bda623e-0c5f-460f-8cc0-b8c3e40c288d",
   "metadata": {},
   "outputs": [
    {
     "name": "stdout",
     "output_type": "stream",
     "text": [
      "중요한 것은 꺾이지 않는 마음\n"
     ]
    }
   ],
   "source": [
    "important_is_an_unbroken_heart = \"중요한 것은 꺾이지 않는 마음\"\n",
    "\n",
    "def trials_and_tribulations():\n",
    "    important_is_an_unbroken_heart = \"흔들흔들\"\n",
    "    \n",
    "trials_and_tribulations()\n",
    "print(important_is_an_unbroken_heart)"
   ]
  },
  {
   "cell_type": "markdown",
   "id": "c40ac137-cce4-4310-8da5-7139d9440c67",
   "metadata": {},
   "source": [
    "-> 지역범위에서 값을 입력 시도했지만 변경되지 않음을 확인할 수 있음"
   ]
  },
  {
   "cell_type": "markdown",
   "id": "86a8ae6c-d9d6-4532-b21a-c7ef30180e4f",
   "metadata": {},
   "source": [
    "### 지역범위에서 전역 변수 할당하기.  \n",
    "지역 범위에서 전역 변수값을 조회는 가능하나 변경에는 실팼음.  \n",
    "변경하려면 `global` 키워드를 사용해야함!"
   ]
  },
  {
   "cell_type": "code",
   "execution_count": 69,
   "id": "11fdda59-a850-48ad-b98c-f8a87922814e",
   "metadata": {},
   "outputs": [
    {
     "name": "stdout",
     "output_type": "stream",
     "text": [
      "global 키워드 활용해서 변경 완료\n"
     ]
    }
   ],
   "source": [
    "global_variable = \"변경이 됩니까?\"\n",
    "\n",
    "def heartbreaker():\n",
    "    global global_variable\n",
    "    global_variable = \"global 키워드 활용해서 변경 완료\"\n",
    "\n",
    "heartbreaker()\n",
    "print(global_variable)"
   ]
  },
  {
   "cell_type": "markdown",
   "id": "26ad7f36-e60b-45c8-97f0-1107351cafc2",
   "metadata": {},
   "source": [
    "### 함수 바디에 함수를 중첩해서 만들기"
   ]
  },
  {
   "cell_type": "code",
   "execution_count": 72,
   "id": "f0727315-6348-4b41-b01d-bc7ac91ae755",
   "metadata": {},
   "outputs": [
    {
     "name": "stdout",
     "output_type": "stream",
     "text": [
      "This is level 1.\n"
     ]
    }
   ],
   "source": [
    "def level1():\n",
    "    message = \"This is level 1.\"\n",
    "    def level2():\n",
    "        print(message)\n",
    "    level2()\n",
    "\n",
    "level1()"
   ]
  },
  {
   "cell_type": "markdown",
   "id": "7f354779-55e3-4d99-83e2-8a417adcfaf9",
   "metadata": {},
   "source": [
    "안쪽 함수에서 바깥쪽 함수에 선언된 변수에 대한 출력이 가능함.  \n",
    "변경도 가능한가?"
   ]
  },
  {
   "cell_type": "code",
   "execution_count": 73,
   "id": "5a2cc792-2644-4148-a1a9-8316e472c7ea",
   "metadata": {},
   "outputs": [
    {
     "name": "stdout",
     "output_type": "stream",
     "text": [
      "This is level 1.\n"
     ]
    }
   ],
   "source": [
    "def level1():\n",
    "    message = \"This is level 1.\"\n",
    "    def level2():\n",
    "        message = \"Level2 is better than level1.\"\n",
    "    level2()\n",
    "    print(message)\n",
    "\n",
    "level1()"
   ]
  },
  {
   "cell_type": "markdown",
   "id": "09600909-bc36-417b-83c8-4d062b745f47",
   "metadata": {},
   "source": [
    "바깥쪽 함수 영역의 변수 값 변경에 실패.  \n",
    "그럼 global을 사용하면 되는가?"
   ]
  },
  {
   "cell_type": "code",
   "execution_count": 74,
   "id": "3862e0db-2821-4f5b-a358-d4d543a24c01",
   "metadata": {},
   "outputs": [
    {
     "name": "stdout",
     "output_type": "stream",
     "text": [
      "This is level 1.\n"
     ]
    }
   ],
   "source": [
    "def level1():\n",
    "    message = \"This is level 1.\"\n",
    "    def level2():\n",
    "        global message\n",
    "        message = \"Level2 is better than level1.\"\n",
    "    level2()\n",
    "    print(message)\n",
    "\n",
    "level1()"
   ]
  },
  {
   "cell_type": "markdown",
   "id": "16f18f38-a9b5-4438-931d-1dc75994f058",
   "metadata": {},
   "source": [
    "global 을 사용해도 안됨을 확인할 수 있음  \n"
   ]
  },
  {
   "cell_type": "markdown",
   "id": "9a293d41-a771-4ac9-9c6b-c37000df0c51",
   "metadata": {},
   "source": [
    "### `nonlocal` 을 이용하여 변경"
   ]
  },
  {
   "cell_type": "code",
   "execution_count": 75,
   "id": "bf552573-b448-47fb-8b93-218476d88797",
   "metadata": {},
   "outputs": [
    {
     "name": "stdout",
     "output_type": "stream",
     "text": [
      "Level2 is better than level1.\n"
     ]
    }
   ],
   "source": [
    "def level1():\n",
    "    message = \"This is level 1.\"\n",
    "    def level2():\n",
    "        nonlocal message\n",
    "        message = \"Level2 is better than level1.\"\n",
    "    level2()\n",
    "    print(message)\n",
    "\n",
    "level1()"
   ]
  },
  {
   "cell_type": "markdown",
   "id": "72d99962-6e92-464e-a05f-e7b58f8e2e44",
   "metadata": {},
   "source": [
    "nonlocal을 이용하여 바깥영역의 변수를 사용하겠다고 설정할수있음.  \n",
    "global은 전역변수를 부르는 것이지만 message는 지역변수이기에 지역변수내에서 바깥영역의 지역변수를 호출하기 위해 `nonlocal`을 이용"
   ]
  },
  {
   "cell_type": "markdown",
   "id": "eed6d1a3-a307-446a-b921-1dada73a4dc9",
   "metadata": {},
   "source": [
    "nonlocal 키워드는 중첩된 함수마다 같은 이름이 있는경우, 제일 가까운 바깥변수를 매칭함.  \n",
    "가급적 함수마다 이름이 같은 변수를 사용하기보단 다른 변수명을 사용하는것이 좋음"
   ]
  },
  {
   "cell_type": "markdown",
   "id": "720aa3dc-b6e4-4b63-87b1-e86962bafd67",
   "metadata": {},
   "source": [
    "### 변수 범위 정리  \n",
    "  \n",
    "1. 함수 안에서 선언한 변수는 함수를 호출해 실행되는 동안만 사용할 수 있음\n",
    "2. 범위마다 같은 이름의 변수를 사용해도 각각 독립적으로 동작\n",
    "3. 지역변수(local variable)를 저장하는 이름 공간을 지역영역(local scope)라고 함\n",
    "4. 전역변수(global variable)를 저장하는 이름 공간을 전역영역(global scope)라고 함\n",
    "5. 파이썬 자체에서 정의한 이름 공간을 내장영역(built-in scope)라고 함\n",
    "6. 함수에서 변수를 호출하면 지역영역 -> 전역 영역 -> 내장 영역 순으로 해당하는 변수를 확인"
   ]
  },
  {
   "cell_type": "code",
   "execution_count": 76,
   "id": "692725a9-0c6c-4416-beee-40561c7e7b8b",
   "metadata": {},
   "outputs": [
    {
     "name": "stdout",
     "output_type": "stream",
     "text": [
      "전역 변수입니다.\n"
     ]
    }
   ],
   "source": [
    "#지역 범위(local scope) 전역 변수(global variable)에 접근 출력(변경 않음)\n",
    "global_v = \"전역 변수입니다.\"\n",
    "\n",
    "def local_scope():\n",
    "    print(global_v)\n",
    "    \n",
    "local_scope()"
   ]
  },
  {
   "cell_type": "code",
   "execution_count": 79,
   "id": "9e73e8ea-29d3-4c80-b7bd-1af577ca8117",
   "metadata": {},
   "outputs": [
    {
     "name": "stdout",
     "output_type": "stream",
     "text": [
      "전역 변수입니다.\n"
     ]
    }
   ],
   "source": [
    "#지역 범위(local scope) 전역 변수(global variable)에 접근 후 재할당\n",
    "global_v2 = \"전역 변수입니다.\"\n",
    "\n",
    "def local_scope2():\n",
    "    global_v2 = \"지역 범위입니다.\"\n",
    "    \n",
    "    \n",
    "local_scope2()\n",
    "print(global_v2)\n",
    "# 사실은 전역 범위에서 global_v2를 만들어 할당한 것과\n",
    "# 로컬 범위에서 global_v2를 만들어 할당한 것\n",
    "# 두가지 일을 각각 독립적으로 실행한 결과를 확인했다."
   ]
  },
  {
   "cell_type": "markdown",
   "id": "f82ebf23-477c-42d9-8e1d-444746950b32",
   "metadata": {},
   "source": [
    "변하지 않음을 확인. 왜? -> global 로 호출하지 않았기 때문."
   ]
  },
  {
   "cell_type": "code",
   "execution_count": 82,
   "id": "f248e9a3-1763-442b-a5be-068c25880525",
   "metadata": {},
   "outputs": [
    {
     "name": "stdout",
     "output_type": "stream",
     "text": [
      "지역 범위에서 변경입니다.\n"
     ]
    }
   ],
   "source": [
    "#지역 범위(local scope) 전역 변수(global variable)에 접근 후 재할당\n",
    "global_v3 = \"전역 변수입니다.\"\n",
    "\n",
    "def local_scope3():\n",
    "    global global_v3 #전역 범위에 있는 전역 변수인 global_v3를 사용하겠다.\n",
    "    global_v3 = \"지역 범위에서 변경입니다.\"\n",
    "    \n",
    "    \n",
    "local_scope3()\n",
    "print(global_v3)\n",
    "\n",
    "# global 키워드를 활용하면 지역 범위에 있어도 전역 변수에 대한 변경이 가능하도록 할 수 있다."
   ]
  },
  {
   "cell_type": "code",
   "execution_count": 84,
   "id": "6cce6fd6-b8b6-4f72-b8fc-9bdd660c0fbb",
   "metadata": {},
   "outputs": [
    {
     "name": "stdout",
     "output_type": "stream",
     "text": [
      "바깥 지역 범위입니다.\n"
     ]
    }
   ],
   "source": [
    "#지역 범위(local scope) 안에 지역 범위가 중첩되어 있을 경우\n",
    "#비교적 바깥에 있는 지역 범위의 지역 변수에 접근하여 출력\n",
    "\n",
    "def local_scope4():\n",
    "    global_v4 = \"바깥 지역 범위입니다.\"\n",
    "    def local_scope5():\n",
    "        print(global_v4)\n",
    "    local_scope5()\n",
    "    \n",
    "    \n",
    "local_scope4()\n",
    "\n",
    "#값을 조회하는 것에 대해선 가능함을 확인."
   ]
  },
  {
   "cell_type": "code",
   "execution_count": 86,
   "id": "6d396d4c-5da7-4dcb-b6f2-4028223f9e2c",
   "metadata": {},
   "outputs": [
    {
     "ename": "NameError",
     "evalue": "name 'global_v4' is not defined",
     "output_type": "error",
     "traceback": [
      "\u001b[1;31m---------------------------------------------------------------------------\u001b[0m",
      "\u001b[1;31mNameError\u001b[0m                                 Traceback (most recent call last)",
      "\u001b[1;32m~\\AppData\\Local\\Temp\\ipykernel_10208\\2702738645.py\u001b[0m in \u001b[0;36m<module>\u001b[1;34m\u001b[0m\n\u001b[1;32m----> 1\u001b[1;33m \u001b[0mprint\u001b[0m\u001b[1;33m(\u001b[0m\u001b[0mglobal_v4\u001b[0m\u001b[1;33m)\u001b[0m \u001b[1;31m# 지역범위 안에 있는 지역 변수는 그 함수 실행과 반환 사이동안만 살아있음을 확인.\u001b[0m\u001b[1;33m\u001b[0m\u001b[1;33m\u001b[0m\u001b[0m\n\u001b[0m",
      "\u001b[1;31mNameError\u001b[0m: name 'global_v4' is not defined"
     ]
    }
   ],
   "source": [
    "print(global_v4) # 지역범위 안에 있는 지역 변수는 그 함수 실행과 반환 사이동안만 살아있음을 확인."
   ]
  },
  {
   "cell_type": "code",
   "execution_count": 87,
   "id": "c378f996-7923-4c32-9189-637c2e56c78a",
   "metadata": {},
   "outputs": [
    {
     "name": "stdout",
     "output_type": "stream",
     "text": [
      "바깥 지역 범위입니다.\n"
     ]
    }
   ],
   "source": [
    "def local_scope6():\n",
    "    global_v5 = \"바깥 지역 범위입니다.\"\n",
    "    def local_scope7():\n",
    "        global_v5 = \"안쪽 지역 범위입니다.\"\n",
    "    local_scope7()\n",
    "    print(global_v5)\n",
    "    \n",
    "local_scope6()"
   ]
  },
  {
   "cell_type": "markdown",
   "id": "6bf17645-d8fb-4373-90e6-8db25b23f941",
   "metadata": {},
   "source": [
    "위 실행 결과 각각 독립적인 영역의 global_v5가 생성됨을 확인할 수 있었음."
   ]
  },
  {
   "cell_type": "code",
   "execution_count": 88,
   "id": "eba9145b-1450-4efb-8291-2e172142506e",
   "metadata": {},
   "outputs": [
    {
     "name": "stdout",
     "output_type": "stream",
     "text": [
      "안쪽 지역 범위입니다.\n"
     ]
    }
   ],
   "source": [
    "def local_scope6():\n",
    "    global_v5 = \"바깥 지역 범위입니다.\"\n",
    "    def local_scope7():\n",
    "        nonlocal global_v5\n",
    "        global_v5 = \"안쪽 지역 범위입니다.\"\n",
    "    local_scope7()\n",
    "    print(global_v5)\n",
    "    \n",
    "local_scope6()"
   ]
  },
  {
   "cell_type": "markdown",
   "id": "ac05bc34-0c9c-4cb7-b45e-e22e9bd9319f",
   "metadata": {},
   "source": [
    "`nonlocal` 을 이용하여 안쪽 지역범위에서 가장 가까운 바깥 지역범위의 지역변수를 호출하여 그 값을 변경할 수 있음을 확인할 수 있었음."
   ]
  },
  {
   "cell_type": "markdown",
   "id": "8fd103ef-8595-41fe-9aad-855c6499c20a",
   "metadata": {},
   "source": [
    "## 람다 (Lambda)   \n",
    "호출될 때 값이 구해지는 하나의 표현식  \n",
    "또 이름이 없는 인라인 함수"
   ]
  },
  {
   "cell_type": "markdown",
   "id": "f2580704-7a78-4277-8341-3b8d4048e75c",
   "metadata": {},
   "source": [
    "lambda [parameters]:expression  \n",
    "parameters => 매개변수를 지정  \n",
    "expresstion => 반환값으로 사용할 식"
   ]
  },
  {
   "cell_type": "markdown",
   "id": "ee5ecc65-0268-4dd3-8968-d9ffdb472460",
   "metadata": {},
   "source": [
    "람다 표현식 : "
   ]
  },
  {
   "cell_type": "code",
   "execution_count": 89,
   "id": "f5158a2d-4d73-4a64-aac2-b2e67101649a",
   "metadata": {},
   "outputs": [
    {
     "data": {
      "text/plain": [
       "20"
      ]
     },
     "execution_count": 89,
     "metadata": {},
     "output_type": "execute_result"
    }
   ],
   "source": [
    "(lambda x: x+ 10)(10)"
   ]
  },
  {
   "cell_type": "markdown",
   "id": "c55276c4-c521-44c0-bd05-a438144ecdb4",
   "metadata": {},
   "source": [
    "위처럼 (lambda [parameters]: expression)(arguments)  \n",
    "로 표현이 가능"
   ]
  },
  {
   "cell_type": "code",
   "execution_count": 90,
   "id": "003597e1-3daa-4335-8190-f9c22e4ac55e",
   "metadata": {},
   "outputs": [
    {
     "name": "stdout",
     "output_type": "stream",
     "text": [
      "20\n"
     ]
    }
   ],
   "source": [
    "twice = lambda x: x*2\n",
    "print(twice(10))"
   ]
  },
  {
   "cell_type": "markdown",
   "id": "a2e690e9-9e05-4540-acc0-c9a79481529b",
   "metadata": {},
   "source": [
    "람다는 기본적으로 이름없는 함수(anonymous function)임.  \n",
    "람다로 만든 익명 함수를 호출하려면 변수에 할당해서 사용가능.  \n",
    "(파이선에서 함수는 일급객체(first-class object))임"
   ]
  },
  {
   "cell_type": "markdown",
   "id": "a5cdc885-9450-4475-a4c9-4ed38d4647ef",
   "metadata": {},
   "source": [
    "variable = lambda [parameters]:expression  \n",
    "variable(argument)"
   ]
  },
  {
   "cell_type": "code",
   "execution_count": 91,
   "id": "ebf7353d-5464-48af-ae00-d3ffe70a7856",
   "metadata": {},
   "outputs": [
    {
     "ename": "SyntaxError",
     "evalue": "invalid syntax (3648884501.py, line 1)",
     "output_type": "error",
     "traceback": [
      "\u001b[1;36m  File \u001b[1;32m\"C:\\Users\\Playdata\\AppData\\Local\\Temp\\ipykernel_10208\\3648884501.py\"\u001b[1;36m, line \u001b[1;32m1\u001b[0m\n\u001b[1;33m    (lambda x : y =10 : x +y)(1)\u001b[0m\n\u001b[1;37m                  ^\u001b[0m\n\u001b[1;31mSyntaxError\u001b[0m\u001b[1;31m:\u001b[0m invalid syntax\n"
     ]
    }
   ],
   "source": [
    "(lambda x : y =10 : x +y)(1)"
   ]
  },
  {
   "cell_type": "markdown",
   "id": "2d09231c-9727-47a1-b82e-50c035edb613",
   "metadata": {},
   "source": [
    "위 예시를 통해 람다의 expression 부분은 변수 없이 식 한줄로 표현가능해야함.  \n",
    "새 변수를 만들 수 없음. 변수가 필요한 경우 def를 써서 함수를 정의하여 쓰는것이 좋음"
   ]
  },
  {
   "cell_type": "markdown",
   "id": "b8b5b9a5-bb30-43e9-833d-540de618dff9",
   "metadata": {},
   "source": [
    "## 조건 표현식(Conditional Expression). inline if else  \n",
    "if else를 한줄로 작성할 수 있는 방법. lambda에 사용하면 활용도가 아주 좋음.  \n",
    "if만 사용할 수 없음. 반드시 else와 같이 써야함.  \n",
    "중첩해서 사용이 가능.  \n",
    "다만 중첩이 너무 많아지면 가독성이 안좋아짐."
   ]
  },
  {
   "cell_type": "markdown",
   "id": "716abbab-3cd6-4165-9706-97e92266d8b7",
   "metadata": {},
   "source": [
    "True일때 값 if 조건식 else False일때 값"
   ]
  },
  {
   "cell_type": "code",
   "execution_count": 92,
   "id": "cbebe5be-c02d-4b7f-bda5-678461237943",
   "metadata": {},
   "outputs": [
    {
     "data": {
      "text/plain": [
       "'B'"
      ]
     },
     "execution_count": 92,
     "metadata": {},
     "output_type": "execute_result"
    }
   ],
   "source": [
    "score=90\n",
    "'A' if 90<score<=100 else 'B' if 80<score else 'C'"
   ]
  },
  {
   "cell_type": "markdown",
   "id": "f0420193-91f9-488d-85b0-508f50d107eb",
   "metadata": {},
   "source": [
    "람다(lambda) feat. map()  \n",
    "람다와 map()함수를 같이 쓸때 다음처럼 사용하면 됨.  \n",
    "필요에 따라 parameter와 iterable의 개수를 맞춰서 사용하면됨. 어느 한쪽 iterable의 길이가 짧아도 상관없이 동작하며,  \n",
    "길이가 짧은 쪽에 맞춰 값을 반환  \n",
    "\n",
    "### map(lambda parameter1, parameter2, ...: expression, iterable1, iterable2,...)"
   ]
  },
  {
   "cell_type": "code",
   "execution_count": 94,
   "id": "aafaf473-69df-43f7-89d0-1a3623981ed4",
   "metadata": {},
   "outputs": [
    {
     "name": "stdout",
     "output_type": "stream",
     "text": [
      "[2, 8, 18, 32, 50]\n"
     ]
    }
   ],
   "source": [
    "a = [ _ for _ in range(1,6)] # 1,2,3,4,5\n",
    "b = [ _ for _ in range(2,11,2)] # 2,4,6,8,10\n",
    "print(list(map(lambda x, y : x*y, a,b))) # 2,8,12,32,50"
   ]
  },
  {
   "cell_type": "code",
   "execution_count": 97,
   "id": "b13b767c-a598-4c19-a6d1-b3170154e56b",
   "metadata": {},
   "outputs": [
    {
     "name": "stdout",
     "output_type": "stream",
     "text": [
      "[0, 4, 12, 24, 40]\n",
      "100\n"
     ]
    }
   ],
   "source": [
    "a = [ _ for _ in range(5)]\n",
    "b = [ _ for _ in range(2, 11, 2)]\n",
    "\n",
    "c = list(map(lambda x, y: x* y, a,b))\n",
    "print(c)\n",
    "\n",
    "print((lambda x : x **2)(10))"
   ]
  },
  {
   "cell_type": "markdown",
   "id": "b78663f9-958d-42dc-95af-4dafc5a88e85",
   "metadata": {},
   "source": [
    "### 람다(lambda) feat.filter()  \n",
    "람다와 filter() 함수를 쓸때 다음과 같음  \n",
    "map(lambda parameter : expression, iterable)  \n",
    "filter의 첫 인수로 들어가는 함수의 반환 값이 True 일때만 해당요소를 가져옴.  \n",
    "리스트 컴프리헨션으로도 표현이 가능.(속도와 가독성 모두 리스트컴프리헨션이 더 좋음)"
   ]
  },
  {
   "cell_type": "code",
   "execution_count": 98,
   "id": "29785380-a5cd-4d43-9cf8-4bc074d4baa0",
   "metadata": {},
   "outputs": [
    {
     "data": {
      "text/plain": [
       "[3, 9, 9]"
      ]
     },
     "execution_count": 98,
     "metadata": {},
     "output_type": "execute_result"
    }
   ],
   "source": [
    "a = [3, 2, 8, 22, 10, 7, 0, 11, 9,9]\n",
    "list(filter(lambda x : x % 3 == 0 and 0 <x < 10, a))"
   ]
  },
  {
   "cell_type": "markdown",
   "id": "ef3b7363-3096-4177-b6f1-13e24b213f66",
   "metadata": {},
   "source": [
    "## 객체지향(Object Oriented) 프로그래밍  \n",
    "  \n",
    "  객체지향 프로그래밍은 복잡한 문제를 잘게 나누어 객체로 만들고, 객체를 조합해서 문제를 해결  \n",
    "  현실 세계의 복잡한 문제를 처리하는데 유용하며 기능을 개선하고 발전시킬 때도 해당 클래스만 수정하면 되므로 큰 프로젝트의 유지보수에도 매우 효율적  \n",
    "  객체가 가진 데이터를 클래스의 속성(Attribute)이라 부르고, 객체가 갖는 기능을 메서드(Method)라고 부름"
   ]
  },
  {
   "cell_type": "markdown",
   "id": "aabf213a-f2ef-47a8-97ef-61f449a8f2ba",
   "metadata": {},
   "source": [
    "## 클래스(Class)  \n",
    "-> 클래스는 사용자 정의 객체를 만들기 위한 주형이라고 생각하면 됨.  \n",
    "클래스 정의는 보통 클래스의 인스턴스를 대상으로 연산하는 메서드 정의를 포함하고 있음.  \n",
    "클래스명으로 주로 PascalCase(UpperCamelCase)를 사용  \n",
    "ex) class ClassName:"
   ]
  },
  {
   "cell_type": "markdown",
   "id": "52991450-2cc8-4efd-9285-a01e9ffb4338",
   "metadata": {},
   "source": [
    "### 객체(Object)? 인스턴스?  \n",
    "  \n",
    "  객체를 언급할 땐 단어 하나만 활용하여 단지 '객체'라고 표현함  \n",
    "  그와 달리 인스턴스(Instance)는 특정 클래스로부터 만들어진 실체로 언급을 많이 함.  \n",
    "  예를들어 인스턴스의 경우 '리스트 클래스로 만들어진 인스턴스다' 라고 말할 수 있음.  \n",
    "  부르는 구체적인 것은 조금 달라도 결국 둘은 같은말임.  \n",
    "    \n",
    "    인스턴스의 생성은 아래의 예제처럼 클래스명 오른편에 소괄호를 붙여서 만듬"
   ]
  },
  {
   "cell_type": "markdown",
   "id": "1c4a58af-e1dc-427a-b2fe-2c144535d49d",
   "metadata": {},
   "source": [
    "instance_variable = ClassName()"
   ]
  },
  {
   "cell_type": "markdown",
   "id": "77e412c3-ac60-437f-9f50-d3c7960b48a7",
   "metadata": {},
   "source": [
    "### 메서드(Method)  \n",
    "  \n",
    "  메서드(Method)는 클래스 바디안에서 정의되는 함수임.  \n",
    "  클래스의 인스턴스의 어트리뷰트(attribute)로서 호출되면, 그 메서드는 첫 번째 인자로 인스턴스 객체(self)를 받음  \n",
    "  첫 번째 인자를 설정 안하면 에러가 발생.  \n",
    "  이 첫 번째 인자를 'self'라고 씀.  \n",
    "    \n",
    "    class ClassName:  \n",
    "      def method_name(self):  \n",
    "        method_body  \n",
    "          \n",
    "      class_body"
   ]
  },
  {
   "cell_type": "markdown",
   "id": "cb76dada-6a93-4635-b6a0-2501c409a119",
   "metadata": {},
   "source": [
    "Example)"
   ]
  },
  {
   "cell_type": "code",
   "execution_count": 103,
   "id": "02a5cae3-4530-4598-91c9-c497707e8211",
   "metadata": {},
   "outputs": [],
   "source": [
    "class Student():\n",
    "    def __init__(): \n",
    "        pass\n",
    "   "
   ]
  },
  {
   "cell_type": "code",
   "execution_count": 101,
   "id": "e80f4c10-a3ed-4019-9003-5d5066c87c8b",
   "metadata": {},
   "outputs": [],
   "source": [
    "gh = Student() # 독립적인 값을 보장하는 인스턴스로 생성."
   ]
  },
  {
   "cell_type": "code",
   "execution_count": 107,
   "id": "417bbba1-6958-4df7-bb62-764e5f82fb66",
   "metadata": {},
   "outputs": [],
   "source": [
    "## __ -> double-under-scorebar를 줄여서 dunder_method라고 부름..\n",
    "\n",
    "class Person:\n",
    "    def __init__(self): #attribute를 설정할때 self로 설정\n",
    "        self.hello = \"안녕하세요.\""
   ]
  },
  {
   "cell_type": "code",
   "execution_count": 105,
   "id": "d549430c-434e-4ba1-9057-eddaefdb2b36",
   "metadata": {},
   "outputs": [],
   "source": [
    "james = Person()"
   ]
  },
  {
   "cell_type": "code",
   "execution_count": 106,
   "id": "8a90e17c-c488-44aa-9699-eab03a7d5fc6",
   "metadata": {},
   "outputs": [
    {
     "name": "stdout",
     "output_type": "stream",
     "text": [
      "안녕하세요.\n"
     ]
    }
   ],
   "source": [
    "print(james.hello)"
   ]
  },
  {
   "cell_type": "code",
   "execution_count": 108,
   "id": "76d867f7-db80-439a-bbde-3d89e91e51c5",
   "metadata": {},
   "outputs": [
    {
     "name": "stdout",
     "output_type": "stream",
     "text": [
      "안녕하세요.\n"
     ]
    }
   ],
   "source": [
    "bebe = Person()\n",
    "print(bebe.hello)"
   ]
  },
  {
   "cell_type": "markdown",
   "id": "4e1aba76-7c9f-4e4c-8f6e-3454d65cc25b",
   "metadata": {},
   "source": [
    "### 클래스 속성(Attribute)  \n",
    "  \n",
    "  __init__메서드는 james = Person()처럼 클래스에 소괄호() 를 붙여서 인스턴스를 만들 때 호출되는 특별한 메서드(special method, magic method)임  \n",
    "  __init__은 initialize의 줄임말로 인스턴스(객체)를 초기화(메모리에 공간을 할당하고 값을 부여함)함.  \n",
    "  밑줄 두개 (__ double under, 던더)가 양옆으로 붙어있는 메서드는 파이썬이 자동으로 호출하는 메서드.  \n",
    "  스페셜 메서드(special method) 혹은 매직메서드(magic_method) 혹은 던더메서드라고 불리기도함.  \n",
    "  파이썬의 여러기능을 사용할 때 던더 메서드를 구현하는 식으로 사용하게 됨.  \n",
    "    \n",
    "    class Person:  \n",
    "      def __init__(self):  \n",
    "        self.hello = \"안녕하세요.\""
   ]
  },
  {
   "cell_type": "markdown",
   "id": "d4c228dc-a02d-41f5-9d61-271c9d36cafa",
   "metadata": {},
   "source": [
    "클래스속성은 __init__메서드에서 만든다는것과 self에 마침표(.)을 붙여 속성명을 붙이고 할당.  \n",
    "클래스 바디에서도 속성을 접근할때 self.속성 과 같이 self 에 마침표를 찍고 사용하면 됨."
   ]
  },
  {
   "cell_type": "markdown",
   "id": "f11628f4-71da-4e35-9bf9-9cf1feb2798c",
   "metadata": {},
   "source": [
    "## self란  \n",
    "  \n",
    "  self는 인스턴스 자기자신을 의미.  \n",
    "  위 예제에서 인스턴스가 생성될때 self.hello = '안녕하세요' 처럼 자기자신에 속성을 추가하여 사용했음  \n",
    "  __init__의 매개변수 self에 들어가는 값은 Person() 인스턴스라고 할 수 있음.  \n",
    "  self가 완성된 후에는 변수인 james에 할당되었음.  \n",
    "  이후 메서드를 호출하면 현재 인스턴스가 자동으로 매개변수 self에 들어옴. 그래서 greeting 메서드에서 print(self.hello)처럼 속성을 출력할 수 있엇음"
   ]
  },
  {
   "cell_type": "code",
   "execution_count": 109,
   "id": "3e124c9d-d858-4c74-8a08-fd5eb5510ba4",
   "metadata": {},
   "outputs": [
    {
     "name": "stdout",
     "output_type": "stream",
     "text": [
      "안녕하세요.\n"
     ]
    }
   ],
   "source": [
    "class Person:\n",
    "    def __init__(self): #attribute를 설정할때 self로 설정\n",
    "        self.hello = \"안녕하세요.\"\n",
    "        \n",
    "    def greeting(self):\n",
    "        print(self.hello)\n",
    "\n",
    "james = Person()\n",
    "james.greeting()"
   ]
  },
  {
   "cell_type": "code",
   "execution_count": null,
   "id": "4b77bbde-3185-406e-8791-f8fa7bde8e53",
   "metadata": {},
   "outputs": [],
   "source": []
  }
 ],
 "metadata": {
  "kernelspec": {
   "display_name": "Python 3 (ipykernel)",
   "language": "python",
   "name": "python3"
  },
  "language_info": {
   "codemirror_mode": {
    "name": "ipython",
    "version": 3
   },
   "file_extension": ".py",
   "mimetype": "text/x-python",
   "name": "python",
   "nbconvert_exporter": "python",
   "pygments_lexer": "ipython3",
   "version": "3.9.13"
  }
 },
 "nbformat": 4,
 "nbformat_minor": 5
}
