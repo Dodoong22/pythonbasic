{
 "cells": [
  {
   "cell_type": "markdown",
   "id": "91ef1330-0d5f-4dee-832c-5f361c16e150",
   "metadata": {},
   "source": [
    "## 연습문제"
   ]
  },
  {
   "cell_type": "code",
   "execution_count": 55,
   "id": "66610cbe-5f78-4452-9760-e62b19745767",
   "metadata": {},
   "outputs": [
    {
     "name": "stdout",
     "output_type": "stream",
     "text": [
      "[0, 2, 1, 2, 1, 4]\n",
      "4\n",
      "5\n",
      "김태형 후보가 총 4표를 얻어 당선되었습니다.\n"
     ]
    }
   ],
   "source": [
    "votes = [2, 5, 3, 4, 1, 5, 1, 5, 5 ,3]\n",
    "candidates = [\"\", \"전정국\", \"김남준\", \"박지민\", \"정호석\", \"김태형\"]\n",
    "counts = [0] * len(candidates)\n",
    "# for n in range(1, len(votes)):\n",
    "#     if votes[n] == 1:\n",
    "#         count_n[1] += 1\n",
    "#     elif votes[n] == 2:\n",
    "#         count_n[2] += 1\n",
    "#     elif votes[n] == 3:\n",
    "#         count_n[3] += 1\n",
    "#     elif votes[n] == 4:\n",
    "#         count_n[4] += 1\n",
    "#     elif votes[n] == 5:\n",
    "#         count_n[5] += 1\n",
    "# print(count_n)\n",
    "## -> 좀 더 좋은 방법!\n",
    "for vote in votes:\n",
    "    counts[vote] += 1\n",
    "print(counts)\n",
    "max_counts = max(counts)\n",
    "elected_person = counts.index(max_counts)\n",
    "print(max_counts)\n",
    "print(elected_person)\n",
    "# high = 0\n",
    "# for j in range(1, len(count_n)):\n",
    "#     if high < counts[j]:\n",
    "#         high = counts[j]\n",
    "# print(high)\n",
    "# a = int(counts.index(high))\n",
    "#   high = 4\n",
    "print(f'{candidates[elected_person]} 후보가 총 {max_counts}표를 얻어 당선되었습니다.')\n",
    "\n"
   ]
  },
  {
   "cell_type": "code",
   "execution_count": 64,
   "id": "7390d8c6-f816-4e08-a9ea-161168cd5402",
   "metadata": {},
   "outputs": [
    {
     "name": "stdout",
     "output_type": "stream",
     "text": [
      "[1, 3, 5, 7, 9]\n"
     ]
    }
   ],
   "source": [
    "prac_result2 = [i for i in range(1,10,2)]\n",
    "print(prac_result2)"
   ]
  },
  {
   "cell_type": "code",
   "execution_count": 69,
   "id": "10f01b89-e88c-4ab7-bdf3-37c3a7e15fe0",
   "metadata": {},
   "outputs": [
    {
     "name": "stdout",
     "output_type": "stream",
     "text": [
      "['a', 'b', 'c', 'd', 'e', 'f', 'g', 'h', 'i', 'j', 'k', 'l', 'm', 'n', 'o', 'p', 'q', 'r', 's', 't', 'u', 'v', 'w', 'x', 'y', 'z']\n"
     ]
    }
   ],
   "source": [
    "prac_result3 = [a for a in 'abcdefghijklmnopqrstuvwxyz']\n",
    "print(prac_result3)"
   ]
  },
  {
   "cell_type": "markdown",
   "id": "58a207b2-58fa-4553-ae9b-e00673a7a1c4",
   "metadata": {},
   "source": [
    "### `[]` 과 `[]`사이 + 로 합치기 가능"
   ]
  },
  {
   "cell_type": "code",
   "execution_count": 99,
   "id": "ab46557e-a441-4092-bbb7-7655420102ad",
   "metadata": {},
   "outputs": [
    {
     "name": "stdout",
     "output_type": "stream",
     "text": [
      "['2', '3', '4', '5', '6', '7', '8', '9', '10', 'J', 'Q', 'K', 'A']\n"
     ]
    }
   ],
   "source": [
    "prac_result4 = [str(i) for i in range(2,11)] + [i for i in 'JQKA']\n",
    "print(prac_result4)"
   ]
  },
  {
   "cell_type": "code",
   "execution_count": 102,
   "id": "54679f6b-0ec5-48d4-bb26-ad5e27e72a1c",
   "metadata": {},
   "outputs": [
    {
     "name": "stdout",
     "output_type": "stream",
     "text": [
      "[['2', '3', '4', '5', '6', '7', '8', '9', '10', 'J', 'Q', 'K', 'A'], ['2', '3', '4', '5', '6', '7', '8', '9', '10', 'J', 'Q', 'K', 'A'], ['2', '3', '4', '5', '6', '7', '8', '9', '10', 'J', 'Q', 'K', 'A'], ['2', '3', '4', '5', '6', '7', '8', '9', '10', 'J', 'Q', 'K', 'A']]\n"
     ]
    }
   ],
   "source": [
    "prac_result5 = [prac_result4 for i in range(4)]\n",
    "print(prac_result5)"
   ]
  },
  {
   "cell_type": "code",
   "execution_count": 103,
   "id": "5e698f4a-26ab-43f7-86e9-15aa88b90ab3",
   "metadata": {},
   "outputs": [
    {
     "name": "stdout",
     "output_type": "stream",
     "text": [
      "['two', '3', '4', '5', '6', '7', '8', '9', '10', 'J', 'Q', 'K', 'A']\n"
     ]
    }
   ],
   "source": [
    "prac_result4[0] = 'two'\n",
    "print(prac_result4)"
   ]
  },
  {
   "cell_type": "code",
   "execution_count": 104,
   "id": "93cb054b-ba56-40ef-b478-f5b9a5c415ca",
   "metadata": {},
   "outputs": [
    {
     "name": "stdout",
     "output_type": "stream",
     "text": [
      "[['two', '3', '4', '5', '6', '7', '8', '9', '10', 'J', 'Q', 'K', 'A'], ['two', '3', '4', '5', '6', '7', '8', '9', '10', 'J', 'Q', 'K', 'A'], ['two', '3', '4', '5', '6', '7', '8', '9', '10', 'J', 'Q', 'K', 'A'], ['two', '3', '4', '5', '6', '7', '8', '9', '10', 'J', 'Q', 'K', 'A']]\n"
     ]
    }
   ],
   "source": [
    "print(prac_result5)"
   ]
  },
  {
   "cell_type": "markdown",
   "id": "04ee3623-b887-4e81-a95e-aed5dc4113d8",
   "metadata": {},
   "source": [
    "## `이부분 복습하기'"
   ]
  },
  {
   "cell_type": "code",
   "execution_count": 107,
   "id": "c0ea7412-2594-44cc-9ec5-ce37e8d4aa89",
   "metadata": {},
   "outputs": [
    {
     "name": "stdout",
     "output_type": "stream",
     "text": [
      "prac_rsesult4의 id: 1814950081216\n",
      "prac_result4[0] : 1814950081216\n",
      "prac_result4[1] : 1814950081216\n",
      "prac_result4[2] : 1814950081216\n",
      "prac_result4[3] : 1814950081216\n"
     ]
    }
   ],
   "source": [
    "print(\"prac_rsesult4의 id:\", id(prac_result4))\n",
    "\n",
    "for i, v in enumerate(prac_result5):\n",
    "    print(\"prac_result4[\", i, \"] : \", id(v),sep=\"\")"
   ]
  },
  {
   "cell_type": "code",
   "execution_count": 113,
   "id": "8cfa647c-749c-4014-8094-fe81d3ac3c81",
   "metadata": {},
   "outputs": [
    {
     "name": "stdout",
     "output_type": "stream",
     "text": [
      "prac_result4의 id: 1814950081216\n",
      "prac_result6[0] : 1814950128768\n",
      "prac_result6[1] : 1814950126336\n",
      "prac_result6[2] : 1814949991040\n",
      "prac_result6[3] : 1814949136576\n"
     ]
    }
   ],
   "source": [
    "prac_result6 = [prac_result4[:] for _ in range(4)]\n",
    "\n",
    "print(\"prac_result4의 id:\", id(prac_result4))\n",
    "for i, v in enumerate(prac_result6):\n",
    "    print(\"prac_result6[\", i, \"] : \", id(v), sep=\"\")"
   ]
  },
  {
   "cell_type": "code",
   "execution_count": 115,
   "id": "4cd55467-9281-4d51-ae5b-a2c8943e312f",
   "metadata": {},
   "outputs": [
    {
     "name": "stdout",
     "output_type": "stream",
     "text": [
      "1814949079360\n",
      "1814949993472\n",
      "False\n",
      "True\n"
     ]
    }
   ],
   "source": [
    "old_list = list(range(10))\n",
    "new_list = old_list[:]\n",
    "\n",
    "print(id(old_list))\n",
    "print(id(new_list))\n",
    "print(old_list is new_list)\n",
    "print(old_list == new_list)"
   ]
  },
  {
   "cell_type": "code",
   "execution_count": 116,
   "id": "d777faf0-bc63-417f-a51e-41acfcfcba4d",
   "metadata": {},
   "outputs": [
    {
     "name": "stdout",
     "output_type": "stream",
     "text": [
      "1814949998896\n",
      "1814949998896\n"
     ]
    }
   ],
   "source": [
    "str_sample = \"This is str.\"\n",
    "str2 = str_sample[:]\n",
    "\n",
    "print(id(str_sample))\n",
    "print(id(str2))"
   ]
  },
  {
   "cell_type": "code",
   "execution_count": 117,
   "id": "d371d409-d4fa-4f48-b6f4-258cafa59baa",
   "metadata": {},
   "outputs": [
    {
     "name": "stdout",
     "output_type": "stream",
     "text": [
      "1814945128112\n"
     ]
    }
   ],
   "source": [
    "str_a = \"hello\"\n",
    "str_b = \"hello\"\n",
    "print(id(str_a))"
   ]
  },
  {
   "cell_type": "code",
   "execution_count": 118,
   "id": "9a3c462f-011e-4103-bbfb-456aa0042701",
   "metadata": {},
   "outputs": [
    {
     "name": "stdout",
     "output_type": "stream",
     "text": [
      "1814945128112\n"
     ]
    }
   ],
   "source": [
    "print(id(str_b))"
   ]
  },
  {
   "cell_type": "code",
   "execution_count": 119,
   "id": "ed783290-0b0c-4e1f-92a9-b25d42e0db48",
   "metadata": {},
   "outputs": [
    {
     "name": "stdout",
     "output_type": "stream",
     "text": [
      "[0, 1, 8, 27, 64, 125, 216, 343, 512, 729]\n"
     ]
    }
   ],
   "source": [
    "list_d = list(i**3 for i in range(10))\n",
    "print(list_d)"
   ]
  },
  {
   "cell_type": "code",
   "execution_count": 121,
   "id": "aa777092-fa2b-494c-b2a2-196f37acb90e",
   "metadata": {},
   "outputs": [
    {
     "name": "stdout",
     "output_type": "stream",
     "text": [
      "9.42486310005188\n"
     ]
    }
   ],
   "source": [
    "import time\n",
    "\n",
    "curr = time.time()\n",
    "\n",
    "for _ in range(100000):\n",
    "    [i for i in range(1000)]\n",
    "    \n",
    "    \n",
    "last = time.time()\n",
    "print(last - curr)"
   ]
  },
  {
   "cell_type": "code",
   "execution_count": 122,
   "id": "efe1e9a4-bc5b-464e-84bc-5bdaff95137e",
   "metadata": {},
   "outputs": [
    {
     "name": "stdout",
     "output_type": "stream",
     "text": [
      "16.355058908462524\n"
     ]
    }
   ],
   "source": [
    "import time\n",
    "\n",
    "curr = time.time()\n",
    "\n",
    "for _ in range(100000):\n",
    "    list(i for i in range(1000))\n",
    "    \n",
    "    \n",
    "last = time.time()\n",
    "print(last - curr)"
   ]
  },
  {
   "cell_type": "code",
   "execution_count": 123,
   "id": "3f792595-a834-42d9-a436-83df4be993ba",
   "metadata": {},
   "outputs": [
    {
     "name": "stdout",
     "output_type": "stream",
     "text": [
      "[0, 1, 2, 3, 4, 5, 6, 7, 8, 9]\n"
     ]
    }
   ],
   "source": [
    "list_e = [i for i in range(10)]\n",
    "print(list_e)"
   ]
  },
  {
   "cell_type": "code",
   "execution_count": 124,
   "id": "74abd839-08f1-4a02-a6d5-25335568dc68",
   "metadata": {},
   "outputs": [
    {
     "name": "stdout",
     "output_type": "stream",
     "text": [
      "[0, 1, 2, 3, 4, 5, 6, 7, 8, 9]\n"
     ]
    }
   ],
   "source": [
    "list_f = list_e\n",
    "print(list_f)"
   ]
  },
  {
   "cell_type": "code",
   "execution_count": 125,
   "id": "a888f31f-342f-4f3c-9d04-5c3c5b4606e7",
   "metadata": {},
   "outputs": [
    {
     "name": "stdout",
     "output_type": "stream",
     "text": [
      "1814950148544\n",
      "1814950148544\n"
     ]
    }
   ],
   "source": [
    "print(id(list_e))\n",
    "print(id(list_f))"
   ]
  },
  {
   "cell_type": "code",
   "execution_count": 126,
   "id": "cb72192d-7e18-4e8c-adfc-8cf5b5e89383",
   "metadata": {},
   "outputs": [
    {
     "name": "stdout",
     "output_type": "stream",
     "text": [
      "True\n",
      "True\n"
     ]
    }
   ],
   "source": [
    "print(list_e is list_f)\n",
    "print(list_e == list_f)"
   ]
  },
  {
   "cell_type": "code",
   "execution_count": 127,
   "id": "659f5b06-5e9d-40ea-a316-1b2410963bd8",
   "metadata": {},
   "outputs": [
    {
     "name": "stdout",
     "output_type": "stream",
     "text": [
      "[999, 1, 2, 3, 4, 5, 6, 7, 8, 9]\n",
      "[999, 1, 2, 3, 4, 5, 6, 7, 8, 9]\n"
     ]
    }
   ],
   "source": [
    "list_e[0] = 999\n",
    "print(list_e)\n",
    "print(list_f)"
   ]
  },
  {
   "cell_type": "markdown",
   "id": "f6a167d3-2d2a-4511-9a92-8281f5d95af0",
   "metadata": {},
   "source": [
    "## 연습 문제"
   ]
  },
  {
   "cell_type": "code",
   "execution_count": 49,
   "id": "9b1a6fd8-adc4-4f8f-b721-9a241a4124b3",
   "metadata": {},
   "outputs": [
    {
     "name": "stdin",
     "output_type": "stream",
     "text": [
      "순환할 숫자를 입력하세요:  20\n"
     ]
    },
    {
     "name": "stdout",
     "output_type": "stream",
     "text": [
      "20\n",
      "1 2 3 4 5 6 7 8 9 10 11 12 13 14 15 16 17 18 19 20 \n",
      "2 3 4 5 6 7 8 9 10 11 12 13 14 15 16 17 18 19 20 1 \n",
      "3 4 5 6 7 8 9 10 11 12 13 14 15 16 17 18 19 20 1 2 \n",
      "4 5 6 7 8 9 10 11 12 13 14 15 16 17 18 19 20 1 2 3 \n",
      "5 6 7 8 9 10 11 12 13 14 15 16 17 18 19 20 1 2 3 4 \n",
      "6 7 8 9 10 11 12 13 14 15 16 17 18 19 20 1 2 3 4 5 \n",
      "7 8 9 10 11 12 13 14 15 16 17 18 19 20 1 2 3 4 5 6 \n",
      "8 9 10 11 12 13 14 15 16 17 18 19 20 1 2 3 4 5 6 7 \n",
      "9 10 11 12 13 14 15 16 17 18 19 20 1 2 3 4 5 6 7 8 \n",
      "10 11 12 13 14 15 16 17 18 19 20 1 2 3 4 5 6 7 8 9 \n",
      "11 12 13 14 15 16 17 18 19 20 1 2 3 4 5 6 7 8 9 10 \n",
      "12 13 14 15 16 17 18 19 20 1 2 3 4 5 6 7 8 9 10 11 \n",
      "13 14 15 16 17 18 19 20 1 2 3 4 5 6 7 8 9 10 11 12 \n",
      "14 15 16 17 18 19 20 1 2 3 4 5 6 7 8 9 10 11 12 13 \n",
      "15 16 17 18 19 20 1 2 3 4 5 6 7 8 9 10 11 12 13 14 \n",
      "16 17 18 19 20 1 2 3 4 5 6 7 8 9 10 11 12 13 14 15 \n",
      "17 18 19 20 1 2 3 4 5 6 7 8 9 10 11 12 13 14 15 16 \n",
      "18 19 20 1 2 3 4 5 6 7 8 9 10 11 12 13 14 15 16 17 \n",
      "19 20 1 2 3 4 5 6 7 8 9 10 11 12 13 14 15 16 17 18 \n",
      "20 1 2 3 4 5 6 7 8 9 10 11 12 13 14 15 16 17 18 19 \n"
     ]
    }
   ],
   "source": [
    "num= int(input(\"순환할 숫자를 입력하세요: \"))\n",
    "print(num)\n",
    "#1부터 10까지\n",
    "for n in range(1,num+1): # 1부터 10까지\n",
    "    for m in range(n,num+2): #1부터 12까지\n",
    "        if m < num+1: #1부터 10까지\n",
    "            print(m, end=\" \") \n",
    "        if m == num+1:    #m이 11과 같아지면\n",
    "            for j in range(1,n):\n",
    "                print(j, end=\" \")\n",
    "    print()\n"
   ]
  },
  {
   "cell_type": "code",
   "execution_count": 45,
   "id": "eaa1b286-df78-4815-8f00-dcf41349d4f1",
   "metadata": {},
   "outputs": [
    {
     "name": "stdin",
     "output_type": "stream",
     "text": [
      "순환할 숫자를 입력하세요:  10\n"
     ]
    },
    {
     "name": "stdout",
     "output_type": "stream",
     "text": [
      "10\n",
      "[1, 2, 3, 4, 5, 6, 7, 8, 9, 10]\n",
      "[2, 3, 4, 5, 6, 7, 8, 9, 10, 1]\n",
      "[3, 4, 5, 6, 7, 8, 9, 10, 1, 2]\n",
      "[4, 5, 6, 7, 8, 9, 10, 1, 2, 3]\n",
      "[5, 6, 7, 8, 9, 10, 1, 2, 3, 4]\n",
      "[6, 7, 8, 9, 10, 1, 2, 3, 4, 5]\n",
      "[7, 8, 9, 10, 1, 2, 3, 4, 5, 6]\n",
      "[8, 9, 10, 1, 2, 3, 4, 5, 6, 7]\n",
      "[9, 10, 1, 2, 3, 4, 5, 6, 7, 8]\n",
      "[10, 1, 2, 3, 4, 5, 6, 7, 8, 9]\n"
     ]
    }
   ],
   "source": [
    "num= int(input(\"순환할 숫자를 입력하세요: \"))\n",
    "print(num)\n",
    "\n",
    "list_num = list(a+1 for a in range(num))\n",
    "# print(list_num)\n",
    "# print(list_num[0])\n",
    "for n in range(1,num+1):\n",
    "    print(list_num)\n",
    "    a = list_num[0]\n",
    "    del(list_num[0])\n",
    "    list_num.append(a)\n"
   ]
  },
  {
   "cell_type": "markdown",
   "id": "50895bfa-3605-46de-9e9a-41d5f5419d4c",
   "metadata": {},
   "source": [
    "## 리스트 Copy 메서드"
   ]
  },
  {
   "cell_type": "code",
   "execution_count": 51,
   "id": "344ebee8-2c31-4d3c-a8a7-5dbbb2583b3f",
   "metadata": {},
   "outputs": [
    {
     "name": "stdout",
     "output_type": "stream",
     "text": [
      "[0, 1, 2, 3, 4, 5, 6, 7, 8, 9] [0, 1, 2, 3, 4, 5, 6, 7, 8, 9]\n",
      "1871297365440\n",
      "1871297374848\n",
      "False\n"
     ]
    }
   ],
   "source": [
    "list_g = list(range(10))\n",
    "list_h = list_g.copy()\n",
    "print(list_g, list_h, sep=\" \")\n",
    "print(id(list_g))\n",
    "print(id(list_h))\n",
    "print(list_g is list_h)"
   ]
  },
  {
   "cell_type": "markdown",
   "id": "379f398a-bac0-4722-a605-4600fa6a398d",
   "metadata": {},
   "source": [
    "### copy() 메서드로 만든 객체는 새롭게 만든 객체이다."
   ]
  },
  {
   "cell_type": "code",
   "execution_count": 52,
   "id": "be0b11da-d9c1-4f6d-acfb-af5f1ca013fa",
   "metadata": {},
   "outputs": [
    {
     "name": "stdout",
     "output_type": "stream",
     "text": [
      "[999, 1, 2, 3, 4, 5, 6, 7, 8, 9]\n",
      "[0, 1, 2, 3, 4, 5, 6, 7, 8, 9]\n"
     ]
    }
   ],
   "source": [
    "list_g[0] = 999\n",
    "print(list_g)\n",
    "print(list_h)"
   ]
  },
  {
   "cell_type": "markdown",
   "id": "edaf8ed0-edb2-4937-8255-cd73047e8ea5",
   "metadata": {},
   "source": [
    "### 얕은 복사(Shallow Copy)"
   ]
  },
  {
   "cell_type": "markdown",
   "id": "050b6e0f-b056-49ee-b4c1-fff9a59df6c3",
   "metadata": {},
   "source": [
    "얕은 복사의 경우 객체의 주소값만을 복사한다고 생각하면 편함."
   ]
  },
  {
   "cell_type": "code",
   "execution_count": 53,
   "id": "df91c40a-eeef-4a68-9288-ba1b9d3bf573",
   "metadata": {},
   "outputs": [
    {
     "name": "stdout",
     "output_type": "stream",
     "text": [
      "[[0], [0], [0]]\n"
     ]
    }
   ],
   "source": [
    "list_i = [[0]]*3\n",
    "print(list_i)"
   ]
  },
  {
   "cell_type": "code",
   "execution_count": 54,
   "id": "058eed8a-c4cb-4cd6-a917-e47e7c07402b",
   "metadata": {},
   "outputs": [
    {
     "name": "stdout",
     "output_type": "stream",
     "text": [
      "[[999], [999], [999]]\n"
     ]
    }
   ],
   "source": [
    "list_i[0][0] = 999\n",
    "print(list_i)"
   ]
  },
  {
   "cell_type": "code",
   "execution_count": 55,
   "id": "2ce4123c-800d-4b0d-9a74-60a0334d0323",
   "metadata": {},
   "outputs": [
    {
     "data": {
      "text/plain": [
       "True"
      ]
     },
     "execution_count": 55,
     "metadata": {},
     "output_type": "execute_result"
    }
   ],
   "source": [
    "list_i[0][0] is list_i[1][0]\n",
    "list_i[1][0] is list_i[2][0]\n",
    "list_i[0][0] is list_i[2][0]"
   ]
  },
  {
   "cell_type": "markdown",
   "id": "e92de2dc-e6e8-4c3d-a674-415851646f47",
   "metadata": {},
   "source": [
    "슬라이싱으로 복사, copy() 메서드 모두 얕은 복사임"
   ]
  },
  {
   "cell_type": "code",
   "execution_count": 58,
   "id": "abe0823f-fad0-46ee-8ff0-573b2c37b665",
   "metadata": {},
   "outputs": [
    {
     "name": "stdout",
     "output_type": "stream",
     "text": [
      "True\n"
     ]
    }
   ],
   "source": [
    "list_j = [[1,2],[3,4]]\n",
    "list_k = list_j[:]\n",
    "print(list_k[0] is list_j[0])"
   ]
  },
  {
   "cell_type": "code",
   "execution_count": 60,
   "id": "34485187-91cd-4e8d-849d-7499638fbebe",
   "metadata": {},
   "outputs": [
    {
     "name": "stdout",
     "output_type": "stream",
     "text": [
      "False\n"
     ]
    }
   ],
   "source": [
    "print(list_k is list_j)"
   ]
  },
  {
   "cell_type": "markdown",
   "id": "da59ecad-226c-454f-b39f-efd176c94792",
   "metadata": {},
   "source": [
    "### `객체의 주소값` 은 다름, 안에 있는 요소는 동일, 바라보는 주소도 같음"
   ]
  },
  {
   "cell_type": "code",
   "execution_count": 59,
   "id": "539df770-5469-4f00-9531-5c4b21b35e70",
   "metadata": {},
   "outputs": [
    {
     "name": "stdout",
     "output_type": "stream",
     "text": [
      "[[1, 4], [3, 4]]\n",
      "[[1, 4], [3, 4]]\n"
     ]
    }
   ],
   "source": [
    "list_j[0][1] = 2 ** 2\n",
    "print(list_j)\n",
    "print(list_k)"
   ]
  },
  {
   "cell_type": "code",
   "execution_count": 61,
   "id": "2c5bf0bf-c00c-4464-9ee1-ab53278764ab",
   "metadata": {},
   "outputs": [
    {
     "name": "stdout",
     "output_type": "stream",
     "text": [
      "[[11, 4], [3, 4]]\n"
     ]
    }
   ],
   "source": [
    "list_j[0][0] = 11\n",
    "print(list_j)"
   ]
  },
  {
   "cell_type": "code",
   "execution_count": 62,
   "id": "d59cf575-1305-4475-87e0-feefac1158f4",
   "metadata": {},
   "outputs": [
    {
     "name": "stdout",
     "output_type": "stream",
     "text": [
      "[[11, 4], [3, 4]]\n"
     ]
    }
   ],
   "source": [
    "print(list_k)"
   ]
  },
  {
   "cell_type": "code",
   "execution_count": 63,
   "id": "0aee7f3a-a8be-44c5-ac35-95f99041d5c1",
   "metadata": {},
   "outputs": [
    {
     "name": "stdout",
     "output_type": "stream",
     "text": [
      "True\n"
     ]
    }
   ],
   "source": [
    "list_l = [[5,6],[7,8]]\n",
    "list_m = list_l.copy()\n",
    "print(list_l[0] is list_m[0])"
   ]
  },
  {
   "cell_type": "code",
   "execution_count": 64,
   "id": "dadadfca-cb05-4b16-9709-9e5c37c70563",
   "metadata": {},
   "outputs": [
    {
     "name": "stdout",
     "output_type": "stream",
     "text": [
      "[[5, 999], [7, 8]]\n",
      "[[5, 999], [7, 8]]\n"
     ]
    }
   ],
   "source": [
    "list_l[0][1] = 999\n",
    "print(list_l)\n",
    "print(list_m)"
   ]
  },
  {
   "cell_type": "code",
   "execution_count": 65,
   "id": "efff2301-ae0d-4af8-8f38-591e619937aa",
   "metadata": {},
   "outputs": [
    {
     "name": "stdout",
     "output_type": "stream",
     "text": [
      "False\n"
     ]
    }
   ],
   "source": [
    "print(list_l is list_m)"
   ]
  },
  {
   "cell_type": "code",
   "execution_count": 66,
   "id": "a2e9461d-caa3-45f2-b2cc-679a71e98392",
   "metadata": {},
   "outputs": [
    {
     "name": "stdout",
     "output_type": "stream",
     "text": [
      "1871297167104\n",
      "1871297357760\n"
     ]
    }
   ],
   "source": [
    "print(id(list_l))\n",
    "print(id(list_m))"
   ]
  },
  {
   "cell_type": "code",
   "execution_count": 67,
   "id": "580b8a0c-6022-4827-9429-0eba2cb104eb",
   "metadata": {},
   "outputs": [
    {
     "name": "stdout",
     "output_type": "stream",
     "text": [
      "[[5, 999], [7, 88]]\n",
      "[[5, 999], [7, 88]]\n"
     ]
    }
   ],
   "source": [
    "list_l[1][1] = 88\n",
    "print(list_l)\n",
    "print(list_m)"
   ]
  },
  {
   "cell_type": "markdown",
   "id": "798899f8-0114-41cc-92b7-49696d8a63fc",
   "metadata": {},
   "source": [
    "## `깊은복사` (Deep Copy)"
   ]
  },
  {
   "cell_type": "markdown",
   "id": "40b39afd-cc3f-4cdf-b4b8-f2dc6f572e3d",
   "metadata": {},
   "source": [
    "### Deep copy를 위해선 내부 라이브러리를 사용해야함.\n",
    "1. import copy -> copy 라이브러리 호출\n",
    "2. deepcopy는 반환값으로 완전히 새로운 객체를 반환"
   ]
  },
  {
   "cell_type": "code",
   "execution_count": 68,
   "id": "0b338798-d8f7-4375-94b1-0b1e4394bb75",
   "metadata": {},
   "outputs": [],
   "source": [
    "import copy\n",
    "list_n = [[9, 10], [11, 12]]\n",
    "list_o = copy.deepcopy(list_n)"
   ]
  },
  {
   "cell_type": "code",
   "execution_count": 70,
   "id": "96891c09-05db-4691-9ece-611e3856b4bc",
   "metadata": {},
   "outputs": [
    {
     "name": "stdout",
     "output_type": "stream",
     "text": [
      "[[9, 10], [11, 12]]\n",
      "[[9, 10], [11, 12]]\n"
     ]
    }
   ],
   "source": [
    "print(list_n)\n",
    "print(list_o)"
   ]
  },
  {
   "cell_type": "code",
   "execution_count": 69,
   "id": "f976054f-3b6c-41dd-a4a0-ddb81621ecb2",
   "metadata": {},
   "outputs": [
    {
     "name": "stdout",
     "output_type": "stream",
     "text": [
      "False\n"
     ]
    }
   ],
   "source": [
    "print(list_n[0] is list_o[0])"
   ]
  },
  {
   "cell_type": "code",
   "execution_count": 71,
   "id": "c1284050-8b72-4345-be5e-8bd1ccbc18e8",
   "metadata": {},
   "outputs": [
    {
     "name": "stdout",
     "output_type": "stream",
     "text": [
      "False\n"
     ]
    }
   ],
   "source": [
    "print(list_n is list_o)"
   ]
  },
  {
   "cell_type": "code",
   "execution_count": 72,
   "id": "b75c85ac-53bb-4ba2-937c-0987c39a554a",
   "metadata": {},
   "outputs": [
    {
     "name": "stdout",
     "output_type": "stream",
     "text": [
      "True\n"
     ]
    }
   ],
   "source": [
    "print(list_n[0][0] is list_o[0][0])"
   ]
  },
  {
   "cell_type": "code",
   "execution_count": 73,
   "id": "1aa16c44-cccf-4af3-b4ff-c48542b09cba",
   "metadata": {},
   "outputs": [
    {
     "name": "stdout",
     "output_type": "stream",
     "text": [
      "11\n",
      "11\n"
     ]
    }
   ],
   "source": [
    "print(list_n[1][0])\n",
    "print([11,12][0])\n",
    "             "
   ]
  },
  {
   "cell_type": "code",
   "execution_count": 74,
   "id": "49c9974a-adf8-4c8d-9474-616e7d8b10b9",
   "metadata": {},
   "outputs": [],
   "source": [
    "list_n[1][0] = 22"
   ]
  },
  {
   "cell_type": "code",
   "execution_count": 75,
   "id": "40e420d7-4f14-437d-a6b0-8c0c5bee59ef",
   "metadata": {},
   "outputs": [
    {
     "name": "stdout",
     "output_type": "stream",
     "text": [
      "[[9, 10], [22, 12]]\n",
      "[[9, 10], [11, 12]]\n"
     ]
    }
   ],
   "source": [
    "print(list_n)\n",
    "print(list_o)"
   ]
  },
  {
   "cell_type": "markdown",
   "id": "ee97d8db-d07c-4b78-ba5e-f223c9b52889",
   "metadata": {},
   "source": [
    "`깊은복사` 한것과 `얕은복사`와의 차이는 주소값까지 복사하는가 마는가의 차이 // 새로운 객체를 복사하느냐 마느냐의 차이"
   ]
  },
  {
   "cell_type": "markdown",
   "id": "0b23eb5e-1cb9-4ef3-9674-953987372359",
   "metadata": {},
   "source": [
    "## 리스트 컴프리헨션 with for & if"
   ]
  },
  {
   "cell_type": "markdown",
   "id": "c591eb64-1da2-48c8-b113-f33a80e21ef8",
   "metadata": {},
   "source": [
    "### list_variable = [expression for 변수 in iterable if 조건식]"
   ]
  },
  {
   "cell_type": "markdown",
   "id": "06503eda-f9d5-4635-b555-92aafaef7359",
   "metadata": {},
   "source": [
    "1. 반복가능한 객체로부터 값을 하나 꺼내와서 조건식에 넣는다.\n",
    "2. 조건식이 True이면 변수를 활용해서 표현식을 실행\n",
    "3. 조건식이 False이면 1번부터 다시 시작\n",
    "4. 표현식 결과 값을 리스트 요소에 넣음\n",
    "5. 반복가능한 객체(iterable)로부터 값이 없을 때까지 1~3 과정을 반복"
   ]
  },
  {
   "cell_type": "markdown",
   "id": "dd569523-b1d1-404f-bf43-9e20674617b4",
   "metadata": {},
   "source": [
    "예제"
   ]
  },
  {
   "cell_type": "code",
   "execution_count": 76,
   "id": "0a726785-029b-4188-b95c-849dde604a4d",
   "metadata": {},
   "outputs": [
    {
     "name": "stdout",
     "output_type": "stream",
     "text": [
      "[0, 3, 6, 9]\n"
     ]
    }
   ],
   "source": [
    "list_p = [i for i in range(10) if i%3 == 0]\n",
    "print(list_p)"
   ]
  },
  {
   "cell_type": "markdown",
   "id": "51c4609c-d571-457b-ab5f-06a1554246a6",
   "metadata": {},
   "source": [
    "리스트 컴프리헨션에 for문 여러개 작성이 가능"
   ]
  },
  {
   "cell_type": "markdown",
   "id": "e4a0eb17-e768-4598-b32f-e9366253e028",
   "metadata": {},
   "source": [
    "[expression for 변수 in iterable for 변수 in iterable]"
   ]
  },
  {
   "cell_type": "markdown",
   "id": "88c33c68-0f30-4077-8fa6-f2e7650c89eb",
   "metadata": {},
   "source": [
    "좀더 깔끔한 방향을 위해"
   ]
  },
  {
   "cell_type": "markdown",
   "id": "aa9ceddf-1d61-4951-83f9-86adacdb5aa9",
   "metadata": {},
   "source": [
    "[expression for 변수 in iterable  \n",
    "\n",
    "            for 변수 in iterable  \n",
    "            for 변수 in iterable]"
   ]
  },
  {
   "cell_type": "markdown",
   "id": "13dfd1d8-7d82-4400-b22d-256d2e7f1560",
   "metadata": {},
   "source": [
    "위 처럼 표현하는게 좋음"
   ]
  },
  {
   "cell_type": "markdown",
   "id": "28ca00d6-ab71-4662-b31b-2e7d5c84d983",
   "metadata": {},
   "source": [
    "## 중첩 리스트"
   ]
  },
  {
   "cell_type": "code",
   "execution_count": 77,
   "id": "e01e82a4-c198-4cfe-967c-c9e9430ff2a7",
   "metadata": {},
   "outputs": [
    {
     "name": "stdout",
     "output_type": "stream",
     "text": [
      "[1, 2, 3, 4, 5]\n",
      "[3, 4]\n"
     ]
    }
   ],
   "source": [
    "easy_list = [[1,2,3,4,5],[3,4]]\n",
    "print(easy_list[0])\n",
    "print(easy_list[1])"
   ]
  },
  {
   "cell_type": "code",
   "execution_count": 78,
   "id": "7784968e-e834-4345-b109-fca022962473",
   "metadata": {},
   "outputs": [
    {
     "name": "stdout",
     "output_type": "stream",
     "text": [
      "1\n",
      "2\n",
      "3\n",
      "4\n",
      "5\n",
      "3\n",
      "4\n"
     ]
    }
   ],
   "source": [
    "for item in easy_list:\n",
    "    for i in item:\n",
    "        print(i)"
   ]
  },
  {
   "cell_type": "code",
   "execution_count": 79,
   "id": "6a42c548-b5e8-43ce-b708-8a1c9eaf3760",
   "metadata": {},
   "outputs": [
    {
     "name": "stdout",
     "output_type": "stream",
     "text": [
      "1\n",
      "2\n",
      "3\n",
      "4\n",
      "5\n",
      "3\n",
      "4\n"
     ]
    }
   ],
   "source": [
    "i = 0\n",
    "while i <len(easy_list):\n",
    "    j=0\n",
    "    while j < len(easy_list[i]):\n",
    "        print(easy_list[i][j])\n",
    "        j+=1\n",
    "    i+=1"
   ]
  },
  {
   "cell_type": "markdown",
   "id": "c34c0c0e-e58a-439d-a6ed-b47cc741936d",
   "metadata": {},
   "source": [
    "## 리스트 메서드 다시 정리  \n",
    "1. append(요소) : 리스트에서 요소 하나를 마지막에 추가\n",
    "2. insert(인덱스, 요소) : 리스트에서 특정 위치에 요소를 삽입\n",
    "3. extend(리스트) : 리스트에서 요소 여러개를 맨 마지막에 추가\n",
    "4. remove(요소) : 입력값과 첫 번째로 일치하는 요소를 리스트에서 삭제\n",
    "5. pop() : 리스트에서 마지막 요소를 제거후 반환 | 반환값 : 마지막 요소\n",
    "6. index(요소) : 리스트에서 인자와 일치하는 첫 번째 요소의 위치를 반환 | 반환값 : 첫번째로 일치한 요소 인덱스\n",
    "7. count(요소) : 리스트에서 인자와 일치하는 요소의 개수를 반환 | 반환값: 일치하는 요소의 총 개수\n",
    "8. sort() : 숫자나 문자열로 구성된 리스트 요소를 순방향으로 정렬\n",
    "9. reverse() : 리스트 요소를 끝에서부터 역순으로 정렬\n",
    "10. clear() : 리스트의 모든 요소를 제거"
   ]
  },
  {
   "cell_type": "markdown",
   "id": "6f003329-62c0-4611-b5c9-d292078d27d0",
   "metadata": {},
   "source": [
    "## 튜플 메서드 정리\n",
    "1. index(요소) : 리스트에서 인자와 일치하는 첫번째 요소의 위치를 반환 | 반환값 : 첫번째로 일치하는 요소 인덱스\n",
    "2. count(요소) : 리스트에서 인자와 일치하는 요소의 개수를 반환 | 반환값 : 일치하는 요소의 총 개수  \n",
    "결국 튜플은 변동이 안되는 값이기에 읽는것밖에 하지 못한다는 것을 알 수 있다."
   ]
  },
  {
   "cell_type": "markdown",
   "id": "eb2198df-2f54-4b5a-812e-520130672a3c",
   "metadata": {},
   "source": [
    "### 튜플 예제"
   ]
  },
  {
   "cell_type": "code",
   "execution_count": 80,
   "id": "ef628840-cbd7-4701-98ec-103db48af971",
   "metadata": {},
   "outputs": [
    {
     "name": "stdout",
     "output_type": "stream",
     "text": [
      "()\n",
      "<class 'tuple'>\n"
     ]
    }
   ],
   "source": [
    "empty_tuple = tuple()\n",
    "print(empty_tuple)\n",
    "print(type(empty_tuple))"
   ]
  },
  {
   "cell_type": "markdown",
   "id": "2e812e17-23af-4915-9c45-c5750ac13976",
   "metadata": {},
   "source": [
    "## 제너레이터 컴프리헨션  \n",
    "반복할 수 있는 개체이지만  \n",
    "generator_variable = (expression for 변수 in iterable) -> 튜플이 아님!  \n",
    "tuple_variable = tuple(expression for 변수 in iterable) -> 튜플임!"
   ]
  },
  {
   "cell_type": "markdown",
   "id": "74936e25-f1bb-48bf-a791-6b12a527afbf",
   "metadata": {},
   "source": [
    "예시"
   ]
  },
  {
   "cell_type": "code",
   "execution_count": 81,
   "id": "1a18383f-7d3a-4cbc-b21b-5848f73d9ed5",
   "metadata": {},
   "outputs": [
    {
     "name": "stdout",
     "output_type": "stream",
     "text": [
      "<generator object <genexpr> at 0x000001B3B2123900>\n"
     ]
    }
   ],
   "source": [
    "generator_variable = (_ for _ in range(10))\n",
    "print(generator_variable)"
   ]
  },
  {
   "cell_type": "code",
   "execution_count": 82,
   "id": "6ffecb97-ffb7-4ecd-9029-f0053c028812",
   "metadata": {},
   "outputs": [
    {
     "name": "stdout",
     "output_type": "stream",
     "text": [
      "<class 'generator'>\n"
     ]
    }
   ],
   "source": [
    "print(type(generator_variable))"
   ]
  },
  {
   "cell_type": "code",
   "execution_count": 83,
   "id": "cc8018e2-5c53-45e8-99d1-6fa2b1b4c6f1",
   "metadata": {},
   "outputs": [
    {
     "data": {
      "text/plain": [
       "True"
      ]
     },
     "execution_count": 83,
     "metadata": {},
     "output_type": "execute_result"
    }
   ],
   "source": [
    "hasattr(generator_variable,\"__iter__\")"
   ]
  },
  {
   "cell_type": "markdown",
   "id": "9b36c3bb-4b51-4c05-a099-f340e5bd947b",
   "metadata": {},
   "source": [
    "`hasattr(변수, \"__iter__\")은 반복가능한지 물어보는 기능`"
   ]
  },
  {
   "cell_type": "markdown",
   "id": "cf9ad501-b56b-481f-831b-85248e48958a",
   "metadata": {},
   "source": [
    "연습문제"
   ]
  },
  {
   "cell_type": "code",
   "execution_count": 98,
   "id": "f923629a-7616-4dde-8374-9cbd41448df4",
   "metadata": {},
   "outputs": [
    {
     "name": "stdout",
     "output_type": "stream",
     "text": [
      "['alpha', 'bravo', 'delta', 'hotel', 'india']\n"
     ]
    }
   ],
   "source": [
    "a = ['alpha', 'bravo', 'charlie', 'delta', 'echo', 'foxtrot','golf','hotel','india']\n",
    "\n",
    "\n",
    "b = [name for name in a if len(name) == 5]\n",
    "print(b)"
   ]
  },
  {
   "cell_type": "code",
   "execution_count": 138,
   "id": "5dfe1641-b379-4665-93c0-140cf0555457",
   "metadata": {},
   "outputs": [
    {
     "name": "stdin",
     "output_type": "stream",
     "text": [
      "정수 두 개를 입력하세요:  99 1\n"
     ]
    },
    {
     "name": "stdout",
     "output_type": "stream",
     "text": [
      "첫번째 값의 범위는 1~20입니다.\n"
     ]
    },
    {
     "name": "stdin",
     "output_type": "stream",
     "text": [
      "정수 두 개를 입력하세요:  10 1\n"
     ]
    },
    {
     "name": "stdout",
     "output_type": "stream",
     "text": [
      "두번째 값의 범위는 10~30입니다.\n"
     ]
    },
    {
     "name": "stdin",
     "output_type": "stream",
     "text": [
      "정수 두 개를 입력하세요:  20 10\n"
     ]
    },
    {
     "name": "stdout",
     "output_type": "stream",
     "text": [
      "첫번째 입력 값은 두번째 입력 값보다 작게 입력하세요.\n"
     ]
    },
    {
     "name": "stdin",
     "output_type": "stream",
     "text": [
      "정수 두 개를 입력하세요:  10 20\n"
     ]
    },
    {
     "name": "stdout",
     "output_type": "stream",
     "text": [
      "[1024, 2048, 4096, 8192, 16384, 32768, 65536, 131072, 262144, 524288, 1048576]\n",
      "[1024, 4096, 8192, 16384, 32768, 65536, 131072, 262144, 1048576]\n"
     ]
    }
   ],
   "source": [
    "while True:\n",
    "    num_a, num_b = list(map(int,input(\"정수 두 개를 입력하세요: \").split()))\n",
    "    if num_a > 20 or num_a < 1:\n",
    "        print(f'첫번째 값의 범위는 1~20입니다.')\n",
    "        continue\n",
    "    elif num_b < 10 or num_b > 30:\n",
    "        print(f'두번째 값의 범위는 10~30입니다.')\n",
    "        continue\n",
    "    elif num_a >= num_b:\n",
    "        print(f'첫번째 입력 값은 두번째 입력 값보다 작게 입력하세요.')\n",
    "        continue\n",
    "    else:\n",
    "        break\n",
    "\n",
    "list_num = [2**n for n in range(num_a, num_b+1)]\n",
    "print(list_num)\n",
    "list_num.remove(list_num[1])\n",
    "list_num.remove(list_num[len(list_num)-2])\n",
    "print(list_num)"
   ]
  },
  {
   "cell_type": "code",
   "execution_count": 6,
   "id": "40c9584c-d155-4fcd-99af-8b931d7a71e1",
   "metadata": {},
   "outputs": [
    {
     "name": "stdout",
     "output_type": "stream",
     "text": [
      "- 1 + 4 - 9 + 16 - 25 + 36 - 49 + 64 - 81 + 100 \n",
      "- 121 + 144 - 169 + 196 - 225 + 256 - 289 + 324 - 361 + 400 \n",
      "- 441 + 484 - 529 + 576 - 625 + 676 - 729 + 784 - 841 + 900 \n",
      "- 961 + 1024 - 1089 + 1156 - 1225 + 1296 - 1369 + 1444 - 1521 + 1600 \n",
      "- 1681 + 1764 - 1849 + 1936 - 2025 + 2116 - 2209 + 2304 - 2401 + 2500 \n",
      "- 2601 + 2704 - 2809 + 2916 - 3025 + 3136 - 3249 + 3364 - 3481 + 3600 \n",
      "- 3721 + 3844 - 3969 + 4096 - 4225 + 4356 - 4489 + 4624 - 4761 + 4900 \n",
      "- 5041 + 5184 - 5329 + 5476 - 5625 + 5776 - 5929 + 6084 - 6241 + 6400 \n",
      "- 6561 + 6724 - 6889 + 7056 - 7225 + 7396 - 7569 + 7744 - 7921 + 8100 \n",
      "- 8281 + 8464 - 8649 + 8836 - 9025 + 9216 - 9409 + 9604 - 9801 + 10000 \n",
      "= 5050 입니다\n"
     ]
    }
   ],
   "source": [
    "count = 0\n",
    "sum = 0\n",
    "i = 1\n",
    "while i<= 100:\n",
    "    if i%2 == 0:\n",
    "        sum += i*i\n",
    "        print(\"+\", i*i, end=\" \")\n",
    "    elif i%2 != 0:\n",
    "        sum -= i*i\n",
    "        print(\"-\", i*i, end=\" \")\n",
    "    i += 1\n",
    "    count+=1\n",
    "    if count %10 == 0:\n",
    "        # count = 0\n",
    "        print()\n",
    "print(\"=\", sum, \"입니다\")"
   ]
  },
  {
   "cell_type": "markdown",
   "id": "be5c0698-9473-43ac-9dd9-ffe3646f98c3",
   "metadata": {},
   "source": [
    "# `정리` "
   ]
  },
  {
   "cell_type": "markdown",
   "id": "16f0f77b-3879-43bb-a859-4a3b6763d13a",
   "metadata": {},
   "source": [
    "for와 while문을 이용한 시퀀스 문제풀이  \n",
    "Dictionary type -> key 와 value 가 한쌍, 비시퀀스형 타입.  \n",
    "key값은 변경되는 값이 아니여서 만일 변경되는 값이 들어가면 nonhashable 에러  \n",
    "dict() 함수 이용. ex) dict(key = \"value\") 형식  \n",
    "zip()도 이용 가능  \n",
    "키값을 이용하여 해당 값을 변경또는 추가, 제거 가능.  \n",
    "주소값이 어떻게 변경되는지, 어떤 주소값을 향하는지 확인하기.  \n",
    "슬라이싱과 copy는 얕은복사  \n",
    "id()는 주소값을 확인하는 함수  \n",
    "대괄호사용  \n",
    "Deep copy -> import copy를 이용 -> 주소값이 달라짐  \n",
    "리스트 컴프리헨션 및 리스트 안의 리스트  \n",
    "list_variable = [expression for 변수 in iterable if 조건식]  \n",
    "리스트 컴프리헨션 안에 for문 여러개 중첩해서 작성가능 여러개사용하게되면 줄바꿈 이용하는것이 보기 좋음  \n",
    "리스트 메서드 여러개 기억하기.  \n",
    "튜플 메서드와의 차이점 기억하기.(불변이라 읽는것밖에 불가)  \n",
    "튜플에 대한 컴프리헨션은 존재하지 않음. -> 제너레이터로 바뀜  "
   ]
  },
  {
   "cell_type": "code",
   "execution_count": null,
   "id": "0b207818-996c-4f46-a735-82d496349187",
   "metadata": {},
   "outputs": [],
   "source": []
  }
 ],
 "metadata": {
  "kernelspec": {
   "display_name": "Python 3 (ipykernel)",
   "language": "python",
   "name": "python3"
  },
  "language_info": {
   "codemirror_mode": {
    "name": "ipython",
    "version": 3
   },
   "file_extension": ".py",
   "mimetype": "text/x-python",
   "name": "python",
   "nbconvert_exporter": "python",
   "pygments_lexer": "ipython3",
   "version": "3.9.13"
  }
 },
 "nbformat": 4,
 "nbformat_minor": 5
}
