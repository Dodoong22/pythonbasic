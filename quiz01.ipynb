{
 "cells": [
  {
   "cell_type": "code",
   "execution_count": 1,
   "id": "ec69d8d3-169d-4b9f-8e26-c7ea1c2f1e5b",
   "metadata": {},
   "outputs": [
    {
     "data": {
      "text/plain": [
       "135"
      ]
     },
     "execution_count": 1,
     "metadata": {},
     "output_type": "execute_result"
    }
   ],
   "source": [
    "7 +3 *2 **7 -256"
   ]
  },
  {
   "cell_type": "code",
   "execution_count": 3,
   "id": "4b70220e-f9f2-456d-9b8a-e62ac5869e33",
   "metadata": {},
   "outputs": [
    {
     "name": "stdout",
     "output_type": "stream",
     "text": [
      "t t l\n"
     ]
    }
   ],
   "source": [
    "x = \"Don't want no riddle\"\n",
    "print(x[4],x[9],x[18])"
   ]
  },
  {
   "cell_type": "code",
   "execution_count": 4,
   "id": "3997a4f0-ee8e-460a-a112-1adecb37094c",
   "metadata": {},
   "outputs": [
    {
     "name": "stdout",
     "output_type": "stream",
     "text": [
      "2023년\n",
      "100\n",
      "None\n",
      "False\n"
     ]
    }
   ],
   "source": [
    "a = \"2023년\"\n",
    "b = 100\n",
    "c = None\n",
    "d = False\n",
    "print(a)\n",
    "print(b)\n",
    "print(c)\n",
    "print(d)"
   ]
  },
  {
   "cell_type": "code",
   "execution_count": 7,
   "id": "dfeb1c4d-341d-46e2-8df6-4269c73eaf48",
   "metadata": {},
   "outputs": [
    {
     "name": "stdout",
     "output_type": "stream",
     "text": [
      "zxvtrpnlj\n"
     ]
    }
   ],
   "source": [
    "letters = 'abcdefghijklmnopqrstuvwxyz'\n",
    "print(letters[-1:-19:-2])"
   ]
  },
  {
   "cell_type": "code",
   "execution_count": null,
   "id": "f84db701-a20b-42b6-8b11-03a9d08e92d4",
   "metadata": {},
   "outputs": [],
   "source": []
  }
 ],
 "metadata": {
  "kernelspec": {
   "display_name": "Python 3 (ipykernel)",
   "language": "python",
   "name": "python3"
  },
  "language_info": {
   "codemirror_mode": {
    "name": "ipython",
    "version": 3
   },
   "file_extension": ".py",
   "mimetype": "text/x-python",
   "name": "python",
   "nbconvert_exporter": "python",
   "pygments_lexer": "ipython3",
   "version": "3.9.13"
  }
 },
 "nbformat": 4,
 "nbformat_minor": 5
}
