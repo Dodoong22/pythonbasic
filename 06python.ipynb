{
 "cells": [
  {
   "cell_type": "markdown",
   "id": "d3e0af16-023d-4acf-8baa-e33e738b86fa",
   "metadata": {},
   "source": [
    "##    연습문제"
   ]
  },
  {
   "cell_type": "code",
   "execution_count": 16,
   "id": "ded9bce1-deda-4627-866f-c28cb9d87781",
   "metadata": {},
   "outputs": [
    {
     "name": "stdin",
     "output_type": "stream",
     "text": [
      "실기점수를 입력하세요 :  80 80 85 88 98\n"
     ]
    },
    {
     "name": "stdout",
     "output_type": "stream",
     "text": [
      "[80, 80, 85, 88, 98]\n",
      "98 80\n",
      "이 학생의 평균 점수는 84.33333333333333입니다.\n"
     ]
    }
   ],
   "source": [
    "\n",
    "Scores = list(map(int, input(\"실기점수를 입력하세요 : \").split(\" \")))\n",
    "print(Scores)\n",
    "tot =0\n",
    "i = 0\n",
    "for i in range(len(Scores)):\n",
    "    tot = tot + Scores[i]\n",
    "    i+=1\n",
    "high = 0\n",
    "low = Scores[0]\n",
    "n = 0\n",
    "for n in range(len(Scores)):\n",
    "    if high < Scores[n]:\n",
    "        high = Scores[n]\n",
    "    if low > Scores[n]:\n",
    "        low = Scores[n]\n",
    "print(high, low)\n",
    "n_tot = tot - high - low\n",
    "final_avg = n_tot / (len(Scores)-2)\n",
    "print(f'이 학생의 평균 점수는 {final_avg}입니다.')"
   ]
  },
  {
   "cell_type": "code",
   "execution_count": 25,
   "id": "a3991a55-4ef5-47fb-8757-657334bed38c",
   "metadata": {},
   "outputs": [],
   "source": [
    "\n",
    "# Scores = list(map(int, input(\"실기점수를 입력하세요 : \").split(\" \")))\n",
    "# print(Scores)\n",
    "# tot =0\n",
    "# i = 0\n",
    "# for i in range(len(Scores)):\n",
    "#     tot = tot + Scores[i]\n",
    "#     i+=1\n",
    "# N_Scores = Scores\n",
    "# print(len(Scores))\n",
    "# print(N_Scores)\n",
    "# n = 0\n",
    "# for n in range(len(Scores)):\n",
    "#     j = 0\n",
    "#     for j in range(len(Scores)):\n",
    "#         if Scores[n] > Scores[j]:\n",
    "#             N_Scores[n] = int(Scores[n])\n",
    "#         j += 1\n",
    "#     n += 1\n",
    "# print(N_Scores)\n",
    "\n",
    "# print(f'이 학생의 평균 점수는 {final_avg}입니다.')"
   ]
  },
  {
   "cell_type": "code",
   "execution_count": 29,
   "id": "958241f4-b75f-4b8f-b7ab-6a1d821d7d7e",
   "metadata": {},
   "outputs": [
    {
     "name": "stdin",
     "output_type": "stream",
     "text": [
      "점수를 입력하세요:  86 72 98 60 45\n"
     ]
    },
    {
     "name": "stdout",
     "output_type": "stream",
     "text": [
      "[86, 72, 98, 60, 45]\n",
      "[2, 1, 1, 1, 0]\n"
     ]
    }
   ],
   "source": [
    "score_list = list(map(int, input(\"점수를 입력하세요: \").split(\" \")))\n",
    "print(score_list)\n",
    "grade_counter = [0, 0, 0, 0, 0]\n",
    "\n",
    "i = 0\n",
    "while i < len(score_list):\n",
    "    if score_list[i] >= 85 and score_list[i] <= 100:\n",
    "        grade_counter[0] += 1\n",
    "    elif score_list[i] < 85 and score_list[i] >= 70:\n",
    "        grade_counter[1] += 1\n",
    "    elif score_list[i] <70 and score_list[i] >= 55:\n",
    "        grade_counter[2] += 1\n",
    "    elif score_list[i] <55 and score_list[i] >= 40:\n",
    "        grade_counter[3] += 1\n",
    "    else:\n",
    "        grade_counter[4] += 1\n",
    "    i += 1\n",
    "print(grade_counter)"
   ]
  },
  {
   "cell_type": "markdown",
   "id": "3dd2ac59-b6da-4285-b15a-71a05162b4d7",
   "metadata": {},
   "source": [
    "## FizzBuzz 문제"
   ]
  },
  {
   "cell_type": "code",
   "execution_count": 36,
   "id": "2cbd2034-a66a-42a9-b6f5-854231a22dec",
   "metadata": {},
   "outputs": [
    {
     "name": "stdout",
     "output_type": "stream",
     "text": [
      "1\t2\tFizz\t4\tBuzz\tFizz\t7\t8\tFizz\tBuzz\t11\tFizz\t13\t14\tFizzBuzz\t16\t17\tFizz\t19\tBuzz\tFizz\t22\t23\tFizz\tBuzz\t26\tFizz\t28\t29\tFizzBuzz\t31\t32\tFizz\t34\tBuzz\tFizz\t37\t38\tFizz\tBuzz\t41\tFizz\t43\t44\tFizzBuzz\t46\t47\tFizz\t49\tBuzz\tFizz\t52\t53\tFizz\tBuzz\t56\tFizz\t58\t59\tFizzBuzz\t61\t62\tFizz\t64\tBuzz\tFizz\t67\t68\tFizz\tBuzz\t71\tFizz\t73\t74\tFizzBuzz\t76\t77\tFizz\t79\tBuzz\tFizz\t82\t83\tFizz\tBuzz\t86\tFizz\t88\t89\tFizzBuzz\t91\t92\tFizz\t94\tBuzz\tFizz\t97\t98\tFizz\tBuzz\t"
     ]
    }
   ],
   "source": [
    "n = 1\n",
    "for n in range(101):\n",
    "    if n == 0:\n",
    "        continue\n",
    "    elif n%3 ==0 and n%5 == 0:\n",
    "        n = \"FizzBuzz\"\n",
    "    elif n%3 == 0:\n",
    "        n = \"Fizz\"\n",
    "    elif n%5 == 0:\n",
    "        n = \"Buzz\"\n",
    "    \n",
    "    print(n, end=\"\\t\")"
   ]
  },
  {
   "cell_type": "markdown",
   "id": "822ae143-1eec-49d0-893e-1f0d62680924",
   "metadata": {},
   "source": [
    "## `더 간략하게 하는 방법`"
   ]
  },
  {
   "cell_type": "code",
   "execution_count": 9,
   "id": "8e324bb1-4983-4c46-9d55-51ded1408600",
   "metadata": {},
   "outputs": [
    {
     "name": "stdout",
     "output_type": "stream",
     "text": [
      "1\t2\tFizz\t4\tBuzz\tFizz\t7\t8\tFizz\tBuzz\t11\tFizz\t13\t14\tFizzBuzz\t16\t17\tFizz\t19\tBuzz\tFizz\t22\t23\tFizz\tBuzz\t26\tFizz\t28\t29\tFizzBuzz\t31\t32\tFizz\t34\tBuzz\tFizz\t37\t38\tFizz\tBuzz\t41\tFizz\t43\t44\tFizzBuzz\t46\t47\tFizz\t49\tBuzz\tFizz\t52\t53\tFizz\tBuzz\t56\tFizz\t58\t59\tFizzBuzz\t61\t62\tFizz\t64\tBuzz\tFizz\t67\t68\tFizz\tBuzz\t71\tFizz\t73\t74\tFizzBuzz\t76\t77\tFizz\t79\tBuzz\tFizz\t82\t83\tFizz\tBuzz\t86\tFizz\t88\t89\tFizzBuzz\t91\t92\tFizz\t94\tBuzz\tFizz\t97\t98\tFizz\tBuzz\t"
     ]
    }
   ],
   "source": [
    "for i in range(1, 101):\n",
    "    print(\"Fizz\" * (i % 3 == 0) + \"Buzz\" * (i %5 == 0) or i, end=\"\\t\")"
   ]
  },
  {
   "cell_type": "code",
   "execution_count": 14,
   "id": "8f035e8b-741a-41fd-b5b7-38c5230fc6bd",
   "metadata": {},
   "outputs": [
    {
     "name": "stdin",
     "output_type": "stream",
     "text": [
      "이름:  matthew,mark,luke,john,paul,peter\n"
     ]
    },
    {
     "name": "stdout",
     "output_type": "stream",
     "text": [
      "['matthew', 'mark', 'luke', 'john', 'paul', 'peter']\n",
      "m 또는 h가 이름에 포함된 사람은 3명 입니다\n"
     ]
    }
   ],
   "source": [
    "name_list = list(map(str, input(\"이름: \").split(',')))\n",
    "print(name_list)\n",
    "i = 0\n",
    "count = 0\n",
    "for i in range(len(name_list)):\n",
    "    if 'm' and 'h' in name_list[i]:\n",
    "        count += 1\n",
    "    elif 'm' in name_list[i]:\n",
    "        count += 1\n",
    "    elif 'h' in name_list[i]:\n",
    "        count += 1\n",
    "print(f'm 또는 h가 이름에 포함된 사람은 {count}명 입니다')"
   ]
  },
  {
   "cell_type": "code",
   "execution_count": 17,
   "id": "287acd7b-903b-4db3-bf0b-bb980b59ef7b",
   "metadata": {},
   "outputs": [
    {
     "name": "stdin",
     "output_type": "stream",
     "text": [
      "이름:  matthew,mark,luke,john,paul,peter\n"
     ]
    },
    {
     "name": "stdout",
     "output_type": "stream",
     "text": [
      "['matthew', 'mark', 'luke', 'john', 'paul', 'peter']\n",
      "m 또는 h가 이름에 포함된 사람은 3명 입니다\n"
     ]
    }
   ],
   "source": [
    "name_list = list(map(str, input(\"이름: \").split(',')))\n",
    "print(name_list)\n",
    "\n",
    "count = 0\n",
    "i = 0\n",
    "while i < len(name_list):\n",
    "    if 'm' and 'h' in name_list[i] :\n",
    "        count += 1\n",
    "    elif 'm' in name_list[i]:\n",
    "        count += 1\n",
    "    elif 'h' in name_list[i]:\n",
    "        count += 1\n",
    "    i += 1\n",
    "print(f'm 또는 h가 이름에 포함된 사람은 {count}명 입니다')"
   ]
  },
  {
   "cell_type": "code",
   "execution_count": 19,
   "id": "1cf5b557-4524-4e26-91af-c9b2d1afd6fa",
   "metadata": {},
   "outputs": [
    {
     "name": "stdin",
     "output_type": "stream",
     "text": [
      "이름:  matthew,mark,luke,john,paul,peter\n"
     ]
    },
    {
     "name": "stdout",
     "output_type": "stream",
     "text": [
      "['matthew', 'mark', 'luke', 'john', 'paul', 'peter']\n",
      "m 또는 h가 이름에 포함된 사람은 3명 입니다\n"
     ]
    }
   ],
   "source": [
    "name_list = list(map(str, input(\"이름: \").split(',')))\n",
    "print(name_list)\n",
    "i = 0\n",
    "count = 0\n",
    "for i in range(len(name_list)):\n",
    "    if 'm' in name_list[i] or 'h' in name_list[i]:\n",
    "        count += 1\n",
    "print(f'm 또는 h가 이름에 포함된 사람은 {count}명 입니다')"
   ]
  },
  {
   "cell_type": "code",
   "execution_count": 21,
   "id": "200ee158-b2be-4c34-92c7-ad360ed75115",
   "metadata": {},
   "outputs": [
    {
     "name": "stdin",
     "output_type": "stream",
     "text": [
      "점수:  90 25 67 45 80\n"
     ]
    },
    {
     "name": "stdout",
     "output_type": "stream",
     "text": [
      "[90, 25, 67, 45, 80]\n",
      "1번 학생 축하합니다. 합격입니다\n",
      "3번 학생 축하합니다. 합격입니다\n",
      "5번 학생 축하합니다. 합격입니다\n"
     ]
    }
   ],
   "source": [
    "marks = list(map(int, input(\"점수: \").split(' ')))\n",
    "print(marks)\n",
    "i = 0\n",
    "\n",
    "for i in range(len(marks)):\n",
    "    if marks[i]>60:\n",
    "        print(f'{i+1}번 학생 축하합니다. 합격입니다')\n",
    "    i += 1"
   ]
  },
  {
   "cell_type": "code",
   "execution_count": 3,
   "id": "29c91880-c85f-4020-a80a-dac4f8d84dfe",
   "metadata": {},
   "outputs": [
    {
     "name": "stdin",
     "output_type": "stream",
     "text": [
      "점수:  90 25 67 45 80\n"
     ]
    },
    {
     "name": "stdout",
     "output_type": "stream",
     "text": [
      "[90, 25, 67, 45, 80]\n",
      "1번 학생 축하합니다. 합격입니다\n",
      "3번 학생 축하합니다. 합격입니다\n",
      "5번 학생 축하합니다. 합격입니다\n"
     ]
    }
   ],
   "source": [
    "marks = list(map(int, input(\"점수: \").split(' ')))\n",
    "print(marks)\n",
    "i = 0\n",
    "while True:\n",
    "    if i>=len(marks):\n",
    "        break\n",
    "    if marks[i] <= 60:\n",
    "        i += 1\n",
    "        continue\n",
    "    elif marks[i] > 60:    \n",
    "        print(f'{i+1}번 학생 축하합니다. 합격입니다')\n",
    "    i += 1"
   ]
  },
  {
   "cell_type": "code",
   "execution_count": 4,
   "id": "b1ad6bd9-1da3-4e2f-a829-c7efc7f3cbcb",
   "metadata": {},
   "outputs": [
    {
     "name": "stdout",
     "output_type": "stream",
     "text": [
      "변환된 arr은 [3, 2, 4, 1] 입니다\n"
     ]
    }
   ],
   "source": [
    "arr = [1,4,2,3]\n",
    "left, right = 0, len(arr) -1\n",
    "while left < right:\n",
    "    arr[left], arr[right] = arr[right],arr[left]\n",
    "    left += 1\n",
    "    right -= 1\n",
    "print(\"변환된 arr은\", arr, \"입니다\")"
   ]
  },
  {
   "cell_type": "code",
   "execution_count": 13,
   "id": "0d46fdcf-3563-4764-be12-90688fda0096",
   "metadata": {},
   "outputs": [
    {
     "name": "stdout",
     "output_type": "stream",
     "text": [
      "2 X 1 = 2\t3 X 1 = 3\t4 X 1 = 4\t5 X 1 = 5\t6 X 1 = 6\t7 X 1 = 7\t8 X 1 = 8\t9 X 1 = 9\t\n",
      "2 X 2 = 4\t3 X 2 = 6\t4 X 2 = 8\t5 X 2 = 10\t6 X 2 = 12\t7 X 2 = 14\t8 X 2 = 16\t9 X 2 = 18\t\n",
      "2 X 3 = 6\t3 X 3 = 9\t4 X 3 = 12\t5 X 3 = 15\t6 X 3 = 18\t7 X 3 = 21\t8 X 3 = 24\t9 X 3 = 27\t\n",
      "2 X 4 = 8\t3 X 4 = 12\t4 X 4 = 16\t5 X 4 = 20\t6 X 4 = 24\t7 X 4 = 28\t8 X 4 = 32\t9 X 4 = 36\t\n",
      "2 X 5 = 10\t3 X 5 = 15\t4 X 5 = 20\t5 X 5 = 25\t6 X 5 = 30\t7 X 5 = 35\t8 X 5 = 40\t9 X 5 = 45\t\n",
      "2 X 6 = 12\t3 X 6 = 18\t4 X 6 = 24\t5 X 6 = 30\t6 X 6 = 36\t7 X 6 = 42\t8 X 6 = 48\t9 X 6 = 54\t\n",
      "2 X 7 = 14\t3 X 7 = 21\t4 X 7 = 28\t5 X 7 = 35\t6 X 7 = 42\t7 X 7 = 49\t8 X 7 = 56\t9 X 7 = 63\t\n",
      "2 X 8 = 16\t3 X 8 = 24\t4 X 8 = 32\t5 X 8 = 40\t6 X 8 = 48\t7 X 8 = 56\t8 X 8 = 64\t9 X 8 = 72\t\n",
      "2 X 9 = 18\t3 X 9 = 27\t4 X 9 = 36\t5 X 9 = 45\t6 X 9 = 54\t7 X 9 = 63\t8 X 9 = 72\t9 X 9 = 81\t\n"
     ]
    }
   ],
   "source": [
    "n, m = 0, 0\n",
    "\n",
    "for n in range(1,10):\n",
    "    for m in range(2,10):\n",
    "        print(f'{m} X {n} = {m*n}',end=\"\\t\")\n",
    "    print()    "
   ]
  },
  {
   "cell_type": "code",
   "execution_count": 12,
   "id": "09b1bfff-e1a6-4161-bf9f-47ae0b5c678e",
   "metadata": {},
   "outputs": [
    {
     "name": "stdout",
     "output_type": "stream",
     "text": [
      "2 X 1 = 2\t3 X 1 = 3\t4 X 1 = 4\t5 X 1 = 5\t6 X 1 = 6\t7 X 1 = 7\t8 X 1 = 8\t9 X 1 = 9\t2 X 2 = 4\t3 X 2 = 6\t4 X 2 = 8\t5 X 2 = 10\t6 X 2 = 12\t7 X 2 = 14\t8 X 2 = 16\t9 X 2 = 18\t2 X 3 = 6\t3 X 3 = 9\t4 X 3 = 12\t5 X 3 = 15\t6 X 3 = 18\t7 X 3 = 21\t8 X 3 = 24\t9 X 3 = 27\t2 X 4 = 8\t3 X 4 = 12\t4 X 4 = 16\t5 X 4 = 20\t6 X 4 = 24\t7 X 4 = 28\t8 X 4 = 32\t9 X 4 = 36\t2 X 5 = 10\t3 X 5 = 15\t4 X 5 = 20\t5 X 5 = 25\t6 X 5 = 30\t7 X 5 = 35\t8 X 5 = 40\t9 X 5 = 45\t2 X 6 = 12\t3 X 6 = 18\t4 X 6 = 24\t5 X 6 = 30\t6 X 6 = 36\t7 X 6 = 42\t8 X 6 = 48\t9 X 6 = 54\t2 X 7 = 14\t3 X 7 = 21\t4 X 7 = 28\t5 X 7 = 35\t6 X 7 = 42\t7 X 7 = 49\t8 X 7 = 56\t9 X 7 = 63\t2 X 8 = 16\t3 X 8 = 24\t4 X 8 = 32\t5 X 8 = 40\t6 X 8 = 48\t7 X 8 = 56\t8 X 8 = 64\t9 X 8 = 72\t2 X 9 = 18\t3 X 9 = 27\t4 X 9 = 36\t5 X 9 = 45\t6 X 9 = 54\t7 X 9 = 63\t8 X 9 = 72\t9 X 9 = 81\t"
     ]
    }
   ],
   "source": [
    "n= 1\n",
    "\n",
    "while n < 10:\n",
    "    m = 2\n",
    "    while m < 10:\n",
    "        print(f'{m} X {n} = {m*n}',end=\"\\t\")\n",
    "        m += 1\n",
    "    n+=1"
   ]
  },
  {
   "cell_type": "markdown",
   "id": "915811bc-4086-4a9c-bd36-8f5c0f5d5f34",
   "metadata": {},
   "source": [
    "## Dictionray type\n",
    "딕셔너리 자료형은 비 시퀀스 자료형임. key와 value로 1대1로 매칭되는 구조.\n",
    "key-value pair 라고 함"
   ]
  },
  {
   "cell_type": "markdown",
   "id": "dd212d0d-1ef1-4f5f-818e-b205210758cf",
   "metadata": {},
   "source": [
    "### example"
   ]
  },
  {
   "cell_type": "code",
   "execution_count": 14,
   "id": "c3db185d-ee13-49ff-a951-50abde12542a",
   "metadata": {},
   "outputs": [
    {
     "name": "stdout",
     "output_type": "stream",
     "text": [
      "<class 'dict'>\n",
      "{'key': 'value'}\n"
     ]
    }
   ],
   "source": [
    "dic_var = {\"key\": \"value\"}\n",
    "print(type(dic_var))\n",
    "print(dic_var)"
   ]
  },
  {
   "cell_type": "code",
   "execution_count": 15,
   "id": "14ebf054-ab7f-496d-9bb3-cc1a57748f15",
   "metadata": {},
   "outputs": [
    {
     "name": "stdout",
     "output_type": "stream",
     "text": [
      "{'key': ' last value'}\n"
     ]
    }
   ],
   "source": [
    "dic_var = {\"key\": \"value\", \"key\":\" last value\"}\n",
    "print(dic_var)"
   ]
  },
  {
   "cell_type": "markdown",
   "id": "486b81b7-2b0c-42a3-9e8f-f5166abd1a60",
   "metadata": {},
   "source": [
    "딕셔너리 자료형에서 key는 문자열, 정수, 실수, 불, 튜플을 사용할 수 있고, 이를 섞어서 사용도 가능하다.\n",
    "단 키에는 리스트, 딕셔너리, 집합을 사용할 수 없다.\n",
    "키는 고유한 값을 가져야한다."
   ]
  },
  {
   "cell_type": "code",
   "execution_count": 17,
   "id": "54700ec9-74b2-4db1-9b09-8dd9040594c2",
   "metadata": {},
   "outputs": [
    {
     "name": "stdout",
     "output_type": "stream",
     "text": [
      "[<class 'str'>, <class 'int'>, <class 'float'>, <class 'tuple'>]\n"
     ]
    }
   ],
   "source": [
    "dic_var = {\"key\" : \"value\",\n",
    "           1 : \"value2\",\n",
    "           1.1 : \"value3\",\n",
    "           True : \"value4\",\n",
    "           (\"key\", 1, 1,1, True) : \"value2\"}\n",
    "print(list(map(type, dic_var.keys())))"
   ]
  },
  {
   "cell_type": "code",
   "execution_count": 18,
   "id": "8bc2f60e-dafc-47dc-a96b-a2cc0dcc528f",
   "metadata": {},
   "outputs": [
    {
     "name": "stdout",
     "output_type": "stream",
     "text": [
      "{'key': 'value', 1: 'value4', 1.1: 'value3', ('key', 1, 1, 1, True): 'value2'}\n"
     ]
    }
   ],
   "source": [
    "print(dic_var)"
   ]
  },
  {
   "cell_type": "code",
   "execution_count": 3,
   "id": "168dc830-5ede-4d36-be6d-fef30a85b156",
   "metadata": {},
   "outputs": [
    {
     "name": "stdout",
     "output_type": "stream",
     "text": [
      "dict_values([1000, 700, 1500, 2000])\n"
     ]
    },
    {
     "name": "stdin",
     "output_type": "stream",
     "text": [
      "과일 이름을 입력하세요.  banana\n"
     ]
    },
    {
     "name": "stdout",
     "output_type": "stream",
     "text": [
      "banana의 가격은 700원입니다.\n"
     ]
    }
   ],
   "source": [
    "dic_fruit = {\"apple\" : 1000,\n",
    "             \"banana\" : 700,\n",
    "             \"orange\" : 1500,\n",
    "             \"pineapple\" : 2000}\n",
    "print(dic_fruit.values())\n",
    "fruit = str(input(\"과일 이름을 입력하세요. \"))\n",
    "\n",
    "print(f'{fruit}의 가격은 {dic_fruit[fruit]}원입니다.')"
   ]
  },
  {
   "cell_type": "markdown",
   "id": "9c629219-5727-477d-9c11-1736717f1a27",
   "metadata": {},
   "source": [
    "## `map은 시퀀스형이 아님`"
   ]
  },
  {
   "cell_type": "code",
   "execution_count": 16,
   "id": "23b9d56d-fda1-4894-b30c-ee692fd710e4",
   "metadata": {},
   "outputs": [
    {
     "name": "stdin",
     "output_type": "stream",
     "text": [
      "이름을 기입해주세요.  뽀로로 루피 크롱 스누피\n",
      "몸무게를 기입해주세요.  20.4 16.2 22.3 5.2\n"
     ]
    },
    {
     "name": "stdout",
     "output_type": "stream",
     "text": [
      "{'뽀로로': 20.4, '루피': 16.2, '크롱': 22.3, '스누피': 5.2}\n"
     ]
    }
   ],
   "source": [
    "name = list(map(str, input(\"이름을 기입해주세요. \").split(' ')))\n",
    "weight = list(map(float, input(\"몸무게를 기입해주세요. \").split(' ')))\n",
    "# print(type(name), len(name))\n",
    "# print(type(weight), len(weight))\n",
    "dict_a = {}\n",
    "for n in range(0,len(name)):\n",
    "    dict_a[name[n]] = weight[n]\n",
    "\n",
    "print(dict_a)"
   ]
  },
  {
   "cell_type": "markdown",
   "id": "fcd92ec5-efec-406c-9257-fd12c4ced5b9",
   "metadata": {},
   "source": [
    "key에 리스트를 받을수 없음!!"
   ]
  },
  {
   "cell_type": "markdown",
   "id": "9c27d0c8-c726-4745-919e-c0b61a173e43",
   "metadata": {},
   "source": [
    "해답"
   ]
  },
  {
   "cell_type": "code",
   "execution_count": 17,
   "id": "9956baa1-7692-463c-928b-32d5011a8f4d",
   "metadata": {},
   "outputs": [
    {
     "name": "stdin",
     "output_type": "stream",
     "text": [
      "이름을 기입해주세요.  nana poo iek\n",
      "몸무게를 기입해주세요.  10.5 2.3 34.6\n"
     ]
    },
    {
     "name": "stdout",
     "output_type": "stream",
     "text": [
      "{'nana': 10.5, 'poo': 2.3, 'iek': 34.6}\n"
     ]
    }
   ],
   "source": [
    "name = input(\"이름을 기입해주세요. \").split(' ')\n",
    "weight = list(map(float, input(\"몸무게를 기입해주세요. \").split(' ')))\n",
    "\n",
    "dict_info = dict(zip(name, weight))\n",
    "print(dict_info)"
   ]
  },
  {
   "cell_type": "code",
   "execution_count": 18,
   "id": "1ae862ea-8a86-4757-894e-32b66134623d",
   "metadata": {},
   "outputs": [
    {
     "name": "stdout",
     "output_type": "stream",
     "text": [
      "{}\n"
     ]
    }
   ],
   "source": [
    "dict_b = dict(zip([],[]))\n",
    "print(dict_b)"
   ]
  },
  {
   "cell_type": "markdown",
   "id": "402b48d9-7b5f-40e7-b377-5256de660c09",
   "metadata": {},
   "source": [
    "특정키가 없으면 key error가 나타나고, value값이 key값과 동일하지않으면 index에러가 나타남"
   ]
  },
  {
   "cell_type": "markdown",
   "id": "19e53603-2f91-488c-ada6-930b7c3c268e",
   "metadata": {},
   "source": [
    "## list의 응용"
   ]
  },
  {
   "cell_type": "code",
   "execution_count": 19,
   "id": "087431c7-fd65-4904-a489-58d9138cf680",
   "metadata": {},
   "outputs": [
    {
     "name": "stdout",
     "output_type": "stream",
     "text": [
      "<class 'list'>\n",
      "[48, 48, 33, 95]\n"
     ]
    }
   ],
   "source": [
    "list_a = [48, 48, 33, 95]\n",
    "print(type(list_a))\n",
    "print(list_a)"
   ]
  },
  {
   "cell_type": "code",
   "execution_count": 20,
   "id": "d0268e21-6a1e-4f7d-ba2e-cd990e2efdbf",
   "metadata": {},
   "outputs": [
    {
     "name": "stdout",
     "output_type": "stream",
     "text": [
      "[]\n",
      "<class 'list'>\n"
     ]
    }
   ],
   "source": [
    "empty_list = []\n",
    "print(empty_list)\n",
    "print(type(empty_list))"
   ]
  },
  {
   "cell_type": "markdown",
   "id": "f7255e7a-6986-4345-b065-2de0a9d08e89",
   "metadata": {},
   "source": [
    ".split은 여러개를 쪼개서 list로 반환해줌"
   ]
  },
  {
   "cell_type": "code",
   "execution_count": 22,
   "id": "8fd08564-338c-4f9a-8328-87d850de5b7a",
   "metadata": {},
   "outputs": [
    {
     "name": "stdout",
     "output_type": "stream",
     "text": [
      "['a', 'b', 'c', 'd']\n"
     ]
    }
   ],
   "source": [
    "list_sample = \"a b c d\".split()\n",
    "print(list_sample)"
   ]
  },
  {
   "cell_type": "markdown",
   "id": "bf36948c-aaf7-4f6d-ab28-8c6fd7b3e826",
   "metadata": {},
   "source": [
    "## 리스트 컴프리헨션\n",
    "-> 한줄표기가 가능해짐"
   ]
  },
  {
   "cell_type": "markdown",
   "id": "22b34798-636b-44d1-bb34-3b39b920e343",
   "metadata": {},
   "source": [
    "-> list_variable = [expression for 변수 in iterable]"
   ]
  },
  {
   "cell_type": "markdown",
   "id": "c3578e91-ee01-4a72-a498-55f6396ba65a",
   "metadata": {},
   "source": [
    "기능\n",
    "1. 반복\n",
    "2. 변수활용"
   ]
  },
  {
   "cell_type": "markdown",
   "id": "45bfb618-4eb5-447f-8b40-10a546bda737",
   "metadata": {},
   "source": [
    "동작순서\n",
    "1. 반복가능한 객체(iterable)로부터 값을 하나 꺼내와서 변수에 담는다.\n",
    "2. 요소를 담은 변수를 활용해서 표현식(expression)을 실행\n",
    "3. 표현식 결과 값을 리스트 요소에 넣음\n",
    "4. 반복가능한 객체로부터 값이 없을 때까지 1~3과정을 반복"
   ]
  },
  {
   "cell_type": "markdown",
   "id": "66dbde42-ab2e-4871-b714-d641bc2af4f8",
   "metadata": {},
   "source": [
    "example"
   ]
  },
  {
   "cell_type": "code",
   "execution_count": 24,
   "id": "24630786-6930-454e-b02c-db8a1035fe3f",
   "metadata": {},
   "outputs": [
    {
     "name": "stdout",
     "output_type": "stream",
     "text": [
      "[1, 4, 9, 16, 25, 36, 49, 64, 81]\n"
     ]
    }
   ],
   "source": [
    "#range --> 0, 1, 2, 3, 4, 5, 6, 7, 8, 9\n",
    "# _ --> 0, ... , 9\n",
    "list_a = [_ ** 2 for _ in range(1,10)]\n",
    "print(list_a)"
   ]
  },
  {
   "cell_type": "code",
   "execution_count": 25,
   "id": "b17350af-7164-400a-9040-c380252de590",
   "metadata": {},
   "outputs": [
    {
     "name": "stdout",
     "output_type": "stream",
     "text": [
      "Hello world\n",
      "Hello world\n",
      "Hello world\n",
      "Hello world\n",
      "Hello world\n",
      "Hello world\n",
      "Hello world\n",
      "Hello world\n",
      "Hello world\n",
      "Hello world\n"
     ]
    }
   ],
   "source": [
    "list_b = [print(\"Hello world\") for _ in range(10)]\n"
   ]
  },
  {
   "cell_type": "code",
   "execution_count": 26,
   "id": "100fab21-9812-49d8-b43c-c963672e9082",
   "metadata": {},
   "outputs": [
    {
     "name": "stdout",
     "output_type": "stream",
     "text": [
      "<class 'list'>\n",
      "[1, 4, 9, 16, 25, 36, 49, 64, 81]\n"
     ]
    }
   ],
   "source": [
    "prac_result = [_ **2 for _ in range(1,10)]\n",
    "print(type(prac_result))\n",
    "print(prac_result)"
   ]
  },
  {
   "cell_type": "code",
   "execution_count": null,
   "id": "4476b5a5-7c4f-4730-98ff-d2ef0674d985",
   "metadata": {},
   "outputs": [],
   "source": []
  }
 ],
 "metadata": {
  "kernelspec": {
   "display_name": "Python 3 (ipykernel)",
   "language": "python",
   "name": "python3"
  },
  "language_info": {
   "codemirror_mode": {
    "name": "ipython",
    "version": 3
   },
   "file_extension": ".py",
   "mimetype": "text/x-python",
   "name": "python",
   "nbconvert_exporter": "python",
   "pygments_lexer": "ipython3",
   "version": "3.9.13"
  }
 },
 "nbformat": 4,
 "nbformat_minor": 5
}
