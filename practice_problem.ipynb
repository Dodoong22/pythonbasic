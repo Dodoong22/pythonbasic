{
 "cells": [
  {
   "cell_type": "markdown",
   "id": "49178c97-fe89-4b64-b1ce-e4bd63fe9158",
   "metadata": {},
   "source": [
    "## 연습문제  \n",
    "팀 생성기 객체를 생성할 수 있는 클래스를 만들어보세요.  \n",
    "클래스 속성  \n",
    "has_team(default False)  \n",
    "teams(default 빈 리스트)  \n",
    "인스턴스 속성  \n",
    "members(필수) - 전체 인원 이름 목록  \n",
    "team_count(필수) - 팀의 개수  \n",
    "클래스 설명  \n",
    "1번에 1개의 팀의 정보를 갖고 있는 클래스입니다. has_team  \n",
    "  \n",
    "  메서드  \n",
    "  create_team()인스턴스 생성 시 받아온 self.members의 목록으로 Team 객체를 만듭니다. has_team 값을 확인하여 값이 True 일 경우 팀을 우선 초기화합니다.  \n",
    "  팀은 self.team_count 만큼 만들며, 팀 배분은 랜덤하게 합니다. 인원 배분은 최대한 쏠림없이 배분해야 합니다.(최대 1명 차이) teams에 Team 객체를 추가합니다. 반환값은 없습니다.  \n",
    "  show_team_info()는 오른쪽의 결과와 같이 팀 번호와 팀읨 멤버를 출력합니다."
   ]
  },
  {
   "cell_type": "code",
   "execution_count": 2,
   "id": "fbe383f4-305c-4924-887f-3300520ee7f1",
   "metadata": {},
   "outputs": [],
   "source": [
    "import random\n",
    "import numpy as np\n",
    "class Team:\n",
    "    \"\"\"팀 객체를 만듭니다.\"\"\"\n",
    "    # 클래스 속성\n",
    "    count = 0 # Team 클래스로부터 초기화된 인스턴스 개수\n",
    "    order = []\n",
    "    def __init__(self, number, name=None, member=set()):\n",
    "        self.number = number\n",
    "        self.name = name\n",
    "        self.__member = member\n",
    "        Team.count += 1\n",
    "    def add_member(self, name):\n",
    "        # 해당 이름이 팀에 있을 경우\n",
    "        if name in self.__member:\n",
    "            print(f\"{name} 님은 이미 팀에 있습니다.\")\n",
    "            return\n",
    "        # 해당 이름이 팀에 없을 경우\n",
    "        else:\n",
    "            self.__member.add(name)\n",
    "            print(f\"{name} 님을 {self.number} 팀에 추가했습니다.\")\n",
    "    def rm_member(self, name):\n",
    "        # 해당 이름이 팀에 있을 경우\n",
    "        if name in self.__member:\n",
    "            self.__member.discard(name)\n",
    "            print(f\"{name} 님을 {self.number} 팀에서 삭제했습니다.\")\n",
    "        # 해당 이름이 팀에 없을 경우\n",
    "        else:\n",
    "            print(f\"{name} 님은 해당 팀에 없습니다.\")\n",
    "    def get_count(self):\n",
    "        return self.count\n",
    "    def get_order(self):\n",
    "        return self.order\n",
    "    def set_order(self, number):\n",
    "        if number in self.order:\n",
    "            self.order.remove(number)\n",
    "        self.order.append(number)\n",
    "    # 내장 함수(Built-in function) len(Team()) --> 파이썬이 __len__(self)를 찾아서 실행\n",
    "    def __len__(self):\n",
    "        return len(self.__member)\n"
   ]
  },
  {
   "cell_type": "code",
   "execution_count": 8,
   "id": "7d4d52b7-669d-43fb-bb2c-9e06af2fc443",
   "metadata": {},
   "outputs": [
    {
     "name": "stdout",
     "output_type": "stream",
     "text": [
      "['도강현0', '도강현7', '도강현14', '도강현21', '도강현28', '도강현35', '도강현42', '도강현49', '도강현56', '도강현63', '도강현70', '도강현77', '도강현84', '도강현91', '도강현98']\n"
     ]
    }
   ],
   "source": [
    "np.random.randint(1,50,22)\n",
    "# tb = TeamBuilder([\"도강현\" + str(_) for _ in range(10, 70, 7)\n",
    "print([\"도강현\" + str(_) for _ in range(0, 100, 7)])"
   ]
  },
  {
   "cell_type": "code",
   "execution_count": 36,
   "id": "e26fe607-2496-47d5-a69b-c79d7c82d766",
   "metadata": {},
   "outputs": [],
   "source": [
    "import random\n",
    "import numpy as np\n",
    "\n",
    "class TeamBuilder:\n",
    "    # 클래스 속성\n",
    "    has_team = False\n",
    "    team = []\n",
    "    count = 0\n",
    "    order = []\n",
    "    def __init__(self, name=None, members=set()):\n",
    "        self.name = name\n",
    "        self.__members = members\n",
    "        Team.count = np.random.randint(9)\n",
    "        \n",
    "    def create_teams(self, name):\n",
    "        if has_team == True:\n",
    "            print(f\"기존의 팀 정보를 지우고 새로 생성합니다\")\n",
    "            return\n",
    "        has_team = True\n",
    "        \n",
    "    def show_teamnum(self):\n",
    "        print(f\""
   ]
  },
  {
   "cell_type": "code",
   "execution_count": 33,
   "id": "f44cd3a1-7116-4710-9cd9-e170e23454c6",
   "metadata": {},
   "outputs": [],
   "source": [
    "tb = TeamBuilder([\"도강현\" + str(_) for _ in range(10, 70, 7)])"
   ]
  },
  {
   "cell_type": "code",
   "execution_count": null,
   "id": "dea75b65-c661-4b5c-abac-9ca3297301dd",
   "metadata": {},
   "outputs": [],
   "source": []
  }
 ],
 "metadata": {
  "kernelspec": {
   "display_name": "Python 3 (ipykernel)",
   "language": "python",
   "name": "python3"
  },
  "language_info": {
   "codemirror_mode": {
    "name": "ipython",
    "version": 3
   },
   "file_extension": ".py",
   "mimetype": "text/x-python",
   "name": "python",
   "nbconvert_exporter": "python",
   "pygments_lexer": "ipython3",
   "version": "3.9.13"
  }
 },
 "nbformat": 4,
 "nbformat_minor": 5
}
